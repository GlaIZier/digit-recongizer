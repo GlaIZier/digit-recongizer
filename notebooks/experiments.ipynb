{
 "cells": [
  {
   "cell_type": "markdown",
   "metadata": {},
   "source": [
    "# Experiments"
   ]
  },
  {
   "cell_type": "markdown",
   "metadata": {},
   "source": [
    "## Load data"
   ]
  },
  {
   "cell_type": "code",
   "execution_count": 1,
   "metadata": {},
   "outputs": [
    {
     "data": {
      "text/plain": [
       "'2.4.1'"
      ]
     },
     "execution_count": 1,
     "metadata": {},
     "output_type": "execute_result"
    }
   ],
   "source": [
    "import logging\n",
    "import tensorflow as tf\n",
    "\n",
    "logging.basicConfig(format='%(asctime)s : %(levelname)s : %(message)s', level=logging.INFO)\n",
    "log = logging.getLogger()\n",
    "\n",
    "%config Completer.use_jedi = False # make autocompletion works in jupyter\n",
    "\n",
    "tf.__version__"
   ]
  },
  {
   "cell_type": "code",
   "execution_count": 2,
   "metadata": {},
   "outputs": [],
   "source": [
    "import numpy as np\n",
    "import pandas as pd\n",
    "from pathlib import Path\n",
    "\n",
    "import argparse\n",
    "args = argparse.Namespace()\n",
    "args.raw_train = pd.read_csv('../data/train.csv.zip')\n",
    "args.raw_test = pd.read_csv('../data/test.csv.zip')\n",
    "args.predictions_folder = Path('../predictions')\n",
    "args.n_splits = 5\n",
    "args.n_jobs = 3\n",
    "args.seed = 101\n",
    "args.val_fraction=0.1\n",
    "args.epochs = 50\n",
    "\n",
    "args.train = args.raw_train.iloc[:, 1:].copy()\n",
    "args.labels = args.raw_train['label'].copy()\n",
    "args.test = args.raw_test.copy()\n",
    "\n",
    "\n",
    "args.predictions_folder.mkdir(parents=True, exist_ok=True) "
   ]
  },
  {
   "cell_type": "code",
   "execution_count": 3,
   "metadata": {},
   "outputs": [
    {
     "data": {
      "text/html": [
       "<div>\n",
       "<style scoped>\n",
       "    .dataframe tbody tr th:only-of-type {\n",
       "        vertical-align: middle;\n",
       "    }\n",
       "\n",
       "    .dataframe tbody tr th {\n",
       "        vertical-align: top;\n",
       "    }\n",
       "\n",
       "    .dataframe thead th {\n",
       "        text-align: right;\n",
       "    }\n",
       "</style>\n",
       "<table border=\"1\" class=\"dataframe\">\n",
       "  <thead>\n",
       "    <tr style=\"text-align: right;\">\n",
       "      <th></th>\n",
       "      <th>label</th>\n",
       "      <th>pixel0</th>\n",
       "      <th>pixel1</th>\n",
       "      <th>pixel2</th>\n",
       "      <th>pixel3</th>\n",
       "      <th>pixel4</th>\n",
       "      <th>pixel5</th>\n",
       "      <th>pixel6</th>\n",
       "      <th>pixel7</th>\n",
       "      <th>pixel8</th>\n",
       "      <th>...</th>\n",
       "      <th>pixel774</th>\n",
       "      <th>pixel775</th>\n",
       "      <th>pixel776</th>\n",
       "      <th>pixel777</th>\n",
       "      <th>pixel778</th>\n",
       "      <th>pixel779</th>\n",
       "      <th>pixel780</th>\n",
       "      <th>pixel781</th>\n",
       "      <th>pixel782</th>\n",
       "      <th>pixel783</th>\n",
       "    </tr>\n",
       "  </thead>\n",
       "  <tbody>\n",
       "    <tr>\n",
       "      <th>0</th>\n",
       "      <td>1</td>\n",
       "      <td>0</td>\n",
       "      <td>0</td>\n",
       "      <td>0</td>\n",
       "      <td>0</td>\n",
       "      <td>0</td>\n",
       "      <td>0</td>\n",
       "      <td>0</td>\n",
       "      <td>0</td>\n",
       "      <td>0</td>\n",
       "      <td>...</td>\n",
       "      <td>0</td>\n",
       "      <td>0</td>\n",
       "      <td>0</td>\n",
       "      <td>0</td>\n",
       "      <td>0</td>\n",
       "      <td>0</td>\n",
       "      <td>0</td>\n",
       "      <td>0</td>\n",
       "      <td>0</td>\n",
       "      <td>0</td>\n",
       "    </tr>\n",
       "    <tr>\n",
       "      <th>1</th>\n",
       "      <td>0</td>\n",
       "      <td>0</td>\n",
       "      <td>0</td>\n",
       "      <td>0</td>\n",
       "      <td>0</td>\n",
       "      <td>0</td>\n",
       "      <td>0</td>\n",
       "      <td>0</td>\n",
       "      <td>0</td>\n",
       "      <td>0</td>\n",
       "      <td>...</td>\n",
       "      <td>0</td>\n",
       "      <td>0</td>\n",
       "      <td>0</td>\n",
       "      <td>0</td>\n",
       "      <td>0</td>\n",
       "      <td>0</td>\n",
       "      <td>0</td>\n",
       "      <td>0</td>\n",
       "      <td>0</td>\n",
       "      <td>0</td>\n",
       "    </tr>\n",
       "    <tr>\n",
       "      <th>2</th>\n",
       "      <td>1</td>\n",
       "      <td>0</td>\n",
       "      <td>0</td>\n",
       "      <td>0</td>\n",
       "      <td>0</td>\n",
       "      <td>0</td>\n",
       "      <td>0</td>\n",
       "      <td>0</td>\n",
       "      <td>0</td>\n",
       "      <td>0</td>\n",
       "      <td>...</td>\n",
       "      <td>0</td>\n",
       "      <td>0</td>\n",
       "      <td>0</td>\n",
       "      <td>0</td>\n",
       "      <td>0</td>\n",
       "      <td>0</td>\n",
       "      <td>0</td>\n",
       "      <td>0</td>\n",
       "      <td>0</td>\n",
       "      <td>0</td>\n",
       "    </tr>\n",
       "    <tr>\n",
       "      <th>3</th>\n",
       "      <td>4</td>\n",
       "      <td>0</td>\n",
       "      <td>0</td>\n",
       "      <td>0</td>\n",
       "      <td>0</td>\n",
       "      <td>0</td>\n",
       "      <td>0</td>\n",
       "      <td>0</td>\n",
       "      <td>0</td>\n",
       "      <td>0</td>\n",
       "      <td>...</td>\n",
       "      <td>0</td>\n",
       "      <td>0</td>\n",
       "      <td>0</td>\n",
       "      <td>0</td>\n",
       "      <td>0</td>\n",
       "      <td>0</td>\n",
       "      <td>0</td>\n",
       "      <td>0</td>\n",
       "      <td>0</td>\n",
       "      <td>0</td>\n",
       "    </tr>\n",
       "    <tr>\n",
       "      <th>4</th>\n",
       "      <td>0</td>\n",
       "      <td>0</td>\n",
       "      <td>0</td>\n",
       "      <td>0</td>\n",
       "      <td>0</td>\n",
       "      <td>0</td>\n",
       "      <td>0</td>\n",
       "      <td>0</td>\n",
       "      <td>0</td>\n",
       "      <td>0</td>\n",
       "      <td>...</td>\n",
       "      <td>0</td>\n",
       "      <td>0</td>\n",
       "      <td>0</td>\n",
       "      <td>0</td>\n",
       "      <td>0</td>\n",
       "      <td>0</td>\n",
       "      <td>0</td>\n",
       "      <td>0</td>\n",
       "      <td>0</td>\n",
       "      <td>0</td>\n",
       "    </tr>\n",
       "  </tbody>\n",
       "</table>\n",
       "<p>5 rows × 785 columns</p>\n",
       "</div>"
      ],
      "text/plain": [
       "   label  pixel0  pixel1  pixel2  pixel3  pixel4  pixel5  pixel6  pixel7  \\\n",
       "0      1       0       0       0       0       0       0       0       0   \n",
       "1      0       0       0       0       0       0       0       0       0   \n",
       "2      1       0       0       0       0       0       0       0       0   \n",
       "3      4       0       0       0       0       0       0       0       0   \n",
       "4      0       0       0       0       0       0       0       0       0   \n",
       "\n",
       "   pixel8  ...  pixel774  pixel775  pixel776  pixel777  pixel778  pixel779  \\\n",
       "0       0  ...         0         0         0         0         0         0   \n",
       "1       0  ...         0         0         0         0         0         0   \n",
       "2       0  ...         0         0         0         0         0         0   \n",
       "3       0  ...         0         0         0         0         0         0   \n",
       "4       0  ...         0         0         0         0         0         0   \n",
       "\n",
       "   pixel780  pixel781  pixel782  pixel783  \n",
       "0         0         0         0         0  \n",
       "1         0         0         0         0  \n",
       "2         0         0         0         0  \n",
       "3         0         0         0         0  \n",
       "4         0         0         0         0  \n",
       "\n",
       "[5 rows x 785 columns]"
      ]
     },
     "execution_count": 3,
     "metadata": {},
     "output_type": "execute_result"
    }
   ],
   "source": [
    "args.raw_train.head()"
   ]
  },
  {
   "cell_type": "code",
   "execution_count": 4,
   "metadata": {},
   "outputs": [
    {
     "data": {
      "text/html": [
       "<div>\n",
       "<style scoped>\n",
       "    .dataframe tbody tr th:only-of-type {\n",
       "        vertical-align: middle;\n",
       "    }\n",
       "\n",
       "    .dataframe tbody tr th {\n",
       "        vertical-align: top;\n",
       "    }\n",
       "\n",
       "    .dataframe thead th {\n",
       "        text-align: right;\n",
       "    }\n",
       "</style>\n",
       "<table border=\"1\" class=\"dataframe\">\n",
       "  <thead>\n",
       "    <tr style=\"text-align: right;\">\n",
       "      <th></th>\n",
       "      <th>pixel0</th>\n",
       "      <th>pixel1</th>\n",
       "      <th>pixel2</th>\n",
       "      <th>pixel3</th>\n",
       "      <th>pixel4</th>\n",
       "      <th>pixel5</th>\n",
       "      <th>pixel6</th>\n",
       "      <th>pixel7</th>\n",
       "      <th>pixel8</th>\n",
       "      <th>pixel9</th>\n",
       "      <th>...</th>\n",
       "      <th>pixel774</th>\n",
       "      <th>pixel775</th>\n",
       "      <th>pixel776</th>\n",
       "      <th>pixel777</th>\n",
       "      <th>pixel778</th>\n",
       "      <th>pixel779</th>\n",
       "      <th>pixel780</th>\n",
       "      <th>pixel781</th>\n",
       "      <th>pixel782</th>\n",
       "      <th>pixel783</th>\n",
       "    </tr>\n",
       "  </thead>\n",
       "  <tbody>\n",
       "    <tr>\n",
       "      <th>0</th>\n",
       "      <td>0</td>\n",
       "      <td>0</td>\n",
       "      <td>0</td>\n",
       "      <td>0</td>\n",
       "      <td>0</td>\n",
       "      <td>0</td>\n",
       "      <td>0</td>\n",
       "      <td>0</td>\n",
       "      <td>0</td>\n",
       "      <td>0</td>\n",
       "      <td>...</td>\n",
       "      <td>0</td>\n",
       "      <td>0</td>\n",
       "      <td>0</td>\n",
       "      <td>0</td>\n",
       "      <td>0</td>\n",
       "      <td>0</td>\n",
       "      <td>0</td>\n",
       "      <td>0</td>\n",
       "      <td>0</td>\n",
       "      <td>0</td>\n",
       "    </tr>\n",
       "    <tr>\n",
       "      <th>1</th>\n",
       "      <td>0</td>\n",
       "      <td>0</td>\n",
       "      <td>0</td>\n",
       "      <td>0</td>\n",
       "      <td>0</td>\n",
       "      <td>0</td>\n",
       "      <td>0</td>\n",
       "      <td>0</td>\n",
       "      <td>0</td>\n",
       "      <td>0</td>\n",
       "      <td>...</td>\n",
       "      <td>0</td>\n",
       "      <td>0</td>\n",
       "      <td>0</td>\n",
       "      <td>0</td>\n",
       "      <td>0</td>\n",
       "      <td>0</td>\n",
       "      <td>0</td>\n",
       "      <td>0</td>\n",
       "      <td>0</td>\n",
       "      <td>0</td>\n",
       "    </tr>\n",
       "    <tr>\n",
       "      <th>2</th>\n",
       "      <td>0</td>\n",
       "      <td>0</td>\n",
       "      <td>0</td>\n",
       "      <td>0</td>\n",
       "      <td>0</td>\n",
       "      <td>0</td>\n",
       "      <td>0</td>\n",
       "      <td>0</td>\n",
       "      <td>0</td>\n",
       "      <td>0</td>\n",
       "      <td>...</td>\n",
       "      <td>0</td>\n",
       "      <td>0</td>\n",
       "      <td>0</td>\n",
       "      <td>0</td>\n",
       "      <td>0</td>\n",
       "      <td>0</td>\n",
       "      <td>0</td>\n",
       "      <td>0</td>\n",
       "      <td>0</td>\n",
       "      <td>0</td>\n",
       "    </tr>\n",
       "    <tr>\n",
       "      <th>3</th>\n",
       "      <td>0</td>\n",
       "      <td>0</td>\n",
       "      <td>0</td>\n",
       "      <td>0</td>\n",
       "      <td>0</td>\n",
       "      <td>0</td>\n",
       "      <td>0</td>\n",
       "      <td>0</td>\n",
       "      <td>0</td>\n",
       "      <td>0</td>\n",
       "      <td>...</td>\n",
       "      <td>0</td>\n",
       "      <td>0</td>\n",
       "      <td>0</td>\n",
       "      <td>0</td>\n",
       "      <td>0</td>\n",
       "      <td>0</td>\n",
       "      <td>0</td>\n",
       "      <td>0</td>\n",
       "      <td>0</td>\n",
       "      <td>0</td>\n",
       "    </tr>\n",
       "    <tr>\n",
       "      <th>4</th>\n",
       "      <td>0</td>\n",
       "      <td>0</td>\n",
       "      <td>0</td>\n",
       "      <td>0</td>\n",
       "      <td>0</td>\n",
       "      <td>0</td>\n",
       "      <td>0</td>\n",
       "      <td>0</td>\n",
       "      <td>0</td>\n",
       "      <td>0</td>\n",
       "      <td>...</td>\n",
       "      <td>0</td>\n",
       "      <td>0</td>\n",
       "      <td>0</td>\n",
       "      <td>0</td>\n",
       "      <td>0</td>\n",
       "      <td>0</td>\n",
       "      <td>0</td>\n",
       "      <td>0</td>\n",
       "      <td>0</td>\n",
       "      <td>0</td>\n",
       "    </tr>\n",
       "  </tbody>\n",
       "</table>\n",
       "<p>5 rows × 784 columns</p>\n",
       "</div>"
      ],
      "text/plain": [
       "   pixel0  pixel1  pixel2  pixel3  pixel4  pixel5  pixel6  pixel7  pixel8  \\\n",
       "0       0       0       0       0       0       0       0       0       0   \n",
       "1       0       0       0       0       0       0       0       0       0   \n",
       "2       0       0       0       0       0       0       0       0       0   \n",
       "3       0       0       0       0       0       0       0       0       0   \n",
       "4       0       0       0       0       0       0       0       0       0   \n",
       "\n",
       "   pixel9  ...  pixel774  pixel775  pixel776  pixel777  pixel778  pixel779  \\\n",
       "0       0  ...         0         0         0         0         0         0   \n",
       "1       0  ...         0         0         0         0         0         0   \n",
       "2       0  ...         0         0         0         0         0         0   \n",
       "3       0  ...         0         0         0         0         0         0   \n",
       "4       0  ...         0         0         0         0         0         0   \n",
       "\n",
       "   pixel780  pixel781  pixel782  pixel783  \n",
       "0         0         0         0         0  \n",
       "1         0         0         0         0  \n",
       "2         0         0         0         0  \n",
       "3         0         0         0         0  \n",
       "4         0         0         0         0  \n",
       "\n",
       "[5 rows x 784 columns]"
      ]
     },
     "execution_count": 4,
     "metadata": {},
     "output_type": "execute_result"
    }
   ],
   "source": [
    "args.raw_test.head()"
   ]
  },
  {
   "cell_type": "code",
   "execution_count": 5,
   "metadata": {},
   "outputs": [],
   "source": [
    "# OO-style image rendering\n",
    "def draw_digit(pixels_2d, label=None, size_inches=None):\n",
    "    fig, ax = plt.subplots()\n",
    "    if label is not None:\n",
    "        ax.set_title(label)\n",
    "    if size_inches:\n",
    "        fig.set_size_inches(size_inches[0], size_inches[1])\n",
    "    imgplot = ax.imshow(pixels_2d)"
   ]
  },
  {
   "cell_type": "code",
   "execution_count": 6,
   "metadata": {},
   "outputs": [
    {
     "data": {
      "image/png": "[encoded data removed]",
      "text/plain": [
       "<Figure size 432x288 with 1 Axes>"
      ]
     },
     "metadata": {
      "needs_background": "light"
     },
     "output_type": "display_data"
    }
   ],
   "source": [
    "# Matlbab state-based style of image rendering \n",
    "import matplotlib.pyplot as plt\n",
    "import matplotlib.image as mpimg\n",
    "import random\n",
    "\n",
    "random_row = random.randrange(0, args.raw_train.shape[0], 1) \n",
    "title = args.raw_train.iloc[random_row, 0]\n",
    "plt.title(title)\n",
    "imgplot = plt.imshow(args.raw_train.iloc[random_row, 1:].to_numpy().reshape(28, 28))"
   ]
  },
  {
   "cell_type": "code",
   "execution_count": 7,
   "metadata": {},
   "outputs": [
    {
     "name": "stderr",
     "output_type": "stream",
     "text": [
      "2021-02-09 11:35:48,900 : INFO : X.shape: (42000, 28, 28, 1)\n",
      "2021-02-09 11:35:48,901 : INFO : X[0][14][14]: [254]\n",
      "2021-02-09 11:35:48,901 : INFO : y.shape: (42000, 10)\n",
      "2021-02-09 11:35:48,902 : INFO : y[0], [0 1 0 0 0 0 0 0 0 0]\n",
      "2021-02-09 11:35:48,906 : INFO : type of target y: 'multilabel-indicator'\n",
      "2021-02-09 11:35:48,907 : INFO : y_sparse.shape: (42000,)\n",
      "2021-02-09 11:35:48,908 : INFO : y_sparse: array([1, 0, 1, ..., 7, 6, 9])\n",
      "2021-02-09 11:35:48,908 : INFO : y_sparse[0]: 1\n",
      "2021-02-09 11:35:48,910 : INFO : type of target y_sparse: 'multiclass'\n"
     ]
    }
   ],
   "source": [
    "import sklearn.utils.multiclass\n",
    "\n",
    "X = args.train.to_numpy().reshape(args.train.shape[0], 28, 28, 1)\n",
    "y = pd.get_dummies(args.labels, prefix='label').to_numpy()\n",
    "y_sparse = args.labels.to_numpy()\n",
    "X_test = args.test.to_numpy().reshape(args.test.shape[0], 28, 28, 1)\n",
    "\n",
    "log.info('X.shape: %s', repr(X.shape))\n",
    "log.info('X[0][14][14]: %s', X[0][14][14])\n",
    "\n",
    "log.info('y.shape: %s', repr(y.shape))\n",
    "log.info('y[0], %s', y[0])\n",
    "log.info('type of target y: %s', repr(sklearn.utils.multiclass.type_of_target(y)))\n",
    "\n",
    "log.info('y_sparse.shape: %s', repr(y_sparse.shape))\n",
    "log.info('y_sparse: %s', repr(y_sparse))\n",
    "log.info('y_sparse[0]: %s', y_sparse[0])\n",
    "log.info('type of target y_sparse: %s', repr(sklearn.utils.multiclass.type_of_target(y_sparse)))\n",
    "\n",
    "def csv_sparse_predictions(predictions_sparse, filename):\n",
    "    image_ids = np.arange(1, len(predictions_sparse) + 1)\n",
    "    submission = pd.DataFrame({'ImageId': image_ids, 'Label': predictions_sparse})\n",
    "    filepath = args.predictions_folder/filename\n",
    "    \n",
    "    submission.to_csv(filepath, index=False)\n",
    "    log.info('Saved file: %s', filepath)"
   ]
  },
  {
   "cell_type": "markdown",
   "metadata": {},
   "source": [
    "## Experiments\n",
    "### Multioutput classification"
   ]
  },
  {
   "cell_type": "code",
   "execution_count": 8,
   "metadata": {},
   "outputs": [
    {
     "data": {
      "image/png": "[encoded data removed]",
      "text/plain": [
       "<Figure size 432x288 with 1 Axes>"
      ]
     },
     "metadata": {
      "needs_background": "light"
     },
     "output_type": "display_data"
    },
    {
     "data": {
      "image/png": "[encoded data removed]",
      "text/plain": [
       "<Figure size 432x288 with 1 Axes>"
      ]
     },
     "metadata": {
      "needs_background": "light"
     },
     "output_type": "display_data"
    }
   ],
   "source": [
    "from sklearn.model_selection import train_test_split\n",
    "from sklearn.neighbors import KNeighborsClassifier\n",
    "\n",
    "Y_train, Y_val, _, _ = train_test_split(X, y_sparse, test_size=0.25, random_state=42)\n",
    "Y_train = Y_train.reshape(len(Y_train), 28*28)\n",
    "Y_val = Y_val.reshape(len(Y_val), 28*28)\n",
    "draw_digit(Y_val[1].reshape(28, 28), label=\"original\")\n",
    "\n",
    "\n",
    "noise_X_train = np.random.randint(255, size=(len(Y_train), 28*28))\n",
    "X_train = Y_train + noise_X_train\n",
    "noise_X_val = np.random.randint(255, size=(len(Y_val), 28*28))\n",
    "X_val = Y_val + noise_X_val\n",
    "\n",
    "knn = KNeighborsClassifier()\n",
    "knn.fit(X_train, Y_train)\n",
    "cleared = knn.predict([X_val[1]])\n",
    "draw_digit(cleared.reshape(28, 28), label=\"predicted\")"
   ]
  },
  {
   "cell_type": "markdown",
   "metadata": {},
   "source": [
    "### Confusion matrix"
   ]
  },
  {
   "cell_type": "code",
   "execution_count": 9,
   "metadata": {},
   "outputs": [
    {
     "data": {
      "text/plain": [
       "array([[11,  0,  0,  0,  0,  0,  0,  0,  0,  0],\n",
       "       [ 0, 16,  0,  0,  0,  0,  0,  0,  0,  0],\n",
       "       [ 0,  0, 11,  0,  0,  1,  1,  0,  1,  0],\n",
       "       [ 0,  0,  0,  8,  0,  0,  0,  0,  1,  0],\n",
       "       [ 0,  0,  0,  0,  7,  0,  0,  0,  0,  0],\n",
       "       [ 0,  0,  0,  0,  0, 13,  0,  0,  0,  0],\n",
       "       [ 0,  0,  0,  0,  0,  0,  9,  0,  0,  0],\n",
       "       [ 0,  0,  0,  0,  0,  0,  0,  5,  0,  0],\n",
       "       [ 0,  0,  0,  0,  0,  1,  0,  0,  3,  0],\n",
       "       [ 0,  0,  0,  0,  0,  0,  0,  1,  0, 11]])"
      ]
     },
     "execution_count": 9,
     "metadata": {},
     "output_type": "execute_result"
    }
   ],
   "source": [
    "from sklearn.metrics import confusion_matrix\n",
    "from sklearn.model_selection import train_test_split\n",
    "from sklearn.svm import SVC\n",
    "X_train, X_val, y_train, y_val = train_test_split(X, y_sparse, test_size=0.95, random_state=args.seed)\n",
    "X_train = X_train.reshape(len(X_train), 28*28)\n",
    "X_val = X_val[:100].reshape(len(X_val[:100]), 28*28)\n",
    "y_val = y_val[:100]\n",
    "svc = SVC()\n",
    "svc.fit(X_train, y_train)\n",
    "svc.predict(X_val)\n",
    "\n",
    "confusion_matrix(y_val, svc.predict(X_val))"
   ]
  },
  {
   "cell_type": "markdown",
   "metadata": {},
   "source": [
    "### Basics\n",
    "### Sequential API baseline"
   ]
  },
  {
   "cell_type": "code",
   "execution_count": 139,
   "metadata": {},
   "outputs": [
    {
     "name": "stderr",
     "output_type": "stream",
     "text": [
      "2021-02-18 15:19:53,878 : INFO : None\n",
      "2021-02-18 15:19:53,880 : INFO : (300, 100)\n"
     ]
    },
    {
     "name": "stdout",
     "output_type": "stream",
     "text": [
      "Model: \"sequential_211\"\n",
      "_________________________________________________________________\n",
      "Layer (type)                 Output Shape              Param #   \n",
      "=================================================================\n",
      "flatten_213 (Flatten)        (None, 784)               0         \n",
      "_________________________________________________________________\n",
      "dense_611 (Dense)            (None, 300)               235500    \n",
      "_________________________________________________________________\n",
      "dense_612 (Dense)            (None, 100)               30100     \n",
      "_________________________________________________________________\n",
      "dense_613 (Dense)            (None, 10)                1010      \n",
      "=================================================================\n",
      "Total params: 266,610\n",
      "Trainable params: 266,610\n",
      "Non-trainable params: 0\n",
      "_________________________________________________________________\n",
      "Epoch 1/50\n",
      " 176/1182 [===>..........................] - ETA: 2s - loss: 20.0985 - sparse_categorical_accuracy: 0.6435"
     ]
    },
    {
     "ename": "KeyboardInterrupt",
     "evalue": "",
     "output_type": "error",
     "traceback": [
      "\u001b[0;31m---------------------------------------------------------------------------\u001b[0m",
      "\u001b[0;31mKeyboardInterrupt\u001b[0m                         Traceback (most recent call last)",
      "\u001b[0;32m<ipython-input-139-cc31392646c7>\u001b[0m in \u001b[0;36m<module>\u001b[0;34m\u001b[0m\n\u001b[1;32m     52\u001b[0m \u001b[0;34m\u001b[0m\u001b[0m\n\u001b[1;32m     53\u001b[0m \u001b[0;34m\u001b[0m\u001b[0m\n\u001b[0;32m---> 54\u001b[0;31m \u001b[0mseq_baseline\u001b[0m\u001b[0;34m(\u001b[0m\u001b[0;34m)\u001b[0m\u001b[0;34m\u001b[0m\u001b[0;34m\u001b[0m\u001b[0m\n\u001b[0m",
      "\u001b[0;32m<ipython-input-139-cc31392646c7>\u001b[0m in \u001b[0;36mseq_baseline\u001b[0;34m()\u001b[0m\n\u001b[1;32m     30\u001b[0m     \u001b[0mX_val\u001b[0m \u001b[0;34m=\u001b[0m \u001b[0mX\u001b[0m\u001b[0;34m[\u001b[0m\u001b[0mint\u001b[0m\u001b[0;34m(\u001b[0m\u001b[0;34m(\u001b[0m\u001b[0;36m1\u001b[0m\u001b[0;34m-\u001b[0m\u001b[0margs\u001b[0m\u001b[0;34m.\u001b[0m\u001b[0mval_fraction\u001b[0m\u001b[0;34m)\u001b[0m\u001b[0;34m*\u001b[0m\u001b[0mlen\u001b[0m\u001b[0;34m(\u001b[0m\u001b[0mX\u001b[0m\u001b[0;34m)\u001b[0m\u001b[0;34m)\u001b[0m\u001b[0;34m:\u001b[0m\u001b[0;34m,\u001b[0m \u001b[0;34m:\u001b[0m\u001b[0;34m,\u001b[0m \u001b[0;34m:\u001b[0m\u001b[0;34m,\u001b[0m \u001b[0;34m:\u001b[0m\u001b[0;34m]\u001b[0m\u001b[0;34m\u001b[0m\u001b[0;34m\u001b[0m\u001b[0m\n\u001b[1;32m     31\u001b[0m     \u001b[0my_sparse_val\u001b[0m \u001b[0;34m=\u001b[0m \u001b[0my_sparse\u001b[0m\u001b[0;34m[\u001b[0m\u001b[0mint\u001b[0m\u001b[0;34m(\u001b[0m\u001b[0;34m(\u001b[0m\u001b[0;36m1\u001b[0m\u001b[0;34m-\u001b[0m\u001b[0margs\u001b[0m\u001b[0;34m.\u001b[0m\u001b[0mval_fraction\u001b[0m\u001b[0;34m)\u001b[0m\u001b[0;34m*\u001b[0m\u001b[0mlen\u001b[0m\u001b[0;34m(\u001b[0m\u001b[0my\u001b[0m\u001b[0;34m)\u001b[0m\u001b[0;34m)\u001b[0m\u001b[0;34m:\u001b[0m\u001b[0;34m]\u001b[0m\u001b[0;34m\u001b[0m\u001b[0;34m\u001b[0m\u001b[0m\n\u001b[0;32m---> 32\u001b[0;31m     \u001b[0mhistory\u001b[0m \u001b[0;34m=\u001b[0m \u001b[0mmodel\u001b[0m\u001b[0;34m.\u001b[0m\u001b[0mfit\u001b[0m\u001b[0;34m(\u001b[0m\u001b[0mX_train\u001b[0m\u001b[0;34m,\u001b[0m \u001b[0my_sparse_train\u001b[0m\u001b[0;34m,\u001b[0m \u001b[0mepochs\u001b[0m\u001b[0;34m=\u001b[0m\u001b[0margs\u001b[0m\u001b[0;34m.\u001b[0m\u001b[0mepochs\u001b[0m\u001b[0;34m,\u001b[0m \u001b[0mvalidation_data\u001b[0m\u001b[0;34m=\u001b[0m\u001b[0;34m(\u001b[0m\u001b[0mX_val\u001b[0m\u001b[0;34m,\u001b[0m \u001b[0my_sparse_val\u001b[0m\u001b[0;34m)\u001b[0m\u001b[0;34m)\u001b[0m\u001b[0;34m\u001b[0m\u001b[0;34m\u001b[0m\u001b[0m\n\u001b[0m\u001b[1;32m     33\u001b[0m \u001b[0;34m\u001b[0m\u001b[0m\n\u001b[1;32m     34\u001b[0m     \u001b[0mplot\u001b[0m\u001b[0;34m(\u001b[0m\u001b[0mhistory\u001b[0m\u001b[0;34m)\u001b[0m\u001b[0;34m\u001b[0m\u001b[0;34m\u001b[0m\u001b[0m\n",
      "\u001b[0;32m~/github/digit-recongizer/.venv/lib/python3.8/site-packages/tensorflow/python/keras/engine/training.py\u001b[0m in \u001b[0;36mfit\u001b[0;34m(self, x, y, batch_size, epochs, verbose, callbacks, validation_split, validation_data, shuffle, class_weight, sample_weight, initial_epoch, steps_per_epoch, validation_steps, validation_batch_size, validation_freq, max_queue_size, workers, use_multiprocessing)\u001b[0m\n\u001b[1;32m   1098\u001b[0m                 _r=1):\n\u001b[1;32m   1099\u001b[0m               \u001b[0mcallbacks\u001b[0m\u001b[0;34m.\u001b[0m\u001b[0mon_train_batch_begin\u001b[0m\u001b[0;34m(\u001b[0m\u001b[0mstep\u001b[0m\u001b[0;34m)\u001b[0m\u001b[0;34m\u001b[0m\u001b[0;34m\u001b[0m\u001b[0m\n\u001b[0;32m-> 1100\u001b[0;31m               \u001b[0mtmp_logs\u001b[0m \u001b[0;34m=\u001b[0m \u001b[0mself\u001b[0m\u001b[0;34m.\u001b[0m\u001b[0mtrain_function\u001b[0m\u001b[0;34m(\u001b[0m\u001b[0miterator\u001b[0m\u001b[0;34m)\u001b[0m\u001b[0;34m\u001b[0m\u001b[0;34m\u001b[0m\u001b[0m\n\u001b[0m\u001b[1;32m   1101\u001b[0m               \u001b[0;32mif\u001b[0m \u001b[0mdata_handler\u001b[0m\u001b[0;34m.\u001b[0m\u001b[0mshould_sync\u001b[0m\u001b[0;34m:\u001b[0m\u001b[0;34m\u001b[0m\u001b[0;34m\u001b[0m\u001b[0m\n\u001b[1;32m   1102\u001b[0m                 \u001b[0mcontext\u001b[0m\u001b[0;34m.\u001b[0m\u001b[0masync_wait\u001b[0m\u001b[0;34m(\u001b[0m\u001b[0;34m)\u001b[0m\u001b[0;34m\u001b[0m\u001b[0;34m\u001b[0m\u001b[0m\n",
      "\u001b[0;32m~/github/digit-recongizer/.venv/lib/python3.8/site-packages/tensorflow/python/eager/def_function.py\u001b[0m in \u001b[0;36m__call__\u001b[0;34m(self, *args, **kwds)\u001b[0m\n\u001b[1;32m    826\u001b[0m     \u001b[0mtracing_count\u001b[0m \u001b[0;34m=\u001b[0m \u001b[0mself\u001b[0m\u001b[0;34m.\u001b[0m\u001b[0mexperimental_get_tracing_count\u001b[0m\u001b[0;34m(\u001b[0m\u001b[0;34m)\u001b[0m\u001b[0;34m\u001b[0m\u001b[0;34m\u001b[0m\u001b[0m\n\u001b[1;32m    827\u001b[0m     \u001b[0;32mwith\u001b[0m \u001b[0mtrace\u001b[0m\u001b[0;34m.\u001b[0m\u001b[0mTrace\u001b[0m\u001b[0;34m(\u001b[0m\u001b[0mself\u001b[0m\u001b[0;34m.\u001b[0m\u001b[0m_name\u001b[0m\u001b[0;34m)\u001b[0m \u001b[0;32mas\u001b[0m \u001b[0mtm\u001b[0m\u001b[0;34m:\u001b[0m\u001b[0;34m\u001b[0m\u001b[0;34m\u001b[0m\u001b[0m\n\u001b[0;32m--> 828\u001b[0;31m       \u001b[0mresult\u001b[0m \u001b[0;34m=\u001b[0m \u001b[0mself\u001b[0m\u001b[0;34m.\u001b[0m\u001b[0m_call\u001b[0m\u001b[0;34m(\u001b[0m\u001b[0;34m*\u001b[0m\u001b[0margs\u001b[0m\u001b[0;34m,\u001b[0m \u001b[0;34m**\u001b[0m\u001b[0mkwds\u001b[0m\u001b[0;34m)\u001b[0m\u001b[0;34m\u001b[0m\u001b[0;34m\u001b[0m\u001b[0m\n\u001b[0m\u001b[1;32m    829\u001b[0m       \u001b[0mcompiler\u001b[0m \u001b[0;34m=\u001b[0m \u001b[0;34m\"xla\"\u001b[0m \u001b[0;32mif\u001b[0m \u001b[0mself\u001b[0m\u001b[0;34m.\u001b[0m\u001b[0m_experimental_compile\u001b[0m \u001b[0;32melse\u001b[0m \u001b[0;34m\"nonXla\"\u001b[0m\u001b[0;34m\u001b[0m\u001b[0;34m\u001b[0m\u001b[0m\n\u001b[1;32m    830\u001b[0m       \u001b[0mnew_tracing_count\u001b[0m \u001b[0;34m=\u001b[0m \u001b[0mself\u001b[0m\u001b[0;34m.\u001b[0m\u001b[0mexperimental_get_tracing_count\u001b[0m\u001b[0;34m(\u001b[0m\u001b[0;34m)\u001b[0m\u001b[0;34m\u001b[0m\u001b[0;34m\u001b[0m\u001b[0m\n",
      "\u001b[0;32m~/github/digit-recongizer/.venv/lib/python3.8/site-packages/tensorflow/python/eager/def_function.py\u001b[0m in \u001b[0;36m_call\u001b[0;34m(self, *args, **kwds)\u001b[0m\n\u001b[1;32m    853\u001b[0m       \u001b[0;31m# In this case we have created variables on the first call, so we run the\u001b[0m\u001b[0;34m\u001b[0m\u001b[0;34m\u001b[0m\u001b[0;34m\u001b[0m\u001b[0m\n\u001b[1;32m    854\u001b[0m       \u001b[0;31m# defunned version which is guaranteed to never create variables.\u001b[0m\u001b[0;34m\u001b[0m\u001b[0;34m\u001b[0m\u001b[0;34m\u001b[0m\u001b[0m\n\u001b[0;32m--> 855\u001b[0;31m       \u001b[0;32mreturn\u001b[0m \u001b[0mself\u001b[0m\u001b[0;34m.\u001b[0m\u001b[0m_stateless_fn\u001b[0m\u001b[0;34m(\u001b[0m\u001b[0;34m*\u001b[0m\u001b[0margs\u001b[0m\u001b[0;34m,\u001b[0m \u001b[0;34m**\u001b[0m\u001b[0mkwds\u001b[0m\u001b[0;34m)\u001b[0m  \u001b[0;31m# pylint: disable=not-callable\u001b[0m\u001b[0;34m\u001b[0m\u001b[0;34m\u001b[0m\u001b[0m\n\u001b[0m\u001b[1;32m    856\u001b[0m     \u001b[0;32melif\u001b[0m \u001b[0mself\u001b[0m\u001b[0;34m.\u001b[0m\u001b[0m_stateful_fn\u001b[0m \u001b[0;32mis\u001b[0m \u001b[0;32mnot\u001b[0m \u001b[0;32mNone\u001b[0m\u001b[0;34m:\u001b[0m\u001b[0;34m\u001b[0m\u001b[0;34m\u001b[0m\u001b[0m\n\u001b[1;32m    857\u001b[0m       \u001b[0;31m# Release the lock early so that multiple threads can perform the call\u001b[0m\u001b[0;34m\u001b[0m\u001b[0;34m\u001b[0m\u001b[0;34m\u001b[0m\u001b[0m\n",
      "\u001b[0;32m~/github/digit-recongizer/.venv/lib/python3.8/site-packages/tensorflow/python/eager/function.py\u001b[0m in \u001b[0;36m__call__\u001b[0;34m(self, *args, **kwargs)\u001b[0m\n\u001b[1;32m   2941\u001b[0m        filtered_flat_args) = self._maybe_define_function(args, kwargs)\n\u001b[1;32m   2942\u001b[0m     return graph_function._call_flat(\n\u001b[0;32m-> 2943\u001b[0;31m         filtered_flat_args, captured_inputs=graph_function.captured_inputs)  # pylint: disable=protected-access\n\u001b[0m\u001b[1;32m   2944\u001b[0m \u001b[0;34m\u001b[0m\u001b[0m\n\u001b[1;32m   2945\u001b[0m   \u001b[0;34m@\u001b[0m\u001b[0mproperty\u001b[0m\u001b[0;34m\u001b[0m\u001b[0;34m\u001b[0m\u001b[0m\n",
      "\u001b[0;32m~/github/digit-recongizer/.venv/lib/python3.8/site-packages/tensorflow/python/eager/function.py\u001b[0m in \u001b[0;36mcaptured_inputs\u001b[0;34m(self)\u001b[0m\n\u001b[1;32m   2000\u001b[0m     \u001b[0;32mreturn\u001b[0m \u001b[0mself\u001b[0m\u001b[0;34m.\u001b[0m\u001b[0m_func_graph\u001b[0m\u001b[0;34m.\u001b[0m\u001b[0mstructured_outputs\u001b[0m\u001b[0;34m\u001b[0m\u001b[0;34m\u001b[0m\u001b[0m\n\u001b[1;32m   2001\u001b[0m \u001b[0;34m\u001b[0m\u001b[0m\n\u001b[0;32m-> 2002\u001b[0;31m   \u001b[0;34m@\u001b[0m\u001b[0mproperty\u001b[0m\u001b[0;34m\u001b[0m\u001b[0;34m\u001b[0m\u001b[0m\n\u001b[0m\u001b[1;32m   2003\u001b[0m   \u001b[0;32mdef\u001b[0m \u001b[0mcaptured_inputs\u001b[0m\u001b[0;34m(\u001b[0m\u001b[0mself\u001b[0m\u001b[0;34m)\u001b[0m\u001b[0;34m:\u001b[0m\u001b[0;34m\u001b[0m\u001b[0;34m\u001b[0m\u001b[0m\n\u001b[1;32m   2004\u001b[0m     \"\"\"Returns external Tensors captured by this function.\n",
      "\u001b[0;31mKeyboardInterrupt\u001b[0m: "
     ]
    }
   ],
   "source": [
    "import keras\n",
    "from keras import layers \n",
    "import matplotlib.pyplot as plt\n",
    "\n",
    "def seq_baseline_build(lr=0.001):\n",
    "    model = keras.models.Sequential()\n",
    "    model.add(keras.layers.Flatten(input_shape=[28, 28]))\n",
    "    model.add(keras.layers.Dense(300, activation='elu'))\n",
    "    model.add(keras.layers.Dense(100, activation='elu'))\n",
    "    model.add(keras.layers.Dense(10, activation='softmax'))\n",
    "\n",
    "    log.info(model.summary())\n",
    "    log.info(model.layers[2].get_weights()[0].shape)\n",
    "\n",
    "    model.compile(loss='sparse_categorical_crossentropy',\n",
    "                 optimizer=keras.optimizers.Nadam(learning_rate=lr),\n",
    "                 metrics=[keras.metrics.sparse_categorical_accuracy])\n",
    "    return model\n",
    "\n",
    "def plot(history):\n",
    "    pd.DataFrame(history.history).plot(figsize=(8, 5))\n",
    "    plt.grid(True)\n",
    "    plt.ylim(0, 1)\n",
    "    plt.show()\n",
    "\n",
    "def seq_baseline():\n",
    "    model = seq_baseline_build()\n",
    "    X_train = X[:int((1-args.val_fraction)*len(X)), :, :, :]\n",
    "    y_sparse_train = y_sparse[:int((1-args.val_fraction)*len(y))]\n",
    "    X_val = X[int((1-args.val_fraction)*len(X)):, :, :, :]\n",
    "    y_sparse_val = y_sparse[int((1-args.val_fraction)*len(y)):]\n",
    "    history = model.fit(X_train, y_sparse_train, epochs=args.epochs, validation_data=(X_val, y_sparse_val))\n",
    "    \n",
    "    plot(history)\n",
    "    predictions = np.argmax(model.predict(X_test), axis=-1)\n",
    "    csv_sparse_predictions(predictions, 'experiments-baseline.csv')\n",
    "    \n",
    "    # saving and loading models\n",
    "    model.save('experiments-seq-baseline.h5')\n",
    "    model_loaded = keras.models.load_model('experiments-seq-baseline.h5')\n",
    "    loaded_val_loss, loaded_val_acc = model_loaded.evaluate(X_val, y_sparse_val)\n",
    "    assert history.history['val_loss'][-1] == loaded_val_loss\n",
    "    assert history.history['val_sparse_categorical_accuracy'][-1] == loaded_val_acc\n",
    "    \n",
    "    model.save_weights('experiments-seq-baseline-weights.h5')\n",
    "    model.set_weights([np.zeros(layer_weights.shape) for layer_weights in model.get_weights()])\n",
    "    loaded_weights_val_loss, loaded_weights_val_acc = model.evaluate(X_val, y_sparse_val)\n",
    "    model.load_weights('experiments-seq-baseline-weights.h5')\n",
    "    loaded_weights_val_loss, loaded_weights_val_acc = model.evaluate(X_val, y_sparse_val)\n",
    "    assert history.history['val_loss'][-1] == loaded_weights_val_loss\n",
    "    assert history.history['val_sparse_categorical_accuracy'][-1] == loaded_weights_val_acc\n",
    "        \n",
    "    \n",
    "seq_baseline()"
   ]
  },
  {
   "cell_type": "markdown",
   "metadata": {},
   "source": [
    "#### Baseline result\n",
    "| Approach | Model  | Test score  | CV mean score |\n",
    "|---|---|---|---|\n",
    "| Baseline | 50 epochs | 0.96660 | 0.9738 |\n"
   ]
  },
  {
   "cell_type": "markdown",
   "metadata": {},
   "source": [
    "### Functional API. Arbitrary network"
   ]
  },
  {
   "cell_type": "code",
   "execution_count": 11,
   "metadata": {},
   "outputs": [
    {
     "name": "stderr",
     "output_type": "stream",
     "text": [
      "2021-02-09 11:38:46,378 : INFO : None\n"
     ]
    },
    {
     "name": "stdout",
     "output_type": "stream",
     "text": [
      "Model: \"model\"\n",
      "__________________________________________________________________________________________________\n",
      "Layer (type)                    Output Shape         Param #     Connected to                     \n",
      "==================================================================================================\n",
      "input_1 (InputLayer)            [(None, 28, 28, 1)]  0                                            \n",
      "__________________________________________________________________________________________________\n",
      "flatten_1 (Flatten)             (None, 784)          0           input_1[0][0]                    \n",
      "__________________________________________________________________________________________________\n",
      "input_2 (InputLayer)            [(None, 28, 28, 1)]  0                                            \n",
      "__________________________________________________________________________________________________\n",
      "dense_3 (Dense)                 (None, 300)          235500      flatten_1[0][0]                  \n",
      "__________________________________________________________________________________________________\n",
      "flatten_2 (Flatten)             (None, 784)          0           input_2[0][0]                    \n",
      "__________________________________________________________________________________________________\n",
      "dense_4 (Dense)                 (None, 100)          30100       dense_3[0][0]                    \n",
      "__________________________________________________________________________________________________\n",
      "concatenate (Concatenate)       (None, 884)          0           flatten_2[0][0]                  \n",
      "                                                                 dense_4[0][0]                    \n",
      "__________________________________________________________________________________________________\n",
      "dense_5 (Dense)                 (None, 10)           8850        concatenate[0][0]                \n",
      "__________________________________________________________________________________________________\n",
      "dense_6 (Dense)                 (None, 10)           1010        dense_4[0][0]                    \n",
      "==================================================================================================\n",
      "Total params: 275,460\n",
      "Trainable params: 275,460\n",
      "Non-trainable params: 0\n",
      "__________________________________________________________________________________________________\n",
      "Epoch 1/5\n",
      "1182/1182 [==============================] - 5s 3ms/step - loss: 14.7781 - dense_5_loss: 14.8750 - dense_6_loss: 13.9054 - dense_5_sparse_categorical_accuracy: 0.8081 - dense_6_sparse_categorical_accuracy: 0.7794 - val_loss: 5.5623 - val_dense_5_loss: 5.4317 - val_dense_6_loss: 6.7375 - val_dense_5_sparse_categorical_accuracy: 0.8940 - val_dense_6_sparse_categorical_accuracy: 0.8336\n",
      "Epoch 2/5\n",
      "1182/1182 [==============================] - 4s 3ms/step - loss: 3.1645 - dense_5_loss: 3.2424 - dense_6_loss: 2.4632 - dense_5_sparse_categorical_accuracy: 0.9396 - dense_6_sparse_categorical_accuracy: 0.9311 - val_loss: 5.8466 - val_dense_5_loss: 6.1686 - val_dense_6_loss: 2.9487 - val_dense_5_sparse_categorical_accuracy: 0.9100 - val_dense_6_sparse_categorical_accuracy: 0.9283\n",
      "Epoch 3/5\n",
      "1182/1182 [==============================] - 4s 3ms/step - loss: 2.2522 - dense_5_loss: 2.3303 - dense_6_loss: 1.5495 - dense_5_sparse_categorical_accuracy: 0.9586 - dense_6_sparse_categorical_accuracy: 0.9515 - val_loss: 4.4702 - val_dense_5_loss: 4.7352 - val_dense_6_loss: 2.0847 - val_dense_5_sparse_categorical_accuracy: 0.9424 - val_dense_6_sparse_categorical_accuracy: 0.9431\n",
      "Epoch 4/5\n",
      "1182/1182 [==============================] - 4s 3ms/step - loss: 2.1783 - dense_5_loss: 2.2724 - dense_6_loss: 1.3311 - dense_5_sparse_categorical_accuracy: 0.9634 - dense_6_sparse_categorical_accuracy: 0.9552 - val_loss: 4.4959 - val_dense_5_loss: 4.7730 - val_dense_6_loss: 2.0021 - val_dense_5_sparse_categorical_accuracy: 0.9395 - val_dense_6_sparse_categorical_accuracy: 0.9419\n",
      "Epoch 5/5\n",
      "1182/1182 [==============================] - 4s 3ms/step - loss: 2.1901 - dense_5_loss: 2.2976 - dense_6_loss: 1.2227 - dense_5_sparse_categorical_accuracy: 0.9666 - dense_6_sparse_categorical_accuracy: 0.9577 - val_loss: 3.9351 - val_dense_5_loss: 4.1948 - val_dense_6_loss: 1.5982 - val_dense_5_sparse_categorical_accuracy: 0.9598 - val_dense_6_sparse_categorical_accuracy: 0.9512\n"
     ]
    },
    {
     "data": {
      "image/png": "[encoded data removed]",
      "text/plain": [
       "<Figure size 576x360 with 1 Axes>"
      ]
     },
     "metadata": {
      "needs_background": "light"
     },
     "output_type": "display_data"
    }
   ],
   "source": [
    "def functional_api_arbitrary():\n",
    "    i1 = keras.layers.Input(shape=X.shape[1:])\n",
    "    f1 = keras.layers.Flatten(input_shape=[28, 28])(i1)\n",
    "    h1 = keras.layers.Dense(300, activation='elu')(f1)\n",
    "    h2 = keras.layers.Dense(100, activation='elu')(h1)\n",
    "    i2 = keras.layers.Input(shape=X.shape[1:])\n",
    "    f2 = keras.layers.Flatten(input_shape=[28, 28])(i2)\n",
    "    c = keras.layers.Concatenate()([f2, h2])\n",
    "    o1 = keras.layers.Dense(10, activation='softmax')(c)\n",
    "    o2 = keras.layers.Dense(10, activation='softmax')(h2)\n",
    "    model = keras.Model(inputs=[i1, i2], outputs=[o1, o2])\n",
    "\n",
    "    model.compile(loss=['sparse_categorical_crossentropy', 'sparse_categorical_crossentropy'],\n",
    "                  loss_weights=[0.9, 0.1],\n",
    "                 optimizer=keras.optimizers.Nadam(),\n",
    "                 metrics=[keras.metrics.sparse_categorical_accuracy])\n",
    "    log.info(model.summary())\n",
    "    history = model.fit([X, X], [y_sparse, y_sparse], epochs=5, validation_split=args.val_fraction)\n",
    "    pd.DataFrame(history.history).plot(figsize=(8, 5))\n",
    "    plt.grid(True)\n",
    "    plt.show()\n",
    "    \n",
    "functional_api_arbitrary()"
   ]
  },
  {
   "cell_type": "markdown",
   "metadata": {},
   "source": [
    "### Subclassing API. Arbitrary network"
   ]
  },
  {
   "cell_type": "code",
   "execution_count": 12,
   "metadata": {},
   "outputs": [
    {
     "name": "stdout",
     "output_type": "stream",
     "text": [
      "Epoch 1/5\n",
      "1182/1182 [==============================] - 29s 24ms/step - loss: 15.5153 - output_1_loss: 15.7689 - output_2_loss: 13.2331 - output_1_sparse_categorical_accuracy: 0.8060 - output_2_sparse_categorical_accuracy: 0.7848 - val_loss: 4.3624 - val_output_1_loss: 4.5003 - val_output_2_loss: 3.1217 - val_output_1_sparse_categorical_accuracy: 0.9193 - val_output_2_sparse_categorical_accuracy: 0.9160\n",
      "Epoch 2/5\n",
      "1182/1182 [==============================] - 29s 24ms/step - loss: 3.1114 - output_1_loss: 3.2163 - output_2_loss: 2.1668 - output_1_sparse_categorical_accuracy: 0.9408 - output_2_sparse_categorical_accuracy: 0.9338 - val_loss: 4.4858 - val_output_1_loss: 4.7142 - val_output_2_loss: 2.4304 - val_output_1_sparse_categorical_accuracy: 0.9302 - val_output_2_sparse_categorical_accuracy: 0.9300\n",
      "Epoch 3/5\n",
      "1182/1182 [==============================] - 29s 25ms/step - loss: 2.4108 - output_1_loss: 2.5033 - output_2_loss: 1.5788 - output_1_sparse_categorical_accuracy: 0.9558 - output_2_sparse_categorical_accuracy: 0.9474 - val_loss: 3.4528 - val_output_1_loss: 3.6109 - val_output_2_loss: 2.0294 - val_output_1_sparse_categorical_accuracy: 0.9452 - val_output_2_sparse_categorical_accuracy: 0.9362\n",
      "Epoch 4/5\n",
      "1182/1182 [==============================] - 29s 24ms/step - loss: 2.1041 - output_1_loss: 2.2011 - output_2_loss: 1.2308 - output_1_sparse_categorical_accuracy: 0.9620 - output_2_sparse_categorical_accuracy: 0.9539 - val_loss: 3.6127 - val_output_1_loss: 3.8085 - val_output_2_loss: 1.8511 - val_output_1_sparse_categorical_accuracy: 0.9557 - val_output_2_sparse_categorical_accuracy: 0.9479\n",
      "Epoch 5/5\n",
      "1182/1182 [==============================] - 29s 25ms/step - loss: 2.0176 - output_1_loss: 2.1177 - output_2_loss: 1.1171 - output_1_sparse_categorical_accuracy: 0.9680 - output_2_sparse_categorical_accuracy: 0.9596 - val_loss: 4.4321 - val_output_1_loss: 4.7667 - val_output_2_loss: 1.4204 - val_output_1_sparse_categorical_accuracy: 0.9569 - val_output_2_sparse_categorical_accuracy: 0.9536\n"
     ]
    },
    {
     "name": "stderr",
     "output_type": "stream",
     "text": [
      "2021-02-09 11:41:31,849 : INFO : None\n"
     ]
    },
    {
     "name": "stdout",
     "output_type": "stream",
     "text": [
      "Model: \"wide_and_deep_model\"\n",
      "_________________________________________________________________\n",
      "Layer (type)                 Output Shape              Param #   \n",
      "=================================================================\n",
      "flatten_3 (Flatten)          multiple                  0         \n",
      "_________________________________________________________________\n",
      "dense_7 (Dense)              multiple                  235500    \n",
      "_________________________________________________________________\n",
      "dense_8 (Dense)              multiple                  30100     \n",
      "_________________________________________________________________\n",
      "flatten_4 (Flatten)          multiple                  0         \n",
      "_________________________________________________________________\n",
      "concatenate_1 (Concatenate)  multiple                  0         \n",
      "_________________________________________________________________\n",
      "dense_9 (Dense)              multiple                  8850      \n",
      "_________________________________________________________________\n",
      "dense_10 (Dense)             multiple                  1010      \n",
      "=================================================================\n",
      "Total params: 275,460\n",
      "Trainable params: 275,460\n",
      "Non-trainable params: 0\n",
      "_________________________________________________________________\n"
     ]
    },
    {
     "data": {
      "image/png": "[encoded data removed]",
      "text/plain": [
       "<Figure size 576x360 with 1 Axes>"
      ]
     },
     "metadata": {
      "needs_background": "light"
     },
     "output_type": "display_data"
    }
   ],
   "source": [
    "import tensorflow as tf\n",
    "\n",
    "def subclassing_api_arbitrary():\n",
    "    class WideAndDeepModel(keras.Model):\n",
    "        def __init__(self, units1=300, units2=100, activation='elu', **kwargs):\n",
    "            super().__init__(**kwargs)\n",
    "            self.f1 = keras.layers.Flatten(input_shape=[28, 28])\n",
    "            self.h1 = keras.layers.Dense(units1, activation=activation)\n",
    "            self.h2 = keras.layers.Dense(units2, activation=activation)\n",
    "            self.f2 = keras.layers.Flatten(input_shape=[28, 28])\n",
    "            self.c = keras.layers.Concatenate()\n",
    "            self.o1 = keras.layers.Dense(10, activation='softmax')\n",
    "            self.o2 = keras.layers.Dense(10, activation='softmax')\n",
    "        def call(self, inputs):\n",
    "            i1, i2 = inputs\n",
    "            f1 = self.f1(i1)\n",
    "            h1 = self.h1(f1)\n",
    "            h2 = self.h2(h1)\n",
    "            f2 = self.f2(i2)\n",
    "            f2 = tf.cast(f2, tf.float32) \n",
    "            c = self.c([f2, h2])\n",
    "            o1 = self.o1(c)\n",
    "            o2 = self.o2(h2)\n",
    "            return o1, o2\n",
    "\n",
    "    i1 = keras.layers.Input(shape=X.shape[1:])\n",
    "    i2 = keras.layers.Input(shape=X.shape[1:])\n",
    "    model = WideAndDeepModel()\n",
    "    model.compile(loss=['sparse_categorical_crossentropy', 'sparse_categorical_crossentropy'],\n",
    "                      loss_weights=[0.9, 0.1],\n",
    "                     optimizer=keras.optimizers.Nadam(),\n",
    "                     metrics=[keras.metrics.sparse_categorical_accuracy],\n",
    "                  run_eagerly=True)\n",
    "    history = model.fit([X, X], [y_sparse, y_sparse], epochs=5, validation_split=args.val_fraction,)\n",
    "    log.info(model.summary())\n",
    "    pd.DataFrame(history.history).plot(figsize=(8, 5))\n",
    "    plt.grid(True)\n",
    "    plt.show()\n",
    "    \n",
    "subclassing_api_arbitrary()"
   ]
  },
  {
   "cell_type": "markdown",
   "metadata": {},
   "source": [
    "### Early stopping with callbacks"
   ]
  },
  {
   "cell_type": "code",
   "execution_count": 14,
   "metadata": {},
   "outputs": [
    {
     "name": "stderr",
     "output_type": "stream",
     "text": [
      "2021-02-09 12:40:51,628 : INFO : None\n",
      "2021-02-09 12:40:51,629 : INFO : (300, 100)\n"
     ]
    },
    {
     "name": "stdout",
     "output_type": "stream",
     "text": [
      "Model: \"sequential_2\"\n",
      "_________________________________________________________________\n",
      "Layer (type)                 Output Shape              Param #   \n",
      "=================================================================\n",
      "flatten_6 (Flatten)          (None, 784)               0         \n",
      "_________________________________________________________________\n",
      "dense_14 (Dense)             (None, 300)               235500    \n",
      "_________________________________________________________________\n",
      "dense_15 (Dense)             (None, 100)               30100     \n",
      "_________________________________________________________________\n",
      "dense_16 (Dense)             (None, 10)                1010      \n",
      "=================================================================\n",
      "Total params: 266,610\n",
      "Trainable params: 266,610\n",
      "Non-trainable params: 0\n",
      "_________________________________________________________________\n",
      "Epoch 1/50\n",
      "1182/1182 [==============================] - 4s 3ms/step - loss: 5.1498 - sparse_categorical_accuracy: 0.8090 - val_loss: 0.4039 - val_sparse_categorical_accuracy: 0.9036\n",
      "Epoch 2/50\n",
      "1182/1182 [==============================] - 3s 2ms/step - loss: 0.3295 - sparse_categorical_accuracy: 0.9154 - val_loss: 0.3094 - val_sparse_categorical_accuracy: 0.9212\n",
      "Epoch 3/50\n",
      "1182/1182 [==============================] - 3s 2ms/step - loss: 0.2172 - sparse_categorical_accuracy: 0.9420 - val_loss: 0.3409 - val_sparse_categorical_accuracy: 0.9190\n",
      "Epoch 4/50\n",
      "1182/1182 [==============================] - 3s 2ms/step - loss: 0.1997 - sparse_categorical_accuracy: 0.9446 - val_loss: 0.2333 - val_sparse_categorical_accuracy: 0.9381\n",
      "Epoch 5/50\n",
      "1182/1182 [==============================] - 3s 3ms/step - loss: 0.1636 - sparse_categorical_accuracy: 0.9557 - val_loss: 0.1950 - val_sparse_categorical_accuracy: 0.9510\n",
      "Epoch 6/50\n",
      "1182/1182 [==============================] - 3s 3ms/step - loss: 0.1501 - sparse_categorical_accuracy: 0.9588 - val_loss: 0.1622 - val_sparse_categorical_accuracy: 0.9574\n",
      "Epoch 7/50\n",
      "1182/1182 [==============================] - 3s 3ms/step - loss: 0.1192 - sparse_categorical_accuracy: 0.9656 - val_loss: 0.2111 - val_sparse_categorical_accuracy: 0.9452\n",
      "Epoch 8/50\n",
      "1182/1182 [==============================] - 3s 3ms/step - loss: 0.1312 - sparse_categorical_accuracy: 0.9644 - val_loss: 0.1977 - val_sparse_categorical_accuracy: 0.9531\n",
      "Epoch 9/50\n",
      "1182/1182 [==============================] - 3s 3ms/step - loss: 0.1047 - sparse_categorical_accuracy: 0.9695 - val_loss: 0.1794 - val_sparse_categorical_accuracy: 0.9626\n",
      "Epoch 10/50\n",
      "1182/1182 [==============================] - 3s 3ms/step - loss: 0.1051 - sparse_categorical_accuracy: 0.9722 - val_loss: 0.1997 - val_sparse_categorical_accuracy: 0.9548\n",
      "Epoch 11/50\n",
      "1182/1182 [==============================] - 3s 3ms/step - loss: 0.0808 - sparse_categorical_accuracy: 0.9783 - val_loss: 0.1816 - val_sparse_categorical_accuracy: 0.9605\n",
      "Epoch 12/50\n",
      "1182/1182 [==============================] - 3s 3ms/step - loss: 0.0877 - sparse_categorical_accuracy: 0.9758 - val_loss: 0.2165 - val_sparse_categorical_accuracy: 0.9581\n",
      "Epoch 13/50\n",
      "1182/1182 [==============================] - 3s 3ms/step - loss: 0.0793 - sparse_categorical_accuracy: 0.9792 - val_loss: 0.2493 - val_sparse_categorical_accuracy: 0.9552\n",
      "Epoch 14/50\n",
      "1182/1182 [==============================] - 3s 3ms/step - loss: 0.0788 - sparse_categorical_accuracy: 0.9795 - val_loss: 0.1888 - val_sparse_categorical_accuracy: 0.9650\n",
      "Epoch 15/50\n",
      "1182/1182 [==============================] - 3s 3ms/step - loss: 0.0793 - sparse_categorical_accuracy: 0.9804 - val_loss: 0.2250 - val_sparse_categorical_accuracy: 0.9624\n",
      "Epoch 16/50\n",
      "1182/1182 [==============================] - 3s 3ms/step - loss: 0.0702 - sparse_categorical_accuracy: 0.9827 - val_loss: 0.2883 - val_sparse_categorical_accuracy: 0.9571\n"
     ]
    },
    {
     "data": {
      "image/png": "[encoded data removed]",
      "text/plain": [
       "<Figure size 576x360 with 1 Axes>"
      ]
     },
     "metadata": {
      "needs_background": "light"
     },
     "output_type": "display_data"
    },
    {
     "name": "stderr",
     "output_type": "stream",
     "text": [
      "2021-02-09 12:41:41,742 : INFO : Saved file: ../predictions/experiments-early-stopping.csv\n"
     ]
    }
   ],
   "source": [
    "import keras\n",
    "from keras import layers \n",
    "\n",
    "def early_stopping(monitor='val_sparse_categorical_accuracy'):\n",
    "    early_stopping_callback = keras.callbacks.EarlyStopping(monitor=monitor, \n",
    "                                                patience=10, restore_best_weights=True)\n",
    "    model = seq_baseline_build()\n",
    "    history = model.fit(X, y_sparse, epochs=args.epochs, validation_split=args.val_fraction, \n",
    "                        callbacks=[early_stopping_callback])\n",
    "    \n",
    "    plot(history)\n",
    "    predictions = np.argmax(model.predict(X_test), axis=-1)\n",
    "    csv_sparse_predictions(predictions, 'experiments-early-stopping.csv')\n",
    "    \n",
    "early_stopping(monitor='val_loss')"
   ]
  },
  {
   "cell_type": "markdown",
   "metadata": {},
   "source": [
    "#### Early stopping\n",
    "| Approach | Model  | Test score  | CV mean score |\n",
    "|---|---|---|---|\n",
    "| monitor='val_sparse_categorical_accuracy' | 25 epochs | 0.96910 | 0.9733 |\n",
    "| monitor='val_loss' | 6 epochs | 0.9571 | 0.95503 |\n"
   ]
  },
  {
   "cell_type": "markdown",
   "metadata": {},
   "source": [
    "### Tensorboard"
   ]
  },
  {
   "cell_type": "code",
   "execution_count": 16,
   "metadata": {
    "scrolled": true
   },
   "outputs": [
    {
     "name": "stderr",
     "output_type": "stream",
     "text": [
      "2021-02-10 16:20:39,713 : INFO : None\n",
      "2021-02-10 16:20:39,713 : INFO : (300, 100)\n"
     ]
    },
    {
     "name": "stdout",
     "output_type": "stream",
     "text": [
      "Model: \"sequential_4\"\n",
      "_________________________________________________________________\n",
      "Layer (type)                 Output Shape              Param #   \n",
      "=================================================================\n",
      "flatten_8 (Flatten)          (None, 784)               0         \n",
      "_________________________________________________________________\n",
      "dense_20 (Dense)             (None, 300)               235500    \n",
      "_________________________________________________________________\n",
      "dense_21 (Dense)             (None, 100)               30100     \n",
      "_________________________________________________________________\n",
      "dense_22 (Dense)             (None, 10)                1010      \n",
      "=================================================================\n",
      "Total params: 266,610\n",
      "Trainable params: 266,610\n",
      "Non-trainable params: 0\n",
      "_________________________________________________________________\n",
      "Epoch 1/20\n",
      "1182/1182 [==============================] - 5s 3ms/step - loss: 5.8916 - sparse_categorical_accuracy: 0.8049 - val_loss: 0.3946 - val_sparse_categorical_accuracy: 0.9057\n",
      "Epoch 2/20\n",
      "1182/1182 [==============================] - 4s 3ms/step - loss: 0.3127 - sparse_categorical_accuracy: 0.9237 - val_loss: 0.3141 - val_sparse_categorical_accuracy: 0.9245\n",
      "Epoch 3/20\n",
      "1182/1182 [==============================] - 3s 3ms/step - loss: 0.2165 - sparse_categorical_accuracy: 0.9412 - val_loss: 0.2242 - val_sparse_categorical_accuracy: 0.9443\n",
      "Epoch 4/20\n",
      "1182/1182 [==============================] - 4s 3ms/step - loss: 0.1900 - sparse_categorical_accuracy: 0.9480 - val_loss: 0.2479 - val_sparse_categorical_accuracy: 0.9400\n",
      "Epoch 5/20\n",
      "1182/1182 [==============================] - 3s 3ms/step - loss: 0.1529 - sparse_categorical_accuracy: 0.9597 - val_loss: 0.1814 - val_sparse_categorical_accuracy: 0.9538\n",
      "Epoch 6/20\n",
      "1182/1182 [==============================] - 4s 3ms/step - loss: 0.1262 - sparse_categorical_accuracy: 0.9650 - val_loss: 0.1690 - val_sparse_categorical_accuracy: 0.9617\n",
      "Epoch 7/20\n",
      "1182/1182 [==============================] - 4s 3ms/step - loss: 0.1170 - sparse_categorical_accuracy: 0.9675 - val_loss: 0.2128 - val_sparse_categorical_accuracy: 0.9538\n",
      "Epoch 8/20\n",
      "1182/1182 [==============================] - 4s 3ms/step - loss: 0.1118 - sparse_categorical_accuracy: 0.9695 - val_loss: 0.1660 - val_sparse_categorical_accuracy: 0.9598\n",
      "Epoch 9/20\n",
      "1182/1182 [==============================] - 4s 3ms/step - loss: 0.0842 - sparse_categorical_accuracy: 0.9771 - val_loss: 0.1528 - val_sparse_categorical_accuracy: 0.9636\n",
      "Epoch 10/20\n",
      "1182/1182 [==============================] - 3s 3ms/step - loss: 0.0839 - sparse_categorical_accuracy: 0.9762 - val_loss: 0.2092 - val_sparse_categorical_accuracy: 0.9590\n",
      "Epoch 11/20\n",
      "1182/1182 [==============================] - 4s 3ms/step - loss: 0.0777 - sparse_categorical_accuracy: 0.9798 - val_loss: 0.1899 - val_sparse_categorical_accuracy: 0.9600\n",
      "Epoch 12/20\n",
      "1182/1182 [==============================] - 4s 3ms/step - loss: 0.0740 - sparse_categorical_accuracy: 0.9803 - val_loss: 0.1976 - val_sparse_categorical_accuracy: 0.9636\n",
      "Epoch 13/20\n",
      "1182/1182 [==============================] - 4s 3ms/step - loss: 0.0755 - sparse_categorical_accuracy: 0.9814 - val_loss: 0.1996 - val_sparse_categorical_accuracy: 0.9619\n",
      "Epoch 14/20\n",
      "1182/1182 [==============================] - 3s 3ms/step - loss: 0.0595 - sparse_categorical_accuracy: 0.9844 - val_loss: 0.1800 - val_sparse_categorical_accuracy: 0.9626\n",
      "Epoch 15/20\n",
      "1182/1182 [==============================] - 3s 3ms/step - loss: 0.0661 - sparse_categorical_accuracy: 0.9831 - val_loss: 0.2523 - val_sparse_categorical_accuracy: 0.9612\n",
      "Epoch 16/20\n",
      "1182/1182 [==============================] - 3s 3ms/step - loss: 0.0710 - sparse_categorical_accuracy: 0.9848 - val_loss: 0.1981 - val_sparse_categorical_accuracy: 0.9650\n",
      "Epoch 17/20\n",
      "1182/1182 [==============================] - 3s 3ms/step - loss: 0.0627 - sparse_categorical_accuracy: 0.9859 - val_loss: 0.2316 - val_sparse_categorical_accuracy: 0.9650\n",
      "Epoch 18/20\n",
      "1182/1182 [==============================] - 3s 3ms/step - loss: 0.0587 - sparse_categorical_accuracy: 0.9870 - val_loss: 0.1719 - val_sparse_categorical_accuracy: 0.9705\n",
      "Epoch 19/20\n",
      "1182/1182 [==============================] - 3s 3ms/step - loss: 0.0516 - sparse_categorical_accuracy: 0.9884 - val_loss: 0.2348 - val_sparse_categorical_accuracy: 0.9636\n",
      "Epoch 20/20\n",
      "1182/1182 [==============================] - 3s 3ms/step - loss: 0.0538 - sparse_categorical_accuracy: 0.9870 - val_loss: 0.2540 - val_sparse_categorical_accuracy: 0.9655\n"
     ]
    }
   ],
   "source": [
    "import os\n",
    "import time\n",
    "\n",
    "def get_logdir():\n",
    "    return os.path.join('../logs', time.strftime('%Y-%m-%d-%H-%M-%S'))\n",
    "tensorboard_callback = keras.callbacks.TensorBoard(get_logdir())\n",
    "history = seq_baseline_build().fit(X, y_sparse, epochs=5, validation_split=args.val_fraction, \n",
    "                                   callbacks=[tensorboard_callback])"
   ]
  },
  {
   "cell_type": "markdown",
   "metadata": {},
   "source": [
    "### Hyperparams search. Sklearn integration"
   ]
  },
  {
   "cell_type": "code",
   "execution_count": 56,
   "metadata": {},
   "outputs": [
    {
     "name": "stderr",
     "output_type": "stream",
     "text": [
      "2021-02-12 16:28:11,906 : INFO : None\n"
     ]
    },
    {
     "name": "stdout",
     "output_type": "stream",
     "text": [
      "Model: \"sequential_192\"\n",
      "_________________________________________________________________\n",
      "Layer (type)                 Output Shape              Param #   \n",
      "=================================================================\n",
      "flatten_194 (Flatten)        (None, 784)               0         \n",
      "_________________________________________________________________\n",
      "dense_557 (Dense)            (None, 68)                53380     \n",
      "_________________________________________________________________\n",
      "dense_558 (Dense)            (None, 68)                4692      \n",
      "_________________________________________________________________\n",
      "dense_559 (Dense)            (None, 10)                690       \n",
      "=================================================================\n",
      "Total params: 58,762\n",
      "Trainable params: 58,762\n",
      "Non-trainable params: 0\n",
      "_________________________________________________________________\n",
      "591/591 [==============================] - 1s 1ms/step - loss: 17.4986 - accuracy: 0.5890 - val_loss: 2.7851 - val_accuracy: 0.8233\n",
      "657/657 [==============================] - 0s 516us/step - loss: 2.6891 - accuracy: 0.8370\n"
     ]
    },
    {
     "name": "stderr",
     "output_type": "stream",
     "text": [
      "2021-02-12 16:28:13,777 : INFO : None\n"
     ]
    },
    {
     "name": "stdout",
     "output_type": "stream",
     "text": [
      "Model: \"sequential_193\"\n",
      "_________________________________________________________________\n",
      "Layer (type)                 Output Shape              Param #   \n",
      "=================================================================\n",
      "flatten_195 (Flatten)        (None, 784)               0         \n",
      "_________________________________________________________________\n",
      "dense_560 (Dense)            (None, 68)                53380     \n",
      "_________________________________________________________________\n",
      "dense_561 (Dense)            (None, 68)                4692      \n",
      "_________________________________________________________________\n",
      "dense_562 (Dense)            (None, 10)                690       \n",
      "=================================================================\n",
      "Total params: 58,762\n",
      "Trainable params: 58,762\n",
      "Non-trainable params: 0\n",
      "_________________________________________________________________\n",
      "591/591 [==============================] - 1s 1ms/step - loss: 17.9942 - accuracy: 0.5505 - val_loss: 2.2301 - val_accuracy: 0.8152\n",
      "657/657 [==============================] - 0s 524us/step - loss: 2.5861 - accuracy: 0.8060\n"
     ]
    },
    {
     "name": "stderr",
     "output_type": "stream",
     "text": [
      "2021-02-12 16:28:15,526 : INFO : None\n"
     ]
    },
    {
     "name": "stdout",
     "output_type": "stream",
     "text": [
      "Model: \"sequential_194\"\n",
      "_________________________________________________________________\n",
      "Layer (type)                 Output Shape              Param #   \n",
      "=================================================================\n",
      "flatten_196 (Flatten)        (None, 784)               0         \n",
      "_________________________________________________________________\n",
      "dense_563 (Dense)            (None, 238)               186830    \n",
      "_________________________________________________________________\n",
      "dense_564 (Dense)            (None, 10)                2390      \n",
      "=================================================================\n",
      "Total params: 189,220\n",
      "Trainable params: 189,220\n",
      "Non-trainable params: 0\n",
      "_________________________________________________________________\n",
      "591/591 [==============================] - 1s 2ms/step - loss: 14.1167 - accuracy: 0.7919 - val_loss: 0.7195 - val_accuracy: 0.8129\n",
      "657/657 [==============================] - 0s 620us/step - loss: 0.7584 - accuracy: 0.8300\n"
     ]
    },
    {
     "name": "stderr",
     "output_type": "stream",
     "text": [
      "2021-02-12 16:28:17,688 : INFO : None\n"
     ]
    },
    {
     "name": "stdout",
     "output_type": "stream",
     "text": [
      "Model: \"sequential_195\"\n",
      "_________________________________________________________________\n",
      "Layer (type)                 Output Shape              Param #   \n",
      "=================================================================\n",
      "flatten_197 (Flatten)        (None, 784)               0         \n",
      "_________________________________________________________________\n",
      "dense_565 (Dense)            (None, 238)               186830    \n",
      "_________________________________________________________________\n",
      "dense_566 (Dense)            (None, 10)                2390      \n",
      "=================================================================\n",
      "Total params: 189,220\n",
      "Trainable params: 189,220\n",
      "Non-trainable params: 0\n",
      "_________________________________________________________________\n",
      "591/591 [==============================] - 2s 2ms/step - loss: 13.7684 - accuracy: 0.7903 - val_loss: 0.6262 - val_accuracy: 0.8833\n",
      "657/657 [==============================] - 0s 540us/step - loss: 0.7225 - accuracy: 0.8746\n"
     ]
    },
    {
     "name": "stderr",
     "output_type": "stream",
     "text": [
      "2021-02-12 16:28:19,897 : INFO : None\n"
     ]
    },
    {
     "name": "stdout",
     "output_type": "stream",
     "text": [
      "Model: \"sequential_196\"\n",
      "_________________________________________________________________\n",
      "Layer (type)                 Output Shape              Param #   \n",
      "=================================================================\n",
      "flatten_198 (Flatten)        (None, 784)               0         \n",
      "_________________________________________________________________\n",
      "dense_567 (Dense)            (None, 238)               186830    \n",
      "_________________________________________________________________\n",
      "dense_568 (Dense)            (None, 10)                2390      \n",
      "=================================================================\n",
      "Total params: 189,220\n",
      "Trainable params: 189,220\n",
      "Non-trainable params: 0\n",
      "_________________________________________________________________\n",
      "1182/1182 [==============================] - 2s 2ms/step - loss: 9.5824 - accuracy: 0.8305 - val_loss: 0.4701 - val_accuracy: 0.8864\n",
      "{'n_neurons': 238, 'n_hidden': 1, 'lr': 0.003}\n",
      "0.8522857129573822\n"
     ]
    },
    {
     "name": "stderr",
     "output_type": "stream",
     "text": [
      "2021-02-12 16:28:22,924 : INFO : Saved file: ../predictions/experiments-sklearn-rscv.csv\n"
     ]
    }
   ],
   "source": [
    "from sklearn.model_selection import RandomizedSearchCV\n",
    "\n",
    "def sklearn_rscv():\n",
    "    n_iter, cv, epochs = 2, 2, 1\n",
    "    def build_rscv_model(n_hidden=1, n_neurons=30, lr=3e-3):\n",
    "        model = keras.models.Sequential()\n",
    "        model.add(keras.layers.InputLayer(input_shape=[28, 28]))\n",
    "        model.add(keras.layers.Flatten())\n",
    "        for l in range(n_hidden):\n",
    "            model.add(keras.layers.Dense(n_neurons, activation='elu'))\n",
    "        model.add(keras.layers.Dense(10, activation='softmax'))\n",
    "        log.info(model.summary())\n",
    "        # accuracy instead of val_sparse_categorical_accuracy to coincide with sklearn metrics\n",
    "        model.compile(loss='sparse_categorical_crossentropy',\n",
    "                     optimizer=keras.optimizers.Nadam(lr=lr),\n",
    "                     metrics=['accuracy'])\n",
    "        return model\n",
    "\n",
    "    rscv_model = keras.wrappers.scikit_learn.KerasClassifier(build_rscv_model)\n",
    "    rscv_params = {\n",
    "        'n_hidden': [1, 2, 3],\n",
    "        'n_neurons': np.arange(3, 300, step=5).tolist(),\n",
    "        'lr': [3e-2, 3e-3, 3e-4]\n",
    "    }\n",
    "    rscv = RandomizedSearchCV(rscv_model, rscv_params, n_iter=n_iter, cv=cv)\n",
    "    early_stopping_callback = keras.callbacks.EarlyStopping(monitor='val_accuracy', \n",
    "                                                            patience=10, restore_best_weights=True)\n",
    "    rscv.fit(X, y_sparse, epochs=epochs, validation_split=args.val_fraction, \n",
    "                   callbacks=[early_stopping_callback])\n",
    "    print(rscv.best_params_)\n",
    "    print(rscv.best_score_)\n",
    "    \n",
    "    predictions = np.argmax(rscv.best_estimator_.model.predict(X_test), axis=-1)\n",
    "    csv_sparse_predictions(predictions, 'experiments-sklearn-rscv.csv')\n",
    "    \n",
    "sklearn_rscv()"
   ]
  },
  {
   "cell_type": "markdown",
   "metadata": {},
   "source": [
    "#### Sklearn hyperparam integration\n",
    "| Approach | Model  | Test score  | CV mean score |\n",
    "|---|---|---|---|\n",
    "| RandomizedSearchCV | {'n_neurons': 213, 'n_hidden': 3, 'lr': 0.003} early_stopping='val_accuracy' | 0.96953 | 0.9681 |"
   ]
  },
  {
   "cell_type": "markdown",
   "metadata": {},
   "source": [
    "### Finding the best const learning rate"
   ]
  },
  {
   "cell_type": "code",
   "execution_count": 137,
   "metadata": {},
   "outputs": [
    {
     "name": "stderr",
     "output_type": "stream",
     "text": [
      "2021-02-17 16:23:05,637 : INFO : None\n",
      "2021-02-17 16:23:05,638 : INFO : (300, 100)\n"
     ]
    },
    {
     "name": "stdout",
     "output_type": "stream",
     "text": [
      "Model: \"sequential_210\"\n",
      "_________________________________________________________________\n",
      "Layer (type)                 Output Shape              Param #   \n",
      "=================================================================\n",
      "flatten_212 (Flatten)        (None, 784)               0         \n",
      "_________________________________________________________________\n",
      "dense_608 (Dense)            (None, 300)               235500    \n",
      "_________________________________________________________________\n",
      "dense_609 (Dense)            (None, 100)               30100     \n",
      "_________________________________________________________________\n",
      "dense_610 (Dense)            (None, 10)                1010      \n",
      "=================================================================\n",
      "Total params: 266,610\n",
      "Trainable params: 266,610\n",
      "Non-trainable params: 0\n",
      "_________________________________________________________________\n",
      "Epoch 1/50\n",
      "1182/1182 [==============================] - 4s 3ms/step - loss: 13.5135 - sparse_categorical_accuracy: 0.6874 - val_loss: 2.0755 - val_sparse_categorical_accuracy: 0.8938\n",
      "Epoch 2/50\n",
      "1182/1182 [==============================] - 3s 3ms/step - loss: 1.4133 - sparse_categorical_accuracy: 0.9122 - val_loss: 1.4336 - val_sparse_categorical_accuracy: 0.9160\n",
      "Epoch 3/50\n",
      "1182/1182 [==============================] - 4s 3ms/step - loss: 0.8261 - sparse_categorical_accuracy: 0.9355 - val_loss: 1.3483 - val_sparse_categorical_accuracy: 0.9090\n",
      "Epoch 4/50\n",
      "1182/1182 [==============================] - 4s 3ms/step - loss: 0.5476 - sparse_categorical_accuracy: 0.9495 - val_loss: 0.8683 - val_sparse_categorical_accuracy: 0.9364\n",
      "Epoch 5/50\n",
      "1182/1182 [==============================] - 3s 3ms/step - loss: 0.4628 - sparse_categorical_accuracy: 0.9559 - val_loss: 0.7351 - val_sparse_categorical_accuracy: 0.9407\n",
      "Epoch 6/50\n",
      "1182/1182 [==============================] - 3s 3ms/step - loss: 0.3957 - sparse_categorical_accuracy: 0.9604 - val_loss: 0.7313 - val_sparse_categorical_accuracy: 0.9471\n",
      "Epoch 7/50\n",
      "1182/1182 [==============================] - 3s 3ms/step - loss: 0.3742 - sparse_categorical_accuracy: 0.9600 - val_loss: 0.6460 - val_sparse_categorical_accuracy: 0.9429\n",
      "Epoch 8/50\n",
      "1182/1182 [==============================] - 3s 3ms/step - loss: 0.3655 - sparse_categorical_accuracy: 0.9593 - val_loss: 0.4718 - val_sparse_categorical_accuracy: 0.9438\n",
      "Epoch 9/50\n",
      "1182/1182 [==============================] - 3s 3ms/step - loss: 0.2608 - sparse_categorical_accuracy: 0.9623 - val_loss: 0.4220 - val_sparse_categorical_accuracy: 0.9479\n",
      "Epoch 10/50\n",
      "1182/1182 [==============================] - 3s 3ms/step - loss: 0.2263 - sparse_categorical_accuracy: 0.9602 - val_loss: 0.2868 - val_sparse_categorical_accuracy: 0.9464\n",
      "Epoch 11/50\n",
      "1182/1182 [==============================] - 3s 3ms/step - loss: 0.1803 - sparse_categorical_accuracy: 0.9606 - val_loss: 0.2617 - val_sparse_categorical_accuracy: 0.9464\n",
      "Epoch 12/50\n",
      "1182/1182 [==============================] - 4s 3ms/step - loss: 0.1916 - sparse_categorical_accuracy: 0.9528 - val_loss: 0.2405 - val_sparse_categorical_accuracy: 0.9400\n",
      "Epoch 13/50\n",
      "1182/1182 [==============================] - 3s 3ms/step - loss: 0.1749 - sparse_categorical_accuracy: 0.9570 - val_loss: 0.3028 - val_sparse_categorical_accuracy: 0.9364\n",
      "Epoch 14/50\n",
      "1182/1182 [==============================] - 3s 3ms/step - loss: 0.2155 - sparse_categorical_accuracy: 0.9473 - val_loss: 0.2754 - val_sparse_categorical_accuracy: 0.9450\n",
      "Epoch 15/50\n",
      "1182/1182 [==============================] - 3s 3ms/step - loss: 0.2991 - sparse_categorical_accuracy: 0.9358 - val_loss: 0.2345 - val_sparse_categorical_accuracy: 0.9393\n",
      "Epoch 16/50\n",
      "1182/1182 [==============================] - 3s 3ms/step - loss: 0.3141 - sparse_categorical_accuracy: 0.9279 - val_loss: 0.3513 - val_sparse_categorical_accuracy: 0.9245\n",
      "Epoch 17/50\n",
      "1182/1182 [==============================] - 3s 3ms/step - loss: 0.4275 - sparse_categorical_accuracy: 0.9003 - val_loss: 1.1889 - val_sparse_categorical_accuracy: 0.7948\n",
      "Epoch 18/50\n",
      "1182/1182 [==============================] - 3s 3ms/step - loss: 0.9438 - sparse_categorical_accuracy: 0.7642 - val_loss: 1.0806 - val_sparse_categorical_accuracy: 0.7581\n",
      "Epoch 19/50\n",
      "1182/1182 [==============================] - 3s 3ms/step - loss: 1.5601 - sparse_categorical_accuracy: 0.4709 - val_loss: 2.0141 - val_sparse_categorical_accuracy: 0.2271\n",
      "Epoch 20/50\n",
      "1182/1182 [==============================] - 3s 3ms/step - loss: 2.1504 - sparse_categorical_accuracy: 0.2034 - val_loss: 3.1472 - val_sparse_categorical_accuracy: 0.1374\n",
      "Epoch 21/50\n",
      "1182/1182 [==============================] - 3s 3ms/step - loss: 2.3577 - sparse_categorical_accuracy: 0.1057 - val_loss: 2.3603 - val_sparse_categorical_accuracy: 0.0948\n",
      "Epoch 22/50\n",
      "1182/1182 [==============================] - 3s 3ms/step - loss: 2.4492 - sparse_categorical_accuracy: 0.1058 - val_loss: 2.4703 - val_sparse_categorical_accuracy: 0.0843\n",
      "Epoch 23/50\n",
      "1182/1182 [==============================] - 3s 3ms/step - loss: 2.3887 - sparse_categorical_accuracy: 0.1015 - val_loss: 2.4776 - val_sparse_categorical_accuracy: 0.1067\n",
      "Epoch 24/50\n",
      "1182/1182 [==============================] - 3s 3ms/step - loss: 2.4044 - sparse_categorical_accuracy: 0.1014 - val_loss: 2.5340 - val_sparse_categorical_accuracy: 0.0945\n",
      "Epoch 25/50\n",
      "1182/1182 [==============================] - 3s 3ms/step - loss: 2.4211 - sparse_categorical_accuracy: 0.1004 - val_loss: 2.4753 - val_sparse_categorical_accuracy: 0.1010\n",
      "Epoch 26/50\n",
      "1182/1182 [==============================] - 3s 3ms/step - loss: 2.4600 - sparse_categorical_accuracy: 0.1020 - val_loss: 2.6279 - val_sparse_categorical_accuracy: 0.1090\n",
      "Epoch 27/50\n",
      "1182/1182 [==============================] - 3s 3ms/step - loss: 2.5073 - sparse_categorical_accuracy: 0.1011 - val_loss: 3.1218 - val_sparse_categorical_accuracy: 0.0933\n",
      "Epoch 28/50\n",
      "1182/1182 [==============================] - 3s 3ms/step - loss: 2.6184 - sparse_categorical_accuracy: 0.0985 - val_loss: 3.0740 - val_sparse_categorical_accuracy: 0.0945\n",
      "Epoch 29/50\n",
      "1182/1182 [==============================] - 3s 3ms/step - loss: 2.7786 - sparse_categorical_accuracy: 0.0994 - val_loss: 3.3124 - val_sparse_categorical_accuracy: 0.1067\n",
      "Epoch 30/50\n",
      "1182/1182 [==============================] - 3s 3ms/step - loss: 3.0532 - sparse_categorical_accuracy: 0.1057 - val_loss: 2.7386 - val_sparse_categorical_accuracy: 0.1002\n",
      "Epoch 31/50\n",
      "1182/1182 [==============================] - 3s 3ms/step - loss: 3.7402 - sparse_categorical_accuracy: 0.1014 - val_loss: 3.6230 - val_sparse_categorical_accuracy: 0.1083\n",
      "Epoch 32/50\n",
      "1182/1182 [==============================] - 3s 3ms/step - loss: 4.8365 - sparse_categorical_accuracy: 0.0971 - val_loss: 4.0179 - val_sparse_categorical_accuracy: 0.1090\n",
      "Epoch 33/50\n",
      "1182/1182 [==============================] - 3s 3ms/step - loss: 5.7512 - sparse_categorical_accuracy: 0.1035 - val_loss: 5.6902 - val_sparse_categorical_accuracy: 0.1090\n",
      "Epoch 34/50\n",
      "1182/1182 [==============================] - 3s 3ms/step - loss: 8.3832 - sparse_categorical_accuracy: 0.0992 - val_loss: 5.5002 - val_sparse_categorical_accuracy: 0.0933\n",
      "Epoch 35/50\n",
      "1182/1182 [==============================] - 3s 3ms/step - loss: 11.3420 - sparse_categorical_accuracy: 0.1019 - val_loss: 9.9613 - val_sparse_categorical_accuracy: 0.1010\n",
      "Epoch 36/50\n",
      "1182/1182 [==============================] - 3s 3ms/step - loss: 14.9279 - sparse_categorical_accuracy: 0.0979 - val_loss: 20.3599 - val_sparse_categorical_accuracy: 0.1010\n",
      "Epoch 37/50\n",
      "1182/1182 [==============================] - 3s 3ms/step - loss: 18.2528 - sparse_categorical_accuracy: 0.1000 - val_loss: 12.7420 - val_sparse_categorical_accuracy: 0.0843\n",
      "Epoch 38/50\n",
      "1182/1182 [==============================] - 3s 3ms/step - loss: 23.5588 - sparse_categorical_accuracy: 0.1016 - val_loss: 26.8633 - val_sparse_categorical_accuracy: 0.0983\n",
      "Epoch 39/50\n",
      "1182/1182 [==============================] - 3s 3ms/step - loss: 29.7121 - sparse_categorical_accuracy: 0.1008 - val_loss: 13.2987 - val_sparse_categorical_accuracy: 0.1090\n",
      "Epoch 40/50\n",
      "1182/1182 [==============================] - 3s 3ms/step - loss: 36.2429 - sparse_categorical_accuracy: 0.1004 - val_loss: 45.2869 - val_sparse_categorical_accuracy: 0.1083\n",
      "Epoch 41/50\n",
      "1182/1182 [==============================] - 3s 3ms/step - loss: 46.6193 - sparse_categorical_accuracy: 0.1013 - val_loss: 46.7004 - val_sparse_categorical_accuracy: 0.0933\n",
      "Epoch 42/50\n",
      "1182/1182 [==============================] - 3s 3ms/step - loss: 58.9796 - sparse_categorical_accuracy: 0.1005 - val_loss: 87.5473 - val_sparse_categorical_accuracy: 0.1002\n",
      "Epoch 43/50\n",
      "1182/1182 [==============================] - 3s 3ms/step - loss: 78.1726 - sparse_categorical_accuracy: 0.1012 - val_loss: 47.2520 - val_sparse_categorical_accuracy: 0.0983\n",
      "Epoch 44/50\n",
      "1182/1182 [==============================] - 3s 3ms/step - loss: 95.2197 - sparse_categorical_accuracy: 0.0975 - val_loss: 178.1345 - val_sparse_categorical_accuracy: 0.0843\n",
      "Epoch 45/50\n",
      "1182/1182 [==============================] - 3s 3ms/step - loss: 120.7568 - sparse_categorical_accuracy: 0.0996 - val_loss: 62.7519 - val_sparse_categorical_accuracy: 0.1010\n",
      "Epoch 46/50\n",
      "1182/1182 [==============================] - 3s 3ms/step - loss: 152.7085 - sparse_categorical_accuracy: 0.0987 - val_loss: 203.0603 - val_sparse_categorical_accuracy: 0.1067\n",
      "Epoch 47/50\n",
      "1182/1182 [==============================] - 3s 3ms/step - loss: 193.9605 - sparse_categorical_accuracy: 0.0989 - val_loss: 229.8277 - val_sparse_categorical_accuracy: 0.0983\n",
      "Epoch 48/50\n",
      "1182/1182 [==============================] - 3s 3ms/step - loss: 248.2275 - sparse_categorical_accuracy: 0.0974 - val_loss: 364.3527 - val_sparse_categorical_accuracy: 0.1043\n",
      "Epoch 49/50\n",
      "1182/1182 [==============================] - 3s 3ms/step - loss: 299.4113 - sparse_categorical_accuracy: 0.0985 - val_loss: 285.0596 - val_sparse_categorical_accuracy: 0.1083\n",
      "Epoch 50/50\n",
      "1182/1182 [==============================] - 3s 3ms/step - loss: 384.2315 - sparse_categorical_accuracy: 0.0979 - val_loss: 252.5031 - val_sparse_categorical_accuracy: 0.1067\n",
      "Best lr: 0.000100\n"
     ]
    },
    {
     "data": {
      "text/plain": [
       "0.00010000000000000007"
      ]
     },
     "execution_count": 137,
     "metadata": {},
     "output_type": "execute_result"
    },
    {
     "data": {
      "image/png": "[encoded data removed]",
      "text/plain": [
       "<Figure size 432x288 with 1 Axes>"
      ]
     },
     "metadata": {
      "needs_background": "light"
     },
     "output_type": "display_data"
    }
   ],
   "source": [
    "# Todo hyperopt\n",
    "# Todo try to reach 0.98 with a shallow ml perceptron\n",
    "def best_const_lr():\n",
    "    def find_best_const_lr():\n",
    "        # if n_steps is large enough, best lr is about 1e-4\n",
    "        n_steps = 50\n",
    "        def lr_scheduler(epoch):\n",
    "            lr0 = math.pow(10, -4)\n",
    "            lr_final = 10\n",
    "            step = (lr_final / lr0)**(n_steps**-1) # take root of n_steps from difference between start and stop\n",
    "            if epoch == 1: \n",
    "                return lr0\n",
    "            lr = lr0 * math.pow(step, epoch)\n",
    "            return lr\n",
    "\n",
    "        lr_scheduler_callback = keras.callbacks.LearningRateScheduler(lr_scheduler)\n",
    "        history = seq_baseline_build().fit(X, y_sparse, epochs=n_steps, validation_split=args.val_fraction, \n",
    "                                           callbacks=[lr_scheduler_callback])\n",
    "\n",
    "        losses = history.history['loss']\n",
    "        lrs = [lr_scheduler(epoch) for epoch in range(1, n_steps + 1)]\n",
    "        plt.plot(lrs, losses)\n",
    "        plt.xscale('log')\n",
    "        best_lr = lr_scheduler(np.argmin(losses)) / 10\n",
    "        print('Best lr: %f' % best_lr)\n",
    "        return best_lr\n",
    "\n",
    "    best_lr = find_best_const_lr()\n",
    "    model = seq_baseline_build(lr=0.0001)\n",
    "    history = model.fit(X, y_sparse, epochs=args.epochs, validation_split=args.val_fraction)\n",
    "    predictions = np.argmax(model.predict(X_test), axis=-1)\n",
    "    csv_sparse_predictions(predictions, 'experiments-best-const-lr.csv')\n",
    "best_const_lr()"
   ]
  },
  {
   "cell_type": "markdown",
   "metadata": {},
   "source": [
    "#### Best const lr\n",
    "| Approach | Model  | Test score  | CV mean score |\n",
    "|---|---|---|---|\n",
    "| Best const lr | lr=0.0001 | 0.96600 | 0.9686 |"
   ]
  }
 ],
 "metadata": {
  "kernelspec": {
   "display_name": "Python 3",
   "language": "python",
   "name": "python3"
  },
  "language_info": {
   "codemirror_mode": {
    "name": "ipython",
    "version": 3
   },
   "file_extension": ".py",
   "mimetype": "text/x-python",
   "name": "python",
   "nbconvert_exporter": "python",
   "pygments_lexer": "ipython3",
   "version": "3.8.6"
  }
 },
 "nbformat": 4,
 "nbformat_minor": 2
}
