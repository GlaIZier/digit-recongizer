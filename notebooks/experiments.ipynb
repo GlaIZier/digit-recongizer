{
 "cells": [
  {
   "cell_type": "markdown",
   "metadata": {},
   "source": [
    "# Experiments"
   ]
  },
  {
   "cell_type": "markdown",
   "metadata": {},
   "source": [
    "## Load data"
   ]
  },
  {
   "cell_type": "code",
   "execution_count": 1,
   "metadata": {},
   "outputs": [
    {
     "data": {
      "text/plain": [
       "'2.4.1'"
      ]
     },
     "execution_count": 1,
     "metadata": {},
     "output_type": "execute_result"
    }
   ],
   "source": [
    "import logging\n",
    "import tensorflow as tf\n",
    "\n",
    "logging.basicConfig(format='%(asctime)s : %(levelname)s : %(message)s', level=logging.INFO)\n",
    "log = logging.getLogger()\n",
    "\n",
    "%config Completer.use_jedi = False # make autocompletion works in jupyter\n",
    "\n",
    "tf.__version__"
   ]
  },
  {
   "cell_type": "code",
   "execution_count": 86,
   "metadata": {},
   "outputs": [],
   "source": [
    "import numpy as np\n",
    "import pandas as pd\n",
    "from pathlib import Path\n",
    "\n",
    "import argparse\n",
    "args = argparse.Namespace()\n",
    "args.raw_train = pd.read_csv('../data/train.csv.zip')\n",
    "args.raw_test = pd.read_csv('../data/test.csv.zip')\n",
    "args.predictions_folder = Path('../predictions')\n",
    "args.n_splits = 5\n",
    "args.n_jobs = 3\n",
    "args.seed = 101\n",
    "args.val_fraction=0.1\n",
    "args.epochs = 50\n",
    "\n",
    "args.train = args.raw_train.iloc[:, 1:].copy()\n",
    "args.labels = args.raw_train['label'].copy()\n",
    "args.test = args.raw_test.copy()\n",
    "\n",
    "\n",
    "args.predictions_folder.mkdir(parents=True, exist_ok=True) "
   ]
  },
  {
   "cell_type": "code",
   "execution_count": 3,
   "metadata": {},
   "outputs": [
    {
     "data": {
      "text/html": [
       "<div>\n",
       "<style scoped>\n",
       "    .dataframe tbody tr th:only-of-type {\n",
       "        vertical-align: middle;\n",
       "    }\n",
       "\n",
       "    .dataframe tbody tr th {\n",
       "        vertical-align: top;\n",
       "    }\n",
       "\n",
       "    .dataframe thead th {\n",
       "        text-align: right;\n",
       "    }\n",
       "</style>\n",
       "<table border=\"1\" class=\"dataframe\">\n",
       "  <thead>\n",
       "    <tr style=\"text-align: right;\">\n",
       "      <th></th>\n",
       "      <th>label</th>\n",
       "      <th>pixel0</th>\n",
       "      <th>pixel1</th>\n",
       "      <th>pixel2</th>\n",
       "      <th>pixel3</th>\n",
       "      <th>pixel4</th>\n",
       "      <th>pixel5</th>\n",
       "      <th>pixel6</th>\n",
       "      <th>pixel7</th>\n",
       "      <th>pixel8</th>\n",
       "      <th>...</th>\n",
       "      <th>pixel774</th>\n",
       "      <th>pixel775</th>\n",
       "      <th>pixel776</th>\n",
       "      <th>pixel777</th>\n",
       "      <th>pixel778</th>\n",
       "      <th>pixel779</th>\n",
       "      <th>pixel780</th>\n",
       "      <th>pixel781</th>\n",
       "      <th>pixel782</th>\n",
       "      <th>pixel783</th>\n",
       "    </tr>\n",
       "  </thead>\n",
       "  <tbody>\n",
       "    <tr>\n",
       "      <th>0</th>\n",
       "      <td>1</td>\n",
       "      <td>0</td>\n",
       "      <td>0</td>\n",
       "      <td>0</td>\n",
       "      <td>0</td>\n",
       "      <td>0</td>\n",
       "      <td>0</td>\n",
       "      <td>0</td>\n",
       "      <td>0</td>\n",
       "      <td>0</td>\n",
       "      <td>...</td>\n",
       "      <td>0</td>\n",
       "      <td>0</td>\n",
       "      <td>0</td>\n",
       "      <td>0</td>\n",
       "      <td>0</td>\n",
       "      <td>0</td>\n",
       "      <td>0</td>\n",
       "      <td>0</td>\n",
       "      <td>0</td>\n",
       "      <td>0</td>\n",
       "    </tr>\n",
       "    <tr>\n",
       "      <th>1</th>\n",
       "      <td>0</td>\n",
       "      <td>0</td>\n",
       "      <td>0</td>\n",
       "      <td>0</td>\n",
       "      <td>0</td>\n",
       "      <td>0</td>\n",
       "      <td>0</td>\n",
       "      <td>0</td>\n",
       "      <td>0</td>\n",
       "      <td>0</td>\n",
       "      <td>...</td>\n",
       "      <td>0</td>\n",
       "      <td>0</td>\n",
       "      <td>0</td>\n",
       "      <td>0</td>\n",
       "      <td>0</td>\n",
       "      <td>0</td>\n",
       "      <td>0</td>\n",
       "      <td>0</td>\n",
       "      <td>0</td>\n",
       "      <td>0</td>\n",
       "    </tr>\n",
       "    <tr>\n",
       "      <th>2</th>\n",
       "      <td>1</td>\n",
       "      <td>0</td>\n",
       "      <td>0</td>\n",
       "      <td>0</td>\n",
       "      <td>0</td>\n",
       "      <td>0</td>\n",
       "      <td>0</td>\n",
       "      <td>0</td>\n",
       "      <td>0</td>\n",
       "      <td>0</td>\n",
       "      <td>...</td>\n",
       "      <td>0</td>\n",
       "      <td>0</td>\n",
       "      <td>0</td>\n",
       "      <td>0</td>\n",
       "      <td>0</td>\n",
       "      <td>0</td>\n",
       "      <td>0</td>\n",
       "      <td>0</td>\n",
       "      <td>0</td>\n",
       "      <td>0</td>\n",
       "    </tr>\n",
       "    <tr>\n",
       "      <th>3</th>\n",
       "      <td>4</td>\n",
       "      <td>0</td>\n",
       "      <td>0</td>\n",
       "      <td>0</td>\n",
       "      <td>0</td>\n",
       "      <td>0</td>\n",
       "      <td>0</td>\n",
       "      <td>0</td>\n",
       "      <td>0</td>\n",
       "      <td>0</td>\n",
       "      <td>...</td>\n",
       "      <td>0</td>\n",
       "      <td>0</td>\n",
       "      <td>0</td>\n",
       "      <td>0</td>\n",
       "      <td>0</td>\n",
       "      <td>0</td>\n",
       "      <td>0</td>\n",
       "      <td>0</td>\n",
       "      <td>0</td>\n",
       "      <td>0</td>\n",
       "    </tr>\n",
       "    <tr>\n",
       "      <th>4</th>\n",
       "      <td>0</td>\n",
       "      <td>0</td>\n",
       "      <td>0</td>\n",
       "      <td>0</td>\n",
       "      <td>0</td>\n",
       "      <td>0</td>\n",
       "      <td>0</td>\n",
       "      <td>0</td>\n",
       "      <td>0</td>\n",
       "      <td>0</td>\n",
       "      <td>...</td>\n",
       "      <td>0</td>\n",
       "      <td>0</td>\n",
       "      <td>0</td>\n",
       "      <td>0</td>\n",
       "      <td>0</td>\n",
       "      <td>0</td>\n",
       "      <td>0</td>\n",
       "      <td>0</td>\n",
       "      <td>0</td>\n",
       "      <td>0</td>\n",
       "    </tr>\n",
       "  </tbody>\n",
       "</table>\n",
       "<p>5 rows × 785 columns</p>\n",
       "</div>"
      ],
      "text/plain": [
       "   label  pixel0  pixel1  pixel2  pixel3  pixel4  pixel5  pixel6  pixel7  \\\n",
       "0      1       0       0       0       0       0       0       0       0   \n",
       "1      0       0       0       0       0       0       0       0       0   \n",
       "2      1       0       0       0       0       0       0       0       0   \n",
       "3      4       0       0       0       0       0       0       0       0   \n",
       "4      0       0       0       0       0       0       0       0       0   \n",
       "\n",
       "   pixel8  ...  pixel774  pixel775  pixel776  pixel777  pixel778  pixel779  \\\n",
       "0       0  ...         0         0         0         0         0         0   \n",
       "1       0  ...         0         0         0         0         0         0   \n",
       "2       0  ...         0         0         0         0         0         0   \n",
       "3       0  ...         0         0         0         0         0         0   \n",
       "4       0  ...         0         0         0         0         0         0   \n",
       "\n",
       "   pixel780  pixel781  pixel782  pixel783  \n",
       "0         0         0         0         0  \n",
       "1         0         0         0         0  \n",
       "2         0         0         0         0  \n",
       "3         0         0         0         0  \n",
       "4         0         0         0         0  \n",
       "\n",
       "[5 rows x 785 columns]"
      ]
     },
     "execution_count": 3,
     "metadata": {},
     "output_type": "execute_result"
    }
   ],
   "source": [
    "args.raw_train.head()"
   ]
  },
  {
   "cell_type": "code",
   "execution_count": 4,
   "metadata": {},
   "outputs": [
    {
     "data": {
      "text/html": [
       "<div>\n",
       "<style scoped>\n",
       "    .dataframe tbody tr th:only-of-type {\n",
       "        vertical-align: middle;\n",
       "    }\n",
       "\n",
       "    .dataframe tbody tr th {\n",
       "        vertical-align: top;\n",
       "    }\n",
       "\n",
       "    .dataframe thead th {\n",
       "        text-align: right;\n",
       "    }\n",
       "</style>\n",
       "<table border=\"1\" class=\"dataframe\">\n",
       "  <thead>\n",
       "    <tr style=\"text-align: right;\">\n",
       "      <th></th>\n",
       "      <th>pixel0</th>\n",
       "      <th>pixel1</th>\n",
       "      <th>pixel2</th>\n",
       "      <th>pixel3</th>\n",
       "      <th>pixel4</th>\n",
       "      <th>pixel5</th>\n",
       "      <th>pixel6</th>\n",
       "      <th>pixel7</th>\n",
       "      <th>pixel8</th>\n",
       "      <th>pixel9</th>\n",
       "      <th>...</th>\n",
       "      <th>pixel774</th>\n",
       "      <th>pixel775</th>\n",
       "      <th>pixel776</th>\n",
       "      <th>pixel777</th>\n",
       "      <th>pixel778</th>\n",
       "      <th>pixel779</th>\n",
       "      <th>pixel780</th>\n",
       "      <th>pixel781</th>\n",
       "      <th>pixel782</th>\n",
       "      <th>pixel783</th>\n",
       "    </tr>\n",
       "  </thead>\n",
       "  <tbody>\n",
       "    <tr>\n",
       "      <th>0</th>\n",
       "      <td>0</td>\n",
       "      <td>0</td>\n",
       "      <td>0</td>\n",
       "      <td>0</td>\n",
       "      <td>0</td>\n",
       "      <td>0</td>\n",
       "      <td>0</td>\n",
       "      <td>0</td>\n",
       "      <td>0</td>\n",
       "      <td>0</td>\n",
       "      <td>...</td>\n",
       "      <td>0</td>\n",
       "      <td>0</td>\n",
       "      <td>0</td>\n",
       "      <td>0</td>\n",
       "      <td>0</td>\n",
       "      <td>0</td>\n",
       "      <td>0</td>\n",
       "      <td>0</td>\n",
       "      <td>0</td>\n",
       "      <td>0</td>\n",
       "    </tr>\n",
       "    <tr>\n",
       "      <th>1</th>\n",
       "      <td>0</td>\n",
       "      <td>0</td>\n",
       "      <td>0</td>\n",
       "      <td>0</td>\n",
       "      <td>0</td>\n",
       "      <td>0</td>\n",
       "      <td>0</td>\n",
       "      <td>0</td>\n",
       "      <td>0</td>\n",
       "      <td>0</td>\n",
       "      <td>...</td>\n",
       "      <td>0</td>\n",
       "      <td>0</td>\n",
       "      <td>0</td>\n",
       "      <td>0</td>\n",
       "      <td>0</td>\n",
       "      <td>0</td>\n",
       "      <td>0</td>\n",
       "      <td>0</td>\n",
       "      <td>0</td>\n",
       "      <td>0</td>\n",
       "    </tr>\n",
       "    <tr>\n",
       "      <th>2</th>\n",
       "      <td>0</td>\n",
       "      <td>0</td>\n",
       "      <td>0</td>\n",
       "      <td>0</td>\n",
       "      <td>0</td>\n",
       "      <td>0</td>\n",
       "      <td>0</td>\n",
       "      <td>0</td>\n",
       "      <td>0</td>\n",
       "      <td>0</td>\n",
       "      <td>...</td>\n",
       "      <td>0</td>\n",
       "      <td>0</td>\n",
       "      <td>0</td>\n",
       "      <td>0</td>\n",
       "      <td>0</td>\n",
       "      <td>0</td>\n",
       "      <td>0</td>\n",
       "      <td>0</td>\n",
       "      <td>0</td>\n",
       "      <td>0</td>\n",
       "    </tr>\n",
       "    <tr>\n",
       "      <th>3</th>\n",
       "      <td>0</td>\n",
       "      <td>0</td>\n",
       "      <td>0</td>\n",
       "      <td>0</td>\n",
       "      <td>0</td>\n",
       "      <td>0</td>\n",
       "      <td>0</td>\n",
       "      <td>0</td>\n",
       "      <td>0</td>\n",
       "      <td>0</td>\n",
       "      <td>...</td>\n",
       "      <td>0</td>\n",
       "      <td>0</td>\n",
       "      <td>0</td>\n",
       "      <td>0</td>\n",
       "      <td>0</td>\n",
       "      <td>0</td>\n",
       "      <td>0</td>\n",
       "      <td>0</td>\n",
       "      <td>0</td>\n",
       "      <td>0</td>\n",
       "    </tr>\n",
       "    <tr>\n",
       "      <th>4</th>\n",
       "      <td>0</td>\n",
       "      <td>0</td>\n",
       "      <td>0</td>\n",
       "      <td>0</td>\n",
       "      <td>0</td>\n",
       "      <td>0</td>\n",
       "      <td>0</td>\n",
       "      <td>0</td>\n",
       "      <td>0</td>\n",
       "      <td>0</td>\n",
       "      <td>...</td>\n",
       "      <td>0</td>\n",
       "      <td>0</td>\n",
       "      <td>0</td>\n",
       "      <td>0</td>\n",
       "      <td>0</td>\n",
       "      <td>0</td>\n",
       "      <td>0</td>\n",
       "      <td>0</td>\n",
       "      <td>0</td>\n",
       "      <td>0</td>\n",
       "    </tr>\n",
       "  </tbody>\n",
       "</table>\n",
       "<p>5 rows × 784 columns</p>\n",
       "</div>"
      ],
      "text/plain": [
       "   pixel0  pixel1  pixel2  pixel3  pixel4  pixel5  pixel6  pixel7  pixel8  \\\n",
       "0       0       0       0       0       0       0       0       0       0   \n",
       "1       0       0       0       0       0       0       0       0       0   \n",
       "2       0       0       0       0       0       0       0       0       0   \n",
       "3       0       0       0       0       0       0       0       0       0   \n",
       "4       0       0       0       0       0       0       0       0       0   \n",
       "\n",
       "   pixel9  ...  pixel774  pixel775  pixel776  pixel777  pixel778  pixel779  \\\n",
       "0       0  ...         0         0         0         0         0         0   \n",
       "1       0  ...         0         0         0         0         0         0   \n",
       "2       0  ...         0         0         0         0         0         0   \n",
       "3       0  ...         0         0         0         0         0         0   \n",
       "4       0  ...         0         0         0         0         0         0   \n",
       "\n",
       "   pixel780  pixel781  pixel782  pixel783  \n",
       "0         0         0         0         0  \n",
       "1         0         0         0         0  \n",
       "2         0         0         0         0  \n",
       "3         0         0         0         0  \n",
       "4         0         0         0         0  \n",
       "\n",
       "[5 rows x 784 columns]"
      ]
     },
     "execution_count": 4,
     "metadata": {},
     "output_type": "execute_result"
    }
   ],
   "source": [
    "args.raw_test.head()"
   ]
  },
  {
   "cell_type": "code",
   "execution_count": 5,
   "metadata": {},
   "outputs": [],
   "source": [
    "# OO-style image rendering\n",
    "def draw_digit(pixels_2d, label=None, size_inches=None):\n",
    "    fig, ax = plt.subplots()\n",
    "    if label is not None:\n",
    "        ax.set_title(label)\n",
    "    if size_inches:\n",
    "        fig.set_size_inches(size_inches[0], size_inches[1])\n",
    "    imgplot = ax.imshow(pixels_2d)"
   ]
  },
  {
   "cell_type": "code",
   "execution_count": 6,
   "metadata": {},
   "outputs": [
    {
     "data": {
      "image/png": "[encoded data removed]",
      "text/plain": [
       "<Figure size 432x288 with 1 Axes>"
      ]
     },
     "metadata": {
      "needs_background": "light"
     },
     "output_type": "display_data"
    }
   ],
   "source": [
    "# Matlbab state-based style of image rendering \n",
    "import matplotlib.pyplot as plt\n",
    "import matplotlib.image as mpimg\n",
    "import random\n",
    "\n",
    "random_row = random.randrange(0, args.raw_train.shape[0], 1) \n",
    "title = args.raw_train.iloc[random_row, 0]\n",
    "plt.title(title)\n",
    "imgplot = plt.imshow(args.raw_train.iloc[random_row, 1:].to_numpy().reshape(28, 28))"
   ]
  },
  {
   "cell_type": "code",
   "execution_count": 7,
   "metadata": {},
   "outputs": [
    {
     "name": "stderr",
     "output_type": "stream",
     "text": [
      "2021-02-02 15:59:46,132 : INFO : X.shape: (42000, 28, 28, 1)\n",
      "2021-02-02 15:59:46,132 : INFO : X[0][14][14]: [254]\n",
      "2021-02-02 15:59:46,133 : INFO : y.shape: (42000, 10)\n",
      "2021-02-02 15:59:46,133 : INFO : y[0], [0 1 0 0 0 0 0 0 0 0]\n",
      "2021-02-02 15:59:46,138 : INFO : type of target y: 'multilabel-indicator'\n",
      "2021-02-02 15:59:46,139 : INFO : y_sparse.shape: (42000,)\n",
      "2021-02-02 15:59:46,139 : INFO : y_sparse: array([1, 0, 1, ..., 7, 6, 9])\n",
      "2021-02-02 15:59:46,140 : INFO : y_sparse[0]: 1\n",
      "2021-02-02 15:59:46,141 : INFO : type of target y_sparse: 'multiclass'\n"
     ]
    }
   ],
   "source": [
    "import sklearn.utils.multiclass\n",
    "\n",
    "X = args.train.to_numpy().reshape(args.train.shape[0], 28, 28, 1)\n",
    "y = pd.get_dummies(args.labels, prefix='label').to_numpy()\n",
    "y_sparse = args.labels.to_numpy()\n",
    "X_test = args.test.to_numpy().reshape(args.test.shape[0], 28, 28, 1)\n",
    "\n",
    "log.info('X.shape: %s', repr(X.shape))\n",
    "log.info('X[0][14][14]: %s', X[0][14][14])\n",
    "\n",
    "log.info('y.shape: %s', repr(y.shape))\n",
    "log.info('y[0], %s', y[0])\n",
    "log.info('type of target y: %s', repr(sklearn.utils.multiclass.type_of_target(y)))\n",
    "\n",
    "log.info('y_sparse.shape: %s', repr(y_sparse.shape))\n",
    "log.info('y_sparse: %s', repr(y_sparse))\n",
    "log.info('y_sparse[0]: %s', y_sparse[0])\n",
    "log.info('type of target y_sparse: %s', repr(sklearn.utils.multiclass.type_of_target(y_sparse)))\n",
    "\n",
    "def csv_sparse_predictions(predictions_sparse, filename):\n",
    "    image_ids = np.arange(1, len(predictions_sparse) + 1)\n",
    "    submission = pd.DataFrame({'ImageId': image_ids, 'Label': predictions_sparse})\n",
    "    filepath = args.predictions_folder/filename\n",
    "    \n",
    "    submission.to_csv(filepath, index=False)\n",
    "    log.info('Saved file: %s', filepath)"
   ]
  },
  {
   "cell_type": "markdown",
   "metadata": {},
   "source": [
    "## Experiments\n",
    "### Multioutput classification"
   ]
  },
  {
   "cell_type": "code",
   "execution_count": 8,
   "metadata": {},
   "outputs": [
    {
     "data": {
      "image/png": "[encoded data removed]",
      "text/plain": [
       "<Figure size 432x288 with 1 Axes>"
      ]
     },
     "metadata": {
      "needs_background": "light"
     },
     "output_type": "display_data"
    },
    {
     "data": {
      "image/png": "[encoded data removed]",
      "text/plain": [
       "<Figure size 432x288 with 1 Axes>"
      ]
     },
     "metadata": {
      "needs_background": "light"
     },
     "output_type": "display_data"
    }
   ],
   "source": [
    "from sklearn.model_selection import train_test_split\n",
    "from sklearn.neighbors import KNeighborsClassifier\n",
    "\n",
    "Y_train, Y_val, _, _ = train_test_split(X, y_sparse, test_size=0.25, random_state=42)\n",
    "Y_train = Y_train.reshape(len(Y_train), 28*28)\n",
    "Y_val = Y_val.reshape(len(Y_val), 28*28)\n",
    "draw_digit(Y_val[1].reshape(28, 28), label=\"original\")\n",
    "\n",
    "\n",
    "noise_X_train = np.random.randint(255, size=(len(Y_train), 28*28))\n",
    "X_train = Y_train + noise_X_train\n",
    "noise_X_val = np.random.randint(255, size=(len(Y_val), 28*28))\n",
    "X_val = Y_val + noise_X_val\n",
    "\n",
    "knn = KNeighborsClassifier()\n",
    "knn.fit(X_train, Y_train)\n",
    "cleared = knn.predict([X_val[1]])\n",
    "draw_digit(cleared.reshape(28, 28), label=\"predicted\")"
   ]
  },
  {
   "cell_type": "markdown",
   "metadata": {},
   "source": [
    "### Confusion matrix"
   ]
  },
  {
   "cell_type": "code",
   "execution_count": 9,
   "metadata": {},
   "outputs": [
    {
     "data": {
      "text/plain": [
       "array([[11,  0,  0,  0,  0,  0,  0,  0,  0,  0],\n",
       "       [ 0, 16,  0,  0,  0,  0,  0,  0,  0,  0],\n",
       "       [ 0,  0, 11,  0,  0,  1,  1,  0,  1,  0],\n",
       "       [ 0,  0,  0,  8,  0,  0,  0,  0,  1,  0],\n",
       "       [ 0,  0,  0,  0,  7,  0,  0,  0,  0,  0],\n",
       "       [ 0,  0,  0,  0,  0, 13,  0,  0,  0,  0],\n",
       "       [ 0,  0,  0,  0,  0,  0,  9,  0,  0,  0],\n",
       "       [ 0,  0,  0,  0,  0,  0,  0,  5,  0,  0],\n",
       "       [ 0,  0,  0,  0,  0,  1,  0,  0,  3,  0],\n",
       "       [ 0,  0,  0,  0,  0,  0,  0,  1,  0, 11]])"
      ]
     },
     "execution_count": 9,
     "metadata": {},
     "output_type": "execute_result"
    }
   ],
   "source": [
    "from sklearn.metrics import confusion_matrix\n",
    "from sklearn.model_selection import train_test_split\n",
    "from sklearn.svm import SVC\n",
    "X_train, X_val, y_train, y_val = train_test_split(X, y_sparse, test_size=0.95, random_state=args.seed)\n",
    "X_train = X_train.reshape(len(X_train), 28*28)\n",
    "X_val = X_val[:100].reshape(len(X_val[:100]), 28*28)\n",
    "y_val = y_val[:100]\n",
    "svc = SVC()\n",
    "svc.fit(X_train, y_train)\n",
    "svc.predict(X_val)\n",
    "\n",
    "confusion_matrix(y_val, svc.predict(X_val))"
   ]
  },
  {
   "cell_type": "markdown",
   "metadata": {},
   "source": [
    "### Basics\n",
    "### Sequential API baseline"
   ]
  },
  {
   "cell_type": "code",
   "execution_count": 84,
   "metadata": {},
   "outputs": [
    {
     "name": "stderr",
     "output_type": "stream",
     "text": [
      "2021-02-08 11:25:07,987 : INFO : None\n",
      "2021-02-08 11:25:07,988 : INFO : (300, 100)\n"
     ]
    },
    {
     "name": "stdout",
     "output_type": "stream",
     "text": [
      "Model: \"sequential_15\"\n",
      "_________________________________________________________________\n",
      "Layer (type)                 Output Shape              Param #   \n",
      "=================================================================\n",
      "flatten_63 (Flatten)         (None, 784)               0         \n",
      "_________________________________________________________________\n",
      "dense_141 (Dense)            (None, 300)               235500    \n",
      "_________________________________________________________________\n",
      "dense_142 (Dense)            (None, 100)               30100     \n",
      "_________________________________________________________________\n",
      "dense_143 (Dense)            (None, 10)                1010      \n",
      "=================================================================\n",
      "Total params: 266,610\n",
      "Trainable params: 266,610\n",
      "Non-trainable params: 0\n",
      "_________________________________________________________________\n",
      "Epoch 1/50\n",
      " 252/1182 [=====>........................] - ETA: 2s - loss: 13.3899 - sparse_categorical_accuracy: 0.7022"
     ]
    },
    {
     "ename": "KeyboardInterrupt",
     "evalue": "",
     "output_type": "error",
     "traceback": [
      "\u001b[0;31m---------------------------------------------------------------------------\u001b[0m",
      "\u001b[0;31mKeyboardInterrupt\u001b[0m                         Traceback (most recent call last)",
      "\u001b[0;32m<ipython-input-84-a87e4e06ddd0>\u001b[0m in \u001b[0;36m<module>\u001b[0;34m\u001b[0m\n\u001b[1;32m     51\u001b[0m \u001b[0;34m\u001b[0m\u001b[0m\n\u001b[1;32m     52\u001b[0m \u001b[0;34m\u001b[0m\u001b[0m\n\u001b[0;32m---> 53\u001b[0;31m \u001b[0mseq_baseline\u001b[0m\u001b[0;34m(\u001b[0m\u001b[0;34m)\u001b[0m\u001b[0;34m\u001b[0m\u001b[0;34m\u001b[0m\u001b[0m\n\u001b[0m",
      "\u001b[0;32m<ipython-input-84-a87e4e06ddd0>\u001b[0m in \u001b[0;36mseq_baseline\u001b[0;34m()\u001b[0m\n\u001b[1;32m     29\u001b[0m     \u001b[0mX_val\u001b[0m \u001b[0;34m=\u001b[0m \u001b[0mX\u001b[0m\u001b[0;34m[\u001b[0m\u001b[0mint\u001b[0m\u001b[0;34m(\u001b[0m\u001b[0;34m(\u001b[0m\u001b[0;36m1\u001b[0m\u001b[0;34m-\u001b[0m\u001b[0margs\u001b[0m\u001b[0;34m.\u001b[0m\u001b[0mval_fraction\u001b[0m\u001b[0;34m)\u001b[0m\u001b[0;34m*\u001b[0m\u001b[0mlen\u001b[0m\u001b[0;34m(\u001b[0m\u001b[0mX\u001b[0m\u001b[0;34m)\u001b[0m\u001b[0;34m)\u001b[0m\u001b[0;34m:\u001b[0m\u001b[0;34m,\u001b[0m \u001b[0;34m:\u001b[0m\u001b[0;34m,\u001b[0m \u001b[0;34m:\u001b[0m\u001b[0;34m,\u001b[0m \u001b[0;34m:\u001b[0m\u001b[0;34m]\u001b[0m\u001b[0;34m\u001b[0m\u001b[0;34m\u001b[0m\u001b[0m\n\u001b[1;32m     30\u001b[0m     \u001b[0my_sparse_val\u001b[0m \u001b[0;34m=\u001b[0m \u001b[0my_sparse\u001b[0m\u001b[0;34m[\u001b[0m\u001b[0mint\u001b[0m\u001b[0;34m(\u001b[0m\u001b[0;34m(\u001b[0m\u001b[0;36m1\u001b[0m\u001b[0;34m-\u001b[0m\u001b[0margs\u001b[0m\u001b[0;34m.\u001b[0m\u001b[0mval_fraction\u001b[0m\u001b[0;34m)\u001b[0m\u001b[0;34m*\u001b[0m\u001b[0mlen\u001b[0m\u001b[0;34m(\u001b[0m\u001b[0my\u001b[0m\u001b[0;34m)\u001b[0m\u001b[0;34m)\u001b[0m\u001b[0;34m:\u001b[0m\u001b[0;34m]\u001b[0m\u001b[0;34m\u001b[0m\u001b[0;34m\u001b[0m\u001b[0m\n\u001b[0;32m---> 31\u001b[0;31m     \u001b[0mhistory\u001b[0m \u001b[0;34m=\u001b[0m \u001b[0mmodel\u001b[0m\u001b[0;34m.\u001b[0m\u001b[0mfit\u001b[0m\u001b[0;34m(\u001b[0m\u001b[0mX_train\u001b[0m\u001b[0;34m,\u001b[0m \u001b[0my_sparse_train\u001b[0m\u001b[0;34m,\u001b[0m \u001b[0mepochs\u001b[0m\u001b[0;34m=\u001b[0m\u001b[0;36m50\u001b[0m\u001b[0;34m,\u001b[0m \u001b[0mvalidation_data\u001b[0m\u001b[0;34m=\u001b[0m\u001b[0;34m(\u001b[0m\u001b[0mX_val\u001b[0m\u001b[0;34m,\u001b[0m \u001b[0my_sparse_val\u001b[0m\u001b[0;34m)\u001b[0m\u001b[0;34m)\u001b[0m\u001b[0;34m\u001b[0m\u001b[0;34m\u001b[0m\u001b[0m\n\u001b[0m\u001b[1;32m     32\u001b[0m \u001b[0;34m\u001b[0m\u001b[0m\n\u001b[1;32m     33\u001b[0m     \u001b[0mplot\u001b[0m\u001b[0;34m(\u001b[0m\u001b[0mhistory\u001b[0m\u001b[0;34m)\u001b[0m\u001b[0;34m\u001b[0m\u001b[0;34m\u001b[0m\u001b[0m\n",
      "\u001b[0;32m~/github/digit-recongizer/.venv/lib/python3.8/site-packages/tensorflow/python/keras/engine/training.py\u001b[0m in \u001b[0;36mfit\u001b[0;34m(self, x, y, batch_size, epochs, verbose, callbacks, validation_split, validation_data, shuffle, class_weight, sample_weight, initial_epoch, steps_per_epoch, validation_steps, validation_batch_size, validation_freq, max_queue_size, workers, use_multiprocessing)\u001b[0m\n\u001b[1;32m   1098\u001b[0m                 _r=1):\n\u001b[1;32m   1099\u001b[0m               \u001b[0mcallbacks\u001b[0m\u001b[0;34m.\u001b[0m\u001b[0mon_train_batch_begin\u001b[0m\u001b[0;34m(\u001b[0m\u001b[0mstep\u001b[0m\u001b[0;34m)\u001b[0m\u001b[0;34m\u001b[0m\u001b[0;34m\u001b[0m\u001b[0m\n\u001b[0;32m-> 1100\u001b[0;31m               \u001b[0mtmp_logs\u001b[0m \u001b[0;34m=\u001b[0m \u001b[0mself\u001b[0m\u001b[0;34m.\u001b[0m\u001b[0mtrain_function\u001b[0m\u001b[0;34m(\u001b[0m\u001b[0miterator\u001b[0m\u001b[0;34m)\u001b[0m\u001b[0;34m\u001b[0m\u001b[0;34m\u001b[0m\u001b[0m\n\u001b[0m\u001b[1;32m   1101\u001b[0m               \u001b[0;32mif\u001b[0m \u001b[0mdata_handler\u001b[0m\u001b[0;34m.\u001b[0m\u001b[0mshould_sync\u001b[0m\u001b[0;34m:\u001b[0m\u001b[0;34m\u001b[0m\u001b[0;34m\u001b[0m\u001b[0m\n\u001b[1;32m   1102\u001b[0m                 \u001b[0mcontext\u001b[0m\u001b[0;34m.\u001b[0m\u001b[0masync_wait\u001b[0m\u001b[0;34m(\u001b[0m\u001b[0;34m)\u001b[0m\u001b[0;34m\u001b[0m\u001b[0;34m\u001b[0m\u001b[0m\n",
      "\u001b[0;32m~/github/digit-recongizer/.venv/lib/python3.8/site-packages/tensorflow/python/eager/def_function.py\u001b[0m in \u001b[0;36m__call__\u001b[0;34m(self, *args, **kwds)\u001b[0m\n\u001b[1;32m    826\u001b[0m     \u001b[0mtracing_count\u001b[0m \u001b[0;34m=\u001b[0m \u001b[0mself\u001b[0m\u001b[0;34m.\u001b[0m\u001b[0mexperimental_get_tracing_count\u001b[0m\u001b[0;34m(\u001b[0m\u001b[0;34m)\u001b[0m\u001b[0;34m\u001b[0m\u001b[0;34m\u001b[0m\u001b[0m\n\u001b[1;32m    827\u001b[0m     \u001b[0;32mwith\u001b[0m \u001b[0mtrace\u001b[0m\u001b[0;34m.\u001b[0m\u001b[0mTrace\u001b[0m\u001b[0;34m(\u001b[0m\u001b[0mself\u001b[0m\u001b[0;34m.\u001b[0m\u001b[0m_name\u001b[0m\u001b[0;34m)\u001b[0m \u001b[0;32mas\u001b[0m \u001b[0mtm\u001b[0m\u001b[0;34m:\u001b[0m\u001b[0;34m\u001b[0m\u001b[0;34m\u001b[0m\u001b[0m\n\u001b[0;32m--> 828\u001b[0;31m       \u001b[0mresult\u001b[0m \u001b[0;34m=\u001b[0m \u001b[0mself\u001b[0m\u001b[0;34m.\u001b[0m\u001b[0m_call\u001b[0m\u001b[0;34m(\u001b[0m\u001b[0;34m*\u001b[0m\u001b[0margs\u001b[0m\u001b[0;34m,\u001b[0m \u001b[0;34m**\u001b[0m\u001b[0mkwds\u001b[0m\u001b[0;34m)\u001b[0m\u001b[0;34m\u001b[0m\u001b[0;34m\u001b[0m\u001b[0m\n\u001b[0m\u001b[1;32m    829\u001b[0m       \u001b[0mcompiler\u001b[0m \u001b[0;34m=\u001b[0m \u001b[0;34m\"xla\"\u001b[0m \u001b[0;32mif\u001b[0m \u001b[0mself\u001b[0m\u001b[0;34m.\u001b[0m\u001b[0m_experimental_compile\u001b[0m \u001b[0;32melse\u001b[0m \u001b[0;34m\"nonXla\"\u001b[0m\u001b[0;34m\u001b[0m\u001b[0;34m\u001b[0m\u001b[0m\n\u001b[1;32m    830\u001b[0m       \u001b[0mnew_tracing_count\u001b[0m \u001b[0;34m=\u001b[0m \u001b[0mself\u001b[0m\u001b[0;34m.\u001b[0m\u001b[0mexperimental_get_tracing_count\u001b[0m\u001b[0;34m(\u001b[0m\u001b[0;34m)\u001b[0m\u001b[0;34m\u001b[0m\u001b[0;34m\u001b[0m\u001b[0m\n",
      "\u001b[0;32m~/github/digit-recongizer/.venv/lib/python3.8/site-packages/tensorflow/python/eager/def_function.py\u001b[0m in \u001b[0;36m_call\u001b[0;34m(self, *args, **kwds)\u001b[0m\n\u001b[1;32m    853\u001b[0m       \u001b[0;31m# In this case we have created variables on the first call, so we run the\u001b[0m\u001b[0;34m\u001b[0m\u001b[0;34m\u001b[0m\u001b[0;34m\u001b[0m\u001b[0m\n\u001b[1;32m    854\u001b[0m       \u001b[0;31m# defunned version which is guaranteed to never create variables.\u001b[0m\u001b[0;34m\u001b[0m\u001b[0;34m\u001b[0m\u001b[0;34m\u001b[0m\u001b[0m\n\u001b[0;32m--> 855\u001b[0;31m       \u001b[0;32mreturn\u001b[0m \u001b[0mself\u001b[0m\u001b[0;34m.\u001b[0m\u001b[0m_stateless_fn\u001b[0m\u001b[0;34m(\u001b[0m\u001b[0;34m*\u001b[0m\u001b[0margs\u001b[0m\u001b[0;34m,\u001b[0m \u001b[0;34m**\u001b[0m\u001b[0mkwds\u001b[0m\u001b[0;34m)\u001b[0m  \u001b[0;31m# pylint: disable=not-callable\u001b[0m\u001b[0;34m\u001b[0m\u001b[0;34m\u001b[0m\u001b[0m\n\u001b[0m\u001b[1;32m    856\u001b[0m     \u001b[0;32melif\u001b[0m \u001b[0mself\u001b[0m\u001b[0;34m.\u001b[0m\u001b[0m_stateful_fn\u001b[0m \u001b[0;32mis\u001b[0m \u001b[0;32mnot\u001b[0m \u001b[0;32mNone\u001b[0m\u001b[0;34m:\u001b[0m\u001b[0;34m\u001b[0m\u001b[0;34m\u001b[0m\u001b[0m\n\u001b[1;32m    857\u001b[0m       \u001b[0;31m# Release the lock early so that multiple threads can perform the call\u001b[0m\u001b[0;34m\u001b[0m\u001b[0;34m\u001b[0m\u001b[0;34m\u001b[0m\u001b[0m\n",
      "\u001b[0;32m~/github/digit-recongizer/.venv/lib/python3.8/site-packages/tensorflow/python/eager/function.py\u001b[0m in \u001b[0;36m__call__\u001b[0;34m(self, *args, **kwargs)\u001b[0m\n\u001b[1;32m   2940\u001b[0m       (graph_function,\n\u001b[1;32m   2941\u001b[0m        filtered_flat_args) = self._maybe_define_function(args, kwargs)\n\u001b[0;32m-> 2942\u001b[0;31m     return graph_function._call_flat(\n\u001b[0m\u001b[1;32m   2943\u001b[0m         filtered_flat_args, captured_inputs=graph_function.captured_inputs)  # pylint: disable=protected-access\n\u001b[1;32m   2944\u001b[0m \u001b[0;34m\u001b[0m\u001b[0m\n",
      "\u001b[0;32m~/github/digit-recongizer/.venv/lib/python3.8/site-packages/tensorflow/python/eager/function.py\u001b[0m in \u001b[0;36m_call_flat\u001b[0;34m(self, args, captured_inputs, cancellation_manager)\u001b[0m\n\u001b[1;32m   1916\u001b[0m         and executing_eagerly):\n\u001b[1;32m   1917\u001b[0m       \u001b[0;31m# No tape is watching; skip to running the function.\u001b[0m\u001b[0;34m\u001b[0m\u001b[0;34m\u001b[0m\u001b[0;34m\u001b[0m\u001b[0m\n\u001b[0;32m-> 1918\u001b[0;31m       return self._build_call_outputs(self._inference_function.call(\n\u001b[0m\u001b[1;32m   1919\u001b[0m           ctx, args, cancellation_manager=cancellation_manager))\n\u001b[1;32m   1920\u001b[0m     forward_backward = self._select_forward_and_backward_functions(\n",
      "\u001b[0;32m~/github/digit-recongizer/.venv/lib/python3.8/site-packages/tensorflow/python/eager/function.py\u001b[0m in \u001b[0;36mcall\u001b[0;34m(self, ctx, args, cancellation_manager)\u001b[0m\n\u001b[1;32m    553\u001b[0m       \u001b[0;32mwith\u001b[0m \u001b[0m_InterpolateFunctionError\u001b[0m\u001b[0;34m(\u001b[0m\u001b[0mself\u001b[0m\u001b[0;34m)\u001b[0m\u001b[0;34m:\u001b[0m\u001b[0;34m\u001b[0m\u001b[0;34m\u001b[0m\u001b[0m\n\u001b[1;32m    554\u001b[0m         \u001b[0;32mif\u001b[0m \u001b[0mcancellation_manager\u001b[0m \u001b[0;32mis\u001b[0m \u001b[0;32mNone\u001b[0m\u001b[0;34m:\u001b[0m\u001b[0;34m\u001b[0m\u001b[0;34m\u001b[0m\u001b[0m\n\u001b[0;32m--> 555\u001b[0;31m           outputs = execute.execute(\n\u001b[0m\u001b[1;32m    556\u001b[0m               \u001b[0mstr\u001b[0m\u001b[0;34m(\u001b[0m\u001b[0mself\u001b[0m\u001b[0;34m.\u001b[0m\u001b[0msignature\u001b[0m\u001b[0;34m.\u001b[0m\u001b[0mname\u001b[0m\u001b[0;34m)\u001b[0m\u001b[0;34m,\u001b[0m\u001b[0;34m\u001b[0m\u001b[0;34m\u001b[0m\u001b[0m\n\u001b[1;32m    557\u001b[0m               \u001b[0mnum_outputs\u001b[0m\u001b[0;34m=\u001b[0m\u001b[0mself\u001b[0m\u001b[0;34m.\u001b[0m\u001b[0m_num_outputs\u001b[0m\u001b[0;34m,\u001b[0m\u001b[0;34m\u001b[0m\u001b[0;34m\u001b[0m\u001b[0m\n",
      "\u001b[0;32m~/github/digit-recongizer/.venv/lib/python3.8/site-packages/tensorflow/python/eager/execute.py\u001b[0m in \u001b[0;36mquick_execute\u001b[0;34m(op_name, num_outputs, inputs, attrs, ctx, name)\u001b[0m\n\u001b[1;32m     57\u001b[0m   \u001b[0;32mtry\u001b[0m\u001b[0;34m:\u001b[0m\u001b[0;34m\u001b[0m\u001b[0;34m\u001b[0m\u001b[0m\n\u001b[1;32m     58\u001b[0m     \u001b[0mctx\u001b[0m\u001b[0;34m.\u001b[0m\u001b[0mensure_initialized\u001b[0m\u001b[0;34m(\u001b[0m\u001b[0;34m)\u001b[0m\u001b[0;34m\u001b[0m\u001b[0;34m\u001b[0m\u001b[0m\n\u001b[0;32m---> 59\u001b[0;31m     tensors = pywrap_tfe.TFE_Py_Execute(ctx._handle, device_name, op_name,\n\u001b[0m\u001b[1;32m     60\u001b[0m                                         inputs, attrs, num_outputs)\n\u001b[1;32m     61\u001b[0m   \u001b[0;32mexcept\u001b[0m \u001b[0mcore\u001b[0m\u001b[0;34m.\u001b[0m\u001b[0m_NotOkStatusException\u001b[0m \u001b[0;32mas\u001b[0m \u001b[0me\u001b[0m\u001b[0;34m:\u001b[0m\u001b[0;34m\u001b[0m\u001b[0;34m\u001b[0m\u001b[0m\n",
      "\u001b[0;31mKeyboardInterrupt\u001b[0m: "
     ]
    }
   ],
   "source": [
    "import keras\n",
    "from keras import layers \n",
    "\n",
    "def seq_baseline_build():\n",
    "    model = keras.models.Sequential()\n",
    "    model.add(keras.layers.Flatten(input_shape=[28, 28]))\n",
    "    model.add(keras.layers.Dense(300, activation='elu'))\n",
    "    model.add(keras.layers.Dense(100, activation='elu'))\n",
    "    model.add(keras.layers.Dense(10, activation='softmax'))\n",
    "\n",
    "    log.info(model.summary())\n",
    "    log.info(model.layers[2].get_weights()[0].shape)\n",
    "\n",
    "    model.compile(loss='sparse_categorical_crossentropy',\n",
    "                 optimizer=keras.optimizers.Nadam(),\n",
    "                 metrics=[keras.metrics.sparse_categorical_accuracy])\n",
    "    return model\n",
    "\n",
    "def plot(history):\n",
    "    pd.DataFrame(history.history).plot(figsize=(8, 5))\n",
    "    plt.grid(True)\n",
    "    plt.ylim(0, 1)\n",
    "    plt.show()\n",
    "\n",
    "def seq_baseline():\n",
    "    model = seq_baseline_build()\n",
    "    X_train = X[:int((1-args.val_fraction)*len(X)), :, :, :]\n",
    "    y_sparse_train = y_sparse[:int((1-args.val_fraction)*len(y))]\n",
    "    X_val = X[int((1-args.val_fraction)*len(X)):, :, :, :]\n",
    "    y_sparse_val = y_sparse[int((1-args.val_fraction)*len(y)):]\n",
    "    history = model.fit(X_train, y_sparse_train, epochs=50, validation_data=(X_val, y_sparse_val))\n",
    "    \n",
    "    plot(history)\n",
    "    predictions = np.argmax(model.predict(X_test), axis=-1)\n",
    "    csv_sparse_predictions(predictions, 'experiments-baseline.csv')\n",
    "    \n",
    "    # saving and loading models\n",
    "    model.save('experiments-seq-baseline.h5')\n",
    "    model_loaded = keras.models.load_model('experiments-seq-baseline.h5')\n",
    "    loaded_val_loss, loaded_val_acc = model_loaded.evaluate(X_val, y_sparse_val)\n",
    "    assert history.history['val_loss'][-1] == loaded_val_loss\n",
    "    assert history.history['val_sparse_categorical_accuracy'][-1] == loaded_val_acc\n",
    "    \n",
    "    model.save_weights('experiments-seq-baseline-weights.h5')\n",
    "    model.set_weights([np.zeros(layer_weights.shape) for layer_weights in model.get_weights()])\n",
    "    loaded_weights_val_loss, loaded_weights_val_acc = model.evaluate(X_val, y_sparse_val)\n",
    "    model.load_weights('experiments-seq-baseline-weights.h5')\n",
    "    loaded_weights_val_loss, loaded_weights_val_acc = model.evaluate(X_val, y_sparse_val)\n",
    "    assert history.history['val_loss'][-1] == loaded_weights_val_loss\n",
    "    assert history.history['val_sparse_categorical_accuracy'][-1] == loaded_weights_val_acc\n",
    "        \n",
    "    \n",
    "seq_baseline()"
   ]
  },
  {
   "cell_type": "markdown",
   "metadata": {},
   "source": [
    "#### Baseline result\n",
    "| Approach | Model  | Test score  | CV mean score |\n",
    "|---|---|---|---|\n",
    "| Baseline | 50 epochs | 0.96660 | 0.9738 |\n"
   ]
  },
  {
   "cell_type": "markdown",
   "metadata": {},
   "source": [
    "### Functional API. Arbitrary network"
   ]
  },
  {
   "cell_type": "code",
   "execution_count": 12,
   "metadata": {},
   "outputs": [
    {
     "name": "stderr",
     "output_type": "stream",
     "text": [
      "2021-02-02 16:02:36,554 : INFO : None\n"
     ]
    },
    {
     "name": "stdout",
     "output_type": "stream",
     "text": [
      "Model: \"model\"\n",
      "__________________________________________________________________________________________________\n",
      "Layer (type)                    Output Shape         Param #     Connected to                     \n",
      "==================================================================================================\n",
      "input_1 (InputLayer)            [(None, 28, 28, 1)]  0                                            \n",
      "__________________________________________________________________________________________________\n",
      "flatten_1 (Flatten)             (None, 784)          0           input_1[0][0]                    \n",
      "__________________________________________________________________________________________________\n",
      "input_2 (InputLayer)            [(None, 28, 28, 1)]  0                                            \n",
      "__________________________________________________________________________________________________\n",
      "dense_3 (Dense)                 (None, 300)          235500      flatten_1[0][0]                  \n",
      "__________________________________________________________________________________________________\n",
      "flatten_2 (Flatten)             (None, 784)          0           input_2[0][0]                    \n",
      "__________________________________________________________________________________________________\n",
      "dense_4 (Dense)                 (None, 100)          30100       dense_3[0][0]                    \n",
      "__________________________________________________________________________________________________\n",
      "concatenate (Concatenate)       (None, 884)          0           flatten_2[0][0]                  \n",
      "                                                                 dense_4[0][0]                    \n",
      "__________________________________________________________________________________________________\n",
      "dense_5 (Dense)                 (None, 10)           8850        concatenate[0][0]                \n",
      "__________________________________________________________________________________________________\n",
      "dense_6 (Dense)                 (None, 10)           1010        dense_4[0][0]                    \n",
      "==================================================================================================\n",
      "Total params: 275,460\n",
      "Trainable params: 275,460\n",
      "Non-trainable params: 0\n",
      "__________________________________________________________________________________________________\n",
      "Epoch 1/5\n",
      "1182/1182 [==============================] - 4s 3ms/step - loss: 15.9655 - dense_5_loss: 16.2769 - dense_6_loss: 13.1623 - dense_5_sparse_categorical_accuracy: 0.8034 - dense_6_sparse_categorical_accuracy: 0.7823 - val_loss: 5.8807 - val_dense_5_loss: 6.0885 - val_dense_6_loss: 4.0104 - val_dense_5_sparse_categorical_accuracy: 0.9095 - val_dense_6_sparse_categorical_accuracy: 0.9055\n",
      "Epoch 2/5\n",
      "1182/1182 [==============================] - 3s 3ms/step - loss: 3.0929 - dense_5_loss: 3.1817 - dense_6_loss: 2.2933 - dense_5_sparse_categorical_accuracy: 0.9427 - dense_6_sparse_categorical_accuracy: 0.9331 - val_loss: 10.8414 - val_dense_5_loss: 11.4132 - val_dense_6_loss: 5.6961 - val_dense_5_sparse_categorical_accuracy: 0.8693 - val_dense_6_sparse_categorical_accuracy: 0.8707\n",
      "Epoch 3/5\n",
      "1182/1182 [==============================] - 3s 3ms/step - loss: 2.5189 - dense_5_loss: 2.6097 - dense_6_loss: 1.7026 - dense_5_sparse_categorical_accuracy: 0.9542 - dense_6_sparse_categorical_accuracy: 0.9467 - val_loss: 3.9159 - val_dense_5_loss: 4.1388 - val_dense_6_loss: 1.9098 - val_dense_5_sparse_categorical_accuracy: 0.9479 - val_dense_6_sparse_categorical_accuracy: 0.9436\n",
      "Epoch 4/5\n",
      "1182/1182 [==============================] - 3s 3ms/step - loss: 2.1098 - dense_5_loss: 2.2020 - dense_6_loss: 1.2801 - dense_5_sparse_categorical_accuracy: 0.9649 - dense_6_sparse_categorical_accuracy: 0.9564 - val_loss: 3.5368 - val_dense_5_loss: 3.7378 - val_dense_6_loss: 1.7275 - val_dense_5_sparse_categorical_accuracy: 0.9567 - val_dense_6_sparse_categorical_accuracy: 0.9452\n",
      "Epoch 5/5\n",
      "1182/1182 [==============================] - 3s 3ms/step - loss: 1.8535 - dense_5_loss: 1.9406 - dense_6_loss: 1.0689 - dense_5_sparse_categorical_accuracy: 0.9688 - dense_6_sparse_categorical_accuracy: 0.9620 - val_loss: 4.0761 - val_dense_5_loss: 4.2987 - val_dense_6_loss: 2.0730 - val_dense_5_sparse_categorical_accuracy: 0.9583 - val_dense_6_sparse_categorical_accuracy: 0.9443\n"
     ]
    },
    {
     "data": {
      "image/png": "[encoded data removed]",
      "text/plain": [
       "<Figure size 576x360 with 1 Axes>"
      ]
     },
     "metadata": {
      "needs_background": "light"
     },
     "output_type": "display_data"
    }
   ],
   "source": [
    "def functional_api_arbitrary():\n",
    "    i1 = keras.layers.Input(shape=X.shape[1:])\n",
    "    f1 = keras.layers.Flatten(input_shape=[28, 28])(i1)\n",
    "    h1 = keras.layers.Dense(300, activation='elu')(f1)\n",
    "    h2 = keras.layers.Dense(100, activation='elu')(h1)\n",
    "    i2 = keras.layers.Input(shape=X.shape[1:])\n",
    "    f2 = keras.layers.Flatten(input_shape=[28, 28])(i2)\n",
    "    c = keras.layers.Concatenate()([f2, h2])\n",
    "    o1 = keras.layers.Dense(10, activation='softmax')(c)\n",
    "    o2 = keras.layers.Dense(10, activation='softmax')(h2)\n",
    "    model = keras.Model(inputs=[i1, i2], outputs=[o1, o2])\n",
    "\n",
    "    model.compile(loss=['sparse_categorical_crossentropy', 'sparse_categorical_crossentropy'],\n",
    "                  loss_weights=[0.9, 0.1],\n",
    "                 optimizer=keras.optimizers.Nadam(),\n",
    "                 metrics=[keras.metrics.sparse_categorical_accuracy])\n",
    "    log.info(model.summary())\n",
    "    history = model.fit([X, X], [y_sparse, y_sparse], epochs=5, validation_split=args.val_fraction)\n",
    "    pd.DataFrame(history.history).plot(figsize=(8, 5))\n",
    "    plt.grid(True)\n",
    "    plt.show()\n",
    "    \n",
    "functional_api_arbitrary()"
   ]
  },
  {
   "cell_type": "markdown",
   "metadata": {},
   "source": [
    "### Subclassing API. Arbitrary network"
   ]
  },
  {
   "cell_type": "code",
   "execution_count": 39,
   "metadata": {},
   "outputs": [
    {
     "name": "stdout",
     "output_type": "stream",
     "text": [
      "Epoch 1/5\n",
      "1182/1182 [==============================] - 28s 24ms/step - loss: 15.5980 - output_1_loss: 15.8409 - output_2_loss: 13.4122 - output_1_sparse_categorical_accuracy: 0.8044 - output_2_sparse_categorical_accuracy: 0.7837 - val_loss: 4.2759 - val_output_1_loss: 4.4666 - val_output_2_loss: 2.5593 - val_output_1_sparse_categorical_accuracy: 0.9257 - val_output_2_sparse_categorical_accuracy: 0.9264\n",
      "Epoch 2/5\n",
      "1182/1182 [==============================] - 28s 23ms/step - loss: 3.3223 - output_1_loss: 3.4298 - output_2_loss: 2.3546 - output_1_sparse_categorical_accuracy: 0.9391 - output_2_sparse_categorical_accuracy: 0.9306 - val_loss: 3.3027 - val_output_1_loss: 3.4485 - val_output_2_loss: 1.9905 - val_output_1_sparse_categorical_accuracy: 0.9481 - val_output_2_sparse_categorical_accuracy: 0.9343\n",
      "Epoch 3/5\n",
      "1182/1182 [==============================] - 29s 25ms/step - loss: 2.4600 - output_1_loss: 2.5447 - output_2_loss: 1.6980 - output_1_sparse_categorical_accuracy: 0.9528 - output_2_sparse_categorical_accuracy: 0.9442 - val_loss: 3.5168 - val_output_1_loss: 3.6964 - val_output_2_loss: 1.9003 - val_output_1_sparse_categorical_accuracy: 0.9467 - val_output_2_sparse_categorical_accuracy: 0.9393\n",
      "Epoch 4/5\n",
      "1182/1182 [==============================] - 27s 22ms/step - loss: 2.1276 - output_1_loss: 2.2181 - output_2_loss: 1.3125 - output_1_sparse_categorical_accuracy: 0.9613 - output_2_sparse_categorical_accuracy: 0.9537 - val_loss: 4.4422 - val_output_1_loss: 4.6699 - val_output_2_loss: 2.3929 - val_output_1_sparse_categorical_accuracy: 0.9424 - val_output_2_sparse_categorical_accuracy: 0.9257\n",
      "Epoch 5/5\n",
      "1182/1182 [==============================] - 26s 22ms/step - loss: 1.9512 - output_1_loss: 2.0470 - output_2_loss: 1.0891 - output_1_sparse_categorical_accuracy: 0.9665 - output_2_sparse_categorical_accuracy: 0.9567 - val_loss: 4.3399 - val_output_1_loss: 4.6072 - val_output_2_loss: 1.9348 - val_output_1_sparse_categorical_accuracy: 0.9548 - val_output_2_sparse_categorical_accuracy: 0.9490\n"
     ]
    },
    {
     "name": "stderr",
     "output_type": "stream",
     "text": [
      "2021-02-02 17:08:11,810 : INFO : None\n"
     ]
    },
    {
     "name": "stdout",
     "output_type": "stream",
     "text": [
      "Model: \"wide_and_deep_model_22\"\n",
      "_________________________________________________________________\n",
      "Layer (type)                 Output Shape              Param #   \n",
      "=================================================================\n",
      "flatten_47 (Flatten)         multiple                  0         \n",
      "_________________________________________________________________\n",
      "dense_95 (Dense)             multiple                  235500    \n",
      "_________________________________________________________________\n",
      "dense_96 (Dense)             multiple                  30100     \n",
      "_________________________________________________________________\n",
      "flatten_48 (Flatten)         multiple                  0         \n",
      "_________________________________________________________________\n",
      "concatenate_23 (Concatenate) multiple                  0         \n",
      "_________________________________________________________________\n",
      "dense_97 (Dense)             multiple                  8850      \n",
      "_________________________________________________________________\n",
      "dense_98 (Dense)             multiple                  1010      \n",
      "=================================================================\n",
      "Total params: 275,460\n",
      "Trainable params: 275,460\n",
      "Non-trainable params: 0\n",
      "_________________________________________________________________\n"
     ]
    },
    {
     "data": {
      "image/png": "[encoded data removed]",
      "text/plain": [
       "<Figure size 576x360 with 1 Axes>"
      ]
     },
     "metadata": {
      "needs_background": "light"
     },
     "output_type": "display_data"
    }
   ],
   "source": [
    "import tensorflow as tf\n",
    "\n",
    "def subclassing_api_arbitrary():\n",
    "    class WideAndDeepModel(keras.Model):\n",
    "        def __init__(self, units1=300, units2=100, activation='elu', **kwargs):\n",
    "            super().__init__(**kwargs)\n",
    "            self.f1 = keras.layers.Flatten(input_shape=[28, 28])\n",
    "            self.h1 = keras.layers.Dense(units1, activation=activation)\n",
    "            self.h2 = keras.layers.Dense(units2, activation=activation)\n",
    "            self.f2 = keras.layers.Flatten(input_shape=[28, 28])\n",
    "            self.c = keras.layers.Concatenate()\n",
    "            self.o1 = keras.layers.Dense(10, activation='softmax')\n",
    "            self.o2 = keras.layers.Dense(10, activation='softmax')\n",
    "        def call(self, inputs):\n",
    "            i1, i2 = inputs\n",
    "            f1 = self.f1(i1)\n",
    "            h1 = self.h1(f1)\n",
    "            h2 = self.h2(h1)\n",
    "            f2 = self.f2(i2)\n",
    "            f2 = tf.cast(f2, tf.float32) \n",
    "            c = self.c([f2, h2])\n",
    "            o1 = self.o1(c)\n",
    "            o2 = self.o2(h2)\n",
    "            return o1, o2\n",
    "\n",
    "    i1 = keras.layers.Input(shape=X.shape[1:])\n",
    "    i2 = keras.layers.Input(shape=X.shape[1:])\n",
    "    model = WideAndDeepModel()\n",
    "    model.compile(loss=['sparse_categorical_crossentropy', 'sparse_categorical_crossentropy'],\n",
    "                      loss_weights=[0.9, 0.1],\n",
    "                     optimizer=keras.optimizers.Nadam(),\n",
    "                     metrics=[keras.metrics.sparse_categorical_accuracy],\n",
    "                  run_eagerly=True)\n",
    "    history = model.fit([X, X], [y_sparse, y_sparse], epochs=5, validation_split=args.val_fraction,)\n",
    "    log.info(model.summary())\n",
    "    pd.DataFrame(history.history).plot(figsize=(8, 5))\n",
    "    plt.grid(True)\n",
    "    plt.show()\n",
    "    \n",
    "subclassing_api_arbitrary()"
   ]
  },
  {
   "cell_type": "markdown",
   "metadata": {},
   "source": [
    "### Early stopping with callbacks"
   ]
  },
  {
   "cell_type": "code",
   "execution_count": 89,
   "metadata": {},
   "outputs": [
    {
     "name": "stderr",
     "output_type": "stream",
     "text": [
      "2021-02-08 11:27:22,350 : INFO : None\n",
      "2021-02-08 11:27:22,351 : INFO : (300, 100)\n"
     ]
    },
    {
     "name": "stdout",
     "output_type": "stream",
     "text": [
      "Model: \"sequential_19\"\n",
      "_________________________________________________________________\n",
      "Layer (type)                 Output Shape              Param #   \n",
      "=================================================================\n",
      "flatten_67 (Flatten)         (None, 784)               0         \n",
      "_________________________________________________________________\n",
      "dense_153 (Dense)            (None, 300)               235500    \n",
      "_________________________________________________________________\n",
      "dense_154 (Dense)            (None, 100)               30100     \n",
      "_________________________________________________________________\n",
      "dense_155 (Dense)            (None, 10)                1010      \n",
      "=================================================================\n",
      "Total params: 266,610\n",
      "Trainable params: 266,610\n",
      "Non-trainable params: 0\n",
      "_________________________________________________________________\n",
      "Epoch 1/50\n",
      "1182/1182 [==============================] - 4s 3ms/step - loss: 5.7155 - sparse_categorical_accuracy: 0.8041 - val_loss: 0.4132 - val_sparse_categorical_accuracy: 0.8957\n",
      "Epoch 2/50\n",
      "1182/1182 [==============================] - 3s 3ms/step - loss: 0.3218 - sparse_categorical_accuracy: 0.9198 - val_loss: 0.3517 - val_sparse_categorical_accuracy: 0.9112\n",
      "Epoch 3/50\n",
      "1182/1182 [==============================] - 3s 3ms/step - loss: 0.2169 - sparse_categorical_accuracy: 0.9408 - val_loss: 0.2233 - val_sparse_categorical_accuracy: 0.9374\n",
      "Epoch 4/50\n",
      "1182/1182 [==============================] - 3s 3ms/step - loss: 0.1707 - sparse_categorical_accuracy: 0.9548 - val_loss: 0.2390 - val_sparse_categorical_accuracy: 0.9348\n",
      "Epoch 5/50\n",
      "1182/1182 [==============================] - 3s 3ms/step - loss: 0.1588 - sparse_categorical_accuracy: 0.9562 - val_loss: 0.1848 - val_sparse_categorical_accuracy: 0.9493\n",
      "Epoch 6/50\n",
      "1182/1182 [==============================] - 3s 3ms/step - loss: 0.1271 - sparse_categorical_accuracy: 0.9644 - val_loss: 0.2249 - val_sparse_categorical_accuracy: 0.9371\n",
      "Epoch 7/50\n",
      "1182/1182 [==============================] - 3s 3ms/step - loss: 0.1281 - sparse_categorical_accuracy: 0.9644 - val_loss: 0.2241 - val_sparse_categorical_accuracy: 0.9490\n",
      "Epoch 8/50\n",
      "1182/1182 [==============================] - 3s 3ms/step - loss: 0.1151 - sparse_categorical_accuracy: 0.9701 - val_loss: 0.2055 - val_sparse_categorical_accuracy: 0.9526\n",
      "Epoch 9/50\n",
      "1182/1182 [==============================] - 3s 3ms/step - loss: 0.1026 - sparse_categorical_accuracy: 0.9722 - val_loss: 0.1630 - val_sparse_categorical_accuracy: 0.9590\n",
      "Epoch 10/50\n",
      "1182/1182 [==============================] - 3s 3ms/step - loss: 0.0910 - sparse_categorical_accuracy: 0.9754 - val_loss: 0.1774 - val_sparse_categorical_accuracy: 0.9612\n",
      "Epoch 11/50\n",
      "1182/1182 [==============================] - 3s 3ms/step - loss: 0.0888 - sparse_categorical_accuracy: 0.9769 - val_loss: 0.1828 - val_sparse_categorical_accuracy: 0.9617\n",
      "Epoch 12/50\n",
      "1182/1182 [==============================] - 3s 3ms/step - loss: 0.0758 - sparse_categorical_accuracy: 0.9791 - val_loss: 0.2157 - val_sparse_categorical_accuracy: 0.9588\n",
      "Epoch 13/50\n",
      "1182/1182 [==============================] - 3s 3ms/step - loss: 0.0807 - sparse_categorical_accuracy: 0.9790 - val_loss: 0.1746 - val_sparse_categorical_accuracy: 0.9614\n",
      "Epoch 14/50\n",
      "1182/1182 [==============================] - 3s 3ms/step - loss: 0.0734 - sparse_categorical_accuracy: 0.9807 - val_loss: 0.2473 - val_sparse_categorical_accuracy: 0.9550\n",
      "Epoch 15/50\n",
      "1182/1182 [==============================] - 3s 3ms/step - loss: 0.0705 - sparse_categorical_accuracy: 0.9810 - val_loss: 0.2664 - val_sparse_categorical_accuracy: 0.9531\n",
      "Epoch 16/50\n",
      "1182/1182 [==============================] - 3s 3ms/step - loss: 0.0748 - sparse_categorical_accuracy: 0.9816 - val_loss: 0.2259 - val_sparse_categorical_accuracy: 0.9588\n",
      "Epoch 17/50\n",
      "1182/1182 [==============================] - 3s 3ms/step - loss: 0.0663 - sparse_categorical_accuracy: 0.9846 - val_loss: 0.2240 - val_sparse_categorical_accuracy: 0.9643\n",
      "Epoch 18/50\n",
      "1182/1182 [==============================] - 3s 3ms/step - loss: 0.0643 - sparse_categorical_accuracy: 0.9854 - val_loss: 0.2767 - val_sparse_categorical_accuracy: 0.9521\n",
      "Epoch 19/50\n",
      "1182/1182 [==============================] - 4s 3ms/step - loss: 0.0587 - sparse_categorical_accuracy: 0.9863 - val_loss: 0.2075 - val_sparse_categorical_accuracy: 0.9683\n",
      "Epoch 20/50\n",
      "1182/1182 [==============================] - 3s 3ms/step - loss: 0.0640 - sparse_categorical_accuracy: 0.9854 - val_loss: 0.3158 - val_sparse_categorical_accuracy: 0.9605\n",
      "Epoch 21/50\n",
      "1182/1182 [==============================] - 3s 3ms/step - loss: 0.0667 - sparse_categorical_accuracy: 0.9848 - val_loss: 0.2928 - val_sparse_categorical_accuracy: 0.9652\n",
      "Epoch 22/50\n",
      "1182/1182 [==============================] - 3s 3ms/step - loss: 0.0669 - sparse_categorical_accuracy: 0.9853 - val_loss: 0.2418 - val_sparse_categorical_accuracy: 0.9648\n",
      "Epoch 23/50\n",
      "1182/1182 [==============================] - 3s 3ms/step - loss: 0.0540 - sparse_categorical_accuracy: 0.9871 - val_loss: 0.2956 - val_sparse_categorical_accuracy: 0.9638\n",
      "Epoch 24/50\n",
      "1182/1182 [==============================] - 3s 3ms/step - loss: 0.0645 - sparse_categorical_accuracy: 0.9850 - val_loss: 0.3650 - val_sparse_categorical_accuracy: 0.9619\n",
      "Epoch 25/50\n",
      "1182/1182 [==============================] - 3s 3ms/step - loss: 0.0610 - sparse_categorical_accuracy: 0.9874 - val_loss: 0.2713 - val_sparse_categorical_accuracy: 0.9695\n",
      "Epoch 26/50\n",
      "1182/1182 [==============================] - 3s 3ms/step - loss: 0.0512 - sparse_categorical_accuracy: 0.9886 - val_loss: 0.2856 - val_sparse_categorical_accuracy: 0.9650\n",
      "Epoch 27/50\n",
      "1182/1182 [==============================] - 3s 3ms/step - loss: 0.0573 - sparse_categorical_accuracy: 0.9875 - val_loss: 0.2495 - val_sparse_categorical_accuracy: 0.9629\n",
      "Epoch 28/50\n",
      "1182/1182 [==============================] - 4s 3ms/step - loss: 0.0494 - sparse_categorical_accuracy: 0.9892 - val_loss: 0.2667 - val_sparse_categorical_accuracy: 0.9700\n",
      "Epoch 29/50\n",
      "1182/1182 [==============================] - 4s 3ms/step - loss: 0.0589 - sparse_categorical_accuracy: 0.9886 - val_loss: 0.2676 - val_sparse_categorical_accuracy: 0.9660\n",
      "Epoch 30/50\n",
      "1182/1182 [==============================] - 3s 3ms/step - loss: 0.0471 - sparse_categorical_accuracy: 0.9896 - val_loss: 0.4499 - val_sparse_categorical_accuracy: 0.9588\n",
      "Epoch 31/50\n",
      "1182/1182 [==============================] - 3s 3ms/step - loss: 0.0733 - sparse_categorical_accuracy: 0.9854 - val_loss: 0.3381 - val_sparse_categorical_accuracy: 0.9626\n",
      "Epoch 32/50\n",
      "1182/1182 [==============================] - 3s 3ms/step - loss: 0.0749 - sparse_categorical_accuracy: 0.9869 - val_loss: 0.3206 - val_sparse_categorical_accuracy: 0.9643\n",
      "Epoch 33/50\n",
      "1182/1182 [==============================] - 3s 3ms/step - loss: 0.0437 - sparse_categorical_accuracy: 0.9906 - val_loss: 0.3183 - val_sparse_categorical_accuracy: 0.9664\n",
      "Epoch 34/50\n",
      "1182/1182 [==============================] - 3s 3ms/step - loss: 0.0607 - sparse_categorical_accuracy: 0.9882 - val_loss: 0.3185 - val_sparse_categorical_accuracy: 0.9662\n",
      "Epoch 35/50\n",
      "1182/1182 [==============================] - 3s 3ms/step - loss: 0.0537 - sparse_categorical_accuracy: 0.9889 - val_loss: 0.2789 - val_sparse_categorical_accuracy: 0.9733\n",
      "Epoch 36/50\n",
      "1182/1182 [==============================] - 3s 3ms/step - loss: 0.0518 - sparse_categorical_accuracy: 0.9897 - val_loss: 0.4346 - val_sparse_categorical_accuracy: 0.9643\n",
      "Epoch 37/50\n",
      "1182/1182 [==============================] - 3s 3ms/step - loss: 0.0606 - sparse_categorical_accuracy: 0.9878 - val_loss: 0.3905 - val_sparse_categorical_accuracy: 0.9705\n",
      "Epoch 38/50\n",
      "1182/1182 [==============================] - 3s 3ms/step - loss: 0.0574 - sparse_categorical_accuracy: 0.9900 - val_loss: 0.4597 - val_sparse_categorical_accuracy: 0.9640\n",
      "Epoch 39/50\n",
      "1182/1182 [==============================] - 3s 3ms/step - loss: 0.0488 - sparse_categorical_accuracy: 0.9900 - val_loss: 0.3394 - val_sparse_categorical_accuracy: 0.9683\n",
      "Epoch 40/50\n",
      "1182/1182 [==============================] - 3s 3ms/step - loss: 0.0521 - sparse_categorical_accuracy: 0.9904 - val_loss: 0.3435 - val_sparse_categorical_accuracy: 0.9698\n"
     ]
    },
    {
     "name": "stdout",
     "output_type": "stream",
     "text": [
      "Epoch 41/50\n",
      "1182/1182 [==============================] - 3s 3ms/step - loss: 0.0489 - sparse_categorical_accuracy: 0.9909 - val_loss: 0.4755 - val_sparse_categorical_accuracy: 0.9638\n",
      "Epoch 42/50\n",
      "1182/1182 [==============================] - 3s 3ms/step - loss: 0.0879 - sparse_categorical_accuracy: 0.9858 - val_loss: 0.4144 - val_sparse_categorical_accuracy: 0.9669\n",
      "Epoch 43/50\n",
      "1182/1182 [==============================] - 3s 3ms/step - loss: 0.0423 - sparse_categorical_accuracy: 0.9910 - val_loss: 0.3743 - val_sparse_categorical_accuracy: 0.9683\n",
      "Epoch 44/50\n",
      "1182/1182 [==============================] - 3s 3ms/step - loss: 0.0421 - sparse_categorical_accuracy: 0.9913 - val_loss: 0.5740 - val_sparse_categorical_accuracy: 0.9614\n",
      "Epoch 45/50\n",
      "1182/1182 [==============================] - 3s 3ms/step - loss: 0.0734 - sparse_categorical_accuracy: 0.9871 - val_loss: 0.4845 - val_sparse_categorical_accuracy: 0.9657\n"
     ]
    },
    {
     "data": {
      "image/png": "[encoded data removed]",
      "text/plain": [
       "<Figure size 576x360 with 1 Axes>"
      ]
     },
     "metadata": {
      "needs_background": "light"
     },
     "output_type": "display_data"
    },
    {
     "name": "stderr",
     "output_type": "stream",
     "text": [
      "2021-02-08 11:29:50,963 : INFO : Saved file: ../predictions/experiments-early-stopping.csv\n"
     ]
    }
   ],
   "source": [
    "import keras\n",
    "from keras import layers \n",
    "\n",
    "def early_stopping(monitor='val_sparse_categorical_accuracy'):\n",
    "    early_stopping_callback = keras.callbacks.EarlyStopping(monitor='val_sparse_categorical_accuracy', \n",
    "                                                patience=10, restore_best_weights=True)\n",
    "    model = seq_baseline_build()\n",
    "    history = model.fit(X, y_sparse, epochs=args.epochs, validation_split=args.val_fraction, \n",
    "                        callbacks=[early_stopping_callback])\n",
    "    \n",
    "    plot(history)\n",
    "    predictions = np.argmax(model.predict(X_test), axis=-1)\n",
    "    csv_sparse_predictions(predictions, 'experiments-early-stopping.csv')\n",
    "    \n",
    "early_stopping()"
   ]
  },
  {
   "cell_type": "markdown",
   "metadata": {},
   "source": [
    "### Early stopping\n",
    "| Approach | Model  | Test score  | CV mean score |\n",
    "|---|---|---|---|\n",
    "| monitor='val_sparse_categorical_accuracy' | 50 epochs | 0.96910 | 0.9733 |\n"
   ]
  }
 ],
 "metadata": {
  "kernelspec": {
   "display_name": "Python 3",
   "language": "python",
   "name": "python3"
  },
  "language_info": {
   "codemirror_mode": {
    "name": "ipython",
    "version": 3
   },
   "file_extension": ".py",
   "mimetype": "text/x-python",
   "name": "python",
   "nbconvert_exporter": "python",
   "pygments_lexer": "ipython3",
   "version": "3.8.6"
  }
 },
 "nbformat": 4,
 "nbformat_minor": 2
}
