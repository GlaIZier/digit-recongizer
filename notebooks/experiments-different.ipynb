{
 "cells": [
  {
   "cell_type": "markdown",
   "metadata": {},
   "source": [
    "# Experiments"
   ]
  },
  {
   "cell_type": "markdown",
   "metadata": {},
   "source": [
    "## Load data"
   ]
  },
  {
   "cell_type": "code",
   "execution_count": 1,
   "metadata": {},
   "outputs": [
    {
     "data": {
      "text/plain": [
       "'2.4.1'"
      ]
     },
     "execution_count": 1,
     "metadata": {},
     "output_type": "execute_result"
    }
   ],
   "source": [
    "import logging\n",
    "import tensorflow as tf\n",
    "\n",
    "logging.basicConfig(format='%(asctime)s : %(levelname)s : %(message)s', level=logging.INFO)\n",
    "log = logging.getLogger()\n",
    "\n",
    "%config Completer.use_jedi = False # make autocompletion works in jupyter\n",
    "\n",
    "tf.__version__"
   ]
  },
  {
   "cell_type": "code",
   "execution_count": 2,
   "metadata": {},
   "outputs": [],
   "source": [
    "import numpy as np\n",
    "import pandas as pd\n",
    "from pathlib import Path\n",
    "\n",
    "import argparse\n",
    "args = argparse.Namespace()\n",
    "args.raw_train = pd.read_csv('../data/train.csv.zip')\n",
    "args.raw_test = pd.read_csv('../data/test.csv.zip')\n",
    "args.predictions_folder = Path('../predictions')\n",
    "args.n_splits = 5\n",
    "args.n_jobs = 3\n",
    "args.seed = 101\n",
    "args.val_fraction=0.1\n",
    "args.epochs = 50\n",
    "\n",
    "args.train = args.raw_train.iloc[:, 1:].copy()\n",
    "args.labels = args.raw_train['label'].copy()\n",
    "args.test = args.raw_test.copy()\n",
    "\n",
    "\n",
    "args.predictions_folder.mkdir(parents=True, exist_ok=True) "
   ]
  },
  {
   "cell_type": "code",
   "execution_count": 3,
   "metadata": {},
   "outputs": [
    {
     "data": {
      "text/html": [
       "<div>\n",
       "<style scoped>\n",
       "    .dataframe tbody tr th:only-of-type {\n",
       "        vertical-align: middle;\n",
       "    }\n",
       "\n",
       "    .dataframe tbody tr th {\n",
       "        vertical-align: top;\n",
       "    }\n",
       "\n",
       "    .dataframe thead th {\n",
       "        text-align: right;\n",
       "    }\n",
       "</style>\n",
       "<table border=\"1\" class=\"dataframe\">\n",
       "  <thead>\n",
       "    <tr style=\"text-align: right;\">\n",
       "      <th></th>\n",
       "      <th>label</th>\n",
       "      <th>pixel0</th>\n",
       "      <th>pixel1</th>\n",
       "      <th>pixel2</th>\n",
       "      <th>pixel3</th>\n",
       "      <th>pixel4</th>\n",
       "      <th>pixel5</th>\n",
       "      <th>pixel6</th>\n",
       "      <th>pixel7</th>\n",
       "      <th>pixel8</th>\n",
       "      <th>...</th>\n",
       "      <th>pixel774</th>\n",
       "      <th>pixel775</th>\n",
       "      <th>pixel776</th>\n",
       "      <th>pixel777</th>\n",
       "      <th>pixel778</th>\n",
       "      <th>pixel779</th>\n",
       "      <th>pixel780</th>\n",
       "      <th>pixel781</th>\n",
       "      <th>pixel782</th>\n",
       "      <th>pixel783</th>\n",
       "    </tr>\n",
       "  </thead>\n",
       "  <tbody>\n",
       "    <tr>\n",
       "      <th>0</th>\n",
       "      <td>1</td>\n",
       "      <td>0</td>\n",
       "      <td>0</td>\n",
       "      <td>0</td>\n",
       "      <td>0</td>\n",
       "      <td>0</td>\n",
       "      <td>0</td>\n",
       "      <td>0</td>\n",
       "      <td>0</td>\n",
       "      <td>0</td>\n",
       "      <td>...</td>\n",
       "      <td>0</td>\n",
       "      <td>0</td>\n",
       "      <td>0</td>\n",
       "      <td>0</td>\n",
       "      <td>0</td>\n",
       "      <td>0</td>\n",
       "      <td>0</td>\n",
       "      <td>0</td>\n",
       "      <td>0</td>\n",
       "      <td>0</td>\n",
       "    </tr>\n",
       "    <tr>\n",
       "      <th>1</th>\n",
       "      <td>0</td>\n",
       "      <td>0</td>\n",
       "      <td>0</td>\n",
       "      <td>0</td>\n",
       "      <td>0</td>\n",
       "      <td>0</td>\n",
       "      <td>0</td>\n",
       "      <td>0</td>\n",
       "      <td>0</td>\n",
       "      <td>0</td>\n",
       "      <td>...</td>\n",
       "      <td>0</td>\n",
       "      <td>0</td>\n",
       "      <td>0</td>\n",
       "      <td>0</td>\n",
       "      <td>0</td>\n",
       "      <td>0</td>\n",
       "      <td>0</td>\n",
       "      <td>0</td>\n",
       "      <td>0</td>\n",
       "      <td>0</td>\n",
       "    </tr>\n",
       "    <tr>\n",
       "      <th>2</th>\n",
       "      <td>1</td>\n",
       "      <td>0</td>\n",
       "      <td>0</td>\n",
       "      <td>0</td>\n",
       "      <td>0</td>\n",
       "      <td>0</td>\n",
       "      <td>0</td>\n",
       "      <td>0</td>\n",
       "      <td>0</td>\n",
       "      <td>0</td>\n",
       "      <td>...</td>\n",
       "      <td>0</td>\n",
       "      <td>0</td>\n",
       "      <td>0</td>\n",
       "      <td>0</td>\n",
       "      <td>0</td>\n",
       "      <td>0</td>\n",
       "      <td>0</td>\n",
       "      <td>0</td>\n",
       "      <td>0</td>\n",
       "      <td>0</td>\n",
       "    </tr>\n",
       "    <tr>\n",
       "      <th>3</th>\n",
       "      <td>4</td>\n",
       "      <td>0</td>\n",
       "      <td>0</td>\n",
       "      <td>0</td>\n",
       "      <td>0</td>\n",
       "      <td>0</td>\n",
       "      <td>0</td>\n",
       "      <td>0</td>\n",
       "      <td>0</td>\n",
       "      <td>0</td>\n",
       "      <td>...</td>\n",
       "      <td>0</td>\n",
       "      <td>0</td>\n",
       "      <td>0</td>\n",
       "      <td>0</td>\n",
       "      <td>0</td>\n",
       "      <td>0</td>\n",
       "      <td>0</td>\n",
       "      <td>0</td>\n",
       "      <td>0</td>\n",
       "      <td>0</td>\n",
       "    </tr>\n",
       "    <tr>\n",
       "      <th>4</th>\n",
       "      <td>0</td>\n",
       "      <td>0</td>\n",
       "      <td>0</td>\n",
       "      <td>0</td>\n",
       "      <td>0</td>\n",
       "      <td>0</td>\n",
       "      <td>0</td>\n",
       "      <td>0</td>\n",
       "      <td>0</td>\n",
       "      <td>0</td>\n",
       "      <td>...</td>\n",
       "      <td>0</td>\n",
       "      <td>0</td>\n",
       "      <td>0</td>\n",
       "      <td>0</td>\n",
       "      <td>0</td>\n",
       "      <td>0</td>\n",
       "      <td>0</td>\n",
       "      <td>0</td>\n",
       "      <td>0</td>\n",
       "      <td>0</td>\n",
       "    </tr>\n",
       "  </tbody>\n",
       "</table>\n",
       "<p>5 rows × 785 columns</p>\n",
       "</div>"
      ],
      "text/plain": [
       "   label  pixel0  pixel1  pixel2  pixel3  pixel4  pixel5  pixel6  pixel7  \\\n",
       "0      1       0       0       0       0       0       0       0       0   \n",
       "1      0       0       0       0       0       0       0       0       0   \n",
       "2      1       0       0       0       0       0       0       0       0   \n",
       "3      4       0       0       0       0       0       0       0       0   \n",
       "4      0       0       0       0       0       0       0       0       0   \n",
       "\n",
       "   pixel8  ...  pixel774  pixel775  pixel776  pixel777  pixel778  pixel779  \\\n",
       "0       0  ...         0         0         0         0         0         0   \n",
       "1       0  ...         0         0         0         0         0         0   \n",
       "2       0  ...         0         0         0         0         0         0   \n",
       "3       0  ...         0         0         0         0         0         0   \n",
       "4       0  ...         0         0         0         0         0         0   \n",
       "\n",
       "   pixel780  pixel781  pixel782  pixel783  \n",
       "0         0         0         0         0  \n",
       "1         0         0         0         0  \n",
       "2         0         0         0         0  \n",
       "3         0         0         0         0  \n",
       "4         0         0         0         0  \n",
       "\n",
       "[5 rows x 785 columns]"
      ]
     },
     "execution_count": 3,
     "metadata": {},
     "output_type": "execute_result"
    }
   ],
   "source": [
    "args.raw_train.head()"
   ]
  },
  {
   "cell_type": "code",
   "execution_count": 4,
   "metadata": {},
   "outputs": [
    {
     "data": {
      "text/html": [
       "<div>\n",
       "<style scoped>\n",
       "    .dataframe tbody tr th:only-of-type {\n",
       "        vertical-align: middle;\n",
       "    }\n",
       "\n",
       "    .dataframe tbody tr th {\n",
       "        vertical-align: top;\n",
       "    }\n",
       "\n",
       "    .dataframe thead th {\n",
       "        text-align: right;\n",
       "    }\n",
       "</style>\n",
       "<table border=\"1\" class=\"dataframe\">\n",
       "  <thead>\n",
       "    <tr style=\"text-align: right;\">\n",
       "      <th></th>\n",
       "      <th>pixel0</th>\n",
       "      <th>pixel1</th>\n",
       "      <th>pixel2</th>\n",
       "      <th>pixel3</th>\n",
       "      <th>pixel4</th>\n",
       "      <th>pixel5</th>\n",
       "      <th>pixel6</th>\n",
       "      <th>pixel7</th>\n",
       "      <th>pixel8</th>\n",
       "      <th>pixel9</th>\n",
       "      <th>...</th>\n",
       "      <th>pixel774</th>\n",
       "      <th>pixel775</th>\n",
       "      <th>pixel776</th>\n",
       "      <th>pixel777</th>\n",
       "      <th>pixel778</th>\n",
       "      <th>pixel779</th>\n",
       "      <th>pixel780</th>\n",
       "      <th>pixel781</th>\n",
       "      <th>pixel782</th>\n",
       "      <th>pixel783</th>\n",
       "    </tr>\n",
       "  </thead>\n",
       "  <tbody>\n",
       "    <tr>\n",
       "      <th>0</th>\n",
       "      <td>0</td>\n",
       "      <td>0</td>\n",
       "      <td>0</td>\n",
       "      <td>0</td>\n",
       "      <td>0</td>\n",
       "      <td>0</td>\n",
       "      <td>0</td>\n",
       "      <td>0</td>\n",
       "      <td>0</td>\n",
       "      <td>0</td>\n",
       "      <td>...</td>\n",
       "      <td>0</td>\n",
       "      <td>0</td>\n",
       "      <td>0</td>\n",
       "      <td>0</td>\n",
       "      <td>0</td>\n",
       "      <td>0</td>\n",
       "      <td>0</td>\n",
       "      <td>0</td>\n",
       "      <td>0</td>\n",
       "      <td>0</td>\n",
       "    </tr>\n",
       "    <tr>\n",
       "      <th>1</th>\n",
       "      <td>0</td>\n",
       "      <td>0</td>\n",
       "      <td>0</td>\n",
       "      <td>0</td>\n",
       "      <td>0</td>\n",
       "      <td>0</td>\n",
       "      <td>0</td>\n",
       "      <td>0</td>\n",
       "      <td>0</td>\n",
       "      <td>0</td>\n",
       "      <td>...</td>\n",
       "      <td>0</td>\n",
       "      <td>0</td>\n",
       "      <td>0</td>\n",
       "      <td>0</td>\n",
       "      <td>0</td>\n",
       "      <td>0</td>\n",
       "      <td>0</td>\n",
       "      <td>0</td>\n",
       "      <td>0</td>\n",
       "      <td>0</td>\n",
       "    </tr>\n",
       "    <tr>\n",
       "      <th>2</th>\n",
       "      <td>0</td>\n",
       "      <td>0</td>\n",
       "      <td>0</td>\n",
       "      <td>0</td>\n",
       "      <td>0</td>\n",
       "      <td>0</td>\n",
       "      <td>0</td>\n",
       "      <td>0</td>\n",
       "      <td>0</td>\n",
       "      <td>0</td>\n",
       "      <td>...</td>\n",
       "      <td>0</td>\n",
       "      <td>0</td>\n",
       "      <td>0</td>\n",
       "      <td>0</td>\n",
       "      <td>0</td>\n",
       "      <td>0</td>\n",
       "      <td>0</td>\n",
       "      <td>0</td>\n",
       "      <td>0</td>\n",
       "      <td>0</td>\n",
       "    </tr>\n",
       "    <tr>\n",
       "      <th>3</th>\n",
       "      <td>0</td>\n",
       "      <td>0</td>\n",
       "      <td>0</td>\n",
       "      <td>0</td>\n",
       "      <td>0</td>\n",
       "      <td>0</td>\n",
       "      <td>0</td>\n",
       "      <td>0</td>\n",
       "      <td>0</td>\n",
       "      <td>0</td>\n",
       "      <td>...</td>\n",
       "      <td>0</td>\n",
       "      <td>0</td>\n",
       "      <td>0</td>\n",
       "      <td>0</td>\n",
       "      <td>0</td>\n",
       "      <td>0</td>\n",
       "      <td>0</td>\n",
       "      <td>0</td>\n",
       "      <td>0</td>\n",
       "      <td>0</td>\n",
       "    </tr>\n",
       "    <tr>\n",
       "      <th>4</th>\n",
       "      <td>0</td>\n",
       "      <td>0</td>\n",
       "      <td>0</td>\n",
       "      <td>0</td>\n",
       "      <td>0</td>\n",
       "      <td>0</td>\n",
       "      <td>0</td>\n",
       "      <td>0</td>\n",
       "      <td>0</td>\n",
       "      <td>0</td>\n",
       "      <td>...</td>\n",
       "      <td>0</td>\n",
       "      <td>0</td>\n",
       "      <td>0</td>\n",
       "      <td>0</td>\n",
       "      <td>0</td>\n",
       "      <td>0</td>\n",
       "      <td>0</td>\n",
       "      <td>0</td>\n",
       "      <td>0</td>\n",
       "      <td>0</td>\n",
       "    </tr>\n",
       "  </tbody>\n",
       "</table>\n",
       "<p>5 rows × 784 columns</p>\n",
       "</div>"
      ],
      "text/plain": [
       "   pixel0  pixel1  pixel2  pixel3  pixel4  pixel5  pixel6  pixel7  pixel8  \\\n",
       "0       0       0       0       0       0       0       0       0       0   \n",
       "1       0       0       0       0       0       0       0       0       0   \n",
       "2       0       0       0       0       0       0       0       0       0   \n",
       "3       0       0       0       0       0       0       0       0       0   \n",
       "4       0       0       0       0       0       0       0       0       0   \n",
       "\n",
       "   pixel9  ...  pixel774  pixel775  pixel776  pixel777  pixel778  pixel779  \\\n",
       "0       0  ...         0         0         0         0         0         0   \n",
       "1       0  ...         0         0         0         0         0         0   \n",
       "2       0  ...         0         0         0         0         0         0   \n",
       "3       0  ...         0         0         0         0         0         0   \n",
       "4       0  ...         0         0         0         0         0         0   \n",
       "\n",
       "   pixel780  pixel781  pixel782  pixel783  \n",
       "0         0         0         0         0  \n",
       "1         0         0         0         0  \n",
       "2         0         0         0         0  \n",
       "3         0         0         0         0  \n",
       "4         0         0         0         0  \n",
       "\n",
       "[5 rows x 784 columns]"
      ]
     },
     "execution_count": 4,
     "metadata": {},
     "output_type": "execute_result"
    }
   ],
   "source": [
    "args.raw_test.head()"
   ]
  },
  {
   "cell_type": "code",
   "execution_count": 5,
   "metadata": {},
   "outputs": [],
   "source": [
    "# OO-style image rendering\n",
    "def draw_digit(pixels_2d, label=None, size_inches=None):\n",
    "    fig, ax = plt.subplots()\n",
    "    if label is not None:\n",
    "        ax.set_title(label)\n",
    "    if size_inches:\n",
    "        fig.set_size_inches(size_inches[0], size_inches[1])\n",
    "    imgplot = ax.imshow(pixels_2d)"
   ]
  },
  {
   "cell_type": "code",
   "execution_count": 6,
   "metadata": {},
   "outputs": [
    {
     "data": {
      "image/png": "[encoded data removed]",
      "text/plain": [
       "<Figure size 432x288 with 1 Axes>"
      ]
     },
     "metadata": {
      "needs_background": "light"
     },
     "output_type": "display_data"
    }
   ],
   "source": [
    "# Matlbab state-based style of image rendering \n",
    "import matplotlib.pyplot as plt\n",
    "import matplotlib.image as mpimg\n",
    "import random\n",
    "\n",
    "random_row = random.randrange(0, args.raw_train.shape[0], 1) \n",
    "title = args.raw_train.iloc[random_row, 0]\n",
    "plt.title(title)\n",
    "imgplot = plt.imshow(args.raw_train.iloc[random_row, 1:].to_numpy().reshape(28, 28))"
   ]
  },
  {
   "cell_type": "code",
   "execution_count": 7,
   "metadata": {},
   "outputs": [
    {
     "name": "stderr",
     "output_type": "stream",
     "text": [
      "2021-03-22 13:14:51,771 : INFO : X.shape: (42000, 28, 28, 1)\n",
      "2021-03-22 13:14:51,772 : INFO : X[0][14][14]: [254]\n",
      "2021-03-22 13:14:51,773 : INFO : y.shape: (42000, 10)\n",
      "2021-03-22 13:14:51,774 : INFO : y[0], [0 1 0 0 0 0 0 0 0 0]\n",
      "2021-03-22 13:14:51,779 : INFO : type of target y: 'multilabel-indicator'\n",
      "2021-03-22 13:14:51,780 : INFO : y_sparse.shape: (42000,)\n",
      "2021-03-22 13:14:51,780 : INFO : y_sparse: array([1, 0, 1, ..., 7, 6, 9])\n",
      "2021-03-22 13:14:51,781 : INFO : y_sparse[0]: 1\n",
      "2021-03-22 13:14:51,783 : INFO : type of target y_sparse: 'multiclass'\n"
     ]
    }
   ],
   "source": [
    "import sklearn.utils.multiclass\n",
    "\n",
    "X = args.train.to_numpy().reshape(args.train.shape[0], 28, 28, 1)\n",
    "y = pd.get_dummies(args.labels, prefix='label').to_numpy()\n",
    "y_sparse = args.labels.to_numpy()\n",
    "X_test = args.test.to_numpy().reshape(args.test.shape[0], 28, 28, 1)\n",
    "\n",
    "log.info('X.shape: %s', repr(X.shape))\n",
    "log.info('X[0][14][14]: %s', X[0][14][14])\n",
    "\n",
    "log.info('y.shape: %s', repr(y.shape))\n",
    "log.info('y[0], %s', y[0])\n",
    "log.info('type of target y: %s', repr(sklearn.utils.multiclass.type_of_target(y)))\n",
    "\n",
    "log.info('y_sparse.shape: %s', repr(y_sparse.shape))\n",
    "log.info('y_sparse: %s', repr(y_sparse))\n",
    "log.info('y_sparse[0]: %s', y_sparse[0])\n",
    "log.info('type of target y_sparse: %s', repr(sklearn.utils.multiclass.type_of_target(y_sparse)))\n",
    "\n",
    "def csv_sparse_predictions(predictions_sparse, filename):\n",
    "    image_ids = np.arange(1, len(predictions_sparse) + 1)\n",
    "    submission = pd.DataFrame({'ImageId': image_ids, 'Label': predictions_sparse})\n",
    "    filepath = args.predictions_folder/filename\n",
    "    \n",
    "    submission.to_csv(filepath, index=False)\n",
    "    log.info('Saved file: %s', filepath)"
   ]
  },
  {
   "cell_type": "markdown",
   "metadata": {},
   "source": [
    "## Experiments\n",
    "### Multioutput classification"
   ]
  },
  {
   "cell_type": "code",
   "execution_count": 8,
   "metadata": {},
   "outputs": [
    {
     "data": {
      "image/png": "[encoded data removed]",
      "text/plain": [
       "<Figure size 432x288 with 1 Axes>"
      ]
     },
     "metadata": {
      "needs_background": "light"
     },
     "output_type": "display_data"
    },
    {
     "data": {
      "image/png": "[encoded data removed]",
      "text/plain": [
       "<Figure size 432x288 with 1 Axes>"
      ]
     },
     "metadata": {
      "needs_background": "light"
     },
     "output_type": "display_data"
    }
   ],
   "source": [
    "from sklearn.model_selection import train_test_split\n",
    "from sklearn.neighbors import KNeighborsClassifier\n",
    "\n",
    "Y_train, Y_val, _, _ = train_test_split(X, y_sparse, test_size=0.25, random_state=42)\n",
    "Y_train = Y_train.reshape(len(Y_train), 28*28)\n",
    "Y_val = Y_val.reshape(len(Y_val), 28*28)\n",
    "draw_digit(Y_val[1].reshape(28, 28), label=\"original\")\n",
    "\n",
    "\n",
    "noise_X_train = np.random.randint(255, size=(len(Y_train), 28*28))\n",
    "X_train = Y_train + noise_X_train\n",
    "noise_X_val = np.random.randint(255, size=(len(Y_val), 28*28))\n",
    "X_val = Y_val + noise_X_val\n",
    "\n",
    "knn = KNeighborsClassifier()\n",
    "knn.fit(X_train, Y_train)\n",
    "cleared = knn.predict([X_val[1]])\n",
    "draw_digit(cleared.reshape(28, 28), label=\"predicted\")"
   ]
  },
  {
   "cell_type": "markdown",
   "metadata": {},
   "source": [
    "### Confusion matrix"
   ]
  },
  {
   "cell_type": "code",
   "execution_count": 9,
   "metadata": {},
   "outputs": [
    {
     "data": {
      "text/plain": [
       "array([[11,  0,  0,  0,  0,  0,  0,  0,  0,  0],\n",
       "       [ 0, 16,  0,  0,  0,  0,  0,  0,  0,  0],\n",
       "       [ 0,  0, 11,  0,  0,  1,  1,  0,  1,  0],\n",
       "       [ 0,  0,  0,  8,  0,  0,  0,  0,  1,  0],\n",
       "       [ 0,  0,  0,  0,  7,  0,  0,  0,  0,  0],\n",
       "       [ 0,  0,  0,  0,  0, 13,  0,  0,  0,  0],\n",
       "       [ 0,  0,  0,  0,  0,  0,  9,  0,  0,  0],\n",
       "       [ 0,  0,  0,  0,  0,  0,  0,  5,  0,  0],\n",
       "       [ 0,  0,  0,  0,  0,  1,  0,  0,  3,  0],\n",
       "       [ 0,  0,  0,  0,  0,  0,  0,  1,  0, 11]])"
      ]
     },
     "execution_count": 9,
     "metadata": {},
     "output_type": "execute_result"
    }
   ],
   "source": [
    "from sklearn.metrics import confusion_matrix\n",
    "from sklearn.model_selection import train_test_split\n",
    "from sklearn.svm import SVC\n",
    "X_train, X_val, y_train, y_val = train_test_split(X, y_sparse, test_size=0.95, random_state=args.seed)\n",
    "X_train = X_train.reshape(len(X_train), 28*28)\n",
    "X_val = X_val[:100].reshape(len(X_val[:100]), 28*28)\n",
    "y_val = y_val[:100]\n",
    "svc = SVC()\n",
    "svc.fit(X_train, y_train)\n",
    "svc.predict(X_val)\n",
    "\n",
    "confusion_matrix(y_val, svc.predict(X_val))"
   ]
  },
  {
   "cell_type": "markdown",
   "metadata": {},
   "source": [
    "### Basics\n",
    "### Sequential API baseline"
   ]
  },
  {
   "cell_type": "code",
   "execution_count": 10,
   "metadata": {},
   "outputs": [
    {
     "name": "stderr",
     "output_type": "stream",
     "text": [
      "2021-03-22 13:14:56,524 : INFO : None\n",
      "2021-03-22 13:14:56,525 : INFO : (300, 100)\n"
     ]
    },
    {
     "name": "stdout",
     "output_type": "stream",
     "text": [
      "Model: \"sequential\"\n",
      "_________________________________________________________________\n",
      "Layer (type)                 Output Shape              Param #   \n",
      "=================================================================\n",
      "flatten (Flatten)            (None, 784)               0         \n",
      "_________________________________________________________________\n",
      "dense (Dense)                (None, 300)               235500    \n",
      "_________________________________________________________________\n",
      "dense_1 (Dense)              (None, 100)               30100     \n",
      "_________________________________________________________________\n",
      "dense_2 (Dense)              (None, 10)                1010      \n",
      "=================================================================\n",
      "Total params: 266,610\n",
      "Trainable params: 266,610\n",
      "Non-trainable params: 0\n",
      "_________________________________________________________________\n",
      "Epoch 1/50\n",
      "1182/1182 [==============================] - 4s 3ms/step - loss: 5.8746 - sparse_categorical_accuracy: 0.7963 - val_loss: 0.7268 - val_sparse_categorical_accuracy: 0.8514\n",
      "Epoch 2/50\n",
      "1182/1182 [==============================] - 3s 2ms/step - loss: 0.3884 - sparse_categorical_accuracy: 0.9049 - val_loss: 0.3391 - val_sparse_categorical_accuracy: 0.9231\n",
      "Epoch 3/50\n",
      "1182/1182 [==============================] - 3s 2ms/step - loss: 0.2456 - sparse_categorical_accuracy: 0.9382 - val_loss: 0.3583 - val_sparse_categorical_accuracy: 0.9112\n",
      "Epoch 4/50\n",
      "1182/1182 [==============================] - 3s 2ms/step - loss: 0.2115 - sparse_categorical_accuracy: 0.9433 - val_loss: 0.2460 - val_sparse_categorical_accuracy: 0.9414\n",
      "Epoch 5/50\n",
      "1182/1182 [==============================] - 3s 2ms/step - loss: 0.1609 - sparse_categorical_accuracy: 0.9547 - val_loss: 0.2186 - val_sparse_categorical_accuracy: 0.9524\n",
      "Epoch 6/50\n",
      "1182/1182 [==============================] - 3s 2ms/step - loss: 0.1345 - sparse_categorical_accuracy: 0.9628 - val_loss: 0.2127 - val_sparse_categorical_accuracy: 0.9493\n",
      "Epoch 7/50\n",
      "1182/1182 [==============================] - 3s 2ms/step - loss: 0.1242 - sparse_categorical_accuracy: 0.9657 - val_loss: 0.2908 - val_sparse_categorical_accuracy: 0.9417\n",
      "Epoch 8/50\n",
      "1182/1182 [==============================] - 3s 2ms/step - loss: 0.1156 - sparse_categorical_accuracy: 0.9677 - val_loss: 0.1802 - val_sparse_categorical_accuracy: 0.9605\n",
      "Epoch 9/50\n",
      "1182/1182 [==============================] - 3s 2ms/step - loss: 0.0989 - sparse_categorical_accuracy: 0.9738 - val_loss: 0.1951 - val_sparse_categorical_accuracy: 0.9567\n",
      "Epoch 10/50\n",
      "1182/1182 [==============================] - 3s 2ms/step - loss: 0.0838 - sparse_categorical_accuracy: 0.9770 - val_loss: 0.2479 - val_sparse_categorical_accuracy: 0.9567\n",
      "Epoch 11/50\n",
      "1182/1182 [==============================] - 3s 2ms/step - loss: 0.0904 - sparse_categorical_accuracy: 0.9759 - val_loss: 0.2075 - val_sparse_categorical_accuracy: 0.9579\n",
      "Epoch 12/50\n",
      "1182/1182 [==============================] - 3s 2ms/step - loss: 0.0803 - sparse_categorical_accuracy: 0.9796 - val_loss: 0.2272 - val_sparse_categorical_accuracy: 0.9621\n",
      "Epoch 13/50\n",
      "1182/1182 [==============================] - 3s 2ms/step - loss: 0.0748 - sparse_categorical_accuracy: 0.9804 - val_loss: 0.1767 - val_sparse_categorical_accuracy: 0.9700\n",
      "Epoch 14/50\n",
      "1182/1182 [==============================] - 3s 2ms/step - loss: 0.0717 - sparse_categorical_accuracy: 0.9828 - val_loss: 0.1949 - val_sparse_categorical_accuracy: 0.9660\n",
      "Epoch 15/50\n",
      "1182/1182 [==============================] - 3s 2ms/step - loss: 0.0625 - sparse_categorical_accuracy: 0.9847 - val_loss: 0.2091 - val_sparse_categorical_accuracy: 0.9629\n",
      "Epoch 16/50\n",
      "1182/1182 [==============================] - 3s 2ms/step - loss: 0.0707 - sparse_categorical_accuracy: 0.9814 - val_loss: 0.2421 - val_sparse_categorical_accuracy: 0.9640\n",
      "Epoch 17/50\n",
      "1182/1182 [==============================] - 3s 2ms/step - loss: 0.0673 - sparse_categorical_accuracy: 0.9835 - val_loss: 0.2001 - val_sparse_categorical_accuracy: 0.9674\n",
      "Epoch 18/50\n",
      "1182/1182 [==============================] - 3s 2ms/step - loss: 0.0578 - sparse_categorical_accuracy: 0.9864 - val_loss: 0.2851 - val_sparse_categorical_accuracy: 0.9633\n",
      "Epoch 19/50\n",
      "1182/1182 [==============================] - 3s 2ms/step - loss: 0.0610 - sparse_categorical_accuracy: 0.9840 - val_loss: 0.2940 - val_sparse_categorical_accuracy: 0.9664\n",
      "Epoch 20/50\n",
      "1182/1182 [==============================] - 3s 2ms/step - loss: 0.0797 - sparse_categorical_accuracy: 0.9833 - val_loss: 0.2366 - val_sparse_categorical_accuracy: 0.9690\n",
      "Epoch 21/50\n",
      "1182/1182 [==============================] - 3s 2ms/step - loss: 0.0534 - sparse_categorical_accuracy: 0.9875 - val_loss: 0.3404 - val_sparse_categorical_accuracy: 0.9610\n",
      "Epoch 22/50\n",
      "1182/1182 [==============================] - 3s 2ms/step - loss: 0.0601 - sparse_categorical_accuracy: 0.9872 - val_loss: 0.3378 - val_sparse_categorical_accuracy: 0.9681\n",
      "Epoch 23/50\n",
      "1182/1182 [==============================] - 3s 2ms/step - loss: 0.0544 - sparse_categorical_accuracy: 0.9884 - val_loss: 0.2463 - val_sparse_categorical_accuracy: 0.9631\n",
      "Epoch 24/50\n",
      "1182/1182 [==============================] - 3s 2ms/step - loss: 0.0593 - sparse_categorical_accuracy: 0.9877 - val_loss: 0.2470 - val_sparse_categorical_accuracy: 0.9698\n",
      "Epoch 25/50\n",
      "1182/1182 [==============================] - 3s 2ms/step - loss: 0.0410 - sparse_categorical_accuracy: 0.9904 - val_loss: 0.2618 - val_sparse_categorical_accuracy: 0.9683\n",
      "Epoch 26/50\n",
      "1182/1182 [==============================] - 3s 2ms/step - loss: 0.0589 - sparse_categorical_accuracy: 0.9874 - val_loss: 0.3017 - val_sparse_categorical_accuracy: 0.9690\n",
      "Epoch 27/50\n",
      "1182/1182 [==============================] - 3s 2ms/step - loss: 0.0433 - sparse_categorical_accuracy: 0.9911 - val_loss: 0.2538 - val_sparse_categorical_accuracy: 0.9710\n",
      "Epoch 28/50\n",
      "1182/1182 [==============================] - 3s 2ms/step - loss: 0.0438 - sparse_categorical_accuracy: 0.9895 - val_loss: 0.2798 - val_sparse_categorical_accuracy: 0.9617\n",
      "Epoch 29/50\n",
      "1182/1182 [==============================] - 3s 2ms/step - loss: 0.0437 - sparse_categorical_accuracy: 0.9883 - val_loss: 0.3189 - val_sparse_categorical_accuracy: 0.9631\n",
      "Epoch 30/50\n",
      "1182/1182 [==============================] - 3s 3ms/step - loss: 0.0573 - sparse_categorical_accuracy: 0.9876 - val_loss: 0.3504 - val_sparse_categorical_accuracy: 0.9660\n",
      "Epoch 31/50\n",
      "1182/1182 [==============================] - 3s 2ms/step - loss: 0.0568 - sparse_categorical_accuracy: 0.9877 - val_loss: 0.3033 - val_sparse_categorical_accuracy: 0.9602\n",
      "Epoch 32/50\n",
      "1182/1182 [==============================] - 3s 2ms/step - loss: 0.0503 - sparse_categorical_accuracy: 0.9884 - val_loss: 0.3714 - val_sparse_categorical_accuracy: 0.9676\n",
      "Epoch 33/50\n",
      "1182/1182 [==============================] - 3s 2ms/step - loss: 0.0542 - sparse_categorical_accuracy: 0.9897 - val_loss: 0.2876 - val_sparse_categorical_accuracy: 0.9674\n",
      "Epoch 34/50\n",
      "1182/1182 [==============================] - 3s 2ms/step - loss: 0.0433 - sparse_categorical_accuracy: 0.9891 - val_loss: 0.3774 - val_sparse_categorical_accuracy: 0.9645\n",
      "Epoch 35/50\n",
      "1182/1182 [==============================] - 3s 2ms/step - loss: 0.0451 - sparse_categorical_accuracy: 0.9894 - val_loss: 0.4689 - val_sparse_categorical_accuracy: 0.9638\n",
      "Epoch 36/50\n",
      "1182/1182 [==============================] - 3s 3ms/step - loss: 0.0443 - sparse_categorical_accuracy: 0.9903 - val_loss: 0.4061 - val_sparse_categorical_accuracy: 0.9657\n",
      "Epoch 37/50\n",
      "1182/1182 [==============================] - 3s 3ms/step - loss: 0.0498 - sparse_categorical_accuracy: 0.9907 - val_loss: 0.4145 - val_sparse_categorical_accuracy: 0.9640\n",
      "Epoch 38/50\n",
      "1182/1182 [==============================] - 3s 2ms/step - loss: 0.0407 - sparse_categorical_accuracy: 0.9909 - val_loss: 0.3600 - val_sparse_categorical_accuracy: 0.9676\n",
      "Epoch 39/50\n",
      "1182/1182 [==============================] - 3s 2ms/step - loss: 0.0652 - sparse_categorical_accuracy: 0.9876 - val_loss: 0.3286 - val_sparse_categorical_accuracy: 0.9617\n",
      "Epoch 40/50\n",
      "1182/1182 [==============================] - 3s 2ms/step - loss: 0.0647 - sparse_categorical_accuracy: 0.9882 - val_loss: 0.3698 - val_sparse_categorical_accuracy: 0.9705\n"
     ]
    },
    {
     "name": "stdout",
     "output_type": "stream",
     "text": [
      "Epoch 41/50\n",
      "1182/1182 [==============================] - 3s 2ms/step - loss: 0.0389 - sparse_categorical_accuracy: 0.9912 - val_loss: 0.4382 - val_sparse_categorical_accuracy: 0.9662\n",
      "Epoch 42/50\n",
      "1182/1182 [==============================] - 3s 2ms/step - loss: 0.0444 - sparse_categorical_accuracy: 0.9903 - val_loss: 0.4250 - val_sparse_categorical_accuracy: 0.9676\n",
      "Epoch 43/50\n",
      "1182/1182 [==============================] - 3s 2ms/step - loss: 0.0361 - sparse_categorical_accuracy: 0.9924 - val_loss: 0.4710 - val_sparse_categorical_accuracy: 0.9650\n",
      "Epoch 44/50\n",
      "1182/1182 [==============================] - 3s 2ms/step - loss: 0.0674 - sparse_categorical_accuracy: 0.9878 - val_loss: 0.5697 - val_sparse_categorical_accuracy: 0.9662\n",
      "Epoch 45/50\n",
      "1182/1182 [==============================] - 3s 2ms/step - loss: 0.0533 - sparse_categorical_accuracy: 0.9892 - val_loss: 0.4788 - val_sparse_categorical_accuracy: 0.9712\n",
      "Epoch 46/50\n",
      "1182/1182 [==============================] - 3s 2ms/step - loss: 0.0472 - sparse_categorical_accuracy: 0.9907 - val_loss: 0.5323 - val_sparse_categorical_accuracy: 0.9652\n",
      "Epoch 47/50\n",
      "1182/1182 [==============================] - 3s 2ms/step - loss: 0.0510 - sparse_categorical_accuracy: 0.9911 - val_loss: 0.3846 - val_sparse_categorical_accuracy: 0.9643\n",
      "Epoch 48/50\n",
      "1182/1182 [==============================] - 3s 2ms/step - loss: 0.0366 - sparse_categorical_accuracy: 0.9915 - val_loss: 0.4386 - val_sparse_categorical_accuracy: 0.9638\n",
      "Epoch 49/50\n",
      "1182/1182 [==============================] - 3s 2ms/step - loss: 0.0413 - sparse_categorical_accuracy: 0.9896 - val_loss: 0.6696 - val_sparse_categorical_accuracy: 0.9590\n",
      "Epoch 50/50\n",
      "1182/1182 [==============================] - 3s 2ms/step - loss: 0.0497 - sparse_categorical_accuracy: 0.9901 - val_loss: 0.5832 - val_sparse_categorical_accuracy: 0.9643\n"
     ]
    },
    {
     "data": {
      "image/png": "[encoded data removed]",
      "text/plain": [
       "<Figure size 576x360 with 1 Axes>"
      ]
     },
     "metadata": {
      "needs_background": "light"
     },
     "output_type": "display_data"
    },
    {
     "name": "stderr",
     "output_type": "stream",
     "text": [
      "2021-03-22 13:17:17,843 : INFO : Saved file: ../predictions/experiments-baseline.csv\n"
     ]
    },
    {
     "name": "stdout",
     "output_type": "stream",
     "text": [
      "132/132 [==============================] - 0s 605us/step - loss: 0.5832 - sparse_categorical_accuracy: 0.9643\n",
      "132/132 [==============================] - 0s 678us/step - loss: 2.3026 - sparse_categorical_accuracy: 0.1083\n",
      "132/132 [==============================] - 0s 624us/step - loss: 0.5832 - sparse_categorical_accuracy: 0.9643\n"
     ]
    }
   ],
   "source": [
    "import keras\n",
    "from keras import layers \n",
    "import matplotlib.pyplot as plt\n",
    "\n",
    "def seq_baseline_build(lr=0.001):\n",
    "    model = keras.models.Sequential()\n",
    "    model.add(keras.layers.Flatten(input_shape=[28, 28]))\n",
    "    model.add(keras.layers.Dense(300, activation='elu'))\n",
    "    model.add(keras.layers.Dense(100, activation='elu'))\n",
    "    model.add(keras.layers.Dense(10, activation='softmax'))\n",
    "\n",
    "    log.info(model.summary())\n",
    "    log.info(model.layers[2].get_weights()[0].shape)\n",
    "\n",
    "    model.compile(loss='sparse_categorical_crossentropy',\n",
    "                 optimizer=keras.optimizers.Nadam(learning_rate=lr),\n",
    "                 metrics=[keras.metrics.sparse_categorical_accuracy])\n",
    "    return model\n",
    "\n",
    "def plot(history):\n",
    "    pd.DataFrame(history.history).plot(figsize=(8, 5))\n",
    "    plt.grid(True)\n",
    "    plt.ylim(0, 1)\n",
    "    plt.show()\n",
    "\n",
    "def seq_baseline():\n",
    "    model = seq_baseline_build()\n",
    "    X_train = X[:int((1-args.val_fraction)*len(X)), :, :, :]\n",
    "    y_sparse_train = y_sparse[:int((1-args.val_fraction)*len(y))]\n",
    "    X_val = X[int((1-args.val_fraction)*len(X)):, :, :, :]\n",
    "    y_sparse_val = y_sparse[int((1-args.val_fraction)*len(y)):]\n",
    "    history = model.fit(X_train, y_sparse_train, epochs=args.epochs, validation_data=(X_val, y_sparse_val))\n",
    "    \n",
    "    plot(history)\n",
    "    predictions = np.argmax(model.predict(X_test), axis=-1)\n",
    "    csv_sparse_predictions(predictions, 'experiments-baseline.csv')\n",
    "    \n",
    "    # saving and loading models\n",
    "    model.save('experiments-seq-baseline.h5')\n",
    "    model_loaded = keras.models.load_model('experiments-seq-baseline.h5')\n",
    "    loaded_val_loss, loaded_val_acc = model_loaded.evaluate(X_val, y_sparse_val)\n",
    "    assert history.history['val_loss'][-1] == loaded_val_loss\n",
    "    assert history.history['val_sparse_categorical_accuracy'][-1] == loaded_val_acc\n",
    "    \n",
    "    model.save_weights('experiments-seq-baseline-weights.h5')\n",
    "    model.set_weights([np.zeros(layer_weights.shape) for layer_weights in model.get_weights()])\n",
    "    loaded_weights_val_loss, loaded_weights_val_acc = model.evaluate(X_val, y_sparse_val)\n",
    "    model.load_weights('experiments-seq-baseline-weights.h5')\n",
    "    loaded_weights_val_loss, loaded_weights_val_acc = model.evaluate(X_val, y_sparse_val)\n",
    "    assert history.history['val_loss'][-1] == loaded_weights_val_loss\n",
    "    assert history.history['val_sparse_categorical_accuracy'][-1] == loaded_weights_val_acc\n",
    "        \n",
    "    \n",
    "seq_baseline()"
   ]
  },
  {
   "cell_type": "markdown",
   "metadata": {},
   "source": [
    "#### Baseline result\n",
    "| Approach | Model  | Test score  | CV mean score |\n",
    "|---|---|---|---|\n",
    "| Baseline | 50 epochs | 0.96660 | 0.9738 |\n"
   ]
  },
  {
   "cell_type": "markdown",
   "metadata": {},
   "source": [
    "### Functional API. Arbitrary network"
   ]
  },
  {
   "cell_type": "code",
   "execution_count": 11,
   "metadata": {},
   "outputs": [
    {
     "name": "stderr",
     "output_type": "stream",
     "text": [
      "2021-03-22 13:17:18,474 : INFO : None\n"
     ]
    },
    {
     "name": "stdout",
     "output_type": "stream",
     "text": [
      "Model: \"model\"\n",
      "__________________________________________________________________________________________________\n",
      "Layer (type)                    Output Shape         Param #     Connected to                     \n",
      "==================================================================================================\n",
      "input_1 (InputLayer)            [(None, 28, 28, 1)]  0                                            \n",
      "__________________________________________________________________________________________________\n",
      "flatten_1 (Flatten)             (None, 784)          0           input_1[0][0]                    \n",
      "__________________________________________________________________________________________________\n",
      "input_2 (InputLayer)            [(None, 28, 28, 1)]  0                                            \n",
      "__________________________________________________________________________________________________\n",
      "dense_3 (Dense)                 (None, 300)          235500      flatten_1[0][0]                  \n",
      "__________________________________________________________________________________________________\n",
      "flatten_2 (Flatten)             (None, 784)          0           input_2[0][0]                    \n",
      "__________________________________________________________________________________________________\n",
      "dense_4 (Dense)                 (None, 100)          30100       dense_3[0][0]                    \n",
      "__________________________________________________________________________________________________\n",
      "concatenate (Concatenate)       (None, 884)          0           flatten_2[0][0]                  \n",
      "                                                                 dense_4[0][0]                    \n",
      "__________________________________________________________________________________________________\n",
      "dense_5 (Dense)                 (None, 10)           8850        concatenate[0][0]                \n",
      "__________________________________________________________________________________________________\n",
      "dense_6 (Dense)                 (None, 10)           1010        dense_4[0][0]                    \n",
      "==================================================================================================\n",
      "Total params: 275,460\n",
      "Trainable params: 275,460\n",
      "Non-trainable params: 0\n",
      "__________________________________________________________________________________________________\n",
      "Epoch 1/5\n",
      "1182/1182 [==============================] - 4s 3ms/step - loss: 15.4246 - dense_5_loss: 15.6338 - dense_6_loss: 13.5424 - dense_5_sparse_categorical_accuracy: 0.8040 - dense_6_sparse_categorical_accuracy: 0.7801 - val_loss: 4.9029 - val_dense_5_loss: 5.1144 - val_dense_6_loss: 2.9995 - val_dense_5_sparse_categorical_accuracy: 0.9131 - val_dense_6_sparse_categorical_accuracy: 0.9100\n",
      "Epoch 2/5\n",
      "1182/1182 [==============================] - 3s 3ms/step - loss: 3.1834 - dense_5_loss: 3.2814 - dense_6_loss: 2.3011 - dense_5_sparse_categorical_accuracy: 0.9388 - dense_6_sparse_categorical_accuracy: 0.9302 - val_loss: 4.8938 - val_dense_5_loss: 5.1950 - val_dense_6_loss: 2.1830 - val_dense_5_sparse_categorical_accuracy: 0.9219 - val_dense_6_sparse_categorical_accuracy: 0.9293\n",
      "Epoch 3/5\n",
      "1182/1182 [==============================] - 3s 3ms/step - loss: 2.4948 - dense_5_loss: 2.5886 - dense_6_loss: 1.6509 - dense_5_sparse_categorical_accuracy: 0.9548 - dense_6_sparse_categorical_accuracy: 0.9450 - val_loss: 4.6624 - val_dense_5_loss: 4.9305 - val_dense_6_loss: 2.2490 - val_dense_5_sparse_categorical_accuracy: 0.9445 - val_dense_6_sparse_categorical_accuracy: 0.9336\n",
      "Epoch 4/5\n",
      "1182/1182 [==============================] - 3s 3ms/step - loss: 2.1310 - dense_5_loss: 2.2298 - dense_6_loss: 1.2413 - dense_5_sparse_categorical_accuracy: 0.9640 - dense_6_sparse_categorical_accuracy: 0.9540 - val_loss: 3.2341 - val_dense_5_loss: 3.4355 - val_dense_6_loss: 1.4217 - val_dense_5_sparse_categorical_accuracy: 0.9595 - val_dense_6_sparse_categorical_accuracy: 0.9505\n",
      "Epoch 5/5\n",
      "1182/1182 [==============================] - 3s 3ms/step - loss: 1.7864 - dense_5_loss: 1.8779 - dense_6_loss: 0.9626 - dense_5_sparse_categorical_accuracy: 0.9716 - dense_6_sparse_categorical_accuracy: 0.9613 - val_loss: 4.4271 - val_dense_5_loss: 4.7512 - val_dense_6_loss: 1.5102 - val_dense_5_sparse_categorical_accuracy: 0.9586 - val_dense_6_sparse_categorical_accuracy: 0.9524\n"
     ]
    },
    {
     "data": {
      "image/png": "[encoded data removed]",
      "text/plain": [
       "<Figure size 576x360 with 1 Axes>"
      ]
     },
     "metadata": {
      "needs_background": "light"
     },
     "output_type": "display_data"
    }
   ],
   "source": [
    "def functional_api_arbitrary():\n",
    "    i1 = keras.layers.Input(shape=X.shape[1:])\n",
    "    f1 = keras.layers.Flatten(input_shape=[28, 28])(i1)\n",
    "    h1 = keras.layers.Dense(300, activation='elu')(f1)\n",
    "    h2 = keras.layers.Dense(100, activation='elu')(h1)\n",
    "    i2 = keras.layers.Input(shape=X.shape[1:])\n",
    "    f2 = keras.layers.Flatten(input_shape=[28, 28])(i2)\n",
    "    c = keras.layers.Concatenate()([f2, h2])\n",
    "    o1 = keras.layers.Dense(10, activation='softmax')(c)\n",
    "    o2 = keras.layers.Dense(10, activation='softmax')(h2)\n",
    "    model = keras.Model(inputs=[i1, i2], outputs=[o1, o2])\n",
    "\n",
    "    model.compile(loss=['sparse_categorical_crossentropy', 'sparse_categorical_crossentropy'],\n",
    "                  loss_weights=[0.9, 0.1],\n",
    "                 optimizer=keras.optimizers.Nadam(),\n",
    "                 metrics=[keras.metrics.sparse_categorical_accuracy])\n",
    "    log.info(model.summary())\n",
    "    history = model.fit([X, X], [y_sparse, y_sparse], epochs=5, validation_split=args.val_fraction)\n",
    "    pd.DataFrame(history.history).plot(figsize=(8, 5))\n",
    "    plt.grid(True)\n",
    "    plt.show()\n",
    "    \n",
    "functional_api_arbitrary()"
   ]
  },
  {
   "cell_type": "markdown",
   "metadata": {},
   "source": [
    "### Subclassing API. Arbitrary network"
   ]
  },
  {
   "cell_type": "code",
   "execution_count": 12,
   "metadata": {},
   "outputs": [
    {
     "name": "stdout",
     "output_type": "stream",
     "text": [
      "Epoch 1/5\n",
      "1182/1182 [==============================] - 26s 22ms/step - loss: 14.9035 - output_1_loss: 15.2261 - output_2_loss: 12.0007 - output_1_sparse_categorical_accuracy: 0.8030 - output_2_sparse_categorical_accuracy: 0.7805 - val_loss: 7.5841 - val_output_1_loss: 7.6117 - val_output_2_loss: 7.3359 - val_output_1_sparse_categorical_accuracy: 0.8781 - val_output_2_sparse_categorical_accuracy: 0.8314\n",
      "Epoch 2/5\n",
      "1182/1182 [==============================] - 26s 22ms/step - loss: 3.3852 - output_1_loss: 3.4810 - output_2_loss: 2.5230 - output_1_sparse_categorical_accuracy: 0.9355 - output_2_sparse_categorical_accuracy: 0.9248 - val_loss: 3.1069 - val_output_1_loss: 3.2297 - val_output_2_loss: 2.0010 - val_output_1_sparse_categorical_accuracy: 0.9505 - val_output_2_sparse_categorical_accuracy: 0.9355\n",
      "Epoch 3/5\n",
      "1182/1182 [==============================] - 26s 22ms/step - loss: 2.5118 - output_1_loss: 2.6052 - output_2_loss: 1.6714 - output_1_sparse_categorical_accuracy: 0.9546 - output_2_sparse_categorical_accuracy: 0.9456 - val_loss: 3.9589 - val_output_1_loss: 4.2035 - val_output_2_loss: 1.7576 - val_output_1_sparse_categorical_accuracy: 0.9476 - val_output_2_sparse_categorical_accuracy: 0.9400\n",
      "Epoch 4/5\n",
      "1182/1182 [==============================] - 26s 22ms/step - loss: 2.0761 - output_1_loss: 2.1655 - output_2_loss: 1.2717 - output_1_sparse_categorical_accuracy: 0.9637 - output_2_sparse_categorical_accuracy: 0.9529 - val_loss: 5.3445 - val_output_1_loss: 5.7052 - val_output_2_loss: 2.0986 - val_output_1_sparse_categorical_accuracy: 0.9390 - val_output_2_sparse_categorical_accuracy: 0.9440\n",
      "Epoch 5/5\n",
      "1182/1182 [==============================] - 26s 22ms/step - loss: 1.9917 - output_1_loss: 2.0823 - output_2_loss: 1.1755 - output_1_sparse_categorical_accuracy: 0.9685 - output_2_sparse_categorical_accuracy: 0.9575 - val_loss: 3.2112 - val_output_1_loss: 3.4195 - val_output_2_loss: 1.3356 - val_output_1_sparse_categorical_accuracy: 0.9636 - val_output_2_sparse_categorical_accuracy: 0.9526\n"
     ]
    },
    {
     "name": "stderr",
     "output_type": "stream",
     "text": [
      "2021-03-22 13:19:45,452 : INFO : None\n"
     ]
    },
    {
     "name": "stdout",
     "output_type": "stream",
     "text": [
      "Model: \"wide_and_deep_model\"\n",
      "_________________________________________________________________\n",
      "Layer (type)                 Output Shape              Param #   \n",
      "=================================================================\n",
      "flatten_3 (Flatten)          multiple                  0         \n",
      "_________________________________________________________________\n",
      "dense_7 (Dense)              multiple                  235500    \n",
      "_________________________________________________________________\n",
      "dense_8 (Dense)              multiple                  30100     \n",
      "_________________________________________________________________\n",
      "flatten_4 (Flatten)          multiple                  0         \n",
      "_________________________________________________________________\n",
      "concatenate_1 (Concatenate)  multiple                  0         \n",
      "_________________________________________________________________\n",
      "dense_9 (Dense)              multiple                  8850      \n",
      "_________________________________________________________________\n",
      "dense_10 (Dense)             multiple                  1010      \n",
      "=================================================================\n",
      "Total params: 275,460\n",
      "Trainable params: 275,460\n",
      "Non-trainable params: 0\n",
      "_________________________________________________________________\n"
     ]
    },
    {
     "data": {
      "image/png": "[encoded data removed]",
      "text/plain": [
       "<Figure size 576x360 with 1 Axes>"
      ]
     },
     "metadata": {
      "needs_background": "light"
     },
     "output_type": "display_data"
    }
   ],
   "source": [
    "import tensorflow as tf\n",
    "\n",
    "def subclassing_api_arbitrary():\n",
    "    class WideAndDeepModel(keras.Model):\n",
    "        def __init__(self, units1=300, units2=100, activation='elu', **kwargs):\n",
    "            super().__init__(**kwargs)\n",
    "            self.f1 = keras.layers.Flatten(input_shape=[28, 28])\n",
    "            self.h1 = keras.layers.Dense(units1, activation=activation)\n",
    "            self.h2 = keras.layers.Dense(units2, activation=activation)\n",
    "            self.f2 = keras.layers.Flatten(input_shape=[28, 28])\n",
    "            self.c = keras.layers.Concatenate()\n",
    "            self.o1 = keras.layers.Dense(10, activation='softmax')\n",
    "            self.o2 = keras.layers.Dense(10, activation='softmax')\n",
    "        def call(self, inputs):\n",
    "            i1, i2 = inputs\n",
    "            f1 = self.f1(i1)\n",
    "            h1 = self.h1(f1)\n",
    "            h2 = self.h2(h1)\n",
    "            f2 = self.f2(i2)\n",
    "            f2 = tf.cast(f2, tf.float32) \n",
    "            c = self.c([f2, h2])\n",
    "            o1 = self.o1(c)\n",
    "            o2 = self.o2(h2)\n",
    "            return o1, o2\n",
    "\n",
    "    i1 = keras.layers.Input(shape=X.shape[1:])\n",
    "    i2 = keras.layers.Input(shape=X.shape[1:])\n",
    "    model = WideAndDeepModel()\n",
    "    model.compile(loss=['sparse_categorical_crossentropy', 'sparse_categorical_crossentropy'],\n",
    "                      loss_weights=[0.9, 0.1],\n",
    "                     optimizer=keras.optimizers.Nadam(),\n",
    "                     metrics=[keras.metrics.sparse_categorical_accuracy],\n",
    "                  run_eagerly=True)\n",
    "    history = model.fit([X, X], [y_sparse, y_sparse], epochs=5, validation_split=args.val_fraction,)\n",
    "    log.info(model.summary())\n",
    "    pd.DataFrame(history.history).plot(figsize=(8, 5))\n",
    "    plt.grid(True)\n",
    "    plt.show()\n",
    "    \n",
    "subclassing_api_arbitrary()"
   ]
  },
  {
   "cell_type": "markdown",
   "metadata": {},
   "source": [
    "### Early stopping with callbacks"
   ]
  },
  {
   "cell_type": "code",
   "execution_count": 13,
   "metadata": {},
   "outputs": [
    {
     "name": "stderr",
     "output_type": "stream",
     "text": [
      "2021-03-22 13:19:45,763 : INFO : None\n",
      "2021-03-22 13:19:45,764 : INFO : (300, 100)\n"
     ]
    },
    {
     "name": "stdout",
     "output_type": "stream",
     "text": [
      "Model: \"sequential_1\"\n",
      "_________________________________________________________________\n",
      "Layer (type)                 Output Shape              Param #   \n",
      "=================================================================\n",
      "flatten_5 (Flatten)          (None, 784)               0         \n",
      "_________________________________________________________________\n",
      "dense_11 (Dense)             (None, 300)               235500    \n",
      "_________________________________________________________________\n",
      "dense_12 (Dense)             (None, 100)               30100     \n",
      "_________________________________________________________________\n",
      "dense_13 (Dense)             (None, 10)                1010      \n",
      "=================================================================\n",
      "Total params: 266,610\n",
      "Trainable params: 266,610\n",
      "Non-trainable params: 0\n",
      "_________________________________________________________________\n",
      "Epoch 1/50\n",
      "1182/1182 [==============================] - 3s 3ms/step - loss: 6.0288 - sparse_categorical_accuracy: 0.8312 - val_loss: 0.5502 - val_sparse_categorical_accuracy: 0.9224\n",
      "Epoch 2/50\n",
      "1182/1182 [==============================] - 3s 2ms/step - loss: 0.4021 - sparse_categorical_accuracy: 0.9354 - val_loss: 0.3907 - val_sparse_categorical_accuracy: 0.9264\n",
      "Epoch 3/50\n",
      "1182/1182 [==============================] - 3s 2ms/step - loss: 0.2033 - sparse_categorical_accuracy: 0.9505 - val_loss: 0.3034 - val_sparse_categorical_accuracy: 0.9452\n",
      "Epoch 4/50\n",
      "1182/1182 [==============================] - 3s 3ms/step - loss: 0.1519 - sparse_categorical_accuracy: 0.9599 - val_loss: 0.2526 - val_sparse_categorical_accuracy: 0.9488\n",
      "Epoch 5/50\n",
      "1182/1182 [==============================] - 3s 2ms/step - loss: 0.1435 - sparse_categorical_accuracy: 0.9629 - val_loss: 0.2584 - val_sparse_categorical_accuracy: 0.9424\n",
      "Epoch 6/50\n",
      "1182/1182 [==============================] - 3s 2ms/step - loss: 0.1266 - sparse_categorical_accuracy: 0.9643 - val_loss: 0.2008 - val_sparse_categorical_accuracy: 0.9543\n",
      "Epoch 7/50\n",
      "1182/1182 [==============================] - 3s 2ms/step - loss: 0.1148 - sparse_categorical_accuracy: 0.9677 - val_loss: 0.2064 - val_sparse_categorical_accuracy: 0.9548\n",
      "Epoch 8/50\n",
      "1182/1182 [==============================] - 3s 2ms/step - loss: 0.0940 - sparse_categorical_accuracy: 0.9735 - val_loss: 0.2343 - val_sparse_categorical_accuracy: 0.9493\n",
      "Epoch 9/50\n",
      "1182/1182 [==============================] - 3s 2ms/step - loss: 0.0989 - sparse_categorical_accuracy: 0.9736 - val_loss: 0.1621 - val_sparse_categorical_accuracy: 0.9631\n",
      "Epoch 10/50\n",
      "1182/1182 [==============================] - 3s 2ms/step - loss: 0.0865 - sparse_categorical_accuracy: 0.9766 - val_loss: 0.1684 - val_sparse_categorical_accuracy: 0.9600\n",
      "Epoch 11/50\n",
      "1182/1182 [==============================] - 3s 2ms/step - loss: 0.0860 - sparse_categorical_accuracy: 0.9776 - val_loss: 0.2117 - val_sparse_categorical_accuracy: 0.9521\n",
      "Epoch 12/50\n",
      "1182/1182 [==============================] - 3s 2ms/step - loss: 0.0683 - sparse_categorical_accuracy: 0.9802 - val_loss: 0.1786 - val_sparse_categorical_accuracy: 0.9633\n",
      "Epoch 13/50\n",
      "1182/1182 [==============================] - 3s 2ms/step - loss: 0.0734 - sparse_categorical_accuracy: 0.9805 - val_loss: 0.1822 - val_sparse_categorical_accuracy: 0.9624\n",
      "Epoch 14/50\n",
      "1182/1182 [==============================] - 3s 2ms/step - loss: 0.0570 - sparse_categorical_accuracy: 0.9840 - val_loss: 0.2103 - val_sparse_categorical_accuracy: 0.9633\n",
      "Epoch 15/50\n",
      "1182/1182 [==============================] - 3s 2ms/step - loss: 0.0735 - sparse_categorical_accuracy: 0.9818 - val_loss: 0.1653 - val_sparse_categorical_accuracy: 0.9690\n",
      "Epoch 16/50\n",
      "1182/1182 [==============================] - 3s 2ms/step - loss: 0.0527 - sparse_categorical_accuracy: 0.9859 - val_loss: 0.2558 - val_sparse_categorical_accuracy: 0.9619\n",
      "Epoch 17/50\n",
      "1182/1182 [==============================] - 3s 2ms/step - loss: 0.0623 - sparse_categorical_accuracy: 0.9852 - val_loss: 0.1802 - val_sparse_categorical_accuracy: 0.9671\n",
      "Epoch 18/50\n",
      "1182/1182 [==============================] - 3s 2ms/step - loss: 0.0550 - sparse_categorical_accuracy: 0.9860 - val_loss: 0.1825 - val_sparse_categorical_accuracy: 0.9664\n",
      "Epoch 19/50\n",
      "1182/1182 [==============================] - 3s 2ms/step - loss: 0.0488 - sparse_categorical_accuracy: 0.9878 - val_loss: 0.2096 - val_sparse_categorical_accuracy: 0.9683\n"
     ]
    },
    {
     "data": {
      "image/png": "[encoded data removed]",
      "text/plain": [
       "<Figure size 576x360 with 1 Axes>"
      ]
     },
     "metadata": {
      "needs_background": "light"
     },
     "output_type": "display_data"
    },
    {
     "name": "stderr",
     "output_type": "stream",
     "text": [
      "2021-03-22 13:20:40,836 : INFO : Saved file: ../predictions/experiments-early-stopping.csv\n"
     ]
    }
   ],
   "source": [
    "import keras\n",
    "from keras import layers \n",
    "\n",
    "def early_stopping(monitor='val_sparse_categorical_accuracy'):\n",
    "    early_stopping_callback = keras.callbacks.EarlyStopping(monitor=monitor, \n",
    "                                                patience=10, restore_best_weights=True)\n",
    "    model = seq_baseline_build()\n",
    "    history = model.fit(X, y_sparse, epochs=args.epochs, validation_split=args.val_fraction, \n",
    "                        callbacks=[early_stopping_callback])\n",
    "    \n",
    "    plot(history)\n",
    "    predictions = np.argmax(model.predict(X_test), axis=-1)\n",
    "    csv_sparse_predictions(predictions, 'experiments-early-stopping.csv')\n",
    "    \n",
    "early_stopping(monitor='val_loss')"
   ]
  },
  {
   "cell_type": "markdown",
   "metadata": {},
   "source": [
    "#### Early stopping\n",
    "| Approach | Model  | Test score  | CV mean score |\n",
    "|---|---|---|---|\n",
    "| monitor='val_sparse_categorical_accuracy' | 25 epochs | 0.96910 | 0.9733 |\n",
    "| monitor='val_loss' | 6 epochs | 0.9571 | 0.95503 |\n"
   ]
  },
  {
   "cell_type": "markdown",
   "metadata": {},
   "source": [
    "### Tensorboard"
   ]
  },
  {
   "cell_type": "code",
   "execution_count": 14,
   "metadata": {
    "scrolled": true
   },
   "outputs": [
    {
     "name": "stderr",
     "output_type": "stream",
     "text": [
      "2021-03-22 13:20:40,871 : INFO : None\n",
      "2021-03-22 13:20:40,873 : INFO : (300, 100)\n"
     ]
    },
    {
     "name": "stdout",
     "output_type": "stream",
     "text": [
      "Model: \"sequential_2\"\n",
      "_________________________________________________________________\n",
      "Layer (type)                 Output Shape              Param #   \n",
      "=================================================================\n",
      "flatten_6 (Flatten)          (None, 784)               0         \n",
      "_________________________________________________________________\n",
      "dense_14 (Dense)             (None, 300)               235500    \n",
      "_________________________________________________________________\n",
      "dense_15 (Dense)             (None, 100)               30100     \n",
      "_________________________________________________________________\n",
      "dense_16 (Dense)             (None, 10)                1010      \n",
      "=================================================================\n",
      "Total params: 266,610\n",
      "Trainable params: 266,610\n",
      "Non-trainable params: 0\n",
      "_________________________________________________________________\n",
      "Epoch 1/5\n",
      "1182/1182 [==============================] - 3s 3ms/step - loss: 5.8498 - sparse_categorical_accuracy: 0.7996 - val_loss: 0.4693 - val_sparse_categorical_accuracy: 0.9040\n",
      "Epoch 2/5\n",
      "1182/1182 [==============================] - 3s 2ms/step - loss: 0.3135 - sparse_categorical_accuracy: 0.9204 - val_loss: 0.3167 - val_sparse_categorical_accuracy: 0.9276\n",
      "Epoch 3/5\n",
      "1182/1182 [==============================] - 3s 2ms/step - loss: 0.2159 - sparse_categorical_accuracy: 0.9441 - val_loss: 0.2297 - val_sparse_categorical_accuracy: 0.9421\n",
      "Epoch 4/5\n",
      "1182/1182 [==============================] - 3s 2ms/step - loss: 0.1687 - sparse_categorical_accuracy: 0.9525 - val_loss: 0.2864 - val_sparse_categorical_accuracy: 0.9345\n",
      "Epoch 5/5\n",
      "1182/1182 [==============================] - 3s 2ms/step - loss: 0.1535 - sparse_categorical_accuracy: 0.9574 - val_loss: 0.2233 - val_sparse_categorical_accuracy: 0.9455\n"
     ]
    }
   ],
   "source": [
    "import os\n",
    "import time\n",
    "\n",
    "def get_logdir():\n",
    "    return os.path.join('../logs', time.strftime('%Y-%m-%d-%H-%M-%S'))\n",
    "tensorboard_callback = keras.callbacks.TensorBoard(get_logdir())\n",
    "history = seq_baseline_build().fit(X, y_sparse, epochs=5, validation_split=args.val_fraction, \n",
    "                                   callbacks=[tensorboard_callback])"
   ]
  },
  {
   "cell_type": "markdown",
   "metadata": {},
   "source": [
    "### Hyperparams search. Sklearn integration"
   ]
  },
  {
   "cell_type": "code",
   "execution_count": 15,
   "metadata": {
    "scrolled": true
   },
   "outputs": [
    {
     "name": "stderr",
     "output_type": "stream",
     "text": [
      "2021-03-22 13:20:55,989 : INFO : None\n"
     ]
    },
    {
     "name": "stdout",
     "output_type": "stream",
     "text": [
      "Model: \"sequential_3\"\n",
      "_________________________________________________________________\n",
      "Layer (type)                 Output Shape              Param #   \n",
      "=================================================================\n",
      "flatten_7 (Flatten)          (None, 784)               0         \n",
      "_________________________________________________________________\n",
      "dense_17 (Dense)             (None, 133)               104405    \n",
      "_________________________________________________________________\n",
      "dense_18 (Dense)             (None, 10)                1340      \n",
      "=================================================================\n",
      "Total params: 105,745\n",
      "Trainable params: 105,745\n",
      "Non-trainable params: 0\n",
      "_________________________________________________________________\n",
      "591/591 [==============================] - 1s 1ms/step - loss: 12.8238 - accuracy: 0.7246 - val_loss: 0.7900 - val_accuracy: 0.8000\n",
      "657/657 [==============================] - 0s 494us/step - loss: 0.7944 - accuracy: 0.8054\n"
     ]
    },
    {
     "name": "stderr",
     "output_type": "stream",
     "text": [
      "2021-03-22 13:20:57,629 : INFO : None\n"
     ]
    },
    {
     "name": "stdout",
     "output_type": "stream",
     "text": [
      "Model: \"sequential_4\"\n",
      "_________________________________________________________________\n",
      "Layer (type)                 Output Shape              Param #   \n",
      "=================================================================\n",
      "flatten_8 (Flatten)          (None, 784)               0         \n",
      "_________________________________________________________________\n",
      "dense_19 (Dense)             (None, 133)               104405    \n",
      "_________________________________________________________________\n",
      "dense_20 (Dense)             (None, 10)                1340      \n",
      "=================================================================\n",
      "Total params: 105,745\n",
      "Trainable params: 105,745\n",
      "Non-trainable params: 0\n",
      "_________________________________________________________________\n",
      "591/591 [==============================] - 1s 1ms/step - loss: 11.7548 - accuracy: 0.7667 - val_loss: 0.6851 - val_accuracy: 0.8248\n",
      "657/657 [==============================] - 0s 484us/step - loss: 0.7270 - accuracy: 0.8214\n"
     ]
    },
    {
     "name": "stderr",
     "output_type": "stream",
     "text": [
      "2021-03-22 13:20:59,240 : INFO : None\n"
     ]
    },
    {
     "name": "stdout",
     "output_type": "stream",
     "text": [
      "Model: \"sequential_5\"\n",
      "_________________________________________________________________\n",
      "Layer (type)                 Output Shape              Param #   \n",
      "=================================================================\n",
      "flatten_9 (Flatten)          (None, 784)               0         \n",
      "_________________________________________________________________\n",
      "dense_21 (Dense)             (None, 108)               84780     \n",
      "_________________________________________________________________\n",
      "dense_22 (Dense)             (None, 108)               11772     \n",
      "_________________________________________________________________\n",
      "dense_23 (Dense)             (None, 108)               11772     \n",
      "_________________________________________________________________\n",
      "dense_24 (Dense)             (None, 10)                1090      \n",
      "=================================================================\n",
      "Total params: 109,414\n",
      "Trainable params: 109,414\n",
      "Non-trainable params: 0\n",
      "_________________________________________________________________\n",
      "591/591 [==============================] - 1s 1ms/step - loss: 35.4010 - accuracy: 0.1460 - val_loss: 2.4488 - val_accuracy: 0.1067\n",
      "657/657 [==============================] - 0s 555us/step - loss: 2.5115 - accuracy: 0.0988\n"
     ]
    },
    {
     "name": "stderr",
     "output_type": "stream",
     "text": [
      "2021-03-22 13:21:01,174 : INFO : None\n"
     ]
    },
    {
     "name": "stdout",
     "output_type": "stream",
     "text": [
      "Model: \"sequential_6\"\n",
      "_________________________________________________________________\n",
      "Layer (type)                 Output Shape              Param #   \n",
      "=================================================================\n",
      "flatten_10 (Flatten)         (None, 784)               0         \n",
      "_________________________________________________________________\n",
      "dense_25 (Dense)             (None, 108)               84780     \n",
      "_________________________________________________________________\n",
      "dense_26 (Dense)             (None, 108)               11772     \n",
      "_________________________________________________________________\n",
      "dense_27 (Dense)             (None, 108)               11772     \n",
      "_________________________________________________________________\n",
      "dense_28 (Dense)             (None, 10)                1090      \n",
      "=================================================================\n",
      "Total params: 109,414\n",
      "Trainable params: 109,414\n",
      "Non-trainable params: 0\n",
      "_________________________________________________________________\n",
      "591/591 [==============================] - 1s 1ms/step - loss: 33.5402 - accuracy: 0.2480 - val_loss: 1.7403 - val_accuracy: 0.3038\n",
      "657/657 [==============================] - 0s 534us/step - loss: 1.7113 - accuracy: 0.3179\n"
     ]
    },
    {
     "name": "stderr",
     "output_type": "stream",
     "text": [
      "2021-03-22 13:21:02,976 : INFO : None\n"
     ]
    },
    {
     "name": "stdout",
     "output_type": "stream",
     "text": [
      "Model: \"sequential_7\"\n",
      "_________________________________________________________________\n",
      "Layer (type)                 Output Shape              Param #   \n",
      "=================================================================\n",
      "flatten_11 (Flatten)         (None, 784)               0         \n",
      "_________________________________________________________________\n",
      "dense_29 (Dense)             (None, 133)               104405    \n",
      "_________________________________________________________________\n",
      "dense_30 (Dense)             (None, 10)                1340      \n",
      "=================================================================\n",
      "Total params: 105,745\n",
      "Trainable params: 105,745\n",
      "Non-trainable params: 0\n",
      "_________________________________________________________________\n",
      "1182/1182 [==============================] - 2s 1ms/step - loss: 7.2986 - accuracy: 0.7930 - val_loss: 0.6960 - val_accuracy: 0.8612\n",
      "{'n_neurons': 133, 'n_hidden': 1, 'lr': 0.003}\n",
      "0.813404768705368\n"
     ]
    },
    {
     "name": "stderr",
     "output_type": "stream",
     "text": [
      "2021-03-22 13:21:05,257 : INFO : Saved file: ../predictions/experiments-sklearn-rscv.csv\n"
     ]
    }
   ],
   "source": [
    "from sklearn.model_selection import RandomizedSearchCV\n",
    "\n",
    "def sklearn_rscv():\n",
    "    n_iter, cv, epochs = 2, 2, 1\n",
    "    def build_rscv_model(n_hidden=1, n_neurons=30, lr=3e-3):\n",
    "        model = keras.models.Sequential()\n",
    "        model.add(keras.layers.InputLayer(input_shape=[28, 28]))\n",
    "        model.add(keras.layers.Flatten())\n",
    "        for l in range(n_hidden):\n",
    "            model.add(keras.layers.Dense(n_neurons, activation='elu'))\n",
    "        model.add(keras.layers.Dense(10, activation='softmax'))\n",
    "        log.info(model.summary())\n",
    "        # accuracy instead of val_sparse_categorical_accuracy to coincide with sklearn metrics\n",
    "        model.compile(loss='sparse_categorical_crossentropy',\n",
    "                     optimizer=keras.optimizers.Nadam(lr=lr),\n",
    "                     metrics=['accuracy'])\n",
    "        return model\n",
    "\n",
    "    rscv_model = keras.wrappers.scikit_learn.KerasClassifier(build_rscv_model)\n",
    "    rscv_params = {\n",
    "        'n_hidden': [1, 2, 3],\n",
    "        'n_neurons': np.arange(3, 300, step=5).tolist(),\n",
    "        'lr': [3e-2, 3e-3, 3e-4]\n",
    "    }\n",
    "    rscv = RandomizedSearchCV(rscv_model, rscv_params, n_iter=n_iter, cv=cv)\n",
    "    early_stopping_callback = keras.callbacks.EarlyStopping(monitor='val_accuracy', \n",
    "                                                            patience=10, restore_best_weights=True)\n",
    "    rscv.fit(X, y_sparse, epochs=epochs, validation_split=args.val_fraction, \n",
    "                   callbacks=[early_stopping_callback])\n",
    "    print(rscv.best_params_)\n",
    "    print(rscv.best_score_)\n",
    "    \n",
    "    predictions = np.argmax(rscv.best_estimator_.model.predict(X_test), axis=-1)\n",
    "    csv_sparse_predictions(predictions, 'experiments-sklearn-rscv.csv')\n",
    "    \n",
    "sklearn_rscv()"
   ]
  },
  {
   "cell_type": "markdown",
   "metadata": {},
   "source": [
    "#### Sklearn hyperparam integration\n",
    "| Approach | Model  | Test score  | CV mean score |\n",
    "|---|---|---|---|\n",
    "| RandomizedSearchCV | {'n_neurons': 213, 'n_hidden': 3, 'lr': 0.003} early_stopping='val_accuracy' | 0.96953 | 0.9681 |"
   ]
  },
  {
   "cell_type": "markdown",
   "metadata": {},
   "source": [
    "### Hyperparams search. Huyperopt integration"
   ]
  },
  {
   "cell_type": "code",
   "execution_count": 16,
   "metadata": {},
   "outputs": [
    {
     "name": "stdout",
     "output_type": "stream",
     "text": [
      "\r",
      "  0%|          | 0/1 [00:00<?, ?trial/s, best loss=?]"
     ]
    },
    {
     "name": "stderr",
     "output_type": "stream",
     "text": [
      "2021-03-22 13:21:05,555 : INFO : build_posterior_wrapper took 0.003566 seconds\n",
      "2021-03-22 13:21:05,556 : INFO : TPE using 0 trials\n"
     ]
    },
    {
     "name": "stdout",
     "output_type": "stream",
     "text": [
      "100%|██████████| 1/1 [02:22<00:00, 142.93s/trial, best loss: -0.9773809313774109]"
     ]
    },
    {
     "name": "stderr",
     "output_type": "stream",
     "text": [
      "2021-03-22 13:23:28,486 : INFO : Best: {'activation': 0, 'batch_size': 89.0, 'dropout1': 0.2564783188062111, 'dropout2': 0.13639499324165016, 'dropout3': 0.39146584511550686, 'lr': 1, 'num_layers': 1, 'optimizer': 1, 'units1': 572.832106373116, 'units2': 506.974370573996, 'units3': 363.37684382923544}\n",
      "2021-03-22 13:23:28,487 : INFO : Score: 0.9773809313774109\n"
     ]
    },
    {
     "name": "stdout",
     "output_type": "stream",
     "text": [
      "\n"
     ]
    }
   ],
   "source": [
    "from hyperopt import fmin, tpe, hp, STATUS_OK, Trials, pyll\n",
    "\n",
    "def hyperopt_integration():\n",
    "    space = {'choice': hp.choice('num_layers',\n",
    "                        [ \n",
    "                            {'layers':'two', },\n",
    "                            {\n",
    "                                'layers':'three',\n",
    "                                'units3': hp.uniform('units3', 64, 1024), \n",
    "                                'dropout3': hp.uniform('dropout3', .0,.5)\n",
    "                            }\n",
    "                        ]),\n",
    "\n",
    "                'units1': hp.uniform('units1', 64, 1024),\n",
    "                'units2': hp.uniform('units2', 64, 1024),\n",
    "\n",
    "                'dropout1': hp.uniform('dropout1', .0, .5),\n",
    "                'dropout2': hp.uniform('dropout2',  .0, .5),\n",
    "\n",
    "                'optimizer': hp.choice('optimizer',['nadam', 'rmsprop', 'adamax', 'adam']),\n",
    "                'activation': hp.choice('activation', ['relu', 'elu', 'selu']),\n",
    "                'lr': hp.choice('lr', [1e-3, 1e-4, 1e-5]),\n",
    "                 \n",
    "                'batch_size' : pyll.scope.int(hp.quniform('batch_size', 32, 128, q=1)),\n",
    "            }\n",
    "\n",
    "    def find_best_model_hyperopt(params):   \n",
    "        model = keras.models.Sequential()\n",
    "        model.add(keras.layers.InputLayer(input_shape=[28, 28]))\n",
    "        model.add(keras.layers.Flatten())\n",
    "        model.add(keras.layers.Dense(params['units1'], activation=params['activation']))\n",
    "        model.add(keras.layers.Dropout(rate=params['dropout1']))\n",
    "        model.add(keras.layers.Dense(params['units2'], activation=params['activation']))\n",
    "        model.add(keras.layers.Dropout(rate=params['dropout2']))\n",
    "        if params['choice']['layers'] == 'three':\n",
    "            model.add(keras.layers.Dense(params['choice']['units3'], activation=params['activation'])) \n",
    "            model.add(keras.layers.Dropout(params['choice']['dropout3']))\n",
    "        model.add(keras.layers.Dense(10, activation='softmax'))\n",
    "        if params['optimizer'] == 'nadam':\n",
    "            optimizer=keras.optimizers.Nadam(lr=params['lr'])\n",
    "        elif params['optimizer'] == 'rmsprop':\n",
    "            optimizer=keras.optimizers.RMSprop(lr=params['lr'])\n",
    "        elif params['optimizer'] == 'adamax':\n",
    "            optimizer=keras.optimizers.Adamax(lr=params['lr'])\n",
    "        else:\n",
    "            optimizer=keras.optimizers.Adam(lr=params['lr'])\n",
    "        model.compile(loss='sparse_categorical_crossentropy',\n",
    "                     optimizer=optimizer,\n",
    "                     metrics=['accuracy'])\n",
    "        \n",
    "        early_stopping_callback = keras.callbacks.EarlyStopping(monitor='val_accuracy', \n",
    "                                                patience=10, restore_best_weights=True)\n",
    "        history = model.fit(X, y_sparse, epochs=args.epochs*3, validation_split=args.val_fraction, \n",
    "                            callbacks=[early_stopping_callback], verbose=0, batch_size=params['batch_size'])\n",
    "        acc = np.amax(history.history['val_accuracy'])\n",
    "        return {'loss': -acc, 'status': STATUS_OK}\n",
    "\n",
    "\n",
    "    trials = Trials()\n",
    "    best = fmin(find_best_model_hyperopt, space, algo=tpe.suggest, max_evals=1, trials=trials)\n",
    "    log.info(f'Best: {best}')\n",
    "    log.info(f'Score: {-np.amin(trials.losses())}')\n",
    "\n",
    "hyperopt_integration()"
   ]
  },
  {
   "cell_type": "markdown",
   "metadata": {},
   "source": [
    "### Finding the best const learning rate"
   ]
  },
  {
   "cell_type": "code",
   "execution_count": 18,
   "metadata": {},
   "outputs": [
    {
     "name": "stderr",
     "output_type": "stream",
     "text": [
      "2021-03-22 13:24:48,743 : INFO : None\n",
      "2021-03-22 13:24:48,744 : INFO : (300, 100)\n"
     ]
    },
    {
     "name": "stdout",
     "output_type": "stream",
     "text": [
      "Model: \"sequential_10\"\n",
      "_________________________________________________________________\n",
      "Layer (type)                 Output Shape              Param #   \n",
      "=================================================================\n",
      "flatten_14 (Flatten)         (None, 784)               0         \n",
      "_________________________________________________________________\n",
      "dense_38 (Dense)             (None, 300)               235500    \n",
      "_________________________________________________________________\n",
      "dense_39 (Dense)             (None, 100)               30100     \n",
      "_________________________________________________________________\n",
      "dense_40 (Dense)             (None, 10)                1010      \n",
      "=================================================================\n",
      "Total params: 266,610\n",
      "Trainable params: 266,610\n",
      "Non-trainable params: 0\n",
      "_________________________________________________________________\n",
      "Epoch 1/50\n",
      "1182/1182 [==============================] - 4s 3ms/step - loss: 15.0572 - sparse_categorical_accuracy: 0.6900 - val_loss: 2.2027 - val_sparse_categorical_accuracy: 0.8962\n",
      "Epoch 2/50\n",
      "1182/1182 [==============================] - 3s 2ms/step - loss: 1.5538 - sparse_categorical_accuracy: 0.9188 - val_loss: 1.3933 - val_sparse_categorical_accuracy: 0.9240\n",
      "Epoch 3/50\n",
      "1182/1182 [==============================] - 3s 3ms/step - loss: 0.9099 - sparse_categorical_accuracy: 0.9365 - val_loss: 1.1094 - val_sparse_categorical_accuracy: 0.9276\n",
      "Epoch 4/50\n",
      "1182/1182 [==============================] - 3s 2ms/step - loss: 0.5821 - sparse_categorical_accuracy: 0.9545 - val_loss: 1.0602 - val_sparse_categorical_accuracy: 0.9336\n",
      "Epoch 5/50\n",
      "1182/1182 [==============================] - 3s 2ms/step - loss: 0.4707 - sparse_categorical_accuracy: 0.9592 - val_loss: 0.9397 - val_sparse_categorical_accuracy: 0.9400\n",
      "Epoch 6/50\n",
      "1182/1182 [==============================] - 3s 2ms/step - loss: 0.3947 - sparse_categorical_accuracy: 0.9627 - val_loss: 0.9795 - val_sparse_categorical_accuracy: 0.9398\n",
      "Epoch 7/50\n",
      "1182/1182 [==============================] - 3s 2ms/step - loss: 0.4192 - sparse_categorical_accuracy: 0.9630 - val_loss: 0.6918 - val_sparse_categorical_accuracy: 0.9505\n",
      "Epoch 8/50\n",
      "1182/1182 [==============================] - 3s 2ms/step - loss: 0.4390 - sparse_categorical_accuracy: 0.9597 - val_loss: 0.6002 - val_sparse_categorical_accuracy: 0.9490\n",
      "Epoch 9/50\n",
      "1182/1182 [==============================] - 3s 2ms/step - loss: 0.3626 - sparse_categorical_accuracy: 0.9621 - val_loss: 0.6057 - val_sparse_categorical_accuracy: 0.9450\n",
      "Epoch 10/50\n",
      "1182/1182 [==============================] - 3s 2ms/step - loss: 0.3602 - sparse_categorical_accuracy: 0.9589 - val_loss: 0.5292 - val_sparse_categorical_accuracy: 0.9350\n",
      "Epoch 11/50\n",
      "1182/1182 [==============================] - 3s 2ms/step - loss: 0.2838 - sparse_categorical_accuracy: 0.9560 - val_loss: 0.3482 - val_sparse_categorical_accuracy: 0.9407\n",
      "Epoch 12/50\n",
      "1182/1182 [==============================] - 3s 2ms/step - loss: 0.1804 - sparse_categorical_accuracy: 0.9609 - val_loss: 0.2739 - val_sparse_categorical_accuracy: 0.9398\n",
      "Epoch 13/50\n",
      "1182/1182 [==============================] - 3s 2ms/step - loss: 0.1974 - sparse_categorical_accuracy: 0.9535 - val_loss: 0.3268 - val_sparse_categorical_accuracy: 0.9338\n",
      "Epoch 14/50\n",
      "1182/1182 [==============================] - 3s 2ms/step - loss: 0.2016 - sparse_categorical_accuracy: 0.9487 - val_loss: 0.2937 - val_sparse_categorical_accuracy: 0.9367\n",
      "Epoch 15/50\n",
      "1182/1182 [==============================] - 3s 2ms/step - loss: 0.2432 - sparse_categorical_accuracy: 0.9452 - val_loss: 0.2582 - val_sparse_categorical_accuracy: 0.9476\n",
      "Epoch 16/50\n",
      "1182/1182 [==============================] - 3s 2ms/step - loss: 0.2848 - sparse_categorical_accuracy: 0.9345 - val_loss: 0.3807 - val_sparse_categorical_accuracy: 0.9229\n",
      "Epoch 17/50\n",
      "1182/1182 [==============================] - 3s 2ms/step - loss: 0.6120 - sparse_categorical_accuracy: 0.8653 - val_loss: 0.6209 - val_sparse_categorical_accuracy: 0.8648\n",
      "Epoch 18/50\n",
      "1182/1182 [==============================] - 3s 2ms/step - loss: 1.2870 - sparse_categorical_accuracy: 0.6397 - val_loss: 2.2199 - val_sparse_categorical_accuracy: 0.2398\n",
      "Epoch 19/50\n",
      "1182/1182 [==============================] - 3s 2ms/step - loss: 2.2227 - sparse_categorical_accuracy: 0.1800 - val_loss: 2.1698 - val_sparse_categorical_accuracy: 0.1624\n",
      "Epoch 20/50\n",
      "1182/1182 [==============================] - 3s 2ms/step - loss: 2.4018 - sparse_categorical_accuracy: 0.1366 - val_loss: 2.4146 - val_sparse_categorical_accuracy: 0.0983\n",
      "Epoch 21/50\n",
      "1182/1182 [==============================] - 3s 2ms/step - loss: 2.3632 - sparse_categorical_accuracy: 0.1003 - val_loss: 2.3779 - val_sparse_categorical_accuracy: 0.1090\n",
      "Epoch 22/50\n",
      "1182/1182 [==============================] - 3s 2ms/step - loss: 2.3721 - sparse_categorical_accuracy: 0.0978 - val_loss: 2.6183 - val_sparse_categorical_accuracy: 0.0933\n",
      "Epoch 23/50\n",
      "1182/1182 [==============================] - 3s 2ms/step - loss: 2.3871 - sparse_categorical_accuracy: 0.1000 - val_loss: 2.4085 - val_sparse_categorical_accuracy: 0.0983\n",
      "Epoch 24/50\n",
      "1182/1182 [==============================] - 3s 2ms/step - loss: 2.4033 - sparse_categorical_accuracy: 0.1023 - val_loss: 2.3963 - val_sparse_categorical_accuracy: 0.1083\n",
      "Epoch 25/50\n",
      "1182/1182 [==============================] - 3s 2ms/step - loss: 2.4259 - sparse_categorical_accuracy: 0.1035 - val_loss: 2.4222 - val_sparse_categorical_accuracy: 0.0843\n",
      "Epoch 26/50\n",
      "1182/1182 [==============================] - 3s 2ms/step - loss: 2.4575 - sparse_categorical_accuracy: 0.0996 - val_loss: 2.5746 - val_sparse_categorical_accuracy: 0.0933\n",
      "Epoch 27/50\n",
      "1182/1182 [==============================] - 3s 2ms/step - loss: 2.5182 - sparse_categorical_accuracy: 0.1009 - val_loss: 2.6896 - val_sparse_categorical_accuracy: 0.0843\n",
      "Epoch 28/50\n",
      "1182/1182 [==============================] - 3s 2ms/step - loss: 2.5829 - sparse_categorical_accuracy: 0.0995 - val_loss: 3.2200 - val_sparse_categorical_accuracy: 0.1090\n",
      "Epoch 29/50\n",
      "1182/1182 [==============================] - 3s 2ms/step - loss: 2.7866 - sparse_categorical_accuracy: 0.0995 - val_loss: 2.5583 - val_sparse_categorical_accuracy: 0.1090\n",
      "Epoch 30/50\n",
      "1182/1182 [==============================] - 3s 2ms/step - loss: 3.0530 - sparse_categorical_accuracy: 0.0992 - val_loss: 3.4061 - val_sparse_categorical_accuracy: 0.1090\n",
      "Epoch 31/50\n",
      "1182/1182 [==============================] - 3s 2ms/step - loss: 3.6492 - sparse_categorical_accuracy: 0.0982 - val_loss: 3.6004 - val_sparse_categorical_accuracy: 0.0983\n",
      "Epoch 32/50\n",
      "1182/1182 [==============================] - 3s 2ms/step - loss: 4.5372 - sparse_categorical_accuracy: 0.1018 - val_loss: 7.3351 - val_sparse_categorical_accuracy: 0.0933\n",
      "Epoch 33/50\n",
      "1182/1182 [==============================] - 3s 2ms/step - loss: 6.6593 - sparse_categorical_accuracy: 0.1012 - val_loss: 4.4104 - val_sparse_categorical_accuracy: 0.1010\n",
      "Epoch 34/50\n",
      "1182/1182 [==============================] - 3s 2ms/step - loss: 8.1903 - sparse_categorical_accuracy: 0.1013 - val_loss: 8.4070 - val_sparse_categorical_accuracy: 0.1002\n",
      "Epoch 35/50\n",
      "1182/1182 [==============================] - 3s 2ms/step - loss: 11.3227 - sparse_categorical_accuracy: 0.0996 - val_loss: 6.2772 - val_sparse_categorical_accuracy: 0.0983\n",
      "Epoch 36/50\n",
      "1182/1182 [==============================] - 3s 2ms/step - loss: 14.9229 - sparse_categorical_accuracy: 0.1007 - val_loss: 11.2811 - val_sparse_categorical_accuracy: 0.1090\n",
      "Epoch 37/50\n",
      "1182/1182 [==============================] - 3s 2ms/step - loss: 18.0812 - sparse_categorical_accuracy: 0.0994 - val_loss: 17.1382 - val_sparse_categorical_accuracy: 0.1043\n",
      "Epoch 38/50\n",
      "1182/1182 [==============================] - 3s 2ms/step - loss: 22.9682 - sparse_categorical_accuracy: 0.0972 - val_loss: 23.9674 - val_sparse_categorical_accuracy: 0.1043\n",
      "Epoch 39/50\n",
      "1182/1182 [==============================] - 3s 2ms/step - loss: 28.6846 - sparse_categorical_accuracy: 0.0990 - val_loss: 23.5715 - val_sparse_categorical_accuracy: 0.1083\n",
      "Epoch 40/50\n",
      "1182/1182 [==============================] - 3s 2ms/step - loss: 36.6671 - sparse_categorical_accuracy: 0.1017 - val_loss: 30.2933 - val_sparse_categorical_accuracy: 0.0945\n"
     ]
    },
    {
     "name": "stdout",
     "output_type": "stream",
     "text": [
      "Epoch 41/50\n",
      "1182/1182 [==============================] - 3s 2ms/step - loss: 45.3888 - sparse_categorical_accuracy: 0.1029 - val_loss: 31.1252 - val_sparse_categorical_accuracy: 0.1002\n",
      "Epoch 42/50\n",
      "1182/1182 [==============================] - 3s 2ms/step - loss: 59.1183 - sparse_categorical_accuracy: 0.1016 - val_loss: 98.4242 - val_sparse_categorical_accuracy: 0.0843\n",
      "Epoch 43/50\n",
      "1182/1182 [==============================] - 3s 2ms/step - loss: 78.7894 - sparse_categorical_accuracy: 0.0996 - val_loss: 69.3091 - val_sparse_categorical_accuracy: 0.1083\n",
      "Epoch 44/50\n",
      "1182/1182 [==============================] - 3s 2ms/step - loss: 95.8100 - sparse_categorical_accuracy: 0.0987 - val_loss: 130.0203 - val_sparse_categorical_accuracy: 0.1083\n",
      "Epoch 45/50\n",
      "1182/1182 [==============================] - 3s 2ms/step - loss: 117.9563 - sparse_categorical_accuracy: 0.0956 - val_loss: 90.3363 - val_sparse_categorical_accuracy: 0.0933\n",
      "Epoch 46/50\n",
      "1182/1182 [==============================] - 3s 2ms/step - loss: 152.0998 - sparse_categorical_accuracy: 0.1019 - val_loss: 190.8731 - val_sparse_categorical_accuracy: 0.0933\n",
      "Epoch 47/50\n",
      "1182/1182 [==============================] - 3s 2ms/step - loss: 194.0433 - sparse_categorical_accuracy: 0.0951 - val_loss: 287.7311 - val_sparse_categorical_accuracy: 0.0843\n",
      "Epoch 48/50\n",
      "1182/1182 [==============================] - 3s 2ms/step - loss: 242.4080 - sparse_categorical_accuracy: 0.0988 - val_loss: 264.5906 - val_sparse_categorical_accuracy: 0.1090\n",
      "Epoch 49/50\n",
      "1182/1182 [==============================] - 3s 2ms/step - loss: 305.4152 - sparse_categorical_accuracy: 0.0997 - val_loss: 410.6422 - val_sparse_categorical_accuracy: 0.1090\n",
      "Epoch 50/50\n",
      "1182/1182 [==============================] - 3s 3ms/step - loss: 372.5280 - sparse_categorical_accuracy: 0.0999 - val_loss: 511.0689 - val_sparse_categorical_accuracy: 0.1083\n"
     ]
    },
    {
     "name": "stderr",
     "output_type": "stream",
     "text": [
      "2021-03-22 13:27:12,290 : INFO : None\n",
      "2021-03-22 13:27:12,291 : INFO : (300, 100)\n"
     ]
    },
    {
     "name": "stdout",
     "output_type": "stream",
     "text": [
      "Best lr: 0.000126\n",
      "Model: \"sequential_11\"\n",
      "_________________________________________________________________\n",
      "Layer (type)                 Output Shape              Param #   \n",
      "=================================================================\n",
      "flatten_15 (Flatten)         (None, 784)               0         \n",
      "_________________________________________________________________\n",
      "dense_41 (Dense)             (None, 300)               235500    \n",
      "_________________________________________________________________\n",
      "dense_42 (Dense)             (None, 100)               30100     \n",
      "_________________________________________________________________\n",
      "dense_43 (Dense)             (None, 10)                1010      \n",
      "=================================================================\n",
      "Total params: 266,610\n",
      "Trainable params: 266,610\n",
      "Non-trainable params: 0\n",
      "_________________________________________________________________\n",
      "Epoch 1/50\n",
      "1182/1182 [==============================] - 3s 3ms/step - loss: 14.2584 - sparse_categorical_accuracy: 0.6831 - val_loss: 2.2709 - val_sparse_categorical_accuracy: 0.8895\n",
      "Epoch 2/50\n",
      "1182/1182 [==============================] - 3s 2ms/step - loss: 1.4928 - sparse_categorical_accuracy: 0.9137 - val_loss: 1.4707 - val_sparse_categorical_accuracy: 0.9140\n",
      "Epoch 3/50\n",
      "1182/1182 [==============================] - 3s 2ms/step - loss: 0.7515 - sparse_categorical_accuracy: 0.9442 - val_loss: 1.1848 - val_sparse_categorical_accuracy: 0.9326\n",
      "Epoch 4/50\n",
      "1182/1182 [==============================] - 3s 3ms/step - loss: 0.4552 - sparse_categorical_accuracy: 0.9590 - val_loss: 1.0622 - val_sparse_categorical_accuracy: 0.9352\n",
      "Epoch 5/50\n",
      "1182/1182 [==============================] - 3s 2ms/step - loss: 0.2934 - sparse_categorical_accuracy: 0.9678 - val_loss: 1.0037 - val_sparse_categorical_accuracy: 0.9395\n",
      "Epoch 6/50\n",
      "1182/1182 [==============================] - 3s 2ms/step - loss: 0.1989 - sparse_categorical_accuracy: 0.9766 - val_loss: 0.8493 - val_sparse_categorical_accuracy: 0.9421\n",
      "Epoch 7/50\n",
      "1182/1182 [==============================] - 3s 2ms/step - loss: 0.1513 - sparse_categorical_accuracy: 0.9808 - val_loss: 0.8979 - val_sparse_categorical_accuracy: 0.9467\n",
      "Epoch 8/50\n",
      "1182/1182 [==============================] - 3s 2ms/step - loss: 0.1218 - sparse_categorical_accuracy: 0.9832 - val_loss: 0.8387 - val_sparse_categorical_accuracy: 0.9517\n",
      "Epoch 9/50\n",
      "1182/1182 [==============================] - 3s 2ms/step - loss: 0.0884 - sparse_categorical_accuracy: 0.9865 - val_loss: 0.8444 - val_sparse_categorical_accuracy: 0.9533\n",
      "Epoch 10/50\n",
      "1182/1182 [==============================] - 3s 2ms/step - loss: 0.0972 - sparse_categorical_accuracy: 0.9849 - val_loss: 0.9889 - val_sparse_categorical_accuracy: 0.9450\n",
      "Epoch 11/50\n",
      "1182/1182 [==============================] - 3s 2ms/step - loss: 0.0808 - sparse_categorical_accuracy: 0.9888 - val_loss: 0.8896 - val_sparse_categorical_accuracy: 0.9517\n",
      "Epoch 12/50\n",
      "1182/1182 [==============================] - 3s 2ms/step - loss: 0.0656 - sparse_categorical_accuracy: 0.9901 - val_loss: 0.8723 - val_sparse_categorical_accuracy: 0.9540\n",
      "Epoch 13/50\n",
      "1182/1182 [==============================] - 3s 2ms/step - loss: 0.0639 - sparse_categorical_accuracy: 0.9902 - val_loss: 0.8189 - val_sparse_categorical_accuracy: 0.9555\n",
      "Epoch 14/50\n",
      "1182/1182 [==============================] - 3s 2ms/step - loss: 0.0526 - sparse_categorical_accuracy: 0.9918 - val_loss: 0.7490 - val_sparse_categorical_accuracy: 0.9581\n",
      "Epoch 15/50\n",
      "1182/1182 [==============================] - 3s 2ms/step - loss: 0.0411 - sparse_categorical_accuracy: 0.9933 - val_loss: 0.7635 - val_sparse_categorical_accuracy: 0.9574\n",
      "Epoch 16/50\n",
      "1182/1182 [==============================] - 3s 2ms/step - loss: 0.0501 - sparse_categorical_accuracy: 0.9921 - val_loss: 0.7822 - val_sparse_categorical_accuracy: 0.9579\n",
      "Epoch 17/50\n",
      "1182/1182 [==============================] - 3s 2ms/step - loss: 0.0503 - sparse_categorical_accuracy: 0.9929 - val_loss: 0.8829 - val_sparse_categorical_accuracy: 0.9510\n",
      "Epoch 18/50\n",
      "1182/1182 [==============================] - 3s 2ms/step - loss: 0.0554 - sparse_categorical_accuracy: 0.9918 - val_loss: 0.7009 - val_sparse_categorical_accuracy: 0.9638\n",
      "Epoch 19/50\n",
      "1182/1182 [==============================] - 3s 2ms/step - loss: 0.0410 - sparse_categorical_accuracy: 0.9944 - val_loss: 0.6584 - val_sparse_categorical_accuracy: 0.9619\n",
      "Epoch 20/50\n",
      "1182/1182 [==============================] - 3s 2ms/step - loss: 0.0361 - sparse_categorical_accuracy: 0.9938 - val_loss: 0.7986 - val_sparse_categorical_accuracy: 0.9574\n",
      "Epoch 21/50\n",
      "1182/1182 [==============================] - 3s 2ms/step - loss: 0.0376 - sparse_categorical_accuracy: 0.9950 - val_loss: 0.9024 - val_sparse_categorical_accuracy: 0.9552\n",
      "Epoch 22/50\n",
      "1182/1182 [==============================] - 3s 2ms/step - loss: 0.0419 - sparse_categorical_accuracy: 0.9937 - val_loss: 0.7807 - val_sparse_categorical_accuracy: 0.9629\n",
      "Epoch 23/50\n",
      "1182/1182 [==============================] - 3s 2ms/step - loss: 0.0296 - sparse_categorical_accuracy: 0.9958 - val_loss: 0.7687 - val_sparse_categorical_accuracy: 0.9602\n",
      "Epoch 24/50\n",
      "1182/1182 [==============================] - 3s 2ms/step - loss: 0.0287 - sparse_categorical_accuracy: 0.9958 - val_loss: 0.7024 - val_sparse_categorical_accuracy: 0.9662\n",
      "Epoch 25/50\n",
      "1182/1182 [==============================] - 3s 2ms/step - loss: 0.0342 - sparse_categorical_accuracy: 0.9951 - val_loss: 0.7221 - val_sparse_categorical_accuracy: 0.9650\n",
      "Epoch 26/50\n",
      "1182/1182 [==============================] - 3s 2ms/step - loss: 0.0351 - sparse_categorical_accuracy: 0.9951 - val_loss: 0.6966 - val_sparse_categorical_accuracy: 0.9650\n",
      "Epoch 27/50\n",
      "1182/1182 [==============================] - 3s 2ms/step - loss: 0.0293 - sparse_categorical_accuracy: 0.9956 - val_loss: 0.8205 - val_sparse_categorical_accuracy: 0.9607\n",
      "Epoch 28/50\n",
      "1182/1182 [==============================] - 3s 2ms/step - loss: 0.0410 - sparse_categorical_accuracy: 0.9948 - val_loss: 0.6445 - val_sparse_categorical_accuracy: 0.9667\n",
      "Epoch 29/50\n",
      "1182/1182 [==============================] - 3s 2ms/step - loss: 0.0238 - sparse_categorical_accuracy: 0.9969 - val_loss: 0.8395 - val_sparse_categorical_accuracy: 0.9633\n",
      "Epoch 30/50\n",
      "1182/1182 [==============================] - 3s 2ms/step - loss: 0.0279 - sparse_categorical_accuracy: 0.9959 - val_loss: 0.6989 - val_sparse_categorical_accuracy: 0.9655\n",
      "Epoch 31/50\n",
      "1182/1182 [==============================] - 3s 2ms/step - loss: 0.0325 - sparse_categorical_accuracy: 0.9963 - val_loss: 0.9341 - val_sparse_categorical_accuracy: 0.9579\n",
      "Epoch 32/50\n",
      "1182/1182 [==============================] - 3s 2ms/step - loss: 0.0242 - sparse_categorical_accuracy: 0.9963 - val_loss: 0.9037 - val_sparse_categorical_accuracy: 0.9579\n",
      "Epoch 33/50\n",
      "1182/1182 [==============================] - 3s 2ms/step - loss: 0.0237 - sparse_categorical_accuracy: 0.9965 - val_loss: 0.7991 - val_sparse_categorical_accuracy: 0.9624\n",
      "Epoch 34/50\n",
      "1182/1182 [==============================] - 3s 2ms/step - loss: 0.0178 - sparse_categorical_accuracy: 0.9973 - val_loss: 0.7634 - val_sparse_categorical_accuracy: 0.9662\n",
      "Epoch 35/50\n",
      "1182/1182 [==============================] - 3s 2ms/step - loss: 0.0321 - sparse_categorical_accuracy: 0.9957 - val_loss: 0.7357 - val_sparse_categorical_accuracy: 0.9660\n",
      "Epoch 36/50\n",
      "1182/1182 [==============================] - 3s 2ms/step - loss: 0.0253 - sparse_categorical_accuracy: 0.9964 - val_loss: 0.7142 - val_sparse_categorical_accuracy: 0.9652\n",
      "Epoch 37/50\n",
      "1182/1182 [==============================] - 3s 2ms/step - loss: 0.0168 - sparse_categorical_accuracy: 0.9975 - val_loss: 0.8883 - val_sparse_categorical_accuracy: 0.9652\n",
      "Epoch 38/50\n",
      "1182/1182 [==============================] - 3s 2ms/step - loss: 0.0340 - sparse_categorical_accuracy: 0.9959 - val_loss: 0.6942 - val_sparse_categorical_accuracy: 0.9688\n",
      "Epoch 39/50\n",
      "1182/1182 [==============================] - 3s 2ms/step - loss: 0.0203 - sparse_categorical_accuracy: 0.9970 - val_loss: 0.7759 - val_sparse_categorical_accuracy: 0.9683\n",
      "Epoch 40/50\n",
      "1182/1182 [==============================] - 3s 2ms/step - loss: 0.0149 - sparse_categorical_accuracy: 0.9971 - val_loss: 0.7770 - val_sparse_categorical_accuracy: 0.9655\n"
     ]
    },
    {
     "name": "stdout",
     "output_type": "stream",
     "text": [
      "Epoch 41/50\n",
      "1182/1182 [==============================] - 3s 2ms/step - loss: 0.0267 - sparse_categorical_accuracy: 0.9967 - val_loss: 0.8220 - val_sparse_categorical_accuracy: 0.9693\n",
      "Epoch 42/50\n",
      "1182/1182 [==============================] - 3s 2ms/step - loss: 0.0145 - sparse_categorical_accuracy: 0.9977 - val_loss: 0.7825 - val_sparse_categorical_accuracy: 0.9681\n",
      "Epoch 43/50\n",
      "1182/1182 [==============================] - 3s 2ms/step - loss: 0.0201 - sparse_categorical_accuracy: 0.9972 - val_loss: 0.7862 - val_sparse_categorical_accuracy: 0.9705\n",
      "Epoch 44/50\n",
      "1182/1182 [==============================] - 3s 2ms/step - loss: 0.0209 - sparse_categorical_accuracy: 0.9975 - val_loss: 0.7837 - val_sparse_categorical_accuracy: 0.9669\n",
      "Epoch 45/50\n",
      "1182/1182 [==============================] - 3s 2ms/step - loss: 0.0158 - sparse_categorical_accuracy: 0.9981 - val_loss: 0.9159 - val_sparse_categorical_accuracy: 0.9688\n",
      "Epoch 46/50\n",
      "1182/1182 [==============================] - 3s 2ms/step - loss: 0.0219 - sparse_categorical_accuracy: 0.9973 - val_loss: 0.6285 - val_sparse_categorical_accuracy: 0.9700\n",
      "Epoch 47/50\n",
      "1182/1182 [==============================] - 3s 2ms/step - loss: 0.0176 - sparse_categorical_accuracy: 0.9980 - val_loss: 0.8011 - val_sparse_categorical_accuracy: 0.9664\n",
      "Epoch 48/50\n",
      "1182/1182 [==============================] - 3s 2ms/step - loss: 0.0226 - sparse_categorical_accuracy: 0.9978 - val_loss: 0.9282 - val_sparse_categorical_accuracy: 0.9664\n",
      "Epoch 49/50\n",
      "1182/1182 [==============================] - 3s 2ms/step - loss: 0.0130 - sparse_categorical_accuracy: 0.9979 - val_loss: 0.9402 - val_sparse_categorical_accuracy: 0.9636\n",
      "Epoch 50/50\n",
      "1182/1182 [==============================] - 3s 2ms/step - loss: 0.0156 - sparse_categorical_accuracy: 0.9979 - val_loss: 0.7250 - val_sparse_categorical_accuracy: 0.9688\n"
     ]
    },
    {
     "name": "stderr",
     "output_type": "stream",
     "text": [
      "2021-03-22 13:29:34,456 : INFO : Saved file: ../predictions/experiments-best-const-lr.csv\n"
     ]
    },
    {
     "data": {
      "image/png": "[encoded data removed]",
      "text/plain": [
       "<Figure size 432x288 with 1 Axes>"
      ]
     },
     "metadata": {
      "needs_background": "light"
     },
     "output_type": "display_data"
    }
   ],
   "source": [
    "import math\n",
    "\n",
    "def best_const_lr():\n",
    "    def find_best_const_lr():\n",
    "        # if n_steps is large enough, best lr is about 1e-4\n",
    "        n_steps = 50\n",
    "        def lr_scheduler(epoch):\n",
    "            lr0 = math.pow(10, -4)\n",
    "            lr_final = 10\n",
    "            step = (lr_final / lr0)**(n_steps**-1) # take root of n_steps from difference between start and stop\n",
    "            if epoch == 1: \n",
    "                return lr0\n",
    "            lr = lr0 * math.pow(step, epoch)\n",
    "            return lr\n",
    "\n",
    "        lr_scheduler_callback = keras.callbacks.LearningRateScheduler(lr_scheduler)\n",
    "        history = seq_baseline_build().fit(X, y_sparse, epochs=n_steps, validation_split=args.val_fraction, \n",
    "                                           callbacks=[lr_scheduler_callback])\n",
    "\n",
    "        losses = history.history['loss']\n",
    "        lrs = [lr_scheduler(epoch) for epoch in range(1, n_steps + 1)]\n",
    "        plt.plot(lrs, losses)\n",
    "        plt.xscale('log')\n",
    "        best_lr = lr_scheduler(np.argmin(losses)) / 10\n",
    "        print('Best lr: %f' % best_lr)\n",
    "        return best_lr\n",
    "\n",
    "    best_lr = find_best_const_lr()\n",
    "    model = seq_baseline_build(lr=0.0001)\n",
    "    history = model.fit(X, y_sparse, epochs=args.epochs, validation_split=args.val_fraction)\n",
    "    predictions = np.argmax(model.predict(X_test), axis=-1)\n",
    "    csv_sparse_predictions(predictions, 'experiments-best-const-lr.csv')\n",
    "best_const_lr()"
   ]
  },
  {
   "cell_type": "markdown",
   "metadata": {},
   "source": [
    "#### Best const lr\n",
    "| Approach | Model  | Test score  | CV mean score |\n",
    "|---|---|---|---|\n",
    "| Best const lr | lr=0.0001 | 0.96600 | 0.9686 |"
   ]
  },
  {
   "cell_type": "markdown",
   "metadata": {},
   "source": [
    "### Learning rate scheduling"
   ]
  },
  {
   "cell_type": "code",
   "execution_count": 20,
   "metadata": {},
   "outputs": [
    {
     "name": "stderr",
     "output_type": "stream",
     "text": [
      "2021-03-22 13:38:59,620 : INFO : None\n",
      "2021-03-22 13:38:59,621 : INFO : (300, 100)\n"
     ]
    },
    {
     "name": "stdout",
     "output_type": "stream",
     "text": [
      "Model: \"sequential_13\"\n",
      "_________________________________________________________________\n",
      "Layer (type)                 Output Shape              Param #   \n",
      "=================================================================\n",
      "flatten_17 (Flatten)         (None, 784)               0         \n",
      "_________________________________________________________________\n",
      "dense_47 (Dense)             (None, 300)               235500    \n",
      "_________________________________________________________________\n",
      "dense_48 (Dense)             (None, 100)               30100     \n",
      "_________________________________________________________________\n",
      "dense_49 (Dense)             (None, 10)                1010      \n",
      "=================================================================\n",
      "Total params: 266,610\n",
      "Trainable params: 266,610\n",
      "Non-trainable params: 0\n",
      "_________________________________________________________________\n",
      "Epoch 1/50\n",
      "1182/1182 [==============================] - 4s 3ms/step - loss: 5.5481 - sparse_categorical_accuracy: 0.8118 - val_loss: 0.4380 - val_sparse_categorical_accuracy: 0.9010\n",
      "Epoch 2/50\n",
      "1182/1182 [==============================] - 3s 2ms/step - loss: 0.3334 - sparse_categorical_accuracy: 0.9168 - val_loss: 0.3291 - val_sparse_categorical_accuracy: 0.9243\n",
      "Epoch 3/50\n",
      "1182/1182 [==============================] - 3s 2ms/step - loss: 0.2028 - sparse_categorical_accuracy: 0.9443 - val_loss: 0.2926 - val_sparse_categorical_accuracy: 0.9274\n",
      "Epoch 4/50\n",
      "1182/1182 [==============================] - 3s 2ms/step - loss: 0.1705 - sparse_categorical_accuracy: 0.9530 - val_loss: 0.2493 - val_sparse_categorical_accuracy: 0.9476\n",
      "Epoch 5/50\n",
      "1182/1182 [==============================] - 3s 2ms/step - loss: 0.1471 - sparse_categorical_accuracy: 0.9588 - val_loss: 0.2187 - val_sparse_categorical_accuracy: 0.9479\n",
      "Epoch 6/50\n",
      "1182/1182 [==============================] - 3s 2ms/step - loss: 0.1375 - sparse_categorical_accuracy: 0.9634 - val_loss: 0.1810 - val_sparse_categorical_accuracy: 0.9574\n",
      "Epoch 7/50\n",
      "1182/1182 [==============================] - 3s 2ms/step - loss: 0.1130 - sparse_categorical_accuracy: 0.9691 - val_loss: 0.2379 - val_sparse_categorical_accuracy: 0.9448\n",
      "Epoch 8/50\n",
      "1182/1182 [==============================] - 3s 2ms/step - loss: 0.1135 - sparse_categorical_accuracy: 0.9693 - val_loss: 0.1975 - val_sparse_categorical_accuracy: 0.9557\n",
      "Epoch 9/50\n",
      "1182/1182 [==============================] - 3s 2ms/step - loss: 0.0953 - sparse_categorical_accuracy: 0.9742 - val_loss: 0.1777 - val_sparse_categorical_accuracy: 0.9638\n",
      "Epoch 10/50\n",
      "1182/1182 [==============================] - 3s 2ms/step - loss: 0.0949 - sparse_categorical_accuracy: 0.9756 - val_loss: 0.1771 - val_sparse_categorical_accuracy: 0.9610\n",
      "Epoch 11/50\n",
      "1182/1182 [==============================] - 3s 2ms/step - loss: 0.0790 - sparse_categorical_accuracy: 0.9795 - val_loss: 0.1905 - val_sparse_categorical_accuracy: 0.9560\n",
      "Epoch 12/50\n",
      "1182/1182 [==============================] - 3s 2ms/step - loss: 0.0790 - sparse_categorical_accuracy: 0.9788 - val_loss: 0.2621 - val_sparse_categorical_accuracy: 0.9605\n",
      "Epoch 13/50\n",
      "1182/1182 [==============================] - 3s 2ms/step - loss: 0.0782 - sparse_categorical_accuracy: 0.9799 - val_loss: 0.1961 - val_sparse_categorical_accuracy: 0.9614\n",
      "Epoch 14/50\n",
      "1182/1182 [==============================] - 3s 2ms/step - loss: 0.0772 - sparse_categorical_accuracy: 0.9812 - val_loss: 0.2524 - val_sparse_categorical_accuracy: 0.9588\n",
      "\n",
      "Epoch 00014: ReduceLROnPlateau reducing learning rate to 0.0005000000237487257.\n",
      "Epoch 15/50\n",
      "1182/1182 [==============================] - 3s 2ms/step - loss: 0.0480 - sparse_categorical_accuracy: 0.9881 - val_loss: 0.1528 - val_sparse_categorical_accuracy: 0.9731\n",
      "Epoch 16/50\n",
      "1182/1182 [==============================] - 3s 2ms/step - loss: 0.0212 - sparse_categorical_accuracy: 0.9940 - val_loss: 0.1709 - val_sparse_categorical_accuracy: 0.9740\n",
      "Epoch 17/50\n",
      "1182/1182 [==============================] - 3s 2ms/step - loss: 0.0273 - sparse_categorical_accuracy: 0.9927 - val_loss: 0.1847 - val_sparse_categorical_accuracy: 0.9738\n",
      "Epoch 18/50\n",
      "1182/1182 [==============================] - 3s 2ms/step - loss: 0.0235 - sparse_categorical_accuracy: 0.9936 - val_loss: 0.1863 - val_sparse_categorical_accuracy: 0.9714\n",
      "Epoch 19/50\n",
      "1182/1182 [==============================] - 3s 2ms/step - loss: 0.0190 - sparse_categorical_accuracy: 0.9945 - val_loss: 0.1969 - val_sparse_categorical_accuracy: 0.9743\n",
      "Epoch 20/50\n",
      "1182/1182 [==============================] - 3s 2ms/step - loss: 0.0245 - sparse_categorical_accuracy: 0.9935 - val_loss: 0.1835 - val_sparse_categorical_accuracy: 0.9710\n",
      "Epoch 21/50\n",
      "1182/1182 [==============================] - 3s 2ms/step - loss: 0.0148 - sparse_categorical_accuracy: 0.9957 - val_loss: 0.2396 - val_sparse_categorical_accuracy: 0.9688\n",
      "Epoch 22/50\n",
      "1182/1182 [==============================] - 3s 2ms/step - loss: 0.0267 - sparse_categorical_accuracy: 0.9934 - val_loss: 0.2215 - val_sparse_categorical_accuracy: 0.9724\n",
      "Epoch 23/50\n",
      "1182/1182 [==============================] - 3s 2ms/step - loss: 0.0161 - sparse_categorical_accuracy: 0.9951 - val_loss: 0.2455 - val_sparse_categorical_accuracy: 0.9721\n",
      "Epoch 24/50\n",
      "1182/1182 [==============================] - 3s 2ms/step - loss: 0.0147 - sparse_categorical_accuracy: 0.9960 - val_loss: 0.2014 - val_sparse_categorical_accuracy: 0.9740\n",
      "\n",
      "Epoch 00024: ReduceLROnPlateau reducing learning rate to 0.0002500000118743628.\n",
      "Epoch 25/50\n",
      "1182/1182 [==============================] - 3s 2ms/step - loss: 0.0116 - sparse_categorical_accuracy: 0.9965 - val_loss: 0.2180 - val_sparse_categorical_accuracy: 0.9760\n",
      "Epoch 26/50\n",
      "1182/1182 [==============================] - 3s 2ms/step - loss: 0.0047 - sparse_categorical_accuracy: 0.9986 - val_loss: 0.2068 - val_sparse_categorical_accuracy: 0.9781\n",
      "Epoch 27/50\n",
      "1182/1182 [==============================] - 3s 2ms/step - loss: 0.0071 - sparse_categorical_accuracy: 0.9976 - val_loss: 0.1991 - val_sparse_categorical_accuracy: 0.9790\n",
      "Epoch 28/50\n",
      "1182/1182 [==============================] - 3s 2ms/step - loss: 0.0041 - sparse_categorical_accuracy: 0.9987 - val_loss: 0.2343 - val_sparse_categorical_accuracy: 0.9755\n",
      "Epoch 29/50\n",
      "1182/1182 [==============================] - 3s 2ms/step - loss: 0.0075 - sparse_categorical_accuracy: 0.9978 - val_loss: 0.2290 - val_sparse_categorical_accuracy: 0.9774\n",
      "Epoch 30/50\n",
      "1182/1182 [==============================] - 3s 2ms/step - loss: 0.0050 - sparse_categorical_accuracy: 0.9983 - val_loss: 0.2291 - val_sparse_categorical_accuracy: 0.9774\n",
      "Epoch 31/50\n",
      "1182/1182 [==============================] - 3s 2ms/step - loss: 0.0045 - sparse_categorical_accuracy: 0.9983 - val_loss: 0.2273 - val_sparse_categorical_accuracy: 0.9767\n",
      "Epoch 32/50\n",
      "1182/1182 [==============================] - 3s 2ms/step - loss: 0.0057 - sparse_categorical_accuracy: 0.9981 - val_loss: 0.2326 - val_sparse_categorical_accuracy: 0.9771\n",
      "\n",
      "Epoch 00032: ReduceLROnPlateau reducing learning rate to 0.0001250000059371814.\n",
      "Epoch 33/50\n",
      "1182/1182 [==============================] - 3s 2ms/step - loss: 0.0053 - sparse_categorical_accuracy: 0.9982 - val_loss: 0.2278 - val_sparse_categorical_accuracy: 0.9798\n",
      "Epoch 34/50\n",
      "1182/1182 [==============================] - 3s 2ms/step - loss: 0.0029 - sparse_categorical_accuracy: 0.9988 - val_loss: 0.2329 - val_sparse_categorical_accuracy: 0.9788\n",
      "Epoch 35/50\n",
      "1182/1182 [==============================] - 3s 2ms/step - loss: 0.0031 - sparse_categorical_accuracy: 0.9990 - val_loss: 0.2318 - val_sparse_categorical_accuracy: 0.9788\n",
      "Epoch 36/50\n",
      "1182/1182 [==============================] - 3s 2ms/step - loss: 0.0039 - sparse_categorical_accuracy: 0.9982 - val_loss: 0.2343 - val_sparse_categorical_accuracy: 0.9800\n",
      "Epoch 37/50\n",
      "1182/1182 [==============================] - 3s 2ms/step - loss: 0.0043 - sparse_categorical_accuracy: 0.9987 - val_loss: 0.2291 - val_sparse_categorical_accuracy: 0.9807\n",
      "Epoch 38/50\n",
      "1182/1182 [==============================] - 3s 2ms/step - loss: 0.0025 - sparse_categorical_accuracy: 0.9989 - val_loss: 0.2464 - val_sparse_categorical_accuracy: 0.9798\n",
      "Epoch 39/50\n"
     ]
    },
    {
     "name": "stdout",
     "output_type": "stream",
     "text": [
      "1182/1182 [==============================] - 3s 2ms/step - loss: 0.0030 - sparse_categorical_accuracy: 0.9990 - val_loss: 0.2494 - val_sparse_categorical_accuracy: 0.9781\n",
      "Epoch 40/50\n",
      "1182/1182 [==============================] - 3s 2ms/step - loss: 0.0032 - sparse_categorical_accuracy: 0.9988 - val_loss: 0.2447 - val_sparse_categorical_accuracy: 0.9779\n",
      "Epoch 41/50\n",
      "1182/1182 [==============================] - 3s 2ms/step - loss: 0.0031 - sparse_categorical_accuracy: 0.9988 - val_loss: 0.2433 - val_sparse_categorical_accuracy: 0.9779\n",
      "Epoch 42/50\n",
      "1182/1182 [==============================] - 3s 2ms/step - loss: 0.0038 - sparse_categorical_accuracy: 0.9986 - val_loss: 0.2461 - val_sparse_categorical_accuracy: 0.9798\n",
      "\n",
      "Epoch 00042: ReduceLROnPlateau reducing learning rate to 6.25000029685907e-05.\n",
      "Epoch 43/50\n",
      "1182/1182 [==============================] - 3s 2ms/step - loss: 0.0024 - sparse_categorical_accuracy: 0.9991 - val_loss: 0.2525 - val_sparse_categorical_accuracy: 0.9795\n",
      "Epoch 44/50\n",
      "1182/1182 [==============================] - 3s 2ms/step - loss: 0.0028 - sparse_categorical_accuracy: 0.9989 - val_loss: 0.2525 - val_sparse_categorical_accuracy: 0.9793\n",
      "Epoch 45/50\n",
      "1182/1182 [==============================] - 3s 2ms/step - loss: 0.0025 - sparse_categorical_accuracy: 0.9991 - val_loss: 0.2598 - val_sparse_categorical_accuracy: 0.9800\n",
      "Epoch 46/50\n",
      "1182/1182 [==============================] - 3s 2ms/step - loss: 0.0023 - sparse_categorical_accuracy: 0.9992 - val_loss: 0.2591 - val_sparse_categorical_accuracy: 0.9798\n",
      "Epoch 47/50\n",
      "1182/1182 [==============================] - 3s 2ms/step - loss: 0.0027 - sparse_categorical_accuracy: 0.9990 - val_loss: 0.2652 - val_sparse_categorical_accuracy: 0.9802\n",
      "\n",
      "Epoch 00047: ReduceLROnPlateau reducing learning rate to 3.125000148429535e-05.\n",
      "Epoch 48/50\n",
      "1182/1182 [==============================] - 3s 2ms/step - loss: 0.0028 - sparse_categorical_accuracy: 0.9989 - val_loss: 0.2662 - val_sparse_categorical_accuracy: 0.9800\n",
      "Epoch 49/50\n",
      "1182/1182 [==============================] - 3s 2ms/step - loss: 0.0027 - sparse_categorical_accuracy: 0.9990 - val_loss: 0.2685 - val_sparse_categorical_accuracy: 0.9807\n",
      "Epoch 50/50\n",
      "1182/1182 [==============================] - 3s 2ms/step - loss: 0.0034 - sparse_categorical_accuracy: 0.9988 - val_loss: 0.2715 - val_sparse_categorical_accuracy: 0.9805\n"
     ]
    },
    {
     "name": "stderr",
     "output_type": "stream",
     "text": [
      "2021-03-22 13:41:21,301 : INFO : Saved file: ../predictions/experiments-lr-scheduling.csv\n"
     ]
    }
   ],
   "source": [
    "def lr_scheduling():\n",
    "    lr_scheduler_callback = keras.callbacks.ReduceLROnPlateau(monitor='val_sparse_categorical_accuracy', \n",
    "                                                              factor=0.5, patience=5, verbose=1)\n",
    "    model = seq_baseline_build(lr=0.001)\n",
    "    history = model.fit(X, y_sparse, epochs=args.epochs, validation_split=args.val_fraction, \n",
    "                                       callbacks=[lr_scheduler_callback])\n",
    "    predictions = np.argmax(model.predict(X_test), axis=-1)\n",
    "    csv_sparse_predictions(predictions, 'experiments-lr-scheduling.csv')\n",
    "lr_scheduling()"
   ]
  },
  {
   "cell_type": "markdown",
   "metadata": {},
   "source": [
    "#### Lr scheduling\n",
    "| Approach | Model  | Test score  | CV score |\n",
    "|---|---|---|---|\n",
    "| Best const lr | ReduceLROnPlateau(monitor='val_sparse_categorical_accuracy',factor=0.5, patience=5) | 0.96600 | 0.9774 |"
   ]
  },
  {
   "cell_type": "markdown",
   "metadata": {},
   "source": [
    "### Transfer learning with Keras"
   ]
  },
  {
   "cell_type": "code",
   "execution_count": 21,
   "metadata": {},
   "outputs": [
    {
     "name": "stderr",
     "output_type": "stream",
     "text": [
      "2021-03-22 13:41:21,334 : INFO : None\n",
      "2021-03-22 13:41:21,335 : INFO : (300, 100)\n"
     ]
    },
    {
     "name": "stdout",
     "output_type": "stream",
     "text": [
      "Model: \"sequential_14\"\n",
      "_________________________________________________________________\n",
      "Layer (type)                 Output Shape              Param #   \n",
      "=================================================================\n",
      "flatten_18 (Flatten)         (None, 784)               0         \n",
      "_________________________________________________________________\n",
      "dense_50 (Dense)             (None, 300)               235500    \n",
      "_________________________________________________________________\n",
      "dense_51 (Dense)             (None, 100)               30100     \n",
      "_________________________________________________________________\n",
      "dense_52 (Dense)             (None, 10)                1010      \n",
      "=================================================================\n",
      "Total params: 266,610\n",
      "Trainable params: 266,610\n",
      "Non-trainable params: 0\n",
      "_________________________________________________________________\n",
      "Epoch 1/3\n",
      "1182/1182 [==============================] - 3s 2ms/step - loss: 5.4924 - sparse_categorical_accuracy: 0.8216 - val_loss: 0.4478 - val_sparse_categorical_accuracy: 0.9102\n",
      "Epoch 2/3\n",
      "1182/1182 [==============================] - 3s 2ms/step - loss: 0.3068 - sparse_categorical_accuracy: 0.9259 - val_loss: 0.2951 - val_sparse_categorical_accuracy: 0.9267\n",
      "Epoch 3/3\n",
      "1182/1182 [==============================] - 3s 2ms/step - loss: 0.1961 - sparse_categorical_accuracy: 0.9488 - val_loss: 0.2739 - val_sparse_categorical_accuracy: 0.9371\n"
     ]
    },
    {
     "data": {
      "image/png": "[encoded data removed]",
      "text/plain": [
       "<Figure size 576x360 with 1 Axes>"
      ]
     },
     "metadata": {
      "needs_background": "light"
     },
     "output_type": "display_data"
    },
    {
     "name": "stdout",
     "output_type": "stream",
     "text": [
      "Epoch 1/3\n",
      "1182/1182 [==============================] - 1s 900us/step - loss: 2.2328 - sparse_categorical_accuracy: 0.8229 - val_loss: 0.2507 - val_sparse_categorical_accuracy: 0.9514\n",
      "Epoch 2/3\n",
      "1182/1182 [==============================] - 1s 797us/step - loss: 0.1625 - sparse_categorical_accuracy: 0.9588 - val_loss: 0.2242 - val_sparse_categorical_accuracy: 0.9500\n",
      "Epoch 3/3\n",
      "1182/1182 [==============================] - 1s 802us/step - loss: 0.1334 - sparse_categorical_accuracy: 0.9622 - val_loss: 0.2224 - val_sparse_categorical_accuracy: 0.9498\n"
     ]
    },
    {
     "data": {
      "image/png": "[encoded data removed]",
      "text/plain": [
       "<Figure size 576x360 with 1 Axes>"
      ]
     },
     "metadata": {
      "needs_background": "light"
     },
     "output_type": "display_data"
    }
   ],
   "source": [
    "def transfer_learning():\n",
    "    model = seq_baseline_build()\n",
    "    history = model.fit(X, y_sparse, epochs=3, validation_split=args.val_fraction)\n",
    "    plot(history)\n",
    "    \n",
    "    clone_model = keras.models.clone_model(model)\n",
    "    clone_model.set_weights(model.get_weights())\n",
    "    tr_model = keras.models.Sequential(clone_model.layers[:-1])\n",
    "    tr_model.add(keras.layers.Dense(50, activation='elu'))\n",
    "    tr_model.add(keras.layers.Dense(10, activation='softmax'))\n",
    "    for l in tr_model.layers[:-2]:\n",
    "        l.trainable = False\n",
    "    tr_model.compile(loss='sparse_categorical_crossentropy',\n",
    "             optimizer=keras.optimizers.Nadam(learning_rate=0.001),\n",
    "             metrics=[keras.metrics.sparse_categorical_accuracy])\n",
    "    history = tr_model.fit(X, y_sparse, epochs=3, validation_split=args.val_fraction)\n",
    "    plot(history)\n",
    "    \n",
    "transfer_learning()"
   ]
  },
  {
   "cell_type": "markdown",
   "metadata": {},
   "source": [
    "### Wrapping all together to achieve the best score with MLP"
   ]
  },
  {
   "cell_type": "code",
   "execution_count": 22,
   "metadata": {},
   "outputs": [
    {
     "name": "stderr",
     "output_type": "stream",
     "text": [
      "2021-03-22 13:41:34,704 : INFO : None\n"
     ]
    },
    {
     "name": "stdout",
     "output_type": "stream",
     "text": [
      "Model: \"sequential_16\"\n",
      "_________________________________________________________________\n",
      "Layer (type)                 Output Shape              Param #   \n",
      "=================================================================\n",
      "flatten_19 (Flatten)         (None, 784)               0         \n",
      "_________________________________________________________________\n",
      "dense_55 (Dense)             (None, 300)               235500    \n",
      "_________________________________________________________________\n",
      "dense_56 (Dense)             (None, 100)               30100     \n",
      "_________________________________________________________________\n",
      "dense_57 (Dense)             (None, 10)                1010      \n",
      "=================================================================\n",
      "Total params: 266,610\n",
      "Trainable params: 266,610\n",
      "Non-trainable params: 0\n",
      "_________________________________________________________________\n",
      "Epoch 1/150\n",
      "1182/1182 [==============================] - 3s 2ms/step - loss: 4.1746 - sparse_categorical_accuracy: 0.8139 - val_loss: 0.5054 - val_sparse_categorical_accuracy: 0.8840\n",
      "Epoch 2/150\n",
      "1182/1182 [==============================] - 3s 2ms/step - loss: 0.2779 - sparse_categorical_accuracy: 0.9312 - val_loss: 0.2291 - val_sparse_categorical_accuracy: 0.9414\n",
      "Epoch 3/150\n",
      "1182/1182 [==============================] - 3s 2ms/step - loss: 0.1929 - sparse_categorical_accuracy: 0.9474 - val_loss: 0.2094 - val_sparse_categorical_accuracy: 0.9440\n",
      "Epoch 4/150\n",
      "1182/1182 [==============================] - 3s 2ms/step - loss: 0.1679 - sparse_categorical_accuracy: 0.9533 - val_loss: 0.2308 - val_sparse_categorical_accuracy: 0.9498\n",
      "Epoch 5/150\n",
      "1182/1182 [==============================] - 3s 2ms/step - loss: 0.1367 - sparse_categorical_accuracy: 0.9614 - val_loss: 0.2336 - val_sparse_categorical_accuracy: 0.9452\n",
      "Epoch 6/150\n",
      "1182/1182 [==============================] - 3s 2ms/step - loss: 0.1304 - sparse_categorical_accuracy: 0.9637 - val_loss: 0.1798 - val_sparse_categorical_accuracy: 0.9560\n",
      "Epoch 7/150\n",
      "1182/1182 [==============================] - 3s 2ms/step - loss: 0.1112 - sparse_categorical_accuracy: 0.9685 - val_loss: 0.2338 - val_sparse_categorical_accuracy: 0.9414\n",
      "Epoch 8/150\n",
      "1182/1182 [==============================] - 3s 2ms/step - loss: 0.1165 - sparse_categorical_accuracy: 0.9692 - val_loss: 0.1967 - val_sparse_categorical_accuracy: 0.9507\n",
      "Epoch 9/150\n",
      "1182/1182 [==============================] - 3s 2ms/step - loss: 0.0937 - sparse_categorical_accuracy: 0.9760 - val_loss: 0.1610 - val_sparse_categorical_accuracy: 0.9605\n",
      "Epoch 10/150\n",
      "1182/1182 [==============================] - 3s 2ms/step - loss: 0.0730 - sparse_categorical_accuracy: 0.9800 - val_loss: 0.1939 - val_sparse_categorical_accuracy: 0.9600\n",
      "Epoch 11/150\n",
      "1182/1182 [==============================] - 3s 2ms/step - loss: 0.0896 - sparse_categorical_accuracy: 0.9776 - val_loss: 0.2397 - val_sparse_categorical_accuracy: 0.9557\n",
      "Epoch 12/150\n",
      "1182/1182 [==============================] - 3s 2ms/step - loss: 0.0784 - sparse_categorical_accuracy: 0.9790 - val_loss: 0.1834 - val_sparse_categorical_accuracy: 0.9621\n",
      "Epoch 13/150\n",
      "1182/1182 [==============================] - 3s 2ms/step - loss: 0.0685 - sparse_categorical_accuracy: 0.9826 - val_loss: 0.1838 - val_sparse_categorical_accuracy: 0.9660\n",
      "Epoch 14/150\n",
      "1182/1182 [==============================] - 3s 2ms/step - loss: 0.0720 - sparse_categorical_accuracy: 0.9821 - val_loss: 0.2018 - val_sparse_categorical_accuracy: 0.9629\n",
      "Epoch 15/150\n",
      "1182/1182 [==============================] - 3s 2ms/step - loss: 0.0728 - sparse_categorical_accuracy: 0.9812 - val_loss: 0.2292 - val_sparse_categorical_accuracy: 0.9614\n",
      "Epoch 16/150\n",
      "1182/1182 [==============================] - 3s 2ms/step - loss: 0.0558 - sparse_categorical_accuracy: 0.9863 - val_loss: 0.2077 - val_sparse_categorical_accuracy: 0.9631\n",
      "Epoch 17/150\n",
      "1182/1182 [==============================] - 3s 2ms/step - loss: 0.0768 - sparse_categorical_accuracy: 0.9836 - val_loss: 0.2283 - val_sparse_categorical_accuracy: 0.9643\n",
      "Epoch 18/150\n",
      "1182/1182 [==============================] - 3s 2ms/step - loss: 0.0500 - sparse_categorical_accuracy: 0.9876 - val_loss: 0.1955 - val_sparse_categorical_accuracy: 0.9602\n",
      "\n",
      "Epoch 00018: ReduceLROnPlateau reducing learning rate to 0.0005000000237487257.\n",
      "Epoch 19/150\n",
      "1182/1182 [==============================] - 3s 2ms/step - loss: 0.0339 - sparse_categorical_accuracy: 0.9911 - val_loss: 0.1771 - val_sparse_categorical_accuracy: 0.9724\n",
      "Epoch 20/150\n",
      "1182/1182 [==============================] - 3s 2ms/step - loss: 0.0198 - sparse_categorical_accuracy: 0.9941 - val_loss: 0.1923 - val_sparse_categorical_accuracy: 0.9740\n",
      "Epoch 21/150\n",
      "1182/1182 [==============================] - 3s 2ms/step - loss: 0.0136 - sparse_categorical_accuracy: 0.9954 - val_loss: 0.2371 - val_sparse_categorical_accuracy: 0.9667\n",
      "Epoch 22/150\n",
      "1182/1182 [==============================] - 3s 2ms/step - loss: 0.0239 - sparse_categorical_accuracy: 0.9936 - val_loss: 0.2045 - val_sparse_categorical_accuracy: 0.9740\n",
      "Epoch 23/150\n",
      "1182/1182 [==============================] - 3s 2ms/step - loss: 0.0161 - sparse_categorical_accuracy: 0.9954 - val_loss: 0.2155 - val_sparse_categorical_accuracy: 0.9721\n",
      "Epoch 24/150\n",
      "1182/1182 [==============================] - 3s 2ms/step - loss: 0.0154 - sparse_categorical_accuracy: 0.9954 - val_loss: 0.2450 - val_sparse_categorical_accuracy: 0.9740\n",
      "Epoch 25/150\n",
      "1182/1182 [==============================] - 3s 2ms/step - loss: 0.0171 - sparse_categorical_accuracy: 0.9964 - val_loss: 0.2244 - val_sparse_categorical_accuracy: 0.9752\n",
      "Epoch 26/150\n",
      "1182/1182 [==============================] - 3s 2ms/step - loss: 0.0164 - sparse_categorical_accuracy: 0.9957 - val_loss: 0.2060 - val_sparse_categorical_accuracy: 0.9740\n",
      "Epoch 27/150\n",
      "1182/1182 [==============================] - 3s 2ms/step - loss: 0.0139 - sparse_categorical_accuracy: 0.9962 - val_loss: 0.2622 - val_sparse_categorical_accuracy: 0.9707\n",
      "Epoch 28/150\n",
      "1182/1182 [==============================] - 3s 2ms/step - loss: 0.0174 - sparse_categorical_accuracy: 0.9964 - val_loss: 0.2481 - val_sparse_categorical_accuracy: 0.9731\n",
      "Epoch 29/150\n",
      "1182/1182 [==============================] - 3s 2ms/step - loss: 0.0167 - sparse_categorical_accuracy: 0.9956 - val_loss: 0.2897 - val_sparse_categorical_accuracy: 0.9688\n",
      "Epoch 30/150\n",
      "1182/1182 [==============================] - 3s 2ms/step - loss: 0.0133 - sparse_categorical_accuracy: 0.9964 - val_loss: 0.2383 - val_sparse_categorical_accuracy: 0.9733\n",
      "\n",
      "Epoch 00030: ReduceLROnPlateau reducing learning rate to 0.0002500000118743628.\n",
      "Epoch 31/150\n",
      "1182/1182 [==============================] - 3s 2ms/step - loss: 0.0071 - sparse_categorical_accuracy: 0.9978 - val_loss: 0.2449 - val_sparse_categorical_accuracy: 0.9755\n",
      "Epoch 32/150\n",
      "1182/1182 [==============================] - 3s 2ms/step - loss: 0.0031 - sparse_categorical_accuracy: 0.9989 - val_loss: 0.2591 - val_sparse_categorical_accuracy: 0.9748\n",
      "Epoch 33/150\n",
      "1182/1182 [==============================] - 3s 2ms/step - loss: 0.0030 - sparse_categorical_accuracy: 0.9991 - val_loss: 0.2617 - val_sparse_categorical_accuracy: 0.9738\n",
      "Epoch 34/150\n",
      "1182/1182 [==============================] - 3s 2ms/step - loss: 0.0039 - sparse_categorical_accuracy: 0.9990 - val_loss: 0.3329 - val_sparse_categorical_accuracy: 0.9714\n",
      "Epoch 35/150\n",
      "1182/1182 [==============================] - 3s 2ms/step - loss: 0.0062 - sparse_categorical_accuracy: 0.9984 - val_loss: 0.2929 - val_sparse_categorical_accuracy: 0.9710\n",
      "Epoch 36/150\n",
      "1182/1182 [==============================] - 3s 2ms/step - loss: 0.0032 - sparse_categorical_accuracy: 0.9991 - val_loss: 0.2920 - val_sparse_categorical_accuracy: 0.9729\n",
      "\n",
      "Epoch 00036: ReduceLROnPlateau reducing learning rate to 0.0001250000059371814.\n",
      "Epoch 37/150\n",
      "1182/1182 [==============================] - 3s 2ms/step - loss: 0.0037 - sparse_categorical_accuracy: 0.9988 - val_loss: 0.2843 - val_sparse_categorical_accuracy: 0.9745\n",
      "Epoch 38/150\n",
      "1182/1182 [==============================] - 3s 2ms/step - loss: 0.0020 - sparse_categorical_accuracy: 0.9994 - val_loss: 0.2901 - val_sparse_categorical_accuracy: 0.9752\n",
      "Epoch 39/150\n"
     ]
    },
    {
     "name": "stdout",
     "output_type": "stream",
     "text": [
      "1182/1182 [==============================] - 3s 2ms/step - loss: 0.0021 - sparse_categorical_accuracy: 0.9993 - val_loss: 0.2892 - val_sparse_categorical_accuracy: 0.9748\n",
      "Epoch 40/150\n",
      "1182/1182 [==============================] - 3s 2ms/step - loss: 0.0012 - sparse_categorical_accuracy: 0.9996 - val_loss: 0.2928 - val_sparse_categorical_accuracy: 0.9752\n",
      "Epoch 41/150\n",
      "1182/1182 [==============================] - 3s 2ms/step - loss: 0.0031 - sparse_categorical_accuracy: 0.9991 - val_loss: 0.2963 - val_sparse_categorical_accuracy: 0.9755\n",
      "\n",
      "Epoch 00041: ReduceLROnPlateau reducing learning rate to 6.25000029685907e-05.\n"
     ]
    },
    {
     "name": "stderr",
     "output_type": "stream",
     "text": [
      "2021-03-22 13:43:28,455 : INFO : Saved file: ../predictions/experiments-best-dense.csv\n"
     ]
    }
   ],
   "source": [
    "def best_dense():\n",
    "    def build_model(lr=0.001):\n",
    "        initializer = keras.initializers.LecunNormal()\n",
    "        model = keras.models.Sequential()\n",
    "        model.add(keras.layers.InputLayer(input_shape=[28, 28]))\n",
    "        model.add(keras.layers.Flatten())\n",
    "        model.add(keras.layers.Dense(300, activation='selu', kernel_initializer=initializer))\n",
    "        model.add(keras.layers.Dense(100, activation='selu', kernel_initializer=initializer))\n",
    "        model.add(keras.layers.Dense(10, activation='softmax'))\n",
    "\n",
    "        log.info(model.summary())\n",
    "\n",
    "        model.compile(loss='sparse_categorical_crossentropy',\n",
    "                     optimizer=keras.optimizers.Nadam(learning_rate=lr),\n",
    "                     metrics=[keras.metrics.sparse_categorical_accuracy])\n",
    "        return model\n",
    "    lr_scheduler_callback = keras.callbacks.ReduceLROnPlateau(monitor='val_sparse_categorical_accuracy', \n",
    "                                                                factor=0.5, patience=5, verbose=1)\n",
    "    early_stopping_callback = keras.callbacks.EarlyStopping(monitor='val_sparse_categorical_accuracy', \n",
    "                                                patience=10, restore_best_weights=True)\n",
    "    model = build_model()\n",
    "    history = model.fit(X, y_sparse, epochs=args.epochs*3, validation_split=args.val_fraction, \n",
    "                                       callbacks=[lr_scheduler_callback, early_stopping_callback])\n",
    "    predictions = np.argmax(model.predict(X_test), axis=-1)\n",
    "    csv_sparse_predictions(predictions, 'experiments-best-dense.csv')\n",
    "best_dense()"
   ]
  },
  {
   "cell_type": "markdown",
   "metadata": {},
   "source": [
    "#### Lr scheduling\n",
    "| Approach | Model  | Test score  | CV score |\n",
    "|---|---|---|---|\n",
    "| Best dense | 3 layers with 213 neurons, ReduceLROnPlateau(monitor='val_sparse_categorical_accuracy',factor=0.5, patience=5) | 0.97550 | 0.9793 |\n",
    "| Best dense | 300-100 neurons, ReduceLROnPlateau(monitor='val_sparse_categorical_accuracy',factor=0.5, patience=5) | 0.97742 | 0.9783 |\n",
    "| Best dense | 300-100 neurons + Dropout(0.2), ReduceLROnPlateau(monitor='val_sparse_categorical_accuracy',factor=0.5, patience=5) | 0.97592 | 0.9781 |\n",
    "| Best dense | 300-100 neurons, kernel_initializer='he_normal', ReduceLROnPlateau(monitor='val_sparse_categorical_accuracy',factor=0.5, patience=5) | 0.97603 | 0.9760 |\n",
    "| Best dense | 300-100 neurons + AlphaDropout(0.2), ReduceLROnPlateau(monitor='val_sparse_categorical_accuracy',factor=0.5, patience=5) | 0.97107 | 0.9742 |\n",
    "| Best dense | 300-100 neurons + Dropout(0.2) + mc Dropout, ReduceLROnPlateau(monitor='val_sparse_categorical_accuracy',factor=0.5, patience=5) | 0.97657 | 0.9769 |\n",
    "| Best dense | 300-100 neurons, RMSProp, ReduceLROnPlateau(monitor='val_sparse_categorical_accuracy',factor=0.5, patience=5) | 0.97350 | 0.9752 |\n",
    "| Best dense | 300-100 neurons, kernel_initializer=LecunNormal, l1l2 regularization ReduceLROnPlateau(monitor='val_sparse_categorical_accuracy',factor=0.5, patience=5) | 0.95910 | 0.9619 |\n",
    "| Best dense | 300-100 neurons, kernel_initializer=LecunNormal, val_fraction=0.01, ReduceLROnPlateau(monitor='val_sparse_categorical_accuracy',factor=0.5, patience=5) | 0.97625 | 0.9881 |\n",
    "| Final best dense | 300-100 neurons, kernel_initializer=LecunNormal, ReduceLROnPlateau(monitor='val_sparse_categorical_accuracy',factor=0.5, patience=5) | 0.97757 | 0.9786 |"
   ]
  }
 ],
 "metadata": {
  "kernelspec": {
   "display_name": "Python 3",
   "language": "python",
   "name": "python3"
  },
  "language_info": {
   "codemirror_mode": {
    "name": "ipython",
    "version": 3
   },
   "file_extension": ".py",
   "mimetype": "text/x-python",
   "name": "python",
   "nbconvert_exporter": "python",
   "pygments_lexer": "ipython3",
   "version": "3.8.6"
  }
 },
 "nbformat": 4,
 "nbformat_minor": 2
}
