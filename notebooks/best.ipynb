{
 "cells": [
  {
   "cell_type": "code",
   "execution_count": 1,
   "id": "hybrid-sellers",
   "metadata": {},
   "outputs": [
    {
     "data": {
      "text/plain": [
       "'2.4.1'"
      ]
     },
     "execution_count": 1,
     "metadata": {},
     "output_type": "execute_result"
    }
   ],
   "source": [
    "import logging\n",
    "import numpy as np\n",
    "import pandas as pd\n",
    "import tensorflow as tf\n",
    "import keras\n",
    "\n",
    "logging.basicConfig(format='%(asctime)s : %(levelname)s : %(message)s', level=logging.INFO)\n",
    "log = logging.getLogger()\n",
    "\n",
    "%config Completer.use_jedi = False # make autocompletion works in jupyter\n",
    "\n",
    "tf.__version__"
   ]
  },
  {
   "cell_type": "code",
   "execution_count": 69,
   "id": "radio-stage",
   "metadata": {},
   "outputs": [],
   "source": [
    "import argparse\n",
    "import numpy as np\n",
    "import pandas as pd\n",
    "from pathlib import Path\n",
    "\n",
    "args = argparse.Namespace()\n",
    "\n",
    "args.n_splits = 5\n",
    "args.n_jobs = -1\n",
    "args.val_fraction = 0.1\n",
    "args.epochs = 50\n",
    "args.seed=101\n",
    "args.reproducibility = True\n",
    "\n",
    "args.run_baseline = True\n",
    "\n",
    "args.raw_train = pd.read_csv('../data/train.csv.zip')\n",
    "args.raw_test = pd.read_csv('../data/test.csv.zip')\n",
    "args.train = args.raw_train.iloc[:, 1:].copy()\n",
    "args.labels = args.raw_train['label'].copy()\n",
    "args.test = args.raw_test.copy()\n",
    "args.predictions_folder = Path('../predictions/best')\n",
    "args.models_folder = Path('../models/best')\n",
    "\n",
    "args.model_name = 'best.hdf5'\n",
    "\n",
    "args.predictions_folder.mkdir(parents=True, exist_ok=True) \n",
    "args.models_folder.mkdir(parents=True, exist_ok=True) \n",
    "args.run_baseline = True\n",
    "args.run_transfer = False\n",
    "args.run_augment = True\n",
    "args.run_ensemble = True"
   ]
  },
  {
   "cell_type": "code",
   "execution_count": 13,
   "id": "dress-tracker",
   "metadata": {},
   "outputs": [],
   "source": [
    "import tensorflow as tf\n",
    "import numpy as np\n",
    "\n",
    "\n",
    "def reproducibility():\n",
    "    if args.reproducibility:\n",
    "        np.random.seed(args.seed)\n",
    "        tf.random.set_seed(args.seed)\n",
    "\n",
    "reproducibility()"
   ]
  },
  {
   "cell_type": "code",
   "execution_count": 4,
   "id": "brave-april",
   "metadata": {},
   "outputs": [
    {
     "data": {
      "image/png": "[encoded data removed]",
      "text/plain": [
       "<Figure size 36x36 with 1 Axes>"
      ]
     },
     "metadata": {
      "needs_background": "light"
     },
     "output_type": "display_data"
    }
   ],
   "source": [
    "import matplotlib.pyplot as plt\n",
    "import matplotlib.image as mpimg\n",
    "import random\n",
    "\n",
    "def draw_digit(pixels_2d, label=None, size_inches=None):\n",
    "    fig, ax = plt.subplots()\n",
    "    if label is not None:\n",
    "        ax.set_title(label)\n",
    "    if size_inches:\n",
    "        fig.set_size_inches(size_inches[0], size_inches[1])\n",
    "    imgplot = ax.imshow(pixels_2d, cmap='gray')\n",
    "\n",
    "random_row = random.randrange(0, args.raw_train.shape[0], 1)\n",
    "label = args.raw_train.iloc[random_row, 0]\n",
    "pixels_2d = args.raw_train.iloc[random_row, 1:].to_numpy().reshape(28, 28)\n",
    "draw_digit(pixels_2d, label, (0.5, 0.5))"
   ]
  },
  {
   "cell_type": "code",
   "execution_count": 73,
   "id": "fixed-tunnel",
   "metadata": {},
   "outputs": [
    {
     "name": "stderr",
     "output_type": "stream",
     "text": [
      "2021-05-17 21:05:13,782 : INFO : X_train_full.shape: (42000, 28, 28, 1)\n",
      "2021-05-17 21:05:13,783 : INFO : Y_train_full.shape: (42000, 10)\n",
      "2021-05-17 21:05:13,797 : INFO : Type of target Y_train_full: 'multilabel-indicator'\n",
      "2021-05-17 21:05:13,797 : INFO : y_train_full.shape: (42000,)\n",
      "2021-05-17 21:05:13,799 : INFO : Type of target y_train_full: 'multiclass'\n"
     ]
    }
   ],
   "source": [
    "import sklearn.utils.multiclass\n",
    "\n",
    "X_train_full = args.train.to_numpy().reshape(args.train.shape[0], 28, 28, 1) / 255.0\n",
    "Y_train_full = pd.get_dummies(args.labels, prefix='label').to_numpy()\n",
    "y_train_full = args.labels.to_numpy()\n",
    "X_test = args.test.to_numpy().reshape(args.test.shape[0], 28, 28, 1) / 255.0\n",
    "\n",
    "log.info('X_train_full.shape: %s', repr(X_train_full.shape))\n",
    "# log.info('X[0][14][14]: %s', X[0][14][14])\n",
    "\n",
    "log.info('Y_train_full.shape: %s', repr(Y_train_full.shape))\n",
    "# log.info('y[0], %s', y[0])\n",
    "log.info('Type of target Y_train_full: %s', repr(sklearn.utils.multiclass.type_of_target(Y_train_full)))\n",
    "\n",
    "log.info('y_train_full.shape: %s', repr(y_train_full.shape))\n",
    "# log.info('y_sparse: %s', repr(y_sparse))\n",
    "# log.info('y_sparse[0]: %s', y_sparse[0])\n",
    "log.info('Type of target y_train_full: %s', repr(sklearn.utils.multiclass.type_of_target(y_train_full)))\n",
    "\n",
    "def plot_history(history):\n",
    "    log.info(\"History keys: %s\", history.history.keys())\n",
    "    # Accuracy\n",
    "    fig, ax = plt.subplots(figsize=(10, 5))\n",
    "    ax.plot(history.history['accuracy'], label='Train')\n",
    "    ax.plot(history.history['val_accuracy'], label='Test')\n",
    "    ax.set_title('Model accuracy')\n",
    "    ax.set_ylabel('Accuracy')\n",
    "    ax.set_xlabel('Epoch')\n",
    "    ax.grid(True)\n",
    "    ax.legend(['Train', 'Val'], loc='lower right')\n",
    "    \n",
    "    # Loss\n",
    "    plt.figure(figsize=(10,5))\n",
    "    plt.plot(history.history['loss'])\n",
    "    plt.plot(history.history['val_loss'])\n",
    "    plt.title('Model loss')\n",
    "    plt.ylabel('Loss')\n",
    "    plt.xlabel('Epoch')\n",
    "    plt.legend(['Train', 'Val'], loc='upper left')\n",
    "    plt.grid()\n",
    "    plt.show()\n",
    "    \n",
    "def csv_predictions(predictions, filename):\n",
    "    log.debug('predictions.shape: %s', repr(predictions.shape))\n",
    "    predictions_classes = np.argmax(predictions, axis=1)\n",
    "    csv_predictions_categorical(predictions_classes, filename)\n",
    "\n",
    "def csv_predictions_categorical(predictions_classes, filename):\n",
    "    image_ids = np.arange(1, len(predictions_classes) + 1)\n",
    "    submission = pd.DataFrame({'ImageId': image_ids, 'Label': predictions_classes})\n",
    "    filepath = args.predictions_folder/filename\n",
    "    submission.to_csv(filepath, index=False)\n",
    "    log.info('Saved file: %s', filepath)\n"
   ]
  },
  {
   "cell_type": "markdown",
   "id": "worthy-necklace",
   "metadata": {},
   "source": [
    "### Baseline"
   ]
  },
  {
   "cell_type": "raw",
   "id": "wound-proceeding",
   "metadata": {},
   "source": [
    "def reprod():\n",
    "    reproducibility()\n",
    "    model = keras.models.Sequential()\n",
    "    model.add(keras.layers.InputLayer(input_shape=(28, 28, 1)))\n",
    "    \n",
    "    model.add(keras.layers.Conv2D(32, (3, 3), activation='relu'))\n",
    "    model.add(keras.layers.BatchNormalization())\n",
    "    model.add(keras.layers.MaxPool2D(pool_size=(2, 2)))\n",
    "    model.add(keras.layers.Dropout(0.4))\n",
    "    \n",
    "    model.add(keras.layers.Conv2D(64, (3, 3), activation='relu'))\n",
    "    model.add(keras.layers.BatchNormalization())\n",
    "    model.add(keras.layers.MaxPool2D(pool_size=(2, 2)))\n",
    "    model.add(keras.layers.Dropout(0.4))\n",
    "    \n",
    "    model.add(keras.layers.Flatten())\n",
    "    model.add(keras.layers.Dense(64, activation='relu'))\n",
    "    model.add(keras.layers.BatchNormalization())\n",
    "    \n",
    "    model.add(keras.layers.Dense(10, activation='softmax'))\n",
    "    \n",
    "    model.compile(optimizer='nadam', loss='sparse_categorical_crossentropy', metrics=['accuracy'])\n",
    "    print(model.summary())\n",
    "    \n",
    "    monitor='val_accuracy'\n",
    "    early_stopping = keras.callbacks.EarlyStopping(monitor=monitor, patience=10, mode='auto', restore_best_weights=True, verbose=1)\n",
    "    reduce_lr_on_plateau = keras.callbacks.ReduceLROnPlateau(monitor=monitor, factor=0.1, patience=3, min_delta=1e-4, mode='auto', verbose=1)\n",
    "    \n",
    "    history = model.fit(X_train, y_train, validation_split=args.val_fraction, epochs=1, batch_size=32,\n",
    "                        verbose=1, callbacks=[early_stopping, reduce_lr_on_plateau])\n",
    "    plot_history(history)\n",
    "    \n",
    "    predictions = model.predict(X_test)\n",
    "    csv_predictions(predictions, 'baseline.csv')\n",
    "\n",
    "reprod()\n",
    "\n",
    "assert False\n",
    "# mac mini 1182/1182 [==============================] - 20s 16ms/step - loss: 0.5071 - accuracy: 0.8442 - val_loss: 0.0995 - val_accuracy: 0.9707\n",
    "# macbook 1182/1182 [==============================] - 62s 50ms/step - loss: 0.5066 - accuracy: 0.8437 - val_loss: 0.1070 - val_accuracy: 0.9662\n",
    "# macbook 29/29 [==============================] - 4s 64ms/step - loss: 2.2990 - accuracy: 0.3006 - val_loss: 3.0213 - val_accuracy: 0.5200\n",
    "\n",
    "# mini 1182/1182 [==============================] - 31s 25ms/step - loss: 0.5001 - accuracy: 0.8464 - val_loss: 0.0887 - val_accuracy: 0.9721\n",
    "# macbook 1182/1182 [==============================] - 74s 60ms/step - loss: 0.5040 - accuracy: 0.8444 - val_loss: 0.0940 - val_accuracy: 0.9729\n",
    "# mini 1182/1182 [==============================] - 34s 28ms/step - loss: 0.5001 - accuracy: 0.8464 - val_loss: 0.0887 - val_accuracy: 0.9721\n",
    "# mini 1182/1182 [==============================] - 31s 25ms/step - loss: 0.5001 - accuracy: 0.8464 - val_loss: 0.0887 - val_accuracy: 0.9721\n",
    "# macbook 1182/1182 [==============================] - 73s 60ms/step - loss: 0.5040 - accuracy: 0.8444 - val_loss: 0.0940 - val_accuracy: 0.9729\n",
    "# macbook 1182/1182 [==============================] - 74s 61ms/step - loss: 0.5040 - accuracy: 0.8444 - val_loss: 0.0940 - val_accuracy: 0.9729"
   ]
  },
  {
   "cell_type": "code",
   "execution_count": 6,
   "id": "tribal-sandwich",
   "metadata": {},
   "outputs": [
    {
     "name": "stdout",
     "output_type": "stream",
     "text": [
      "Model: \"sequential\"\n",
      "_________________________________________________________________\n",
      "Layer (type)                 Output Shape              Param #   \n",
      "=================================================================\n",
      "conv2d (Conv2D)              (None, 26, 26, 32)        320       \n",
      "_________________________________________________________________\n",
      "batch_normalization (BatchNo (None, 26, 26, 32)        128       \n",
      "_________________________________________________________________\n",
      "max_pooling2d (MaxPooling2D) (None, 13, 13, 32)        0         \n",
      "_________________________________________________________________\n",
      "dropout (Dropout)            (None, 13, 13, 32)        0         \n",
      "_________________________________________________________________\n",
      "conv2d_1 (Conv2D)            (None, 11, 11, 64)        18496     \n",
      "_________________________________________________________________\n",
      "batch_normalization_1 (Batch (None, 11, 11, 64)        256       \n",
      "_________________________________________________________________\n",
      "max_pooling2d_1 (MaxPooling2 (None, 5, 5, 64)          0         \n",
      "_________________________________________________________________\n",
      "dropout_1 (Dropout)          (None, 5, 5, 64)          0         \n",
      "_________________________________________________________________\n",
      "conv2d_2 (Conv2D)            (None, 3, 3, 128)         73856     \n",
      "_________________________________________________________________\n",
      "batch_normalization_2 (Batch (None, 3, 3, 128)         512       \n",
      "_________________________________________________________________\n",
      "dropout_2 (Dropout)          (None, 3, 3, 128)         0         \n",
      "_________________________________________________________________\n",
      "flatten (Flatten)            (None, 1152)              0         \n",
      "_________________________________________________________________\n",
      "dense (Dense)                (None, 128)               147584    \n",
      "_________________________________________________________________\n",
      "batch_normalization_3 (Batch (None, 128)               512       \n",
      "_________________________________________________________________\n",
      "dense_1 (Dense)              (None, 10)                1290      \n",
      "=================================================================\n",
      "Total params: 242,954\n",
      "Trainable params: 242,250\n",
      "Non-trainable params: 704\n",
      "_________________________________________________________________\n",
      "None\n",
      "Epoch 1/50\n",
      "1182/1182 [==============================] - 26s 21ms/step - loss: 0.5224 - accuracy: 0.8331 - val_loss: 0.1074 - val_accuracy: 0.9657\n",
      "Epoch 2/50\n",
      "1182/1182 [==============================] - 24s 20ms/step - loss: 0.1036 - accuracy: 0.9672 - val_loss: 0.0482 - val_accuracy: 0.9850\n",
      "Epoch 3/50\n",
      "1182/1182 [==============================] - 23s 20ms/step - loss: 0.0789 - accuracy: 0.9752 - val_loss: 0.0390 - val_accuracy: 0.9879\n",
      "Epoch 4/50\n",
      "1182/1182 [==============================] - 24s 20ms/step - loss: 0.0681 - accuracy: 0.9794 - val_loss: 0.0326 - val_accuracy: 0.9898\n",
      "Epoch 5/50\n",
      "1182/1182 [==============================] - 24s 20ms/step - loss: 0.0554 - accuracy: 0.9827 - val_loss: 0.0528 - val_accuracy: 0.9836\n",
      "Epoch 6/50\n",
      "1182/1182 [==============================] - 24s 20ms/step - loss: 0.0538 - accuracy: 0.9834 - val_loss: 0.0264 - val_accuracy: 0.9910\n",
      "Epoch 7/50\n",
      "1182/1182 [==============================] - 24s 20ms/step - loss: 0.0483 - accuracy: 0.9849 - val_loss: 0.0276 - val_accuracy: 0.9912\n",
      "Epoch 8/50\n",
      "1182/1182 [==============================] - 24s 20ms/step - loss: 0.0454 - accuracy: 0.9850 - val_loss: 0.0250 - val_accuracy: 0.9914\n",
      "Epoch 9/50\n",
      "1182/1182 [==============================] - 24s 20ms/step - loss: 0.0438 - accuracy: 0.9865 - val_loss: 0.0336 - val_accuracy: 0.9905\n",
      "Epoch 10/50\n",
      "1182/1182 [==============================] - 24s 20ms/step - loss: 0.0391 - accuracy: 0.9878 - val_loss: 0.0230 - val_accuracy: 0.9940\n",
      "Epoch 11/50\n",
      "1182/1182 [==============================] - 24s 20ms/step - loss: 0.0328 - accuracy: 0.9886 - val_loss: 0.0302 - val_accuracy: 0.9912\n",
      "Epoch 12/50\n",
      "1182/1182 [==============================] - 24s 20ms/step - loss: 0.0324 - accuracy: 0.9884 - val_loss: 0.0211 - val_accuracy: 0.9924\n",
      "Epoch 13/50\n",
      "1182/1182 [==============================] - 24s 20ms/step - loss: 0.0315 - accuracy: 0.9897 - val_loss: 0.0172 - val_accuracy: 0.9929\n",
      "Epoch 14/50\n",
      "1182/1182 [==============================] - 24s 20ms/step - loss: 0.0322 - accuracy: 0.9901 - val_loss: 0.0196 - val_accuracy: 0.9945\n",
      "Epoch 15/50\n",
      "1182/1182 [==============================] - 24s 20ms/step - loss: 0.0301 - accuracy: 0.9901 - val_loss: 0.0195 - val_accuracy: 0.9943\n",
      "Epoch 16/50\n",
      "1182/1182 [==============================] - 24s 20ms/step - loss: 0.0311 - accuracy: 0.9892 - val_loss: 0.0236 - val_accuracy: 0.9924\n",
      "\n",
      "Epoch 00016: ReduceLROnPlateau reducing learning rate to 0.00010000000474974513.\n",
      "Epoch 17/50\n",
      "1182/1182 [==============================] - 24s 20ms/step - loss: 0.0242 - accuracy: 0.9920 - val_loss: 0.0185 - val_accuracy: 0.9943\n",
      "Epoch 18/50\n",
      "1182/1182 [==============================] - 24s 20ms/step - loss: 0.0218 - accuracy: 0.9927 - val_loss: 0.0168 - val_accuracy: 0.9948\n",
      "Epoch 19/50\n",
      "1182/1182 [==============================] - 24s 20ms/step - loss: 0.0210 - accuracy: 0.9929 - val_loss: 0.0165 - val_accuracy: 0.9945\n",
      "Epoch 20/50\n",
      "1182/1182 [==============================] - 24s 20ms/step - loss: 0.0167 - accuracy: 0.9946 - val_loss: 0.0170 - val_accuracy: 0.9950\n",
      "Epoch 21/50\n",
      "1182/1182 [==============================] - 24s 20ms/step - loss: 0.0186 - accuracy: 0.9940 - val_loss: 0.0162 - val_accuracy: 0.9952\n",
      "Epoch 22/50\n",
      "1182/1182 [==============================] - 24s 20ms/step - loss: 0.0181 - accuracy: 0.9944 - val_loss: 0.0161 - val_accuracy: 0.9950\n",
      "Epoch 23/50\n",
      "1182/1182 [==============================] - 24s 20ms/step - loss: 0.0186 - accuracy: 0.9939 - val_loss: 0.0158 - val_accuracy: 0.9945\n",
      "Epoch 24/50\n",
      "1182/1182 [==============================] - 24s 20ms/step - loss: 0.0175 - accuracy: 0.9951 - val_loss: 0.0156 - val_accuracy: 0.9955\n",
      "Epoch 25/50\n",
      "1182/1182 [==============================] - 21s 18ms/step - loss: 0.0164 - accuracy: 0.9943 - val_loss: 0.0152 - val_accuracy: 0.9950\n",
      "Epoch 26/50\n",
      "1182/1182 [==============================] - 20s 17ms/step - loss: 0.0143 - accuracy: 0.9956 - val_loss: 0.0161 - val_accuracy: 0.9950\n",
      "Epoch 27/50\n",
      "1182/1182 [==============================] - 20s 17ms/step - loss: 0.0153 - accuracy: 0.9946 - val_loss: 0.0150 - val_accuracy: 0.9948\n",
      "Epoch 28/50\n",
      "1182/1182 [==============================] - 20s 17ms/step - loss: 0.0148 - accuracy: 0.9952 - val_loss: 0.0150 - val_accuracy: 0.9957\n",
      "Epoch 29/50\n",
      "1182/1182 [==============================] - 20s 17ms/step - loss: 0.0129 - accuracy: 0.9959 - val_loss: 0.0155 - val_accuracy: 0.9952\n",
      "Epoch 30/50\n",
      "1182/1182 [==============================] - 20s 17ms/step - loss: 0.0144 - accuracy: 0.9948 - val_loss: 0.0160 - val_accuracy: 0.9945\n",
      "\n",
      "Epoch 00030: ReduceLROnPlateau reducing learning rate to 1.0000000474974514e-05.\n",
      "Epoch 31/50\n",
      "1182/1182 [==============================] - 20s 17ms/step - loss: 0.0152 - accuracy: 0.9952 - val_loss: 0.0159 - val_accuracy: 0.9948\n",
      "Epoch 32/50\n",
      "1182/1182 [==============================] - 20s 17ms/step - loss: 0.0145 - accuracy: 0.9950 - val_loss: 0.0156 - val_accuracy: 0.9950\n",
      "Epoch 33/50\n",
      "1182/1182 [==============================] - 20s 17ms/step - loss: 0.0142 - accuracy: 0.9953 - val_loss: 0.0157 - val_accuracy: 0.9948\n",
      "\n",
      "Epoch 00033: ReduceLROnPlateau reducing learning rate to 1.0000000656873453e-06.\n",
      "Epoch 34/50\n",
      "1182/1182 [==============================] - 20s 17ms/step - loss: 0.0141 - accuracy: 0.9949 - val_loss: 0.0157 - val_accuracy: 0.9952\n",
      "Epoch 35/50\n",
      "1182/1182 [==============================] - 20s 17ms/step - loss: 0.0146 - accuracy: 0.9951 - val_loss: 0.0157 - val_accuracy: 0.9950\n",
      "Epoch 36/50\n",
      "1182/1182 [==============================] - 20s 17ms/step - loss: 0.0160 - accuracy: 0.9940 - val_loss: 0.0158 - val_accuracy: 0.9948\n",
      "\n",
      "Epoch 00036: ReduceLROnPlateau reducing learning rate to 1.0000001111620805e-07.\n",
      "Epoch 37/50\n",
      "1182/1182 [==============================] - 21s 17ms/step - loss: 0.0139 - accuracy: 0.9948 - val_loss: 0.0157 - val_accuracy: 0.9948\n"
     ]
    },
    {
     "name": "stderr",
     "output_type": "stream",
     "text": [
      "2021-05-10 17:38:18,844 : INFO : History keys: dict_keys(['loss', 'accuracy', 'val_loss', 'val_accuracy', 'lr'])\n"
     ]
    },
    {
     "name": "stdout",
     "output_type": "stream",
     "text": [
      "Restoring model weights from the end of the best epoch.\n",
      "Epoch 00037: early stopping\n"
     ]
    },
    {
     "data": {
      "image/png": "[encoded data removed]",
      "text/plain": [
       "<Figure size 720x360 with 1 Axes>"
      ]
     },
     "metadata": {
      "needs_background": "light"
     },
     "output_type": "display_data"
    },
    {
     "data": {
      "image/png": "[encoded data removed]",
      "text/plain": [
       "<Figure size 720x360 with 1 Axes>"
      ]
     },
     "metadata": {
      "needs_background": "light"
     },
     "output_type": "display_data"
    },
    {
     "name": "stderr",
     "output_type": "stream",
     "text": [
      "2021-05-10 17:38:23,375 : INFO : Saved file: ../predictions/best/baseline.csv\n"
     ]
    }
   ],
   "source": [
    "from tensorflow import keras\n",
    "# ensemble\n",
    "\n",
    "def baseline_model():\n",
    "    model = keras.models.Sequential()\n",
    "    model.add(keras.layers.InputLayer(input_shape=(28, 28, 1)))\n",
    "    \n",
    "    model.add(keras.layers.Conv2D(32, (3, 3), activation='relu'))\n",
    "    model.add(keras.layers.BatchNormalization())\n",
    "    model.add(keras.layers.MaxPool2D(pool_size=(2, 2)))\n",
    "    model.add(keras.layers.Dropout(0.4))\n",
    "    \n",
    "    model.add(keras.layers.Conv2D(64, (3, 3), activation='relu'))\n",
    "    model.add(keras.layers.BatchNormalization())\n",
    "    model.add(keras.layers.MaxPool2D(pool_size=(2, 2)))\n",
    "    model.add(keras.layers.Dropout(0.4))\n",
    "    \n",
    "    model.add(keras.layers.Conv2D(128, (3, 3), activation='relu'))\n",
    "    model.add(keras.layers.BatchNormalization())\n",
    "    model.add(keras.layers.Dropout(0.4))\n",
    "    \n",
    "    model.add(keras.layers.Flatten())\n",
    "    model.add(keras.layers.Dense(128, activation='relu'))\n",
    "    model.add(keras.layers.BatchNormalization())\n",
    "    \n",
    "    model.add(keras.layers.Dense(10, activation='softmax'))\n",
    "    \n",
    "    model.compile(optimizer='nadam', loss='sparse_categorical_crossentropy', metrics=['accuracy'])\n",
    "    print(model.summary())\n",
    "    \n",
    "    monitor='val_loss'\n",
    "    early_stopping = keras.callbacks.EarlyStopping(monitor=monitor, patience=10, mode='auto', restore_best_weights=True, verbose=1)\n",
    "    reduce_lr_on_plateau = keras.callbacks.ReduceLROnPlateau(monitor=monitor, factor=0.1, patience=3, min_delta=1e-4, mode='auto', verbose=1)\n",
    "    \n",
    "    return model, [early_stopping, reduce_lr_on_plateau]\n",
    "\n",
    "def baseline():\n",
    "    reproducibility()\n",
    "    model, callbacks = baseline_model()\n",
    "    \n",
    "    history = model.fit(X_train_full, y_train_full, validation_split=args.val_fraction, epochs=args.epochs, \n",
    "                        callbacks=callbacks, verbose=1)\n",
    "    plot_history(history)\n",
    "    \n",
    "    predictions = model.predict(X_test)\n",
    "    csv_predictions(predictions, 'baseline.csv')\n",
    "\n",
    "if args.run_baseline:\n",
    "    baseline()"
   ]
  },
  {
   "cell_type": "markdown",
   "id": "supreme-place",
   "metadata": {},
   "source": [
    "| Model | Params  | Test score  | CV mean score |\n",
    "|---|---|---|---|\n",
    "| Baseline | No dropout, early_stopping='val_acc' | 0.99017 | 0.9924 |\n",
    "| Baseline | Dropout=0.4, early_stopping='val_acc' | 0.99200 | 0.9931 |\n",
    "| Baseline | Dropout=0.4, Batch normalization, early_stopping='val_acc'  | 0.99278 |  0.9943 |\n",
    "| Baseline | Dropout=0.4, Batch normalization, early_stopping='val_loss'  | 0.99389 |  0.9948 |\n",
    "\n",
    "\n",
    "##### Other results\n",
    "| Model | Params  | Test score  | CV mean score |\n",
    "|---|---|---|---|\n",
    "| Baseline | Dropout=0.25 (after 2 first conv) | 0.99150 | 0.9929 |\n",
    "| Baseline | Dropout=0.5 (after 2 first conv) | 0.99178 | 0.9924 |\n",
    "| Baseline | Dropout=0.5  | 0.98867 | 0.9912 |\n",
    "| Baseline | Dropout=0.3  | 0.99182 |  0.9936 |\n",
    "| Baseline | Dropout=0.4 batch normalization before activation  | 0.99275 |  0.9929 |\n",
    "| Baseline | Dropout=0.4 batch normalization he normal | 0.99250 |  0.9940 |"
   ]
  },
  {
   "cell_type": "markdown",
   "id": "regulated-texture",
   "metadata": {},
   "source": [
    "### Transfer learning"
   ]
  },
  {
   "cell_type": "code",
   "execution_count": 7,
   "id": "endless-running",
   "metadata": {},
   "outputs": [],
   "source": [
    "import matplotlib.pyplot as plt\n",
    "\n",
    "def transfer_learning():\n",
    "    batch_size = 32\n",
    "    train_idx = len(X_train) - int(len(X_train) * args.val_fraction)\n",
    "    val_idx = train_idx\n",
    "#     train_idx = 50\n",
    "#     val_idx = len(X_train) - train_idx \n",
    "    def preprocess(image, label):\n",
    "        resized_image = tf.image.resize(image, [224, 224])\n",
    "        rgb_image = tf.image.grayscale_to_rgb(resized_image)\n",
    "        final_image = keras.applications.xception.preprocess_input(rgb_image)\n",
    "        return final_image, label\n",
    "    \n",
    "    def dataset(features_labels):\n",
    "        def debug_data(data):\n",
    "            for d in data:\n",
    "                print(d)\n",
    "                fig, ax = plt.subplots()\n",
    "                imgplot = ax.imshow(d[0][0])\n",
    "                break\n",
    "        data = tf.data.Dataset.from_tensor_slices(features_labels).shuffle(len(X_train)).map(preprocess).batch(batch_size).prefetch(1)\n",
    "        return data\n",
    "    \n",
    "    def build_model():\n",
    "        base_model = keras.applications.xception.Xception(weights=\"imagenet\", include_top=False)\n",
    "        avg = keras.layers.GlobalAveragePooling2D()(base_model.output)\n",
    "        output = keras.layers.Dense(10, activation='softmax')(avg)\n",
    "        model = keras.Model(inputs=base_model.input, outputs=output)\n",
    "        return base_model, model\n",
    "    \n",
    "    \n",
    "    def train(base_model, model, train_data, val_data, train_base=False, epochs=5, lr=0.2):\n",
    "        for l in base_model.layers:\n",
    "            l.tranable = False\n",
    "        optimizer = keras.optimizers.SGD(lr=lr, momentum=0.9, decay=0.01)\n",
    "        model.compile(optimizer=optimizer, loss='sparse_categorical_crossentropy', metrics=['accuracy'])\n",
    "        print(model.summary())\n",
    "        history = model.fit(train_data, epochs=epochs, validation_data=val_data)\n",
    "        plot_history(history)\n",
    "    \n",
    "    train_data = dataset((X_train[:train_idx], y_train[:train_idx]))\n",
    "    val_data = dataset((X_train[val_idx:], y_train[val_idx:]))\n",
    "    base_model, model = build_model()\n",
    "    train(base_model, model, train_data, val_data)\n",
    "    train(base_model, model, train_data, val_data, train_base=True, lr=0.01)\n",
    "\n",
    "if args.run_transfer:\n",
    "    transfer_learning()"
   ]
  },
  {
   "cell_type": "markdown",
   "id": "final-knowing",
   "metadata": {},
   "source": [
    "### Data augmentation"
   ]
  },
  {
   "cell_type": "code",
   "execution_count": 74,
   "id": "tamil-perfume",
   "metadata": {},
   "outputs": [
    {
     "name": "stdout",
     "output_type": "stream",
     "text": [
      "Model: \"sequential_22\"\n",
      "_________________________________________________________________\n",
      "Layer (type)                 Output Shape              Param #   \n",
      "=================================================================\n",
      "conv2d_66 (Conv2D)           (None, 26, 26, 32)        320       \n",
      "_________________________________________________________________\n",
      "batch_normalization_88 (Batc (None, 26, 26, 32)        128       \n",
      "_________________________________________________________________\n",
      "max_pooling2d_44 (MaxPooling (None, 13, 13, 32)        0         \n",
      "_________________________________________________________________\n",
      "dropout_66 (Dropout)         (None, 13, 13, 32)        0         \n",
      "_________________________________________________________________\n",
      "conv2d_67 (Conv2D)           (None, 11, 11, 64)        18496     \n",
      "_________________________________________________________________\n",
      "batch_normalization_89 (Batc (None, 11, 11, 64)        256       \n",
      "_________________________________________________________________\n",
      "max_pooling2d_45 (MaxPooling (None, 5, 5, 64)          0         \n",
      "_________________________________________________________________\n",
      "dropout_67 (Dropout)         (None, 5, 5, 64)          0         \n",
      "_________________________________________________________________\n",
      "conv2d_68 (Conv2D)           (None, 3, 3, 128)         73856     \n",
      "_________________________________________________________________\n",
      "batch_normalization_90 (Batc (None, 3, 3, 128)         512       \n",
      "_________________________________________________________________\n",
      "dropout_68 (Dropout)         (None, 3, 3, 128)         0         \n",
      "_________________________________________________________________\n",
      "flatten_22 (Flatten)         (None, 1152)              0         \n",
      "_________________________________________________________________\n",
      "dense_44 (Dense)             (None, 128)               147584    \n",
      "_________________________________________________________________\n",
      "batch_normalization_91 (Batc (None, 128)               512       \n",
      "_________________________________________________________________\n",
      "dense_45 (Dense)             (None, 10)                1290      \n",
      "=================================================================\n",
      "Total params: 242,954\n",
      "Trainable params: 242,250\n",
      "Non-trainable params: 704\n",
      "_________________________________________________________________\n",
      "None\n",
      "Epoch 1/50\n",
      "1182/1182 [==============================] - 24s 19ms/step - loss: 0.6458 - accuracy: 0.7888 - val_loss: 0.0549 - val_accuracy: 0.9819\n",
      "Epoch 2/50\n",
      "1182/1182 [==============================] - 22s 19ms/step - loss: 0.1459 - accuracy: 0.9532 - val_loss: 0.0308 - val_accuracy: 0.9905\n",
      "Epoch 3/50\n",
      "1182/1182 [==============================] - 22s 19ms/step - loss: 0.0994 - accuracy: 0.9679 - val_loss: 0.0393 - val_accuracy: 0.9883\n",
      "Epoch 4/50\n",
      "1182/1182 [==============================] - 22s 18ms/step - loss: 0.0873 - accuracy: 0.9723 - val_loss: 0.0306 - val_accuracy: 0.9910\n",
      "Epoch 5/50\n",
      "1182/1182 [==============================] - 22s 19ms/step - loss: 0.0857 - accuracy: 0.9739 - val_loss: 0.0288 - val_accuracy: 0.9902\n",
      "Epoch 6/50\n",
      "1182/1182 [==============================] - 22s 19ms/step - loss: 0.0766 - accuracy: 0.9749 - val_loss: 0.0227 - val_accuracy: 0.9921\n",
      "Epoch 7/50\n",
      "1182/1182 [==============================] - 23s 19ms/step - loss: 0.0772 - accuracy: 0.9755 - val_loss: 0.0313 - val_accuracy: 0.9886\n",
      "Epoch 8/50\n",
      "1182/1182 [==============================] - 22s 19ms/step - loss: 0.0651 - accuracy: 0.9807 - val_loss: 0.0218 - val_accuracy: 0.9931\n",
      "Epoch 9/50\n",
      "1182/1182 [==============================] - 22s 19ms/step - loss: 0.0609 - accuracy: 0.9810 - val_loss: 0.0215 - val_accuracy: 0.9924\n",
      "Epoch 10/50\n",
      "1182/1182 [==============================] - 22s 19ms/step - loss: 0.0558 - accuracy: 0.9810 - val_loss: 0.0202 - val_accuracy: 0.9940\n",
      "Epoch 11/50\n",
      "1182/1182 [==============================] - 23s 19ms/step - loss: 0.0598 - accuracy: 0.9822 - val_loss: 0.0239 - val_accuracy: 0.9926\n",
      "Epoch 12/50\n",
      "1182/1182 [==============================] - 22s 19ms/step - loss: 0.0451 - accuracy: 0.9852 - val_loss: 0.0254 - val_accuracy: 0.9929\n",
      "Epoch 13/50\n",
      "1182/1182 [==============================] - 22s 18ms/step - loss: 0.0507 - accuracy: 0.9838 - val_loss: 0.0207 - val_accuracy: 0.9926\n",
      "\n",
      "Epoch 00013: ReduceLROnPlateau reducing learning rate to 0.00010000000474974513.\n",
      "Epoch 14/50\n",
      "1182/1182 [==============================] - 22s 19ms/step - loss: 0.0491 - accuracy: 0.9845 - val_loss: 0.0180 - val_accuracy: 0.9936\n",
      "Epoch 15/50\n",
      " 324/1182 [=======>......................] - ETA: 17s - loss: 0.0426 - accuracy: 0.9840"
     ]
    },
    {
     "ename": "KeyboardInterrupt",
     "evalue": "",
     "output_type": "error",
     "traceback": [
      "\u001b[0;31m---------------------------------------------------------------------------\u001b[0m",
      "\u001b[0;31mKeyboardInterrupt\u001b[0m                         Traceback (most recent call last)",
      "\u001b[0;32m<ipython-input-74-b75c3e11df31>\u001b[0m in \u001b[0;36m<module>\u001b[0;34m\u001b[0m\n\u001b[1;32m     27\u001b[0m \u001b[0;34m\u001b[0m\u001b[0m\n\u001b[1;32m     28\u001b[0m \u001b[0;32mif\u001b[0m \u001b[0margs\u001b[0m\u001b[0;34m.\u001b[0m\u001b[0mrun_augment\u001b[0m\u001b[0;34m:\u001b[0m\u001b[0;34m\u001b[0m\u001b[0;34m\u001b[0m\u001b[0m\n\u001b[0;32m---> 29\u001b[0;31m     \u001b[0mdata_augmentation\u001b[0m\u001b[0;34m(\u001b[0m\u001b[0;34m)\u001b[0m\u001b[0;34m\u001b[0m\u001b[0;34m\u001b[0m\u001b[0m\n\u001b[0m",
      "\u001b[0;32m<ipython-input-74-b75c3e11df31>\u001b[0m in \u001b[0;36mdata_augmentation\u001b[0;34m()\u001b[0m\n\u001b[1;32m     21\u001b[0m     \u001b[0mtrain_generator\u001b[0m \u001b[0;34m=\u001b[0m \u001b[0mdatagen\u001b[0m\u001b[0;34m.\u001b[0m\u001b[0mflow\u001b[0m\u001b[0;34m(\u001b[0m\u001b[0mX_train\u001b[0m\u001b[0;34m,\u001b[0m \u001b[0my_train\u001b[0m\u001b[0;34m,\u001b[0m \u001b[0mseed\u001b[0m\u001b[0;34m=\u001b[0m\u001b[0margs\u001b[0m\u001b[0;34m.\u001b[0m\u001b[0mseed\u001b[0m\u001b[0;34m)\u001b[0m\u001b[0;34m\u001b[0m\u001b[0;34m\u001b[0m\u001b[0m\n\u001b[1;32m     22\u001b[0m     \u001b[0mmodel\u001b[0m\u001b[0;34m,\u001b[0m \u001b[0mcallbacks\u001b[0m \u001b[0;34m=\u001b[0m \u001b[0mbaseline_model\u001b[0m\u001b[0;34m(\u001b[0m\u001b[0;34m)\u001b[0m\u001b[0;34m\u001b[0m\u001b[0;34m\u001b[0m\u001b[0m\n\u001b[0;32m---> 23\u001b[0;31m     \u001b[0mhistory\u001b[0m \u001b[0;34m=\u001b[0m \u001b[0mmodel\u001b[0m\u001b[0;34m.\u001b[0m\u001b[0mfit\u001b[0m\u001b[0;34m(\u001b[0m\u001b[0mtrain_generator\u001b[0m\u001b[0;34m,\u001b[0m \u001b[0mepochs\u001b[0m\u001b[0;34m=\u001b[0m\u001b[0margs\u001b[0m\u001b[0;34m.\u001b[0m\u001b[0mepochs\u001b[0m\u001b[0;34m,\u001b[0m \u001b[0mvalidation_data\u001b[0m\u001b[0;34m=\u001b[0m\u001b[0;34m(\u001b[0m\u001b[0mX_val\u001b[0m\u001b[0;34m,\u001b[0m \u001b[0my_val\u001b[0m\u001b[0;34m)\u001b[0m\u001b[0;34m,\u001b[0m \u001b[0mcallbacks\u001b[0m\u001b[0;34m=\u001b[0m\u001b[0mcallbacks\u001b[0m\u001b[0;34m)\u001b[0m\u001b[0;34m\u001b[0m\u001b[0;34m\u001b[0m\u001b[0m\n\u001b[0m\u001b[1;32m     24\u001b[0m     \u001b[0mplot_history\u001b[0m\u001b[0;34m(\u001b[0m\u001b[0mhistory\u001b[0m\u001b[0;34m)\u001b[0m\u001b[0;34m\u001b[0m\u001b[0;34m\u001b[0m\u001b[0m\n\u001b[1;32m     25\u001b[0m     \u001b[0mpredictions\u001b[0m \u001b[0;34m=\u001b[0m \u001b[0mmodel\u001b[0m\u001b[0;34m.\u001b[0m\u001b[0mpredict\u001b[0m\u001b[0;34m(\u001b[0m\u001b[0mX_test\u001b[0m\u001b[0;34m)\u001b[0m\u001b[0;34m\u001b[0m\u001b[0;34m\u001b[0m\u001b[0m\n",
      "\u001b[0;32m~/github/digit-recongizer/.venv/lib/python3.8/site-packages/tensorflow/python/keras/engine/training.py\u001b[0m in \u001b[0;36mfit\u001b[0;34m(self, x, y, batch_size, epochs, verbose, callbacks, validation_split, validation_data, shuffle, class_weight, sample_weight, initial_epoch, steps_per_epoch, validation_steps, validation_batch_size, validation_freq, max_queue_size, workers, use_multiprocessing)\u001b[0m\n\u001b[1;32m   1098\u001b[0m                 _r=1):\n\u001b[1;32m   1099\u001b[0m               \u001b[0mcallbacks\u001b[0m\u001b[0;34m.\u001b[0m\u001b[0mon_train_batch_begin\u001b[0m\u001b[0;34m(\u001b[0m\u001b[0mstep\u001b[0m\u001b[0;34m)\u001b[0m\u001b[0;34m\u001b[0m\u001b[0;34m\u001b[0m\u001b[0m\n\u001b[0;32m-> 1100\u001b[0;31m               \u001b[0mtmp_logs\u001b[0m \u001b[0;34m=\u001b[0m \u001b[0mself\u001b[0m\u001b[0;34m.\u001b[0m\u001b[0mtrain_function\u001b[0m\u001b[0;34m(\u001b[0m\u001b[0miterator\u001b[0m\u001b[0;34m)\u001b[0m\u001b[0;34m\u001b[0m\u001b[0;34m\u001b[0m\u001b[0m\n\u001b[0m\u001b[1;32m   1101\u001b[0m               \u001b[0;32mif\u001b[0m \u001b[0mdata_handler\u001b[0m\u001b[0;34m.\u001b[0m\u001b[0mshould_sync\u001b[0m\u001b[0;34m:\u001b[0m\u001b[0;34m\u001b[0m\u001b[0;34m\u001b[0m\u001b[0m\n\u001b[1;32m   1102\u001b[0m                 \u001b[0mcontext\u001b[0m\u001b[0;34m.\u001b[0m\u001b[0masync_wait\u001b[0m\u001b[0;34m(\u001b[0m\u001b[0;34m)\u001b[0m\u001b[0;34m\u001b[0m\u001b[0;34m\u001b[0m\u001b[0m\n",
      "\u001b[0;32m~/github/digit-recongizer/.venv/lib/python3.8/site-packages/tensorflow/python/eager/def_function.py\u001b[0m in \u001b[0;36m__call__\u001b[0;34m(self, *args, **kwds)\u001b[0m\n\u001b[1;32m    826\u001b[0m     \u001b[0mtracing_count\u001b[0m \u001b[0;34m=\u001b[0m \u001b[0mself\u001b[0m\u001b[0;34m.\u001b[0m\u001b[0mexperimental_get_tracing_count\u001b[0m\u001b[0;34m(\u001b[0m\u001b[0;34m)\u001b[0m\u001b[0;34m\u001b[0m\u001b[0;34m\u001b[0m\u001b[0m\n\u001b[1;32m    827\u001b[0m     \u001b[0;32mwith\u001b[0m \u001b[0mtrace\u001b[0m\u001b[0;34m.\u001b[0m\u001b[0mTrace\u001b[0m\u001b[0;34m(\u001b[0m\u001b[0mself\u001b[0m\u001b[0;34m.\u001b[0m\u001b[0m_name\u001b[0m\u001b[0;34m)\u001b[0m \u001b[0;32mas\u001b[0m \u001b[0mtm\u001b[0m\u001b[0;34m:\u001b[0m\u001b[0;34m\u001b[0m\u001b[0;34m\u001b[0m\u001b[0m\n\u001b[0;32m--> 828\u001b[0;31m       \u001b[0mresult\u001b[0m \u001b[0;34m=\u001b[0m \u001b[0mself\u001b[0m\u001b[0;34m.\u001b[0m\u001b[0m_call\u001b[0m\u001b[0;34m(\u001b[0m\u001b[0;34m*\u001b[0m\u001b[0margs\u001b[0m\u001b[0;34m,\u001b[0m \u001b[0;34m**\u001b[0m\u001b[0mkwds\u001b[0m\u001b[0;34m)\u001b[0m\u001b[0;34m\u001b[0m\u001b[0;34m\u001b[0m\u001b[0m\n\u001b[0m\u001b[1;32m    829\u001b[0m       \u001b[0mcompiler\u001b[0m \u001b[0;34m=\u001b[0m \u001b[0;34m\"xla\"\u001b[0m \u001b[0;32mif\u001b[0m \u001b[0mself\u001b[0m\u001b[0;34m.\u001b[0m\u001b[0m_experimental_compile\u001b[0m \u001b[0;32melse\u001b[0m \u001b[0;34m\"nonXla\"\u001b[0m\u001b[0;34m\u001b[0m\u001b[0;34m\u001b[0m\u001b[0m\n\u001b[1;32m    830\u001b[0m       \u001b[0mnew_tracing_count\u001b[0m \u001b[0;34m=\u001b[0m \u001b[0mself\u001b[0m\u001b[0;34m.\u001b[0m\u001b[0mexperimental_get_tracing_count\u001b[0m\u001b[0;34m(\u001b[0m\u001b[0;34m)\u001b[0m\u001b[0;34m\u001b[0m\u001b[0;34m\u001b[0m\u001b[0m\n",
      "\u001b[0;32m~/github/digit-recongizer/.venv/lib/python3.8/site-packages/tensorflow/python/eager/def_function.py\u001b[0m in \u001b[0;36m_call\u001b[0;34m(self, *args, **kwds)\u001b[0m\n\u001b[1;32m    853\u001b[0m       \u001b[0;31m# In this case we have created variables on the first call, so we run the\u001b[0m\u001b[0;34m\u001b[0m\u001b[0;34m\u001b[0m\u001b[0;34m\u001b[0m\u001b[0m\n\u001b[1;32m    854\u001b[0m       \u001b[0;31m# defunned version which is guaranteed to never create variables.\u001b[0m\u001b[0;34m\u001b[0m\u001b[0;34m\u001b[0m\u001b[0;34m\u001b[0m\u001b[0m\n\u001b[0;32m--> 855\u001b[0;31m       \u001b[0;32mreturn\u001b[0m \u001b[0mself\u001b[0m\u001b[0;34m.\u001b[0m\u001b[0m_stateless_fn\u001b[0m\u001b[0;34m(\u001b[0m\u001b[0;34m*\u001b[0m\u001b[0margs\u001b[0m\u001b[0;34m,\u001b[0m \u001b[0;34m**\u001b[0m\u001b[0mkwds\u001b[0m\u001b[0;34m)\u001b[0m  \u001b[0;31m# pylint: disable=not-callable\u001b[0m\u001b[0;34m\u001b[0m\u001b[0;34m\u001b[0m\u001b[0m\n\u001b[0m\u001b[1;32m    856\u001b[0m     \u001b[0;32melif\u001b[0m \u001b[0mself\u001b[0m\u001b[0;34m.\u001b[0m\u001b[0m_stateful_fn\u001b[0m \u001b[0;32mis\u001b[0m \u001b[0;32mnot\u001b[0m \u001b[0;32mNone\u001b[0m\u001b[0;34m:\u001b[0m\u001b[0;34m\u001b[0m\u001b[0;34m\u001b[0m\u001b[0m\n\u001b[1;32m    857\u001b[0m       \u001b[0;31m# Release the lock early so that multiple threads can perform the call\u001b[0m\u001b[0;34m\u001b[0m\u001b[0;34m\u001b[0m\u001b[0;34m\u001b[0m\u001b[0m\n",
      "\u001b[0;32m~/github/digit-recongizer/.venv/lib/python3.8/site-packages/tensorflow/python/eager/function.py\u001b[0m in \u001b[0;36m__call__\u001b[0;34m(self, *args, **kwargs)\u001b[0m\n\u001b[1;32m   2940\u001b[0m       (graph_function,\n\u001b[1;32m   2941\u001b[0m        filtered_flat_args) = self._maybe_define_function(args, kwargs)\n\u001b[0;32m-> 2942\u001b[0;31m     return graph_function._call_flat(\n\u001b[0m\u001b[1;32m   2943\u001b[0m         filtered_flat_args, captured_inputs=graph_function.captured_inputs)  # pylint: disable=protected-access\n\u001b[1;32m   2944\u001b[0m \u001b[0;34m\u001b[0m\u001b[0m\n",
      "\u001b[0;32m~/github/digit-recongizer/.venv/lib/python3.8/site-packages/tensorflow/python/eager/function.py\u001b[0m in \u001b[0;36m_call_flat\u001b[0;34m(self, args, captured_inputs, cancellation_manager)\u001b[0m\n\u001b[1;32m   1916\u001b[0m         and executing_eagerly):\n\u001b[1;32m   1917\u001b[0m       \u001b[0;31m# No tape is watching; skip to running the function.\u001b[0m\u001b[0;34m\u001b[0m\u001b[0;34m\u001b[0m\u001b[0;34m\u001b[0m\u001b[0m\n\u001b[0;32m-> 1918\u001b[0;31m       return self._build_call_outputs(self._inference_function.call(\n\u001b[0m\u001b[1;32m   1919\u001b[0m           ctx, args, cancellation_manager=cancellation_manager))\n\u001b[1;32m   1920\u001b[0m     forward_backward = self._select_forward_and_backward_functions(\n",
      "\u001b[0;32m~/github/digit-recongizer/.venv/lib/python3.8/site-packages/tensorflow/python/eager/function.py\u001b[0m in \u001b[0;36mcall\u001b[0;34m(self, ctx, args, cancellation_manager)\u001b[0m\n\u001b[1;32m    553\u001b[0m       \u001b[0;32mwith\u001b[0m \u001b[0m_InterpolateFunctionError\u001b[0m\u001b[0;34m(\u001b[0m\u001b[0mself\u001b[0m\u001b[0;34m)\u001b[0m\u001b[0;34m:\u001b[0m\u001b[0;34m\u001b[0m\u001b[0;34m\u001b[0m\u001b[0m\n\u001b[1;32m    554\u001b[0m         \u001b[0;32mif\u001b[0m \u001b[0mcancellation_manager\u001b[0m \u001b[0;32mis\u001b[0m \u001b[0;32mNone\u001b[0m\u001b[0;34m:\u001b[0m\u001b[0;34m\u001b[0m\u001b[0;34m\u001b[0m\u001b[0m\n\u001b[0;32m--> 555\u001b[0;31m           outputs = execute.execute(\n\u001b[0m\u001b[1;32m    556\u001b[0m               \u001b[0mstr\u001b[0m\u001b[0;34m(\u001b[0m\u001b[0mself\u001b[0m\u001b[0;34m.\u001b[0m\u001b[0msignature\u001b[0m\u001b[0;34m.\u001b[0m\u001b[0mname\u001b[0m\u001b[0;34m)\u001b[0m\u001b[0;34m,\u001b[0m\u001b[0;34m\u001b[0m\u001b[0;34m\u001b[0m\u001b[0m\n\u001b[1;32m    557\u001b[0m               \u001b[0mnum_outputs\u001b[0m\u001b[0;34m=\u001b[0m\u001b[0mself\u001b[0m\u001b[0;34m.\u001b[0m\u001b[0m_num_outputs\u001b[0m\u001b[0;34m,\u001b[0m\u001b[0;34m\u001b[0m\u001b[0;34m\u001b[0m\u001b[0m\n",
      "\u001b[0;32m~/github/digit-recongizer/.venv/lib/python3.8/site-packages/tensorflow/python/eager/execute.py\u001b[0m in \u001b[0;36mquick_execute\u001b[0;34m(op_name, num_outputs, inputs, attrs, ctx, name)\u001b[0m\n\u001b[1;32m     57\u001b[0m   \u001b[0;32mtry\u001b[0m\u001b[0;34m:\u001b[0m\u001b[0;34m\u001b[0m\u001b[0;34m\u001b[0m\u001b[0m\n\u001b[1;32m     58\u001b[0m     \u001b[0mctx\u001b[0m\u001b[0;34m.\u001b[0m\u001b[0mensure_initialized\u001b[0m\u001b[0;34m(\u001b[0m\u001b[0;34m)\u001b[0m\u001b[0;34m\u001b[0m\u001b[0;34m\u001b[0m\u001b[0m\n\u001b[0;32m---> 59\u001b[0;31m     tensors = pywrap_tfe.TFE_Py_Execute(ctx._handle, device_name, op_name,\n\u001b[0m\u001b[1;32m     60\u001b[0m                                         inputs, attrs, num_outputs)\n\u001b[1;32m     61\u001b[0m   \u001b[0;32mexcept\u001b[0m \u001b[0mcore\u001b[0m\u001b[0;34m.\u001b[0m\u001b[0m_NotOkStatusException\u001b[0m \u001b[0;32mas\u001b[0m \u001b[0me\u001b[0m\u001b[0;34m:\u001b[0m\u001b[0;34m\u001b[0m\u001b[0;34m\u001b[0m\u001b[0m\n",
      "\u001b[0;31mKeyboardInterrupt\u001b[0m: "
     ]
    }
   ],
   "source": [
    "from sklearn.model_selection import train_test_split\n",
    "\n",
    "def data_augmentator():\n",
    "        datagen = keras.preprocessing.image.ImageDataGenerator(\n",
    "        #   shear_range=0.05,\n",
    "        #   channel_shift_range=0.05,\n",
    "            rotation_range=5,\n",
    "            zoom_range=0.05,\n",
    "            width_shift_range=0.05,\n",
    "            height_shift_range=0.05)\n",
    "        return datagen\n",
    "\n",
    "def data_augmentation():\n",
    "    X_train, X_val, y_train, y_val = train_test_split(X_train_full, y_train_full, test_size=args.val_fraction, \n",
    "                                                      random_state=args.seed)\n",
    "    datagen = data_augmentator()\n",
    "#     val_modified_batch = datagen.flow(X_val, y_val, seed=args.seed).next()\n",
    "#     draw_digit(val_modified_batch[0][0], val_modified_batch[1][0])\n",
    "    \n",
    "    datagen.fit(X_train, seed=args.seed)\n",
    "    train_generator = datagen.flow(X_train, y_train, seed=args.seed)\n",
    "    model, callbacks = baseline_model()\n",
    "    history = model.fit(train_generator, epochs=args.epochs, validation_data=(X_val, y_val), callbacks=callbacks)\n",
    "    plot_history(history)\n",
    "    predictions = model.predict(X_test)\n",
    "    csv_predictions(predictions, 'augment.csv')\n",
    "\n",
    "if args.run_augment:\n",
    "    data_augmentation()"
   ]
  },
  {
   "cell_type": "markdown",
   "id": "sunrise-electricity",
   "metadata": {},
   "source": [
    "| Model | Params  | Test score  | CV mean score | Val loss |\n",
    "|---|---|---|---|---|\n",
    "| Augment run 1 | Baseline model, Dropout=0.4, Batch normalization, early_stopping='val_loss', rotation_range=10, zoom_range=0.1, width_shift_range=0.1, height_shift_range=0.1  | 0.99421 | 0.9936 | 0.0188|\n",
    "| Augment run 2 | Baseline model, Dropout=0.4, Batch normalization, early_stopping='val_loss', rotation_range=10, zoom_range=0.1, width_shift_range=0.1, height_shift_range=0.1  | 0.99453 | 0.9964 | 0.0135|\n",
    "| Augment run 3 | Baseline model, Dropout=0.4, Batch normalization, early_stopping='val_loss', rotation_range=10, zoom_range=0.1, width_shift_range=0.1, height_shift_range=0.1  | 0.99435 | 0.9948 | 0.0151|\n",
    "| Augment | Baseline model, Dropout=0.4, Batch normalization, early_stopping='val_loss', rotation_range=5, zoom_range=0.05, width_shift_range=0.05, height_shift_range=0.05  | 0.99503 | 0.9950 | 0.0147 |\n",
    "| Augment | Baseline model, Dropout=0.4, Batch normalization, early_stopping='val_loss', rotation_range=2, zoom_range=0.02, width_shift_range=0.02, height_shift_range=0.02  | 0.99392 | 0.9962 | 0.0160 |\n",
    "| Augment | Baseline model, Dropout=0.4, Batch normalization, early_stopping='val_loss', rotation_range=7, zoom_range=0.07, width_shift_range=0.07, height_shift_range=0.07  | 0.99453 | 0.9950 | 0.0144 |\n",
    "| Augment | Baseline model, Dropout=0.4, Batch normalization, early_stopping='val_loss', rotation_range=5, zoom_range=0.05, width_shift_range=0.05, height_shift_range=0.05  | 0.99503 | 0.9950 | 0.0147 |\n",
    "| Augment | Baseline model, Dropout=0.4, Batch normalization, early_stopping='val_loss', rotation_range=5, zoom_range=0.05, width_shift_range=0.05, height_shift_range=0.05, shear_range=0.05, channel_shift_range=0.05  | 0.99475 | 0.9950 | 0.0139 |"
   ]
  },
  {
   "cell_type": "markdown",
   "id": "collaborative-flash",
   "metadata": {},
   "source": [
    "### Ensemble + data augmentation"
   ]
  },
  {
   "cell_type": "code",
   "execution_count": 76,
   "id": "capital-vulnerability",
   "metadata": {},
   "outputs": [
    {
     "name": "stdout",
     "output_type": "stream",
     "text": [
      "Model: \"sequential_28\"\n",
      "_________________________________________________________________\n",
      "Layer (type)                 Output Shape              Param #   \n",
      "=================================================================\n",
      "conv2d_84 (Conv2D)           (None, 26, 26, 32)        320       \n",
      "_________________________________________________________________\n",
      "batch_normalization_112 (Bat (None, 26, 26, 32)        128       \n",
      "_________________________________________________________________\n",
      "max_pooling2d_56 (MaxPooling (None, 13, 13, 32)        0         \n",
      "_________________________________________________________________\n",
      "dropout_84 (Dropout)         (None, 13, 13, 32)        0         \n",
      "_________________________________________________________________\n",
      "conv2d_85 (Conv2D)           (None, 11, 11, 64)        18496     \n",
      "_________________________________________________________________\n",
      "batch_normalization_113 (Bat (None, 11, 11, 64)        256       \n",
      "_________________________________________________________________\n",
      "max_pooling2d_57 (MaxPooling (None, 5, 5, 64)          0         \n",
      "_________________________________________________________________\n",
      "dropout_85 (Dropout)         (None, 5, 5, 64)          0         \n",
      "_________________________________________________________________\n",
      "conv2d_86 (Conv2D)           (None, 3, 3, 128)         73856     \n",
      "_________________________________________________________________\n",
      "batch_normalization_114 (Bat (None, 3, 3, 128)         512       \n",
      "_________________________________________________________________\n",
      "dropout_86 (Dropout)         (None, 3, 3, 128)         0         \n",
      "_________________________________________________________________\n",
      "flatten_28 (Flatten)         (None, 1152)              0         \n",
      "_________________________________________________________________\n",
      "dense_56 (Dense)             (None, 128)               147584    \n",
      "_________________________________________________________________\n",
      "batch_normalization_115 (Bat (None, 128)               512       \n",
      "_________________________________________________________________\n",
      "dense_57 (Dense)             (None, 10)                1290      \n",
      "=================================================================\n",
      "Total params: 242,954\n",
      "Trainable params: 242,250\n",
      "Non-trainable params: 704\n",
      "_________________________________________________________________\n",
      "None\n",
      "1182/1182 [==============================] - 27s 22ms/step - loss: 0.6275 - accuracy: 0.7991 - val_loss: 0.1048 - val_accuracy: 0.9652\n"
     ]
    },
    {
     "name": "stderr",
     "output_type": "stream",
     "text": [
      "2021-05-17 21:16:00,921 : INFO : History keys: dict_keys(['loss', 'accuracy', 'val_loss', 'val_accuracy', 'lr'])\n"
     ]
    },
    {
     "data": {
      "image/png": "[encoded data removed]",
      "text/plain": [
       "<Figure size 720x360 with 1 Axes>"
      ]
     },
     "metadata": {
      "needs_background": "light"
     },
     "output_type": "display_data"
    },
    {
     "data": {
      "image/png": "[encoded data removed]",
      "text/plain": [
       "<Figure size 720x360 with 1 Axes>"
      ]
     },
     "metadata": {
      "needs_background": "light"
     },
     "output_type": "display_data"
    },
    {
     "name": "stdout",
     "output_type": "stream",
     "text": [
      "Model: \"sequential_29\"\n",
      "_________________________________________________________________\n",
      "Layer (type)                 Output Shape              Param #   \n",
      "=================================================================\n",
      "conv2d_87 (Conv2D)           (None, 26, 26, 32)        320       \n",
      "_________________________________________________________________\n",
      "batch_normalization_116 (Bat (None, 26, 26, 32)        128       \n",
      "_________________________________________________________________\n",
      "max_pooling2d_58 (MaxPooling (None, 13, 13, 32)        0         \n",
      "_________________________________________________________________\n",
      "dropout_87 (Dropout)         (None, 13, 13, 32)        0         \n",
      "_________________________________________________________________\n",
      "conv2d_88 (Conv2D)           (None, 11, 11, 64)        18496     \n",
      "_________________________________________________________________\n",
      "batch_normalization_117 (Bat (None, 11, 11, 64)        256       \n",
      "_________________________________________________________________\n",
      "max_pooling2d_59 (MaxPooling (None, 5, 5, 64)          0         \n",
      "_________________________________________________________________\n",
      "dropout_88 (Dropout)         (None, 5, 5, 64)          0         \n",
      "_________________________________________________________________\n",
      "conv2d_89 (Conv2D)           (None, 3, 3, 128)         73856     \n",
      "_________________________________________________________________\n",
      "batch_normalization_118 (Bat (None, 3, 3, 128)         512       \n",
      "_________________________________________________________________\n",
      "dropout_89 (Dropout)         (None, 3, 3, 128)         0         \n",
      "_________________________________________________________________\n",
      "flatten_29 (Flatten)         (None, 1152)              0         \n",
      "_________________________________________________________________\n",
      "dense_58 (Dense)             (None, 128)               147584    \n",
      "_________________________________________________________________\n",
      "batch_normalization_119 (Bat (None, 128)               512       \n",
      "_________________________________________________________________\n",
      "dense_59 (Dense)             (None, 10)                1290      \n",
      "=================================================================\n",
      "Total params: 242,954\n",
      "Trainable params: 242,250\n",
      "Non-trainable params: 704\n",
      "_________________________________________________________________\n",
      "None\n",
      "1182/1182 [==============================] - 27s 21ms/step - loss: 0.6411 - accuracy: 0.7939 - val_loss: 0.0562 - val_accuracy: 0.9817\n"
     ]
    },
    {
     "name": "stderr",
     "output_type": "stream",
     "text": [
      "2021-05-17 21:16:28,787 : INFO : History keys: dict_keys(['loss', 'accuracy', 'val_loss', 'val_accuracy', 'lr'])\n"
     ]
    },
    {
     "data": {
      "image/png": "[encoded data removed]",
      "text/plain": [
       "<Figure size 720x360 with 1 Axes>"
      ]
     },
     "metadata": {
      "needs_background": "light"
     },
     "output_type": "display_data"
    },
    {
     "data": {
      "image/png": "[encoded data removed]",
      "text/plain": [
       "<Figure size 720x360 with 1 Axes>"
      ]
     },
     "metadata": {
      "needs_background": "light"
     },
     "output_type": "display_data"
    },
    {
     "name": "stdout",
     "output_type": "stream",
     "text": [
      "Model: \"sequential_30\"\n",
      "_________________________________________________________________\n",
      "Layer (type)                 Output Shape              Param #   \n",
      "=================================================================\n",
      "conv2d_90 (Conv2D)           (None, 26, 26, 32)        320       \n",
      "_________________________________________________________________\n",
      "batch_normalization_120 (Bat (None, 26, 26, 32)        128       \n",
      "_________________________________________________________________\n",
      "max_pooling2d_60 (MaxPooling (None, 13, 13, 32)        0         \n",
      "_________________________________________________________________\n",
      "dropout_90 (Dropout)         (None, 13, 13, 32)        0         \n",
      "_________________________________________________________________\n",
      "conv2d_91 (Conv2D)           (None, 11, 11, 64)        18496     \n",
      "_________________________________________________________________\n",
      "batch_normalization_121 (Bat (None, 11, 11, 64)        256       \n",
      "_________________________________________________________________\n",
      "max_pooling2d_61 (MaxPooling (None, 5, 5, 64)          0         \n",
      "_________________________________________________________________\n",
      "dropout_91 (Dropout)         (None, 5, 5, 64)          0         \n",
      "_________________________________________________________________\n",
      "conv2d_92 (Conv2D)           (None, 3, 3, 128)         73856     \n",
      "_________________________________________________________________\n",
      "batch_normalization_122 (Bat (None, 3, 3, 128)         512       \n",
      "_________________________________________________________________\n",
      "dropout_92 (Dropout)         (None, 3, 3, 128)         0         \n",
      "_________________________________________________________________\n",
      "flatten_30 (Flatten)         (None, 1152)              0         \n",
      "_________________________________________________________________\n",
      "dense_60 (Dense)             (None, 128)               147584    \n",
      "_________________________________________________________________\n",
      "batch_normalization_123 (Bat (None, 128)               512       \n",
      "_________________________________________________________________\n",
      "dense_61 (Dense)             (None, 10)                1290      \n",
      "=================================================================\n",
      "Total params: 242,954\n",
      "Trainable params: 242,250\n",
      "Non-trainable params: 704\n",
      "_________________________________________________________________\n",
      "None\n",
      "1182/1182 [==============================] - 27s 21ms/step - loss: 0.6256 - accuracy: 0.7971 - val_loss: 0.0706 - val_accuracy: 0.9795\n"
     ]
    },
    {
     "name": "stderr",
     "output_type": "stream",
     "text": [
      "2021-05-17 21:16:57,047 : INFO : History keys: dict_keys(['loss', 'accuracy', 'val_loss', 'val_accuracy', 'lr'])\n"
     ]
    },
    {
     "data": {
      "image/png": "[encoded data removed]",
      "text/plain": [
       "<Figure size 720x360 with 1 Axes>"
      ]
     },
     "metadata": {
      "needs_background": "light"
     },
     "output_type": "display_data"
    },
    {
     "data": {
      "image/png": "[encoded data removed]",
      "text/plain": [
       "<Figure size 720x360 with 1 Axes>"
      ]
     },
     "metadata": {
      "needs_background": "light"
     },
     "output_type": "display_data"
    },
    {
     "name": "stdout",
     "output_type": "stream",
     "text": [
      "Model: \"sequential_31\"\n",
      "_________________________________________________________________\n",
      "Layer (type)                 Output Shape              Param #   \n",
      "=================================================================\n",
      "conv2d_93 (Conv2D)           (None, 26, 26, 32)        320       \n",
      "_________________________________________________________________\n",
      "batch_normalization_124 (Bat (None, 26, 26, 32)        128       \n",
      "_________________________________________________________________\n",
      "max_pooling2d_62 (MaxPooling (None, 13, 13, 32)        0         \n",
      "_________________________________________________________________\n",
      "dropout_93 (Dropout)         (None, 13, 13, 32)        0         \n",
      "_________________________________________________________________\n",
      "conv2d_94 (Conv2D)           (None, 11, 11, 64)        18496     \n",
      "_________________________________________________________________\n",
      "batch_normalization_125 (Bat (None, 11, 11, 64)        256       \n",
      "_________________________________________________________________\n",
      "max_pooling2d_63 (MaxPooling (None, 5, 5, 64)          0         \n",
      "_________________________________________________________________\n",
      "dropout_94 (Dropout)         (None, 5, 5, 64)          0         \n",
      "_________________________________________________________________\n",
      "conv2d_95 (Conv2D)           (None, 3, 3, 128)         73856     \n",
      "_________________________________________________________________\n",
      "batch_normalization_126 (Bat (None, 3, 3, 128)         512       \n",
      "_________________________________________________________________\n",
      "dropout_95 (Dropout)         (None, 3, 3, 128)         0         \n",
      "_________________________________________________________________\n",
      "flatten_31 (Flatten)         (None, 1152)              0         \n",
      "_________________________________________________________________\n",
      "dense_62 (Dense)             (None, 128)               147584    \n",
      "_________________________________________________________________\n",
      "batch_normalization_127 (Bat (None, 128)               512       \n",
      "_________________________________________________________________\n",
      "dense_63 (Dense)             (None, 10)                1290      \n",
      "=================================================================\n",
      "Total params: 242,954\n",
      "Trainable params: 242,250\n",
      "Non-trainable params: 704\n",
      "_________________________________________________________________\n",
      "None\n",
      "1182/1182 [==============================] - 27s 21ms/step - loss: 0.6392 - accuracy: 0.7940 - val_loss: 0.0539 - val_accuracy: 0.9821\n"
     ]
    },
    {
     "name": "stderr",
     "output_type": "stream",
     "text": [
      "2021-05-17 21:17:24,770 : INFO : History keys: dict_keys(['loss', 'accuracy', 'val_loss', 'val_accuracy', 'lr'])\n"
     ]
    },
    {
     "data": {
      "image/png": "[encoded data removed]",
      "text/plain": [
       "<Figure size 720x360 with 1 Axes>"
      ]
     },
     "metadata": {
      "needs_background": "light"
     },
     "output_type": "display_data"
    },
    {
     "data": {
      "image/png": "[encoded data removed]",
      "text/plain": [
       "<Figure size 720x360 with 1 Axes>"
      ]
     },
     "metadata": {
      "needs_background": "light"
     },
     "output_type": "display_data"
    },
    {
     "name": "stdout",
     "output_type": "stream",
     "text": [
      "Model: \"sequential_32\"\n",
      "_________________________________________________________________\n",
      "Layer (type)                 Output Shape              Param #   \n",
      "=================================================================\n",
      "conv2d_96 (Conv2D)           (None, 26, 26, 32)        320       \n",
      "_________________________________________________________________\n",
      "batch_normalization_128 (Bat (None, 26, 26, 32)        128       \n",
      "_________________________________________________________________\n",
      "max_pooling2d_64 (MaxPooling (None, 13, 13, 32)        0         \n",
      "_________________________________________________________________\n",
      "dropout_96 (Dropout)         (None, 13, 13, 32)        0         \n",
      "_________________________________________________________________\n",
      "conv2d_97 (Conv2D)           (None, 11, 11, 64)        18496     \n",
      "_________________________________________________________________\n",
      "batch_normalization_129 (Bat (None, 11, 11, 64)        256       \n",
      "_________________________________________________________________\n",
      "max_pooling2d_65 (MaxPooling (None, 5, 5, 64)          0         \n",
      "_________________________________________________________________\n",
      "dropout_97 (Dropout)         (None, 5, 5, 64)          0         \n",
      "_________________________________________________________________\n",
      "conv2d_98 (Conv2D)           (None, 3, 3, 128)         73856     \n",
      "_________________________________________________________________\n",
      "batch_normalization_130 (Bat (None, 3, 3, 128)         512       \n",
      "_________________________________________________________________\n",
      "dropout_98 (Dropout)         (None, 3, 3, 128)         0         \n",
      "_________________________________________________________________\n",
      "flatten_32 (Flatten)         (None, 1152)              0         \n",
      "_________________________________________________________________\n",
      "dense_64 (Dense)             (None, 128)               147584    \n",
      "_________________________________________________________________\n",
      "batch_normalization_131 (Bat (None, 128)               512       \n",
      "_________________________________________________________________\n",
      "dense_65 (Dense)             (None, 10)                1290      \n",
      "=================================================================\n",
      "Total params: 242,954\n",
      "Trainable params: 242,250\n",
      "Non-trainable params: 704\n",
      "_________________________________________________________________\n",
      "None\n",
      "1182/1182 [==============================] - 26s 21ms/step - loss: 0.6019 - accuracy: 0.8049 - val_loss: 0.0603 - val_accuracy: 0.9802\n"
     ]
    },
    {
     "name": "stderr",
     "output_type": "stream",
     "text": [
      "2021-05-17 21:17:52,020 : INFO : History keys: dict_keys(['loss', 'accuracy', 'val_loss', 'val_accuracy', 'lr'])\n"
     ]
    },
    {
     "data": {
      "image/png": "[encoded data removed]",
      "text/plain": [
       "<Figure size 720x360 with 1 Axes>"
      ]
     },
     "metadata": {
      "needs_background": "light"
     },
     "output_type": "display_data"
    },
    {
     "data": {
      "image/png": "[encoded data removed]",
      "text/plain": [
       "<Figure size 720x360 with 1 Axes>"
      ]
     },
     "metadata": {
      "needs_background": "light"
     },
     "output_type": "display_data"
    },
    {
     "name": "stderr",
     "output_type": "stream",
     "text": [
      "2021-05-17 21:18:16,444 : INFO : Saved file: ../predictions/best/ensemble-augment.csv\n"
     ]
    }
   ],
   "source": [
    "from collections import Counter\n",
    "\n",
    "def ensemble(num_models=5):\n",
    "    models = []\n",
    "    for model_num in range(num_models):\n",
    "        X_train, X_val, y_train, y_val = train_test_split(X_train_full, y_train_full, test_size=args.val_fraction, \n",
    "                                                  random_state=model_num)\n",
    "        datagen = data_augmentator()\n",
    "        datagen.fit(X_train, seed=model_num)\n",
    "        train_generator = datagen.flow(X_train, y_train, seed=args.seed)\n",
    "        model, callbacks = baseline_model()\n",
    "        history = model.fit(train_generator, epochs=1, validation_data=(X_val, y_val), callbacks=callbacks)\n",
    "        plot_history(history)\n",
    "        models.append(model)\n",
    "    \n",
    "    predictions_classes = []\n",
    "    for model in models:\n",
    "        predictions_cur = model.predict(X_test)\n",
    "        predictions_classes_cur = np.argmax(predictions_cur, axis=1)\n",
    "        predictions_classes.append(predictions_classes_cur)\n",
    "    \n",
    "    def bag_predictions(predictions_classes):\n",
    "        predictions_classes_bagged = []\n",
    "        predictions_classes_stacked = np.stack(predictions_classes, axis=-1)\n",
    "        for prediction_i in predictions_classes_stacked:\n",
    "            predictions_classes_bagged.append(Counter(prediction_i).most_common(1)[0][0])\n",
    "        return predictions_classes_bagged\n",
    "    \n",
    "    csv_predictions = csv_predictions_categorical(bag_predictions(predictions_classes), 'ensemble-augment.csv')\n",
    "\n",
    "if args.run_ensemble:\n",
    "    ensemble()"
   ]
  },
  {
   "cell_type": "code",
   "execution_count": 66,
   "id": "natural-comedy",
   "metadata": {},
   "outputs": [
    {
     "name": "stdout",
     "output_type": "stream",
     "text": [
      "[[3 2 3]\n",
      " [2 2 2]\n",
      " [5 6 7]]\n",
      "[3 2 3]\n",
      "[(3, 2)]\n",
      "[2 2 2]\n",
      "[(2, 3)]\n",
      "[5 6 7]\n",
      "[(5, 1)]\n"
     ]
    }
   ],
   "source": [
    "from collections import Counter\n",
    "t = []\n",
    "a = [3, 2 , 5]\n",
    "b = [2, 2, 6]\n",
    "c = [3, 2, 7]\n",
    "t.append(a)\n",
    "t.append(b)\n",
    "t.append(c)\n",
    "t = np.stack([a, b, c], axis=-1)\n",
    "print(t)\n",
    "for i in t:\n",
    "    print(i)\n",
    "    print(Counter(i).most_common(1))\n",
    "\n",
    "# t = np.asarray(t)\n",
    "# t.flat\n",
    "# np.argmax(t, axis=1)\n",
    "# np.bincount(t)"
   ]
  }
 ],
 "metadata": {
  "kernelspec": {
   "display_name": "Python 3",
   "language": "python",
   "name": "python3"
  },
  "language_info": {
   "codemirror_mode": {
    "name": "ipython",
    "version": 3
   },
   "file_extension": ".py",
   "mimetype": "text/x-python",
   "name": "python",
   "nbconvert_exporter": "python",
   "pygments_lexer": "ipython3",
   "version": "3.8.6"
  }
 },
 "nbformat": 4,
 "nbformat_minor": 5
}
