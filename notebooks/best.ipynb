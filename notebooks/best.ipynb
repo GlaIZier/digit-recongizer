{
 "cells": [
  {
   "cell_type": "code",
   "execution_count": 1,
   "id": "hybrid-sellers",
   "metadata": {},
   "outputs": [
    {
     "data": {
      "text/plain": [
       "'2.4.1'"
      ]
     },
     "execution_count": 1,
     "metadata": {},
     "output_type": "execute_result"
    }
   ],
   "source": [
    "import logging\n",
    "import numpy as np\n",
    "import pandas as pd\n",
    "import tensorflow as tf\n",
    "import keras\n",
    "\n",
    "logging.basicConfig(format='%(asctime)s : %(levelname)s : %(message)s', level=logging.INFO)\n",
    "log = logging.getLogger()\n",
    "\n",
    "%config Completer.use_jedi = False # make autocompletion works in jupyter\n",
    "\n",
    "tf.__version__"
   ]
  },
  {
   "cell_type": "code",
   "execution_count": 2,
   "id": "radio-stage",
   "metadata": {},
   "outputs": [],
   "source": [
    "import argparse\n",
    "import numpy as np\n",
    "import pandas as pd\n",
    "from pathlib import Path\n",
    "\n",
    "args = argparse.Namespace()\n",
    "\n",
    "args.n_splits = 5\n",
    "args.n_jobs = -1\n",
    "args.val_fraction = 0.1\n",
    "args.epochs = 50\n",
    "args.seed=101\n",
    "args.reproducibility = True\n",
    "\n",
    "args.run_baseline = True\n",
    "\n",
    "args.raw_train = pd.read_csv('../data/train.csv.zip')\n",
    "args.raw_test = pd.read_csv('../data/test.csv.zip')\n",
    "args.train = args.raw_train.iloc[:, 1:].copy()\n",
    "args.labels = args.raw_train['label'].copy()\n",
    "args.test = args.raw_test.copy()\n",
    "args.predictions_folder = Path('../predictions/best')\n",
    "args.models_folder = Path('../models/best')\n",
    "\n",
    "args.model_name = 'best.hdf5'\n",
    "\n",
    "args.predictions_folder.mkdir(parents=True, exist_ok=True) \n",
    "args.models_folder.mkdir(parents=True, exist_ok=True) "
   ]
  },
  {
   "cell_type": "code",
   "execution_count": 3,
   "id": "dress-tracker",
   "metadata": {},
   "outputs": [],
   "source": [
    "import tensorflow as tf\n",
    "\n",
    "def reproducibility():\n",
    "    if args.reproducibility:\n",
    "#     np.random.seed(args.seed)\n",
    "#     random.seed(args.seed)\n",
    "        tf.random.set_seed(args.seed)\n",
    "\n",
    "reproducibility()"
   ]
  },
  {
   "cell_type": "code",
   "execution_count": 4,
   "id": "brave-april",
   "metadata": {},
   "outputs": [
    {
     "data": {
      "image/png": "[encoded data removed]",
      "text/plain": [
       "<Figure size 36x36 with 1 Axes>"
      ]
     },
     "metadata": {
      "needs_background": "light"
     },
     "output_type": "display_data"
    }
   ],
   "source": [
    "import matplotlib.pyplot as plt\n",
    "import matplotlib.image as mpimg\n",
    "import random\n",
    "\n",
    "def draw_digit(pixels_2d, label=None, size_inches=None):\n",
    "    fig, ax = plt.subplots()\n",
    "    if label is not None:\n",
    "        ax.set_title(label)\n",
    "    if size_inches:\n",
    "        fig.set_size_inches(size_inches[0], size_inches[1])\n",
    "    imgplot = ax.imshow(pixels_2d, cmap='gray')\n",
    "\n",
    "random_row = random.randrange(0, args.raw_train.shape[0], 1)\n",
    "label = args.raw_train.iloc[random_row, 0]\n",
    "pixels_2d = args.raw_train.iloc[random_row, 1:].to_numpy().reshape(28, 28)\n",
    "draw_digit(pixels_2d, label, (0.5, 0.5))"
   ]
  },
  {
   "cell_type": "code",
   "execution_count": 5,
   "id": "fixed-tunnel",
   "metadata": {},
   "outputs": [
    {
     "name": "stderr",
     "output_type": "stream",
     "text": [
      "2021-04-22 13:10:28,181 : INFO : X.shape: (42000, 28, 28, 1)\n",
      "2021-04-22 13:10:28,182 : INFO : Y_train.shape: (42000, 10)\n",
      "2021-04-22 13:10:28,186 : INFO : Type of target Y_train: 'multilabel-indicator'\n",
      "2021-04-22 13:10:28,187 : INFO : y_train.shape: (42000,)\n",
      "2021-04-22 13:10:28,188 : INFO : Type of target y_train: 'multiclass'\n"
     ]
    }
   ],
   "source": [
    "import sklearn.utils.multiclass\n",
    "\n",
    "X_train = args.train.to_numpy().reshape(args.train.shape[0], 28, 28, 1)\n",
    "Y_train = pd.get_dummies(args.labels, prefix='label').to_numpy()\n",
    "y_train = args.labels.to_numpy()\n",
    "X_test = args.test.to_numpy().reshape(args.test.shape[0], 28, 28, 1)\n",
    "\n",
    "log.info('X.shape: %s', repr(X_train.shape))\n",
    "# log.info('X[0][14][14]: %s', X[0][14][14])\n",
    "\n",
    "log.info('Y_train.shape: %s', repr(Y_train.shape))\n",
    "# log.info('y[0], %s', y[0])\n",
    "log.info('Type of target Y_train: %s', repr(sklearn.utils.multiclass.type_of_target(Y_train)))\n",
    "\n",
    "log.info('y_train.shape: %s', repr(y_train.shape))\n",
    "# log.info('y_sparse: %s', repr(y_sparse))\n",
    "# log.info('y_sparse[0]: %s', y_sparse[0])\n",
    "log.info('Type of target y_train: %s', repr(sklearn.utils.multiclass.type_of_target(y_train)))\n",
    "\n",
    "def plot_history(history):\n",
    "    log.info(\"History keys: %s\", history.history.keys())\n",
    "    # Accuracy\n",
    "    fig, ax = plt.subplots(figsize=(10, 5))\n",
    "    ax.plot(history.history['accuracy'], label='Train')\n",
    "    ax.plot(history.history['val_accuracy'], label='Test')\n",
    "    ax.set_title('Model accuracy')\n",
    "    ax.set_ylabel('Accuracy')\n",
    "    ax.set_xlabel('Epoch')\n",
    "    ax.grid(True)\n",
    "    ax.legend(['Train', 'Val'], loc='lower right')\n",
    "    \n",
    "    # Loss\n",
    "    plt.figure(figsize=(10,5))\n",
    "    plt.plot(history.history['loss'])\n",
    "    plt.plot(history.history['val_loss'])\n",
    "    plt.title('Model loss')\n",
    "    plt.ylabel('Loss')\n",
    "    plt.xlabel('Epoch')\n",
    "    plt.legend(['Train', 'Val'], loc='upper left')\n",
    "    plt.grid()\n",
    "    plt.show()\n",
    "    \n",
    "    \n",
    "def csv_predictions(predictions, filename):\n",
    "    log.debug('predictions.shape: %s', repr(predictions.shape))\n",
    "    predictions_classes = np.argmax(predictions, axis=1)\n",
    "    image_ids = np.arange(1, len(predictions_classes) + 1)\n",
    "    submission = pd.DataFrame({'ImageId': image_ids, 'Label': predictions_classes})\n",
    "    filepath = args.predictions_folder/filename\n",
    "    submission.to_csv(filepath, index=False)\n",
    "    log.info('Saved file: %s', filepath)\n"
   ]
  },
  {
   "cell_type": "markdown",
   "id": "worthy-necklace",
   "metadata": {},
   "source": [
    "### Baseline"
   ]
  },
  {
   "cell_type": "code",
   "execution_count": 16,
   "id": "surprising-encyclopedia",
   "metadata": {},
   "outputs": [
    {
     "name": "stdout",
     "output_type": "stream",
     "text": [
      "Model: \"sequential_6\"\n",
      "_________________________________________________________________\n",
      "Layer (type)                 Output Shape              Param #   \n",
      "=================================================================\n",
      "conv2d_18 (Conv2D)           (None, 26, 26, 32)        320       \n",
      "_________________________________________________________________\n",
      "max_pooling2d_12 (MaxPooling (None, 13, 13, 32)        0         \n",
      "_________________________________________________________________\n",
      "dropout_12 (Dropout)         (None, 13, 13, 32)        0         \n",
      "_________________________________________________________________\n",
      "conv2d_19 (Conv2D)           (None, 11, 11, 64)        18496     \n",
      "_________________________________________________________________\n",
      "max_pooling2d_13 (MaxPooling (None, 5, 5, 64)          0         \n",
      "_________________________________________________________________\n",
      "dropout_13 (Dropout)         (None, 5, 5, 64)          0         \n",
      "_________________________________________________________________\n",
      "conv2d_20 (Conv2D)           (None, 3, 3, 128)         73856     \n",
      "_________________________________________________________________\n",
      "dropout_14 (Dropout)         (None, 3, 3, 128)         0         \n",
      "_________________________________________________________________\n",
      "flatten_6 (Flatten)          (None, 1152)              0         \n",
      "_________________________________________________________________\n",
      "dense_12 (Dense)             (None, 128)               147584    \n",
      "_________________________________________________________________\n",
      "dense_13 (Dense)             (None, 10)                1290      \n",
      "=================================================================\n",
      "Total params: 241,546\n",
      "Trainable params: 241,546\n",
      "Non-trainable params: 0\n",
      "_________________________________________________________________\n",
      "None\n",
      "Epoch 1/50\n",
      "1182/1182 [==============================] - 17s 14ms/step - loss: 3.3854 - accuracy: 0.5811 - val_loss: 0.1456 - val_accuracy: 0.9562\n",
      "Epoch 2/50\n",
      "1182/1182 [==============================] - 16s 14ms/step - loss: 0.2384 - accuracy: 0.9254 - val_loss: 0.0754 - val_accuracy: 0.9769\n",
      "Epoch 3/50\n",
      "1182/1182 [==============================] - 16s 13ms/step - loss: 0.1607 - accuracy: 0.9501 - val_loss: 0.0567 - val_accuracy: 0.9848\n",
      "Epoch 4/50\n",
      "1182/1182 [==============================] - 16s 14ms/step - loss: 0.1388 - accuracy: 0.9567 - val_loss: 0.0547 - val_accuracy: 0.9829\n",
      "Epoch 5/50\n",
      "1182/1182 [==============================] - 17s 14ms/step - loss: 0.1170 - accuracy: 0.9637 - val_loss: 0.0978 - val_accuracy: 0.9686\n",
      "Epoch 6/50\n",
      "1182/1182 [==============================] - 18s 15ms/step - loss: 0.1138 - accuracy: 0.9645 - val_loss: 0.0440 - val_accuracy: 0.9881\n",
      "Epoch 7/50\n",
      "1182/1182 [==============================] - 17s 15ms/step - loss: 0.1055 - accuracy: 0.9678 - val_loss: 0.0421 - val_accuracy: 0.9867\n",
      "Epoch 8/50\n",
      "1182/1182 [==============================] - 16s 14ms/step - loss: 0.1047 - accuracy: 0.9682 - val_loss: 0.0378 - val_accuracy: 0.9871\n",
      "Epoch 9/50\n",
      "1182/1182 [==============================] - 17s 14ms/step - loss: 0.0977 - accuracy: 0.9713 - val_loss: 0.0332 - val_accuracy: 0.9905\n",
      "Epoch 10/50\n",
      "1182/1182 [==============================] - 17s 14ms/step - loss: 0.0909 - accuracy: 0.9729 - val_loss: 0.0364 - val_accuracy: 0.9898\n",
      "Epoch 11/50\n",
      "1182/1182 [==============================] - 17s 14ms/step - loss: 0.0871 - accuracy: 0.9744 - val_loss: 0.0447 - val_accuracy: 0.9867\n",
      "Epoch 12/50\n",
      "1182/1182 [==============================] - 17s 15ms/step - loss: 0.0868 - accuracy: 0.9754 - val_loss: 0.0468 - val_accuracy: 0.9848\n",
      "\n",
      "Epoch 00012: ReduceLROnPlateau reducing learning rate to 0.00010000000474974513.\n",
      "Epoch 13/50\n",
      "1182/1182 [==============================] - 17s 14ms/step - loss: 0.0690 - accuracy: 0.9782 - val_loss: 0.0298 - val_accuracy: 0.9902\n",
      "Epoch 14/50\n",
      "1182/1182 [==============================] - 17s 14ms/step - loss: 0.0558 - accuracy: 0.9818 - val_loss: 0.0284 - val_accuracy: 0.9910\n",
      "Epoch 15/50\n",
      "1182/1182 [==============================] - 17s 14ms/step - loss: 0.0532 - accuracy: 0.9842 - val_loss: 0.0269 - val_accuracy: 0.9921\n",
      "Epoch 16/50\n",
      "1182/1182 [==============================] - 17s 14ms/step - loss: 0.0482 - accuracy: 0.9848 - val_loss: 0.0249 - val_accuracy: 0.9926\n",
      "Epoch 17/50\n",
      "1182/1182 [==============================] - 16s 14ms/step - loss: 0.0467 - accuracy: 0.9853 - val_loss: 0.0245 - val_accuracy: 0.9929\n",
      "Epoch 18/50\n",
      "1182/1182 [==============================] - 16s 14ms/step - loss: 0.0442 - accuracy: 0.9871 - val_loss: 0.0245 - val_accuracy: 0.9929\n",
      "Epoch 19/50\n",
      "1182/1182 [==============================] - 17s 14ms/step - loss: 0.0432 - accuracy: 0.9865 - val_loss: 0.0240 - val_accuracy: 0.9926\n",
      "Epoch 20/50\n",
      "1182/1182 [==============================] - 16s 14ms/step - loss: 0.0389 - accuracy: 0.9884 - val_loss: 0.0232 - val_accuracy: 0.9929\n",
      "\n",
      "Epoch 00020: ReduceLROnPlateau reducing learning rate to 1.0000000474974514e-05.\n",
      "Epoch 21/50\n",
      "1182/1182 [==============================] - 16s 14ms/step - loss: 0.0384 - accuracy: 0.9881 - val_loss: 0.0226 - val_accuracy: 0.9926\n",
      "Epoch 22/50\n",
      "1182/1182 [==============================] - 15s 13ms/step - loss: 0.0377 - accuracy: 0.9883 - val_loss: 0.0225 - val_accuracy: 0.9931\n",
      "Epoch 23/50\n",
      "1182/1182 [==============================] - 15s 13ms/step - loss: 0.0381 - accuracy: 0.9888 - val_loss: 0.0225 - val_accuracy: 0.9931\n",
      "Epoch 24/50\n",
      "1182/1182 [==============================] - 16s 14ms/step - loss: 0.0356 - accuracy: 0.9888 - val_loss: 0.0228 - val_accuracy: 0.9929\n",
      "Epoch 25/50\n",
      "1182/1182 [==============================] - 16s 13ms/step - loss: 0.0381 - accuracy: 0.9880 - val_loss: 0.0226 - val_accuracy: 0.9931\n",
      "\n",
      "Epoch 00025: ReduceLROnPlateau reducing learning rate to 1.0000000656873453e-06.\n",
      "Epoch 26/50\n",
      "1182/1182 [==============================] - 16s 13ms/step - loss: 0.0327 - accuracy: 0.9896 - val_loss: 0.0226 - val_accuracy: 0.9931\n",
      "Epoch 27/50\n",
      "1182/1182 [==============================] - 16s 13ms/step - loss: 0.0361 - accuracy: 0.9880 - val_loss: 0.0226 - val_accuracy: 0.9931\n",
      "Epoch 28/50\n",
      "1182/1182 [==============================] - 17s 14ms/step - loss: 0.0375 - accuracy: 0.9889 - val_loss: 0.0226 - val_accuracy: 0.9931\n",
      "\n",
      "Epoch 00028: ReduceLROnPlateau reducing learning rate to 1.0000001111620805e-07.\n",
      "Epoch 29/50\n",
      "1182/1182 [==============================] - 17s 15ms/step - loss: 0.0326 - accuracy: 0.9897 - val_loss: 0.0226 - val_accuracy: 0.9931\n",
      "Epoch 30/50\n",
      "1182/1182 [==============================] - 18s 15ms/step - loss: 0.0370 - accuracy: 0.9889 - val_loss: 0.0226 - val_accuracy: 0.9931\n",
      "Epoch 31/50\n",
      "1182/1182 [==============================] - 18s 15ms/step - loss: 0.0369 - accuracy: 0.9878 - val_loss: 0.0226 - val_accuracy: 0.9931\n",
      "\n",
      "Epoch 00031: ReduceLROnPlateau reducing learning rate to 1.000000082740371e-08.\n",
      "Epoch 32/50\n",
      "1182/1182 [==============================] - 16s 14ms/step - loss: 0.0324 - accuracy: 0.9895 - val_loss: 0.0226 - val_accuracy: 0.9931\n"
     ]
    },
    {
     "name": "stderr",
     "output_type": "stream",
     "text": [
      "2021-04-23 16:44:15,086 : INFO : History keys: dict_keys(['loss', 'accuracy', 'val_loss', 'val_accuracy', 'lr'])\n"
     ]
    },
    {
     "name": "stdout",
     "output_type": "stream",
     "text": [
      "Restoring model weights from the end of the best epoch.\n",
      "Epoch 00032: early stopping\n"
     ]
    },
    {
     "data": {
      "image/png": "[encoded data removed]",
      "text/plain": [
       "<Figure size 720x360 with 1 Axes>"
      ]
     },
     "metadata": {
      "needs_background": "light"
     },
     "output_type": "display_data"
    },
    {
     "data": {
      "image/png": "[encoded data removed]",
      "text/plain": [
       "<Figure size 720x360 with 1 Axes>"
      ]
     },
     "metadata": {
      "needs_background": "light"
     },
     "output_type": "display_data"
    },
    {
     "name": "stderr",
     "output_type": "stream",
     "text": [
      "2021-04-23 16:44:16,770 : INFO : Saved file: ../predictions/best/baseline.csv\n"
     ]
    }
   ],
   "source": [
    "from tensorflow import keras\n",
    "\n",
    "def baseline():\n",
    "    reproducibility()\n",
    "    model = keras.models.Sequential()\n",
    "    model.add(keras.layers.InputLayer(input_shape=(28, 28, 1)))\n",
    "    model.add(keras.layers.Conv2D(32, (3, 3), activation='relu'))\n",
    "    model.add(keras.layers.MaxPool2D(pool_size=(2, 2)))\n",
    "    model.add(keras.layers.Dropout(0.4))\n",
    "    model.add(keras.layers.Conv2D(64, (3, 3), activation='relu'))\n",
    "    model.add(keras.layers.MaxPool2D(pool_size=(2, 2)))\n",
    "    model.add(keras.layers.Dropout(0.4))\n",
    "    model.add(keras.layers.Conv2D(128, (3, 3), activation='relu'))\n",
    "    model.add(keras.layers.Dropout(0.4))\n",
    "    model.add(keras.layers.Flatten())\n",
    "    model.add(keras.layers.Dense(128, activation='relu'))\n",
    "    model.add(keras.layers.Dense(10, activation='softmax'))\n",
    "    \n",
    "    model.compile(optimizer='nadam', loss='sparse_categorical_crossentropy', metrics=['accuracy'])\n",
    "    print(model.summary())\n",
    "    \n",
    "    monitor='val_accuracy'\n",
    "    early_stopping = keras.callbacks.EarlyStopping(monitor=monitor, patience=10, mode='auto', restore_best_weights=True, verbose=1)\n",
    "#     model_checkpoint = keras.callbacks.ModelCheckpoint(args.model_name, save_best_only=True, monitor=monitor, mode='auto', verbose=2)\n",
    "    reduce_lr_on_plateau = keras.callbacks.ReduceLROnPlateau(monitor=monitor, factor=0.1, patience=3, min_delta=1e-4, mode='auto', verbose=1)\n",
    "    \n",
    "    history = model.fit(X_train, y_train, validation_split=args.val_fraction, epochs=args.epochs, batch_size=32,\n",
    "                        verbose=1, callbacks=[early_stopping, reduce_lr_on_plateau])\n",
    "    plot_history(history)\n",
    "    \n",
    "    predictions = model.predict(X_test)\n",
    "    csv_predictions(predictions, 'baseline.csv')\n",
    "\n",
    "baseline()"
   ]
  },
  {
   "cell_type": "markdown",
   "id": "supreme-place",
   "metadata": {},
   "source": [
    "| Model | Params  | Test score  | CV mean score |\n",
    "|---|---|---|---|\n",
    "| Baseline | No dropout | 0.99017 | 0.9924 |\n",
    "| Baseline | Dropout=0.4 | 0.99200 | 0.9931 |\n",
    "\n",
    "\n",
    "##### Other results\n",
    "| Model | Params  | Test score  | CV mean score |\n",
    "|---|---|---|---|\n",
    "| Baseline | Dropout=0.25 (after 2 first conv) | 0.99150 | 0.9929 |\n",
    "| Baseline | Dropout=0.5 (after 2 first conv) | 0.99178 | 0.9924 |\n",
    "| Baseline | Dropout=0.5  | 0.98867 | 0.9912 |\n",
    "| Baseline | Dropout=0.3  | 0.99182 |  0.9936 |"
   ]
  }
 ],
 "metadata": {
  "kernelspec": {
   "display_name": "Python 3",
   "language": "python",
   "name": "python3"
  },
  "language_info": {
   "codemirror_mode": {
    "name": "ipython",
    "version": 3
   },
   "file_extension": ".py",
   "mimetype": "text/x-python",
   "name": "python",
   "nbconvert_exporter": "python",
   "pygments_lexer": "ipython3",
   "version": "3.8.6"
  }
 },
 "nbformat": 4,
 "nbformat_minor": 5
}
