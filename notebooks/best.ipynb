{
 "cells": [
  {
   "cell_type": "code",
   "execution_count": 1,
   "id": "hybrid-sellers",
   "metadata": {},
   "outputs": [
    {
     "data": {
      "text/plain": [
       "'2.4.1'"
      ]
     },
     "execution_count": 1,
     "metadata": {},
     "output_type": "execute_result"
    }
   ],
   "source": [
    "import logging\n",
    "import numpy as np\n",
    "import pandas as pd\n",
    "import tensorflow as tf\n",
    "import keras\n",
    "\n",
    "logging.basicConfig(format='%(asctime)s : %(levelname)s : %(message)s', level=logging.INFO)\n",
    "log = logging.getLogger()\n",
    "\n",
    "%config Completer.use_jedi = False # make autocompletion works in jupyter\n",
    "\n",
    "tf.__version__"
   ]
  },
  {
   "cell_type": "code",
   "execution_count": 2,
   "id": "radio-stage",
   "metadata": {},
   "outputs": [],
   "source": [
    "import argparse\n",
    "import numpy as np\n",
    "import pandas as pd\n",
    "from pathlib import Path\n",
    "\n",
    "args = argparse.Namespace()\n",
    "\n",
    "args.n_splits = 5\n",
    "args.n_jobs = -1\n",
    "args.val_fraction = 0.1\n",
    "args.epochs = 50\n",
    "args.seed=101\n",
    "args.reproducibility = True\n",
    "\n",
    "args.run_baseline = True\n",
    "\n",
    "args.raw_train = pd.read_csv('../data/train.csv.zip')\n",
    "args.raw_test = pd.read_csv('../data/test.csv.zip')\n",
    "args.train = args.raw_train.iloc[:, 1:].copy()\n",
    "args.labels = args.raw_train['label'].copy()\n",
    "args.test = args.raw_test.copy()\n",
    "args.predictions_folder = Path('../predictions/best')\n",
    "args.models_folder = Path('../models/best')\n",
    "\n",
    "args.model_name = 'best.hdf5'\n",
    "\n",
    "args.predictions_folder.mkdir(parents=True, exist_ok=True) \n",
    "args.models_folder.mkdir(parents=True, exist_ok=True) "
   ]
  },
  {
   "cell_type": "code",
   "execution_count": 3,
   "id": "dress-tracker",
   "metadata": {},
   "outputs": [],
   "source": [
    "import tensorflow as tf\n",
    "\n",
    "def reproducibility():\n",
    "    if args.reproducibility:\n",
    "#         tf.random.set_seed(args.seed)\n",
    "#         import os\n",
    "#         os.environ['PYTHONHASHSEED']=str(args.seed)\n",
    "\n",
    "        # 2. Set the `python` built-in pseudo-random generator at a fixed value\n",
    "#         import random\n",
    "#         random.seed(args.seed)\n",
    "\n",
    "#         # 3. Set the `numpy` pseudo-random generator at a fixed value\n",
    "#         import numpy as np\n",
    "#         np.random.seed(args.seed)\n",
    "\n",
    "        # 4. Set the `tensorflow` pseudo-random generator at a fixed value\n",
    "        tf.random.set_seed(args.seed)\n",
    "\n",
    "        # 5. Configure a new global `tensorflow` session\n",
    "        from keras import backend as K\n",
    "        session_conf = tf.compat.v1.ConfigProto(intra_op_parallelism_threads=1, inter_op_parallelism_threads=1)\n",
    "        sess = tf.compat.v1.Session(graph=tf.compat.v1.get_default_graph(), config=session_conf)\n",
    "        tf.compat.v1.keras.backend.set_session(sess)\n",
    "\n",
    "reproducibility()"
   ]
  },
  {
   "cell_type": "code",
   "execution_count": 4,
   "id": "brave-april",
   "metadata": {},
   "outputs": [
    {
     "data": {
      "image/png": "[encoded data removed]",
      "text/plain": [
       "<Figure size 36x36 with 1 Axes>"
      ]
     },
     "metadata": {
      "needs_background": "light"
     },
     "output_type": "display_data"
    }
   ],
   "source": [
    "import matplotlib.pyplot as plt\n",
    "import matplotlib.image as mpimg\n",
    "import random\n",
    "\n",
    "def draw_digit(pixels_2d, label=None, size_inches=None):\n",
    "    fig, ax = plt.subplots()\n",
    "    if label is not None:\n",
    "        ax.set_title(label)\n",
    "    if size_inches:\n",
    "        fig.set_size_inches(size_inches[0], size_inches[1])\n",
    "    imgplot = ax.imshow(pixels_2d, cmap='gray')\n",
    "\n",
    "random_row = random.randrange(0, args.raw_train.shape[0], 1)\n",
    "label = args.raw_train.iloc[random_row, 0]\n",
    "pixels_2d = args.raw_train.iloc[random_row, 1:].to_numpy().reshape(28, 28)\n",
    "draw_digit(pixels_2d, label, (0.5, 0.5))"
   ]
  },
  {
   "cell_type": "code",
   "execution_count": 5,
   "id": "fixed-tunnel",
   "metadata": {},
   "outputs": [
    {
     "name": "stderr",
     "output_type": "stream",
     "text": [
      "2021-04-27 14:08:08,251 : INFO : X.shape: (42000, 28, 28, 1)\n",
      "2021-04-27 14:08:08,251 : INFO : Y_train.shape: (42000, 10)\n",
      "2021-04-27 14:08:08,256 : INFO : Type of target Y_train: 'multilabel-indicator'\n",
      "2021-04-27 14:08:08,257 : INFO : y_train.shape: (42000,)\n",
      "2021-04-27 14:08:08,258 : INFO : Type of target y_train: 'multiclass'\n"
     ]
    }
   ],
   "source": [
    "import sklearn.utils.multiclass\n",
    "\n",
    "X_train = args.train.to_numpy().reshape(args.train.shape[0], 28, 28, 1)\n",
    "Y_train = pd.get_dummies(args.labels, prefix='label').to_numpy()\n",
    "y_train = args.labels.to_numpy()\n",
    "X_test = args.test.to_numpy().reshape(args.test.shape[0], 28, 28, 1)\n",
    "\n",
    "log.info('X.shape: %s', repr(X_train.shape))\n",
    "# log.info('X[0][14][14]: %s', X[0][14][14])\n",
    "\n",
    "log.info('Y_train.shape: %s', repr(Y_train.shape))\n",
    "# log.info('y[0], %s', y[0])\n",
    "log.info('Type of target Y_train: %s', repr(sklearn.utils.multiclass.type_of_target(Y_train)))\n",
    "\n",
    "log.info('y_train.shape: %s', repr(y_train.shape))\n",
    "# log.info('y_sparse: %s', repr(y_sparse))\n",
    "# log.info('y_sparse[0]: %s', y_sparse[0])\n",
    "log.info('Type of target y_train: %s', repr(sklearn.utils.multiclass.type_of_target(y_train)))\n",
    "\n",
    "def plot_history(history):\n",
    "    log.info(\"History keys: %s\", history.history.keys())\n",
    "    # Accuracy\n",
    "    fig, ax = plt.subplots(figsize=(10, 5))\n",
    "    ax.plot(history.history['accuracy'], label='Train')\n",
    "    ax.plot(history.history['val_accuracy'], label='Test')\n",
    "    ax.set_title('Model accuracy')\n",
    "    ax.set_ylabel('Accuracy')\n",
    "    ax.set_xlabel('Epoch')\n",
    "    ax.grid(True)\n",
    "    ax.legend(['Train', 'Val'], loc='lower right')\n",
    "    \n",
    "    # Loss\n",
    "    plt.figure(figsize=(10,5))\n",
    "    plt.plot(history.history['loss'])\n",
    "    plt.plot(history.history['val_loss'])\n",
    "    plt.title('Model loss')\n",
    "    plt.ylabel('Loss')\n",
    "    plt.xlabel('Epoch')\n",
    "    plt.legend(['Train', 'Val'], loc='upper left')\n",
    "    plt.grid()\n",
    "    plt.show()\n",
    "    \n",
    "    \n",
    "def csv_predictions(predictions, filename):\n",
    "    log.debug('predictions.shape: %s', repr(predictions.shape))\n",
    "    predictions_classes = np.argmax(predictions, axis=1)\n",
    "    image_ids = np.arange(1, len(predictions_classes) + 1)\n",
    "    submission = pd.DataFrame({'ImageId': image_ids, 'Label': predictions_classes})\n",
    "    filepath = args.predictions_folder/filename\n",
    "    submission.to_csv(filepath, index=False)\n",
    "    log.info('Saved file: %s', filepath)\n"
   ]
  },
  {
   "cell_type": "markdown",
   "id": "worthy-necklace",
   "metadata": {},
   "source": [
    "### Baseline"
   ]
  },
  {
   "cell_type": "code",
   "execution_count": 6,
   "id": "chicken-agenda",
   "metadata": {},
   "outputs": [
    {
     "name": "stdout",
     "output_type": "stream",
     "text": [
      "Model: \"sequential\"\n",
      "_________________________________________________________________\n",
      "Layer (type)                 Output Shape              Param #   \n",
      "=================================================================\n",
      "conv2d (Conv2D)              (None, 26, 26, 32)        320       \n",
      "_________________________________________________________________\n",
      "batch_normalization (BatchNo (None, 26, 26, 32)        128       \n",
      "_________________________________________________________________\n",
      "max_pooling2d (MaxPooling2D) (None, 13, 13, 32)        0         \n",
      "_________________________________________________________________\n",
      "dropout (Dropout)            (None, 13, 13, 32)        0         \n",
      "_________________________________________________________________\n",
      "conv2d_1 (Conv2D)            (None, 11, 11, 64)        18496     \n",
      "_________________________________________________________________\n",
      "batch_normalization_1 (Batch (None, 11, 11, 64)        256       \n",
      "_________________________________________________________________\n",
      "max_pooling2d_1 (MaxPooling2 (None, 5, 5, 64)          0         \n",
      "_________________________________________________________________\n",
      "dropout_1 (Dropout)          (None, 5, 5, 64)          0         \n",
      "_________________________________________________________________\n",
      "flatten (Flatten)            (None, 1600)              0         \n",
      "_________________________________________________________________\n",
      "dense (Dense)                (None, 64)                102464    \n",
      "_________________________________________________________________\n",
      "batch_normalization_2 (Batch (None, 64)                256       \n",
      "_________________________________________________________________\n",
      "dense_1 (Dense)              (None, 10)                650       \n",
      "=================================================================\n",
      "Total params: 122,570\n",
      "Trainable params: 122,250\n",
      "Non-trainable params: 320\n",
      "_________________________________________________________________\n",
      "None\n",
      "1182/1182 [==============================] - 31s 25ms/step - loss: 0.5001 - accuracy: 0.8464 - val_loss: 0.0887 - val_accuracy: 0.9721\n"
     ]
    },
    {
     "name": "stderr",
     "output_type": "stream",
     "text": [
      "2021-04-27 14:08:39,131 : INFO : History keys: dict_keys(['loss', 'accuracy', 'val_loss', 'val_accuracy', 'lr'])\n"
     ]
    },
    {
     "data": {
      "image/png": "[encoded data removed]",
      "text/plain": [
       "<Figure size 720x360 with 1 Axes>"
      ]
     },
     "metadata": {
      "needs_background": "light"
     },
     "output_type": "display_data"
    },
    {
     "data": {
      "image/png": "[encoded data removed]",
      "text/plain": [
       "<Figure size 720x360 with 1 Axes>"
      ]
     },
     "metadata": {
      "needs_background": "light"
     },
     "output_type": "display_data"
    },
    {
     "name": "stderr",
     "output_type": "stream",
     "text": [
      "2021-04-27 14:08:43,691 : INFO : Saved file: ../predictions/best/baseline.csv\n"
     ]
    },
    {
     "ename": "AssertionError",
     "evalue": "",
     "output_type": "error",
     "traceback": [
      "\u001b[0;31m---------------------------------------------------------------------------\u001b[0m",
      "\u001b[0;31mAssertionError\u001b[0m                            Traceback (most recent call last)",
      "\u001b[0;32m<ipython-input-6-9ae355628ba1>\u001b[0m in \u001b[0;36m<module>\u001b[0;34m\u001b[0m\n\u001b[1;32m     36\u001b[0m \u001b[0mreprod\u001b[0m\u001b[0;34m(\u001b[0m\u001b[0;34m)\u001b[0m\u001b[0;34m\u001b[0m\u001b[0;34m\u001b[0m\u001b[0m\n\u001b[1;32m     37\u001b[0m \u001b[0;34m\u001b[0m\u001b[0m\n\u001b[0;32m---> 38\u001b[0;31m \u001b[0;32massert\u001b[0m \u001b[0;32mFalse\u001b[0m\u001b[0;34m\u001b[0m\u001b[0;34m\u001b[0m\u001b[0m\n\u001b[0m",
      "\u001b[0;31mAssertionError\u001b[0m: "
     ]
    }
   ],
   "source": [
    "def reprod():\n",
    "    reproducibility()\n",
    "    model = keras.models.Sequential()\n",
    "    model.add(keras.layers.InputLayer(input_shape=(28, 28, 1)))\n",
    "    \n",
    "    model.add(keras.layers.Conv2D(32, (3, 3), activation='relu'))\n",
    "    model.add(keras.layers.BatchNormalization())\n",
    "    model.add(keras.layers.MaxPool2D(pool_size=(2, 2)))\n",
    "    model.add(keras.layers.Dropout(0.4))\n",
    "    \n",
    "    model.add(keras.layers.Conv2D(64, (3, 3), activation='relu'))\n",
    "    model.add(keras.layers.BatchNormalization())\n",
    "    model.add(keras.layers.MaxPool2D(pool_size=(2, 2)))\n",
    "    model.add(keras.layers.Dropout(0.4))\n",
    "    \n",
    "    model.add(keras.layers.Flatten())\n",
    "    model.add(keras.layers.Dense(64, activation='relu'))\n",
    "    model.add(keras.layers.BatchNormalization())\n",
    "    \n",
    "    model.add(keras.layers.Dense(10, activation='softmax'))\n",
    "    \n",
    "    model.compile(optimizer='nadam', loss='sparse_categorical_crossentropy', metrics=['accuracy'])\n",
    "    print(model.summary())\n",
    "    \n",
    "    monitor='val_accuracy'\n",
    "    early_stopping = keras.callbacks.EarlyStopping(monitor=monitor, patience=10, mode='auto', restore_best_weights=True, verbose=1)\n",
    "    reduce_lr_on_plateau = keras.callbacks.ReduceLROnPlateau(monitor=monitor, factor=0.1, patience=3, min_delta=1e-4, mode='auto', verbose=1)\n",
    "    \n",
    "    history = model.fit(X_train, y_train, validation_split=args.val_fraction, epochs=1, batch_size=32,\n",
    "                        verbose=1, callbacks=[early_stopping, reduce_lr_on_plateau])\n",
    "    plot_history(history)\n",
    "    \n",
    "    predictions = model.predict(X_test)\n",
    "    csv_predictions(predictions, 'baseline.csv')\n",
    "\n",
    "reprod()\n",
    "\n",
    "assert False"
   ]
  },
  {
   "cell_type": "code",
   "execution_count": null,
   "id": "advisory-prerequisite",
   "metadata": {},
   "outputs": [],
   "source": [
    "# mac mini 1182/1182 [==============================] - 20s 16ms/step - loss: 0.5071 - accuracy: 0.8442 - val_loss: 0.0995 - val_accuracy: 0.9707\n",
    "# macbook 1182/1182 [==============================] - 62s 50ms/step - loss: 0.5066 - accuracy: 0.8437 - val_loss: 0.1070 - val_accuracy: 0.9662\n",
    "# macbook 29/29 [==============================] - 4s 64ms/step - loss: 2.2990 - accuracy: 0.3006 - val_loss: 3.0213 - val_accuracy: 0.5200\n",
    "\n",
    "# mini 1182/1182 [==============================] - 31s 25ms/step - loss: 0.5001 - accuracy: 0.8464 - val_loss: 0.0887 - val_accuracy: 0.9721"
   ]
  },
  {
   "cell_type": "code",
   "execution_count": null,
   "id": "tribal-sandwich",
   "metadata": {},
   "outputs": [],
   "source": [
    "from tensorflow import keras\n",
    "# repr on different machines\n",
    "def baseline():\n",
    "    reproducibility()\n",
    "    model = keras.models.Sequential()\n",
    "    model.add(keras.layers.InputLayer(input_shape=(28, 28, 1)))\n",
    "    \n",
    "    model.add(keras.layers.Conv2D(32, (3, 3), activation='relu'))\n",
    "    model.add(keras.layers.BatchNormalization())\n",
    "    model.add(keras.layers.MaxPool2D(pool_size=(2, 2)))\n",
    "    model.add(keras.layers.Dropout(0.4))\n",
    "    \n",
    "    model.add(keras.layers.Conv2D(64, (3, 3), activation='relu'))\n",
    "    model.add(keras.layers.BatchNormalization())\n",
    "    model.add(keras.layers.MaxPool2D(pool_size=(2, 2)))\n",
    "    model.add(keras.layers.Dropout(0.4))\n",
    "    \n",
    "    model.add(keras.layers.Conv2D(128, (3, 3), activation='relu'))\n",
    "    model.add(keras.layers.BatchNormalization())\n",
    "    model.add(keras.layers.Dropout(0.4))\n",
    "    \n",
    "    model.add(keras.layers.Flatten())\n",
    "    model.add(keras.layers.Dense(128, activation='relu'))\n",
    "    model.add(keras.layers.BatchNormalization())\n",
    "    \n",
    "    model.add(keras.layers.Dense(10, activation='softmax'))\n",
    "    \n",
    "    model.compile(optimizer='nadam', loss='sparse_categorical_crossentropy', metrics=['accuracy'])\n",
    "    print(model.summary())\n",
    "    \n",
    "    monitor='val_accuracy'\n",
    "    early_stopping = keras.callbacks.EarlyStopping(monitor=monitor, patience=10, mode='auto', restore_best_weights=True, verbose=1)\n",
    "    reduce_lr_on_plateau = keras.callbacks.ReduceLROnPlateau(monitor=monitor, factor=0.1, patience=3, min_delta=1e-4, mode='auto', verbose=1)\n",
    "    \n",
    "    history = model.fit(X_train, y_train, validation_split=args.val_fraction, epochs=args.epochs, batch_size=32,\n",
    "                        verbose=1, callbacks=[early_stopping, reduce_lr_on_plateau])\n",
    "    plot_history(history)\n",
    "    \n",
    "    predictions = model.predict(X_test)\n",
    "    csv_predictions(predictions, 'baseline.csv')\n",
    "\n",
    "baseline()"
   ]
  },
  {
   "cell_type": "markdown",
   "id": "supreme-place",
   "metadata": {},
   "source": [
    "| Model | Params  | Test score  | CV mean score |\n",
    "|---|---|---|---|\n",
    "| Baseline | No dropout | 0.99017 | 0.9924 |\n",
    "| Baseline | Dropout=0.4 | 0.99200 | 0.9931 |\n",
    "| Baseline | Dropout=0.4, Batch normalization  | 0.99278 |  0.9943 |\n",
    "\n",
    "\n",
    "##### Other results\n",
    "| Model | Params  | Test score  | CV mean score |\n",
    "|---|---|---|---|\n",
    "| Baseline | Dropout=0.25 (after 2 first conv) | 0.99150 | 0.9929 |\n",
    "| Baseline | Dropout=0.5 (after 2 first conv) | 0.99178 | 0.9924 |\n",
    "| Baseline | Dropout=0.5  | 0.98867 | 0.9912 |\n",
    "| Baseline | Dropout=0.3  | 0.99182 |  0.9936 |\n",
    "| Baseline | Dropout=0.4 batch normalization before activation  | 0.99275 |  0.9929 |\n",
    "| Baseline | Dropout=0.4 batch normalization he normal | 0.99250 |  0.9940 |"
   ]
  }
 ],
 "metadata": {
  "kernelspec": {
   "display_name": "Python 3",
   "language": "python",
   "name": "python3"
  },
  "language_info": {
   "codemirror_mode": {
    "name": "ipython",
    "version": 3
   },
   "file_extension": ".py",
   "mimetype": "text/x-python",
   "name": "python",
   "nbconvert_exporter": "python",
   "pygments_lexer": "ipython3",
   "version": "3.8.6"
  }
 },
 "nbformat": 4,
 "nbformat_minor": 5
}
