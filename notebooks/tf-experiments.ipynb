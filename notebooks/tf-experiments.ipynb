{
 "cells": [
  {
   "cell_type": "code",
   "execution_count": 57,
   "id": "adjacent-continuity",
   "metadata": {},
   "outputs": [
    {
     "data": {
      "text/plain": [
       "'2.4.1'"
      ]
     },
     "execution_count": 57,
     "metadata": {},
     "output_type": "execute_result"
    }
   ],
   "source": [
    "import logging\n",
    "import tensorflow as tf\n",
    "import keras\n",
    "\n",
    "logging.basicConfig(format='%(asctime)s : %(levelname)s : %(message)s', level=logging.INFO)\n",
    "log = logging.getLogger()\n",
    "\n",
    "%config Completer.use_jedi = False # make autocompletion works in jupyter\n",
    "\n",
    "tf.__version__"
   ]
  },
  {
   "cell_type": "code",
   "execution_count": 58,
   "id": "durable-example",
   "metadata": {},
   "outputs": [],
   "source": [
    "import numpy as np\n",
    "import pandas as pd\n",
    "from pathlib import Path\n",
    "\n",
    "import argparse\n",
    "args = argparse.Namespace()\n",
    "args.raw_train = pd.read_csv('../data/train.csv.zip')\n",
    "args.raw_test = pd.read_csv('../data/test.csv.zip')\n",
    "args.predictions_folder = Path('../predictions')\n",
    "args.n_splits = 5\n",
    "args.n_jobs = 3\n",
    "args.seed = 101\n",
    "args.val_fraction=0.1\n",
    "args.epochs = 50\n",
    "\n",
    "args.train = args.raw_train.iloc[:, 1:].copy()\n",
    "args.labels = args.raw_train['label'].copy()\n",
    "args.test = args.raw_test.copy()\n",
    "\n",
    "\n",
    "args.predictions_folder.mkdir(parents=True, exist_ok=True) "
   ]
  },
  {
   "cell_type": "code",
   "execution_count": 59,
   "id": "spectacular-currency",
   "metadata": {},
   "outputs": [],
   "source": [
    "X = args.train.to_numpy().reshape(args.train.shape[0], 28, 28, 1)\n",
    "y = pd.get_dummies(args.labels, prefix='label').to_numpy()\n",
    "y_sparse = args.labels.to_numpy()\n",
    "x = args.test.to_numpy().reshape(args.test.shape[0], 28, 28, 1)"
   ]
  },
  {
   "cell_type": "code",
   "execution_count": 60,
   "id": "going-catholic",
   "metadata": {},
   "outputs": [
    {
     "data": {
      "text/plain": [
       "<tf.Tensor: shape=(1,), dtype=string, numpy=array([b'019A'], dtype=object)>"
      ]
     },
     "execution_count": 60,
     "metadata": {},
     "output_type": "execute_result"
    }
   ],
   "source": [
    "t = tf.constant([[1, 2], [3, 4], [5, 6]])\n",
    "tf.square(t)\n",
    "keras.backend.transpose(t)\n",
    "t + tf.cast(tf.constant(1.), tf.int32)\n",
    "v = tf.Variable([[1, 2], [3, 4], [5, 6]])\n",
    "v[0,0].assign(100)\n",
    "tf.SparseTensor(indices=[[0, 0], [1, 2]], values=[1, 2], dense_shape=[3, 4])\n",
    "tf.constant(['019A'])\n",
    "# tf.strings.unicode_decode(tf.constant(['019A']), input_encoding='UTF-8')"
   ]
  },
  {
   "cell_type": "markdown",
   "id": "opponent-manner",
   "metadata": {},
   "source": [
    "### Custom training loops"
   ]
  },
  {
   "cell_type": "code",
   "execution_count": 8,
   "id": "painful-lawrence",
   "metadata": {},
   "outputs": [
    {
     "data": {
      "text/plain": [
       "41984"
      ]
     },
     "execution_count": 8,
     "metadata": {},
     "output_type": "execute_result"
    }
   ],
   "source": [
    "len(X) // 32\n",
    "32 * 1312"
   ]
  },
  {
   "cell_type": "code",
   "execution_count": 65,
   "id": "pending-speaking",
   "metadata": {},
   "outputs": [
    {
     "data": {
      "text/plain": [
       "array([1, 0, 1, 4, 0, 0, 7, 3, 5, 3, 8, 9, 1, 3, 3, 1, 2, 0, 7, 5, 8, 6,\n",
       "       2, 0, 2, 3, 6, 9, 9, 7, 8, 9])"
      ]
     },
     "execution_count": 65,
     "metadata": {},
     "output_type": "execute_result"
    }
   ],
   "source": [
    "# def shuffle(X, y):\n",
    "#     x = np.array([0, 100, 200, 300, 400])\n",
    "#     a = np.random.permutation(5)\n",
    "#     print(a)\n",
    "#     print(x[a])\n",
    "\n",
    "# for i in range(5):\n",
    "#     shuffle(None, None)\n",
    "    \n",
    "y_sparse[0:32]"
   ]
  },
  {
   "cell_type": "code",
   "execution_count": 69,
   "id": "explicit-bacteria",
   "metadata": {},
   "outputs": [
    {
     "name": "stderr",
     "output_type": "stream",
     "text": [
      "2021-03-29 20:22:33,735 : INFO : Epoch 1...\n"
     ]
    },
    {
     "name": "stdout",
     "output_type": "stream",
     "text": [
      "tf.Tensor(\n",
      "[[0.00000000e+00 0.00000000e+00 0.00000000e+00 0.00000000e+00\n",
      "  2.75778348e-07 0.00000000e+00 0.00000000e+00 0.00000000e+00\n",
      "  9.99999762e-01 0.00000000e+00]\n",
      " [0.00000000e+00 1.30162815e-20 1.00000000e+00 0.00000000e+00\n",
      "  0.00000000e+00 0.00000000e+00 1.05102732e-12 0.00000000e+00\n",
      "  0.00000000e+00 0.00000000e+00]\n",
      " [0.00000000e+00 0.00000000e+00 0.00000000e+00 0.00000000e+00\n",
      "  1.00000000e+00 0.00000000e+00 0.00000000e+00 0.00000000e+00\n",
      "  0.00000000e+00 0.00000000e+00]\n",
      " [0.00000000e+00 1.09359920e-02 0.00000000e+00 0.00000000e+00\n",
      "  9.89064038e-01 0.00000000e+00 0.00000000e+00 0.00000000e+00\n",
      "  9.72668505e-38 0.00000000e+00]\n",
      " [0.00000000e+00 0.00000000e+00 1.02959250e-08 3.98707125e-37\n",
      "  1.30991805e-18 0.00000000e+00 0.00000000e+00 3.05706194e-23\n",
      "  1.00000000e+00 0.00000000e+00]\n",
      " [0.00000000e+00 1.00000000e+00 7.73479140e-34 0.00000000e+00\n",
      "  2.64196661e-22 0.00000000e+00 0.00000000e+00 1.96843581e-21\n",
      "  0.00000000e+00 0.00000000e+00]\n",
      " [0.00000000e+00 1.00000000e+00 0.00000000e+00 0.00000000e+00\n",
      "  0.00000000e+00 0.00000000e+00 0.00000000e+00 0.00000000e+00\n",
      "  0.00000000e+00 0.00000000e+00]\n",
      " [0.00000000e+00 0.00000000e+00 0.00000000e+00 0.00000000e+00\n",
      "  1.00000000e+00 0.00000000e+00 0.00000000e+00 0.00000000e+00\n",
      "  3.37039481e-24 0.00000000e+00]\n",
      " [0.00000000e+00 0.00000000e+00 3.31225592e-27 0.00000000e+00\n",
      "  2.68755179e-18 0.00000000e+00 1.00000000e+00 6.21392739e-31\n",
      "  0.00000000e+00 0.00000000e+00]\n",
      " [0.00000000e+00 5.42968662e-24 6.94461712e-33 0.00000000e+00\n",
      "  1.76417831e-04 0.00000000e+00 9.99823630e-01 0.00000000e+00\n",
      "  0.00000000e+00 0.00000000e+00]\n",
      " [0.00000000e+00 0.00000000e+00 0.00000000e+00 0.00000000e+00\n",
      "  1.00000000e+00 0.00000000e+00 0.00000000e+00 0.00000000e+00\n",
      "  0.00000000e+00 0.00000000e+00]\n",
      " [0.00000000e+00 1.00000000e+00 0.00000000e+00 0.00000000e+00\n",
      "  8.76600265e-27 0.00000000e+00 0.00000000e+00 0.00000000e+00\n",
      "  5.03090091e-18 0.00000000e+00]\n",
      " [0.00000000e+00 1.00000000e+00 1.70682801e-09 0.00000000e+00\n",
      "  0.00000000e+00 0.00000000e+00 0.00000000e+00 0.00000000e+00\n",
      "  0.00000000e+00 0.00000000e+00]\n",
      " [0.00000000e+00 3.37504531e-07 6.03902852e-19 0.00000000e+00\n",
      "  1.42311228e-05 0.00000000e+00 9.99985456e-01 0.00000000e+00\n",
      "  5.79500081e-25 0.00000000e+00]\n",
      " [0.00000000e+00 1.10597657e-05 0.00000000e+00 0.00000000e+00\n",
      "  0.00000000e+00 9.99988914e-01 0.00000000e+00 7.76590511e-17\n",
      "  0.00000000e+00 0.00000000e+00]\n",
      " [0.00000000e+00 0.00000000e+00 0.00000000e+00 0.00000000e+00\n",
      "  1.00000000e+00 0.00000000e+00 0.00000000e+00 0.00000000e+00\n",
      "  2.11333789e-14 0.00000000e+00]\n",
      " [0.00000000e+00 3.25860727e-10 1.63520442e-30 1.45318317e-30\n",
      "  1.32662717e-35 0.00000000e+00 6.87483310e-31 1.00000000e+00\n",
      "  4.27142734e-34 0.00000000e+00]\n",
      " [0.00000000e+00 2.92353598e-19 3.71904128e-36 1.21665701e-28\n",
      "  0.00000000e+00 0.00000000e+00 0.00000000e+00 0.00000000e+00\n",
      "  1.00000000e+00 0.00000000e+00]\n",
      " [0.00000000e+00 0.00000000e+00 0.00000000e+00 0.00000000e+00\n",
      "  2.48498250e-10 0.00000000e+00 0.00000000e+00 1.00000000e+00\n",
      "  0.00000000e+00 0.00000000e+00]\n",
      " [0.00000000e+00 6.50591963e-20 2.41303260e-26 0.00000000e+00\n",
      "  1.00000000e+00 0.00000000e+00 1.89329350e-36 1.28751957e-12\n",
      "  1.12081727e-25 0.00000000e+00]\n",
      " [0.00000000e+00 2.76566473e-18 9.99895215e-01 0.00000000e+00\n",
      "  3.38180208e-30 0.00000000e+00 0.00000000e+00 1.04746337e-04\n",
      "  0.00000000e+00 0.00000000e+00]\n",
      " [0.00000000e+00 0.00000000e+00 0.00000000e+00 0.00000000e+00\n",
      "  1.00000000e+00 0.00000000e+00 0.00000000e+00 1.15333380e-33\n",
      "  0.00000000e+00 0.00000000e+00]\n",
      " [0.00000000e+00 3.14361989e-18 0.00000000e+00 0.00000000e+00\n",
      "  1.69218254e-06 0.00000000e+00 0.00000000e+00 0.00000000e+00\n",
      "  9.99998331e-01 0.00000000e+00]\n",
      " [0.00000000e+00 0.00000000e+00 1.92535028e-33 0.00000000e+00\n",
      "  1.00000000e+00 0.00000000e+00 1.38263575e-19 2.93949229e-20\n",
      "  0.00000000e+00 0.00000000e+00]\n",
      " [0.00000000e+00 1.00000000e+00 0.00000000e+00 0.00000000e+00\n",
      "  0.00000000e+00 0.00000000e+00 0.00000000e+00 0.00000000e+00\n",
      "  0.00000000e+00 0.00000000e+00]\n",
      " [0.00000000e+00 0.00000000e+00 9.96561944e-01 0.00000000e+00\n",
      "  0.00000000e+00 0.00000000e+00 0.00000000e+00 5.61900574e-23\n",
      "  3.43806297e-03 0.00000000e+00]\n",
      " [0.00000000e+00 1.00000000e+00 0.00000000e+00 0.00000000e+00\n",
      "  0.00000000e+00 0.00000000e+00 0.00000000e+00 0.00000000e+00\n",
      "  0.00000000e+00 0.00000000e+00]\n",
      " [0.00000000e+00 1.92062978e-21 6.92815326e-13 0.00000000e+00\n",
      "  9.99999642e-01 0.00000000e+00 4.84353734e-20 3.33718503e-07\n",
      "  0.00000000e+00 0.00000000e+00]\n",
      " [0.00000000e+00 1.00000000e+00 8.93840999e-29 0.00000000e+00\n",
      "  7.83161758e-10 0.00000000e+00 0.00000000e+00 0.00000000e+00\n",
      "  1.02127206e-16 0.00000000e+00]\n",
      " [0.00000000e+00 1.60341166e-15 1.19116203e-10 2.35272579e-32\n",
      "  1.00000000e+00 0.00000000e+00 0.00000000e+00 0.00000000e+00\n",
      "  5.36506908e-14 0.00000000e+00]\n",
      " [0.00000000e+00 1.49280617e-30 0.00000000e+00 0.00000000e+00\n",
      "  1.22545157e-35 0.00000000e+00 0.00000000e+00 0.00000000e+00\n",
      "  1.00000000e+00 0.00000000e+00]\n",
      " [0.00000000e+00 0.00000000e+00 6.87675104e-30 0.00000000e+00\n",
      "  1.00000000e+00 0.00000000e+00 0.00000000e+00 0.00000000e+00\n",
      "  0.00000000e+00 0.00000000e+00]], shape=(32, 10), dtype=float32)\n"
     ]
    }
   ],
   "source": [
    "def build_simple_model():\n",
    "    model = keras.models.Sequential()\n",
    "    model.add(keras.layers.InputLayer(input_shape=(28, 28)))\n",
    "    model.add(keras.layers.Flatten())\n",
    "    model.add(keras.layers.Dense(300, activation='elu', kernel_initializer='he_normal'))\n",
    "    model.add(keras.layers.Dense(10, activation='softmax')) # !\n",
    "    return model\n",
    "#     model.compile(loss='sparse_categorical_crossentropy', # !\n",
    "#              optimizer=keras.optimizers.Nadam(learning_rate=lr),\n",
    "#              metrics=[keras.metrics.sparse_categorical_accuracy]) # !\n",
    "\n",
    "def custom_training_loop():\n",
    "    def shuffle(X, y):\n",
    "        assert len(X) == len(y)\n",
    "        idx = np.random.permutation(len(X))\n",
    "        return X[idx], y[idx]\n",
    "    \n",
    "    n_epochs = 5\n",
    "    batch_size = 32\n",
    "    optimizer=keras.optimizers.Nadam(learning_rate=0.001)\n",
    "    loss_fn = keras.losses.sparse_categorical_crossentropy # try class\n",
    "    metrics=[keras.metrics.SparseCategoricalAccuracy] # try func\n",
    "    model = build_simple_model()\n",
    "    \n",
    "    for epoch in range(1, n_epochs + 1):\n",
    "        log.info(f'Epoch {epoch}...')\n",
    "        n_steps = len(X) // 32 + 1\n",
    "        X_shuffled, y_shuffled = shuffle(X, y_sparse)\n",
    "        for step in range(1, n_steps + 1):\n",
    "            ceiling = step * batch_size if step * batch_size < len(X_shuffled) else len(X_shuffled)\n",
    "            floor = (step - 1) * batch_size\n",
    "            X_batch, y_batch = X_shuffled[floor: ceiling], y_shuffled[floor: ceiling]\n",
    "            with tf.GradientTape() as tape:\n",
    "                y_predicted = model(X_batch)\n",
    "                print(y_predicted)\n",
    "            break\n",
    "        break\n",
    "            # compute grad\n",
    "            # autodiff\n",
    "            # loss, metric\n",
    "            \n",
    "custom_training_loop()"
   ]
  }
 ],
 "metadata": {
  "kernelspec": {
   "display_name": "Python 3",
   "language": "python",
   "name": "python3"
  },
  "language_info": {
   "codemirror_mode": {
    "name": "ipython",
    "version": 3
   },
   "file_extension": ".py",
   "mimetype": "text/x-python",
   "name": "python",
   "nbconvert_exporter": "python",
   "pygments_lexer": "ipython3",
   "version": "3.8.6"
  }
 },
 "nbformat": 4,
 "nbformat_minor": 5
}
