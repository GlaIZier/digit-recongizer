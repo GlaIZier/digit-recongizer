{
 "cells": [
  {
   "cell_type": "code",
   "execution_count": 57,
   "id": "adjacent-continuity",
   "metadata": {},
   "outputs": [
    {
     "data": {
      "text/plain": [
       "'2.4.1'"
      ]
     },
     "execution_count": 57,
     "metadata": {},
     "output_type": "execute_result"
    }
   ],
   "source": [
    "import logging\n",
    "import tensorflow as tf\n",
    "import keras\n",
    "\n",
    "logging.basicConfig(format='%(asctime)s : %(levelname)s : %(message)s', level=logging.INFO)\n",
    "log = logging.getLogger()\n",
    "\n",
    "%config Completer.use_jedi = False # make autocompletion works in jupyter\n",
    "\n",
    "tf.__version__"
   ]
  },
  {
   "cell_type": "code",
   "execution_count": 58,
   "id": "durable-example",
   "metadata": {},
   "outputs": [],
   "source": [
    "import numpy as np\n",
    "import pandas as pd\n",
    "from pathlib import Path\n",
    "\n",
    "import argparse\n",
    "args = argparse.Namespace()\n",
    "args.raw_train = pd.read_csv('../data/train.csv.zip')\n",
    "args.raw_test = pd.read_csv('../data/test.csv.zip')\n",
    "args.predictions_folder = Path('../predictions')\n",
    "args.n_splits = 5\n",
    "args.n_jobs = 3\n",
    "args.seed = 101\n",
    "args.val_fraction=0.1\n",
    "args.epochs = 50\n",
    "\n",
    "args.train = args.raw_train.iloc[:, 1:].copy()\n",
    "args.labels = args.raw_train['label'].copy()\n",
    "args.test = args.raw_test.copy()\n",
    "\n",
    "\n",
    "args.predictions_folder.mkdir(parents=True, exist_ok=True) "
   ]
  },
  {
   "cell_type": "code",
   "execution_count": 59,
   "id": "spectacular-currency",
   "metadata": {},
   "outputs": [],
   "source": [
    "X = args.train.to_numpy().reshape(args.train.shape[0], 28, 28, 1)\n",
    "y = pd.get_dummies(args.labels, prefix='label').to_numpy()\n",
    "y_sparse = args.labels.to_numpy()\n",
    "x = args.test.to_numpy().reshape(args.test.shape[0], 28, 28, 1)"
   ]
  },
  {
   "cell_type": "code",
   "execution_count": 60,
   "id": "going-catholic",
   "metadata": {},
   "outputs": [
    {
     "data": {
      "text/plain": [
       "<tf.Tensor: shape=(1,), dtype=string, numpy=array([b'019A'], dtype=object)>"
      ]
     },
     "execution_count": 60,
     "metadata": {},
     "output_type": "execute_result"
    }
   ],
   "source": [
    "t = tf.constant([[1, 2], [3, 4], [5, 6]])\n",
    "tf.square(t)\n",
    "keras.backend.transpose(t)\n",
    "t + tf.cast(tf.constant(1.), tf.int32)\n",
    "v = tf.Variable([[1, 2], [3, 4], [5, 6]])\n",
    "v[0,0].assign(100)\n",
    "tf.SparseTensor(indices=[[0, 0], [1, 2]], values=[1, 2], dense_shape=[3, 4])\n",
    "tf.constant(['019A'])\n",
    "# tf.strings.unicode_decode(tf.constant(['019A']), input_encoding='UTF-8')"
   ]
  },
  {
   "cell_type": "markdown",
   "id": "opponent-manner",
   "metadata": {},
   "source": [
    "### Custom training loops"
   ]
  },
  {
   "cell_type": "code",
   "execution_count": 8,
   "id": "painful-lawrence",
   "metadata": {},
   "outputs": [
    {
     "data": {
      "text/plain": [
       "41984"
      ]
     },
     "execution_count": 8,
     "metadata": {},
     "output_type": "execute_result"
    }
   ],
   "source": [
    "len(X) // 32\n",
    "32 * 1312"
   ]
  },
  {
   "cell_type": "code",
   "execution_count": 65,
   "id": "pending-speaking",
   "metadata": {},
   "outputs": [
    {
     "data": {
      "text/plain": [
       "array([1, 0, 1, 4, 0, 0, 7, 3, 5, 3, 8, 9, 1, 3, 3, 1, 2, 0, 7, 5, 8, 6,\n",
       "       2, 0, 2, 3, 6, 9, 9, 7, 8, 9])"
      ]
     },
     "execution_count": 65,
     "metadata": {},
     "output_type": "execute_result"
    }
   ],
   "source": [
    "# def shuffle(X, y):\n",
    "#     x = np.array([0, 100, 200, 300, 400])\n",
    "#     a = np.random.permutation(5)\n",
    "#     print(a)\n",
    "#     print(x[a])\n",
    "\n",
    "# for i in range(5):\n",
    "#     shuffle(None, None)\n",
    "    \n",
    "y_sparse[0:32]"
   ]
  },
  {
   "cell_type": "code",
   "execution_count": 79,
   "id": "explicit-bacteria",
   "metadata": {},
   "outputs": [
    {
     "name": "stderr",
     "output_type": "stream",
     "text": [
      "2021-03-30 14:43:44,336 : INFO : Epoch 1...\n"
     ]
    },
    {
     "name": "stdout",
     "output_type": "stream",
     "text": [
      "[<tf.Tensor: shape=(784, 300), dtype=float32, numpy=\n",
      "array([[0., 0., 0., ..., 0., 0., 0.],\n",
      "       [0., 0., 0., ..., 0., 0., 0.],\n",
      "       [0., 0., 0., ..., 0., 0., 0.],\n",
      "       ...,\n",
      "       [0., 0., 0., ..., 0., 0., 0.],\n",
      "       [0., 0., 0., ..., 0., 0., 0.],\n",
      "       [0., 0., 0., ..., 0., 0., 0.]], dtype=float32)>, <tf.Tensor: shape=(300,), dtype=float32, numpy=\n",
      "array([ 5.38291186e-02,  2.62173653e-01,  7.76513577e-01,  7.06993461e-01,\n",
      "        9.62014019e-01, -2.25006163e-01, -1.22472294e-01,  8.26855540e-01,\n",
      "        3.37943584e-01, -4.39662755e-01, -2.72523016e-01, -5.78270078e-01,\n",
      "        2.62157232e-01,  8.43107104e-01,  5.78654528e-01,  1.08958530e+00,\n",
      "        8.88405293e-02, -6.60389364e-01, -7.84225123e-18, -2.33742595e+00,\n",
      "       -7.52439499e-02,  2.93931246e-01, -3.99086289e-02,  1.57258713e+00,\n",
      "        1.47954285e-01,  2.80594349e-01,  2.64597952e-01, -2.39175290e-01,\n",
      "        5.56396767e-02, -3.27828318e-01,  1.16283882e+00,  1.43104589e+00,\n",
      "        1.18247712e+00, -6.00095332e-01, -1.63563520e-01,  1.70153677e-01,\n",
      "        2.42754016e-02,  3.20866436e-01,  3.08338702e-01,  1.79337084e+00,\n",
      "        2.87221104e-01,  5.23603916e-01,  2.60793030e-01, -2.28947967e-01,\n",
      "        4.07849014e-01, -2.90404320e-01,  6.98282165e-05, -4.70439225e-01,\n",
      "        5.04876435e-01, -4.74450439e-01,  1.98982477e-01, -4.02485073e-01,\n",
      "        2.36187994e-01,  1.08035648e+00, -1.76136208e+00,  3.76945674e-01,\n",
      "       -6.36052489e-02,  7.53095567e-01,  1.14853215e+00,  1.06379300e-01,\n",
      "       -2.14721039e-02, -1.26867878e+00, -8.46372366e-01,  1.79033130e-01,\n",
      "       -9.87843275e-01, -2.28781983e-01, -2.87419677e-01,  5.33435464e-01,\n",
      "        1.19580626e-01,  1.19531281e-01, -5.43064952e-01,  3.81253958e-01,\n",
      "        2.14037076e-01,  2.65668130e+00,  2.70177305e-01, -1.30457878e-01,\n",
      "       -6.31008297e-02, -3.40991139e-01,  2.21464920e+00,  1.88973475e+00,\n",
      "        7.95712322e-02,  1.88546371e+00, -7.50286162e-01,  1.01722455e+00,\n",
      "       -1.44315809e-01,  4.58949953e-02,  1.14390945e+00,  3.30406904e-01,\n",
      "       -5.65741181e-01,  1.10714114e+00, -2.38943547e-01, -1.35080123e+00,\n",
      "       -7.97835350e-01, -3.31858277e-01,  5.34311086e-02, -5.89991450e-01,\n",
      "        1.34124541e+00,  6.54390812e-01,  1.17211573e-01,  6.89241514e-02,\n",
      "        1.25384480e-01, -4.58154380e-01,  9.66275990e-01, -7.31903195e-01,\n",
      "       -4.58527088e-01, -1.61476344e-01, -3.71971309e-01, -1.43832624e+00,\n",
      "        1.28546572e+00,  4.99578863e-01, -2.04054922e-01,  6.90496922e-01,\n",
      "        1.42141879e-02,  2.19908670e-01,  2.92715542e-02,  2.62654543e-01,\n",
      "        1.51449454e+00,  7.37690210e-01, -3.83357704e-01,  9.52351630e-01,\n",
      "       -1.61757469e-01,  5.63617706e-01,  2.21497297e-01,  6.45748794e-01,\n",
      "        1.68719321e-01,  9.82596949e-02, -1.59717977e+00, -5.38616180e-01,\n",
      "       -6.60186559e-02,  4.31526452e-03, -9.11286891e-01, -9.11494255e-01,\n",
      "       -3.88524950e-01, -2.40791529e-01, -6.06301725e-01,  5.30644655e-01,\n",
      "        2.75957561e+00, -1.86369911e-01, -7.25300536e-02,  1.24292006e-03,\n",
      "        3.03237915e-01, -1.48285717e-01, -1.28278160e+00,  4.87577558e-01,\n",
      "       -1.14933528e-01,  1.58919930e+00,  6.92690730e-01, -1.64000046e+00,\n",
      "        6.65047467e-01,  1.51459515e+00, -3.88872057e-01,  7.06053674e-01,\n",
      "        6.72291070e-02,  9.42891538e-01,  6.89710677e-01, -1.10649145e+00,\n",
      "       -1.43694848e-01,  3.51758152e-01,  0.00000000e+00, -5.26978135e-01,\n",
      "       -2.06709337e+00,  0.00000000e+00,  2.56703734e-01,  5.54755181e-02,\n",
      "        1.32124555e+00,  1.38375580e+00, -2.78497338e+00,  1.29040480e-01,\n",
      "        3.54441181e-02,  3.59294415e-01,  1.92259595e-01, -6.46678954e-02,\n",
      "       -1.33482313e+00,  1.72773445e+00, -5.06646261e-02, -1.24578011e+00,\n",
      "       -1.90621805e+00,  2.57346153e-01,  1.01074648e+00,  1.47328734e+00,\n",
      "       -6.99914575e-01,  5.45698225e-01,  9.76028204e-01,  3.18861276e-01,\n",
      "        6.66137278e-01,  3.64848435e-01,  3.84400368e-01, -6.49465442e-01,\n",
      "        1.18010461e+00,  8.74051630e-01, -4.18224871e-01, -2.99480915e-01,\n",
      "        4.62915957e-01, -2.55137038e+00,  6.92369699e-01, -1.38855541e+00,\n",
      "        1.71658731e+00,  7.38029659e-01, -7.30563551e-02,  7.07863420e-02,\n",
      "        7.26637095e-02,  1.10212695e-09,  2.02722594e-01, -7.21676826e-01,\n",
      "        2.44669020e-01, -6.54750228e-01, -7.53225565e-01, -1.42379254e-02,\n",
      "       -3.96827906e-02, -3.37594524e-02, -7.11456478e-01, -6.82526827e-01,\n",
      "        4.96956706e-02,  3.24885666e-01,  1.20785093e+00,  1.66511267e-01,\n",
      "        1.85722828e-01, -1.02108681e+00, -1.60221308e-01, -1.66026902e+00,\n",
      "       -3.79257612e-02,  1.52251333e-01,  2.15693760e+00, -2.58982301e-01,\n",
      "        1.89364225e-01,  3.23826075e-03, -5.30761123e-01,  1.03908634e+00,\n",
      "       -9.58117396e-02,  3.53551626e-01, -2.75396943e-01, -1.35164046e+00,\n",
      "        1.43656686e-01, -9.06101584e-01,  2.99726993e-01, -2.52873898e-01,\n",
      "       -3.99907231e-02,  8.23301911e-01,  5.90072036e-01,  4.76405323e-01,\n",
      "       -6.07608736e-01, -1.04369116e+00, -9.08933342e-01,  6.33239150e-01,\n",
      "        2.89272647e-02,  6.63913339e-02, -1.21601358e-01, -1.07337260e+00,\n",
      "        1.52511632e+00, -2.14902341e-01, -3.17104608e-01, -1.04864344e-01,\n",
      "        2.19703150e+00,  1.22399986e+00,  9.26103413e-01, -3.96959007e-01,\n",
      "        1.00497389e+00,  1.09672040e-01,  1.13970399e+00,  1.83002234e-01,\n",
      "        4.83045094e-02,  9.15041506e-01, -2.18523294e-02,  1.64732605e-01,\n",
      "        1.61630601e-01,  9.78308320e-02,  6.35151267e-01,  6.61358416e-01,\n",
      "        2.07637012e-01, -2.84928828e-01,  0.00000000e+00, -4.47377473e-01,\n",
      "        2.90816844e-01,  7.79024839e-01,  1.54975617e+00, -8.32804441e-01,\n",
      "       -9.36422765e-01, -3.39639187e-01, -8.44448090e-01, -3.87492895e-01,\n",
      "       -5.34061790e-01,  6.51225746e-02, -8.21803749e-01, -8.17667544e-01,\n",
      "        9.46292281e-03,  5.06839216e-01,  4.38073218e-01,  1.82401514e+00,\n",
      "        1.15793812e+00,  1.99460745e-01,  9.32674289e-01, -3.16511065e-01,\n",
      "       -8.37451983e-12,  8.04787636e-01,  9.31387305e-01, -7.98067227e-02,\n",
      "       -6.26597762e-01,  9.47768629e-01,  4.71218765e-01, -7.92004466e-02],\n",
      "      dtype=float32)>, <tf.Tensor: shape=(300, 10), dtype=float32, numpy=\n",
      "array([[ 5.0000000e+00,  1.1038780e-03, -6.1063501e-11, ...,\n",
      "        -1.2000005e+01,  5.0000000e+00,  3.0000000e+00],\n",
      "       [-1.5501941e+02,  5.6404114e+01, -6.1030479e-11, ...,\n",
      "         7.6750067e+02, -2.3332967e+02, -2.8996527e+02],\n",
      "       [-4.2376395e+02,  2.4219599e+01,  3.3357357e-09, ...,\n",
      "         1.6093009e+03, -8.2596307e+02, -3.6705731e+02],\n",
      "       ...,\n",
      "       [-6.7721909e+01,  5.1529289e+01,  3.3661607e-09, ...,\n",
      "         6.8313043e+02, -5.5742352e+02, -1.9899316e+02],\n",
      "       [-4.9966696e+02, -8.8656303e+01,  2.1551747e-09, ...,\n",
      "         6.3833514e+02, -4.6538339e+02, -2.5023615e+01],\n",
      "       [-4.2242874e+01,  1.1038780e-03, -6.1063501e-11, ...,\n",
      "        -1.2000004e+01,  2.2964382e+00,  2.9999998e+00]], dtype=float32)>, <tf.Tensor: shape=(10,), dtype=float32, numpy=\n",
      "array([-5.0000000e+00, -1.1038780e-03,  6.1063501e-11, -5.0000000e+00,\n",
      "        5.0011039e+00,  1.0000000e+00, -4.6491623e-06,  1.2000005e+01,\n",
      "       -5.0000000e+00, -3.0000000e+00], dtype=float32)>]\n"
     ]
    }
   ],
   "source": [
    "def build_simple_model():\n",
    "    model = keras.models.Sequential()\n",
    "    model.add(keras.layers.InputLayer(input_shape=(28, 28)))\n",
    "    model.add(keras.layers.Flatten())\n",
    "    model.add(keras.layers.Dense(300, activation='elu', kernel_initializer='he_normal'))\n",
    "    model.add(keras.layers.Dense(10, activation='softmax')) # !\n",
    "    return model\n",
    "#     model.compile(loss='sparse_categorical_crossentropy', # !\n",
    "#              optimizer=keras.optimizers.Nadam(learning_rate=lr),\n",
    "#              metrics=[keras.metrics.sparse_categorical_accuracy]) # !\n",
    "\n",
    "def custom_training_loop():\n",
    "    def shuffle(X, y):\n",
    "        assert len(X) == len(y)\n",
    "        idx = np.random.permutation(len(X))\n",
    "        return X[idx], y[idx]\n",
    "    \n",
    "    n_epochs = 5\n",
    "    batch_size = 32\n",
    "    optimizer=keras.optimizers.Nadam(learning_rate=0.001)\n",
    "    loss_fn = keras.losses.sparse_categorical_crossentropy # try class\n",
    "    metrics=[keras.metrics.SparseCategoricalAccuracy] # try func\n",
    "    model = build_simple_model()\n",
    "    \n",
    "    for epoch in range(1, n_epochs + 1):\n",
    "        log.info(f'Epoch {epoch}...')\n",
    "        n_steps = len(X) // 32 + 1\n",
    "        X_shuffled, y_shuffled = shuffle(X, y_sparse)\n",
    "        for step in range(1, n_steps + 1):\n",
    "            ceiling = step * batch_size if step * batch_size < len(X_shuffled) else len(X_shuffled)\n",
    "            floor = (step - 1) * batch_size\n",
    "            X_batch, y_batch = X_shuffled[floor: ceiling], y_shuffled[floor: ceiling]\n",
    "            with tf.GradientTape() as tape:\n",
    "                y_pred = model(X_batch)\n",
    "                losses = loss_fn(y_batch, y_pred, from_logits=False)\n",
    "            trainable_weights = [l.trainable_variables for l in model.layers]\n",
    "            trainable_weights = [weight for l in model.layers for weight in l.trainable_variables]\n",
    "            grad = tape.gradient(losses, trainable_weights)\n",
    "            print(grad)\n",
    "            break\n",
    "        break\n",
    "            # compute grad\n",
    "            # autodiff\n",
    "            # loss, metric\n",
    "            \n",
    "custom_training_loop()"
   ]
  }
 ],
 "metadata": {
  "kernelspec": {
   "display_name": "Python 3",
   "language": "python",
   "name": "python3"
  },
  "language_info": {
   "codemirror_mode": {
    "name": "ipython",
    "version": 3
   },
   "file_extension": ".py",
   "mimetype": "text/x-python",
   "name": "python",
   "nbconvert_exporter": "python",
   "pygments_lexer": "ipython3",
   "version": "3.8.6"
  }
 },
 "nbformat": 4,
 "nbformat_minor": 5
}
