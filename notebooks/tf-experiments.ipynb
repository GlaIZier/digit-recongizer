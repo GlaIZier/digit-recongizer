{
 "cells": [
  {
   "cell_type": "code",
   "execution_count": 1,
   "id": "adjacent-continuity",
   "metadata": {},
   "outputs": [
    {
     "data": {
      "text/plain": [
       "'2.4.1'"
      ]
     },
     "execution_count": 1,
     "metadata": {},
     "output_type": "execute_result"
    }
   ],
   "source": [
    "import logging\n",
    "import tensorflow as tf\n",
    "import keras\n",
    "\n",
    "logging.basicConfig(format='%(asctime)s : %(levelname)s : %(message)s', level=logging.INFO)\n",
    "log = logging.getLogger()\n",
    "\n",
    "%config Completer.use_jedi = False # make autocompletion works in jupyter\n",
    "\n",
    "tf.__version__"
   ]
  },
  {
   "cell_type": "code",
   "execution_count": 2,
   "id": "durable-example",
   "metadata": {},
   "outputs": [],
   "source": [
    "import numpy as np\n",
    "import pandas as pd\n",
    "from pathlib import Path\n",
    "\n",
    "import argparse\n",
    "args = argparse.Namespace()\n",
    "args.raw_train = pd.read_csv('../data/train.csv.zip')\n",
    "args.raw_test = pd.read_csv('../data/test.csv.zip')\n",
    "args.predictions_folder = Path('../predictions')\n",
    "args.n_splits = 5\n",
    "args.n_jobs = 3\n",
    "args.seed = 101\n",
    "args.val_fraction=0.1\n",
    "args.epochs = 50\n",
    "\n",
    "args.train = args.raw_train.iloc[:, 1:].copy()\n",
    "args.labels = args.raw_train['label'].copy()\n",
    "args.test = args.raw_test.copy()\n",
    "\n",
    "\n",
    "args.predictions_folder.mkdir(parents=True, exist_ok=True) "
   ]
  },
  {
   "cell_type": "code",
   "execution_count": 5,
   "id": "spectacular-currency",
   "metadata": {},
   "outputs": [],
   "source": [
    "X = args.train.to_numpy().reshape(args.train.shape[0], 28, 28, 1)\n",
    "y = pd.get_dummies(args.labels, prefix='label').to_numpy()\n",
    "y_sparse = args.labels.to_numpy()\n",
    "x = args.test.to_numpy().reshape(args.test.shape[0], 28, 28, 1)"
   ]
  },
  {
   "cell_type": "code",
   "execution_count": 3,
   "id": "going-catholic",
   "metadata": {},
   "outputs": [
    {
     "data": {
      "text/plain": [
       "<tf.Tensor: shape=(1,), dtype=string, numpy=array([b'019A'], dtype=object)>"
      ]
     },
     "execution_count": 3,
     "metadata": {},
     "output_type": "execute_result"
    }
   ],
   "source": [
    "t = tf.constant([[1, 2], [3, 4], [5, 6]])\n",
    "tf.square(t)\n",
    "keras.backend.transpose(t)\n",
    "t + tf.cast(tf.constant(1.), tf.int32)\n",
    "v = tf.Variable([[1, 2], [3, 4], [5, 6]])\n",
    "v[0,0].assign(100)\n",
    "tf.SparseTensor(indices=[[0, 0], [1, 2]], values=[1, 2], dense_shape=[3, 4])\n",
    "tf.constant(['019A'])\n",
    "# tf.strings.unicode_decode(tf.constant(['019A']), input_encoding='UTF-8')"
   ]
  },
  {
   "cell_type": "markdown",
   "id": "opponent-manner",
   "metadata": {},
   "source": [
    "### Custom training loops"
   ]
  },
  {
   "cell_type": "code",
   "execution_count": 8,
   "id": "painful-lawrence",
   "metadata": {},
   "outputs": [
    {
     "data": {
      "text/plain": [
       "41984"
      ]
     },
     "execution_count": 8,
     "metadata": {},
     "output_type": "execute_result"
    }
   ],
   "source": [
    "len(X) // 32\n",
    "32 * 1312"
   ]
  },
  {
   "cell_type": "code",
   "execution_count": 17,
   "id": "pending-speaking",
   "metadata": {},
   "outputs": [
    {
     "name": "stdout",
     "output_type": "stream",
     "text": [
      "[3 4 0 1 2]\n",
      "[300 400   0 100 200]\n",
      "[2 4 1 3 0]\n",
      "[200 400 100 300   0]\n",
      "[3 1 0 2 4]\n",
      "[300 100   0 200 400]\n",
      "[1 0 4 3 2]\n",
      "[100   0 400 300 200]\n",
      "[3 0 4 2 1]\n",
      "[300   0 400 200 100]\n"
     ]
    }
   ],
   "source": [
    "def shuffle(X, y):\n",
    "    x = np.array([0, 100, 200, 300, 400])\n",
    "    a = np.random.permutation(5)\n",
    "    print(a)\n",
    "    print(x[a])\n",
    "\n",
    "for i in range(5):\n",
    "    shuffle(None, None)"
   ]
  },
  {
   "cell_type": "code",
   "execution_count": 4,
   "id": "explicit-bacteria",
   "metadata": {},
   "outputs": [],
   "source": [
    "def build_simple_model():\n",
    "    model = keras.models.Sequential()\n",
    "    model.add(keras.layers.InputLayer(input_shape=(28, 28)))\n",
    "    model.add(keras.layers.Flatten())\n",
    "    model.add(keras.layers.Dense(300, activation='elu', kernel_initializer='he_normal'))\n",
    "    model.add(keras.layers.Dense(10, activation='softmax')) # !\n",
    "    return model\n",
    "#     model.compile(loss='sparse_categorical_crossentropy', # !\n",
    "#              optimizer=keras.optimizers.Nadam(learning_rate=lr),\n",
    "#              metrics=[keras.metrics.sparse_categorical_accuracy]) # !\n",
    "\n",
    "def custom_training_loop():\n",
    "    def shuffle(X, y):\n",
    "        assert len(X) == len(y)\n",
    "        idx = np.random.permutation(len(X))\n",
    "        return X[idx], y[idx]\n",
    "    \n",
    "    n_epochs = 5\n",
    "    batch_size = 32\n",
    "    optimizer=keras.optimizers.Nadam(learning_rate=0.001)\n",
    "    loss_fn = keras.losses.sparse_categorical_crossentropy # try class\n",
    "    metrics=[keras.metrics.SparseCategoricalAccuracy] # try func\n",
    "    \n",
    "    for epoch in range(1, n_epochs + 1):\n",
    "        log.info(f'Epoch {epoch}...')\n",
    "        n_steps = len(X) // 32 + 1\n",
    "        X_shuffled, y_shuffled = shuffle(X, y)\n",
    "        for step in range(1, n_steps + 1):\n",
    "            ceiling = step * batch_size if ceiling < len(X_shuffled) else len(X_shuffled)\n",
    "            floor = (step - 1) * batch_size\n",
    "    \n",
    "    "
   ]
  }
 ],
 "metadata": {
  "kernelspec": {
   "display_name": "Python 3",
   "language": "python",
   "name": "python3"
  },
  "language_info": {
   "codemirror_mode": {
    "name": "ipython",
    "version": 3
   },
   "file_extension": ".py",
   "mimetype": "text/x-python",
   "name": "python",
   "nbconvert_exporter": "python",
   "pygments_lexer": "ipython3",
   "version": "3.7.4"
  }
 },
 "nbformat": 4,
 "nbformat_minor": 5
}
